{
  "nbformat": 4,
  "nbformat_minor": 0,
  "metadata": {
    "colab": {
      "name": "PowerBI Project.ipynb",
      "provenance": [],
      "collapsed_sections": [],
      "authorship_tag": "ABX9TyOuTIVD9rwAyL2fKXJAZI6t",
      "include_colab_link": true
    },
    "kernelspec": {
      "name": "python3",
      "display_name": "Python 3"
    }
  },
  "cells": [
    {
      "cell_type": "markdown",
      "metadata": {
        "id": "view-in-github",
        "colab_type": "text"
      },
      "source": [
        "<a href=\"https://colab.research.google.com/github/iesous-kurios/powerBi/blob/master/PowerBI_Project.ipynb\" target=\"_parent\"><img src=\"https://colab.research.google.com/assets/colab-badge.svg\" alt=\"Open In Colab\"/></a>"
      ]
    },
    {
      "cell_type": "code",
      "metadata": {
        "id": "zjBsBizH7yB8",
        "colab_type": "code",
        "outputId": "d37333cb-dee1-46e0-8134-76a0fdb78374",
        "colab": {
          "base_uri": "https://localhost:8080/",
          "height": 34
        }
      },
      "source": [
        "#@title\n",
        "# import libraries which provide math functions to our data imports\n",
        "import statistics\n",
        "import numpy as np\n",
        "import pandas as pd\n",
        "import matplotlib.pyplot as plt\n",
        "import xlwt \n",
        "from xlwt import Workbook\n",
        "import seaborn as sns\n",
        "import datetime\n",
        "from datetime import date, timedelta\n",
        "import matplotlib.pyplot as plt\n",
        "import matplotlib\n",
        "from matplotlib import style\n",
        "\n",
        "sns.__version__"
      ],
      "execution_count": 0,
      "outputs": [
        {
          "output_type": "execute_result",
          "data": {
            "text/plain": [
              "'0.10.0'"
            ]
          },
          "metadata": {
            "tags": []
          },
          "execution_count": 3
        }
      ]
    },
    {
      "cell_type": "code",
      "metadata": {
        "id": "Z6VNl226YorH",
        "colab_type": "code",
        "outputId": "93b06fee-60ba-4aba-9a6b-84bb10b856a2",
        "colab": {
          "base_uri": "https://localhost:8080/",
          "height": 34
        }
      },
      "source": [
        "from google.colab import drive\n",
        "drive.mount('/content/drive')"
      ],
      "execution_count": 0,
      "outputs": [
        {
          "output_type": "stream",
          "text": [
            "Drive already mounted at /content/drive; to attempt to forcibly remount, call drive.mount(\"/content/drive\", force_remount=True).\n"
          ],
          "name": "stdout"
        }
      ]
    },
    {
      "cell_type": "code",
      "metadata": {
        "id": "nousgp7Q8BWd",
        "colab_type": "code",
        "colab": {}
      },
      "source": [
        "#@title\n",
        "# import weekly data from yearly FPS folder\n",
        "df = pd.read_excel('/content/drive/My Drive/FPData/YTD Data/YTD_Mar31.xlsx')\n",
        "#df = pd.read_excel ('~/environments/fp_env/family_promise_data/data/ClientTrackExport (5).xlsx')"
      ],
      "execution_count": 0,
      "outputs": []
    },
    {
      "cell_type": "code",
      "metadata": {
        "id": "mIeJ5QM88BbL",
        "colab_type": "code",
        "colab": {}
      },
      "source": [
        "# get list of currently enrolled guests (guests that don't have an exit date)\n",
        "currently_enrolled = df[df['3.11 Exit Date'].isnull()]"
      ],
      "execution_count": 0,
      "outputs": []
    },
    {
      "cell_type": "code",
      "metadata": {
        "id": "OELBYoSOTjdN",
        "colab_type": "code",
        "outputId": "4a339f05-c3d8-4019-9dc5-1a4bcdde53e0",
        "colab": {
          "base_uri": "https://localhost:8080/",
          "height": 218
        }
      },
      "source": [
        "currently_enrolled['3.3 Birthdate'].value_counts()"
      ],
      "execution_count": 0,
      "outputs": [
        {
          "output_type": "execute_result",
          "data": {
            "text/plain": [
              "1969-01-16    1\n",
              "2015-11-18    1\n",
              "2008-04-03    1\n",
              "1992-08-23    1\n",
              "2004-10-24    1\n",
              "             ..\n",
              "2018-04-09    1\n",
              "1993-01-01    1\n",
              "1982-05-22    1\n",
              "1982-10-31    1\n",
              "2018-12-21    1\n",
              "Name: 3.3 Birthdate, Length: 127, dtype: int64"
            ]
          },
          "metadata": {
            "tags": []
          },
          "execution_count": 7
        }
      ]
    },
    {
      "cell_type": "code",
      "metadata": {
        "id": "XS_yCsAx03rK",
        "colab_type": "code",
        "colab": {}
      },
      "source": [
        "bdays_date = (date.today()-timedelta(days=15)).isoformat()\n",
        "current_bdays = currently_enrolled[currently_enrolled['Date of Last ES Stay (Beta)'] >= bdays_date ]"
      ],
      "execution_count": 0,
      "outputs": []
    },
    {
      "cell_type": "code",
      "metadata": {
        "id": "y93VOxwff-Zh",
        "colab_type": "code",
        "colab": {}
      },
      "source": [
        "from datetime import date\n",
        "\n",
        "def calculate_age(born):\n",
        "    today = date.today()\n",
        "    return today.year - born.year - ((today.month, today.day) < (born.month, born.day))"
      ],
      "execution_count": 0,
      "outputs": []
    },
    {
      "cell_type": "code",
      "metadata": {
        "id": "-FslFWlqnLMy",
        "colab_type": "code",
        "outputId": "cd2e3480-bd62-4569-e1e3-a9293a7bcb46",
        "colab": {
          "base_uri": "https://localhost:8080/",
          "height": 34
        }
      },
      "source": [
        "# Python3 code to  calculate age in years \n",
        "from datetime import date \n",
        "  \n",
        "def turning(born): \n",
        "    today = date.today() \n",
        "    this_month = date.today().month\n",
        "    this_day = date.today().day\n",
        "    try:  \n",
        "        birthday = born.replace(year = today.year) \n",
        "        birthmonth = born.replace(month = today.month)\n",
        "        birth_day = born.replace(day = today.day)\n",
        "  \n",
        "    # raised when birth date is February 29 \n",
        "    # and the current year is not a leap year \n",
        "    except ValueError:  \n",
        "        birthday = born.replace(year = today.year, \n",
        "                  month = born.month + 1, day = 1) \n",
        "  \n",
        "    if birthday > today:\n",
        "        if birthmonth == this_month:\n",
        "            if birth_day > this_day:\n",
        "                return today.year - born.year + 1\n",
        "            if birth_day <= this_day:\n",
        "                return today.year - born.year \n",
        "        else:\n",
        "            return today.year - born.year        \n",
        "\n",
        "    else: \n",
        "        return today.year - born.year \n",
        "          \n",
        "# Driver code \n",
        "print(turning(date(1997, 2, 3)), \"years\") "
      ],
      "execution_count": 0,
      "outputs": [
        {
          "output_type": "stream",
          "text": [
            "23 years\n"
          ],
          "name": "stdout"
        }
      ]
    },
    {
      "cell_type": "code",
      "metadata": {
        "id": "S1cLO9M9iCqZ",
        "colab_type": "code",
        "outputId": "c4b17e16-636d-4b2c-f979-c2f996b957dc",
        "colab": {
          "base_uri": "https://localhost:8080/",
          "height": 319
        }
      },
      "source": [
        "current_bdays['age'] = current_bdays['3.3 Birthdate'].apply(calculate_age)\n",
        "current_bdays['age2'] = current_bdays['3.3 Birthdate'].apply(calculate_age)\n",
        "current_bdays['turning'] = current_bdays['3.3 Birthdate'].apply(turning)\n"
      ],
      "execution_count": 0,
      "outputs": [
        {
          "output_type": "stream",
          "text": [
            "/usr/local/lib/python3.6/dist-packages/ipykernel_launcher.py:1: SettingWithCopyWarning: \n",
            "A value is trying to be set on a copy of a slice from a DataFrame.\n",
            "Try using .loc[row_indexer,col_indexer] = value instead\n",
            "\n",
            "See the caveats in the documentation: https://pandas.pydata.org/pandas-docs/stable/user_guide/indexing.html#returning-a-view-versus-a-copy\n",
            "  \"\"\"Entry point for launching an IPython kernel.\n",
            "/usr/local/lib/python3.6/dist-packages/ipykernel_launcher.py:2: SettingWithCopyWarning: \n",
            "A value is trying to be set on a copy of a slice from a DataFrame.\n",
            "Try using .loc[row_indexer,col_indexer] = value instead\n",
            "\n",
            "See the caveats in the documentation: https://pandas.pydata.org/pandas-docs/stable/user_guide/indexing.html#returning-a-view-versus-a-copy\n",
            "  \n",
            "/usr/local/lib/python3.6/dist-packages/ipykernel_launcher.py:3: SettingWithCopyWarning: \n",
            "A value is trying to be set on a copy of a slice from a DataFrame.\n",
            "Try using .loc[row_indexer,col_indexer] = value instead\n",
            "\n",
            "See the caveats in the documentation: https://pandas.pydata.org/pandas-docs/stable/user_guide/indexing.html#returning-a-view-versus-a-copy\n",
            "  This is separate from the ipykernel package so we can avoid doing imports until\n"
          ],
          "name": "stderr"
        }
      ]
    },
    {
      "cell_type": "code",
      "metadata": {
        "id": "lAZm-7mw17ih",
        "colab_type": "code",
        "colab": {}
      },
      "source": [
        "bday_df = current_bdays[['3.1 FirstName', '3.1 LastName', '3.3 Birthdate','turning']].copy()"
      ],
      "execution_count": 0,
      "outputs": []
    },
    {
      "cell_type": "code",
      "metadata": {
        "id": "NbHcOzWS33Vr",
        "colab_type": "code",
        "colab": {}
      },
      "source": [
        "\n",
        "currentMonth = date.today().month\n",
        "currentMonth\n",
        "two_months = date.today().month + 2\n",
        "\n",
        "last_month = date.today().month - 1"
      ],
      "execution_count": 0,
      "outputs": []
    },
    {
      "cell_type": "code",
      "metadata": {
        "id": "x5fU19SI26aq",
        "colab_type": "code",
        "colab": {}
      },
      "source": [
        "bday_df['month'] = pd.DatetimeIndex(bday_df['3.3 Birthdate']).month\n",
        "bday_df['day'] = pd.DatetimeIndex(bday_df['3.3 Birthdate']).day"
      ],
      "execution_count": 0,
      "outputs": []
    },
    {
      "cell_type": "code",
      "metadata": {
        "id": "VKS-kjRl7ob8",
        "colab_type": "code",
        "colab": {}
      },
      "source": [
        "upcomming_bdays = bday_df[(bday_df['month'] > last_month) & (bday_df['month'] < two_months) ]"
      ],
      "execution_count": 0,
      "outputs": []
    },
    {
      "cell_type": "code",
      "metadata": {
        "id": "26SyaaEJ85x0",
        "colab_type": "code",
        "colab": {}
      },
      "source": [
        "upcomming_bdays.to_excel('/content/drive/My Drive/FPData.close_bdays.xlsx')"
      ],
      "execution_count": 0,
      "outputs": []
    },
    {
      "cell_type": "code",
      "metadata": {
        "id": "1TbvLkQx-afZ",
        "colab_type": "code",
        "outputId": "40b304c3-12a2-413b-d618-cffc764482e6",
        "colab": {
          "base_uri": "https://localhost:8080/",
          "height": 195
        }
      },
      "source": [
        "upcomming_bdays"
      ],
      "execution_count": 0,
      "outputs": [
        {
          "output_type": "execute_result",
          "data": {
            "text/html": [
              "<div>\n",
              "<style scoped>\n",
              "    .dataframe tbody tr th:only-of-type {\n",
              "        vertical-align: middle;\n",
              "    }\n",
              "\n",
              "    .dataframe tbody tr th {\n",
              "        vertical-align: top;\n",
              "    }\n",
              "\n",
              "    .dataframe thead th {\n",
              "        text-align: right;\n",
              "    }\n",
              "</style>\n",
              "<table border=\"1\" class=\"dataframe\">\n",
              "  <thead>\n",
              "    <tr style=\"text-align: right;\">\n",
              "      <th></th>\n",
              "      <th>3.1 FirstName</th>\n",
              "      <th>3.1 LastName</th>\n",
              "      <th>3.3 Birthdate</th>\n",
              "      <th>turning</th>\n",
              "      <th>month</th>\n",
              "      <th>day</th>\n",
              "    </tr>\n",
              "  </thead>\n",
              "  <tbody>\n",
              "    <tr>\n",
              "      <th>502</th>\n",
              "      <td>Alan</td>\n",
              "      <td>Kroiss</td>\n",
              "      <td>1996-03-01</td>\n",
              "      <td>24</td>\n",
              "      <td>3</td>\n",
              "      <td>1</td>\n",
              "    </tr>\n",
              "    <tr>\n",
              "      <th>593</th>\n",
              "      <td>Michael</td>\n",
              "      <td>Kelly</td>\n",
              "      <td>1991-03-19</td>\n",
              "      <td>29</td>\n",
              "      <td>3</td>\n",
              "      <td>19</td>\n",
              "    </tr>\n",
              "    <tr>\n",
              "      <th>637</th>\n",
              "      <td>Kharina</td>\n",
              "      <td>Madison</td>\n",
              "      <td>2018-04-09</td>\n",
              "      <td>2</td>\n",
              "      <td>4</td>\n",
              "      <td>9</td>\n",
              "    </tr>\n",
              "    <tr>\n",
              "      <th>655</th>\n",
              "      <td>Amber</td>\n",
              "      <td>Shay</td>\n",
              "      <td>1988-03-04</td>\n",
              "      <td>32</td>\n",
              "      <td>3</td>\n",
              "      <td>4</td>\n",
              "    </tr>\n",
              "    <tr>\n",
              "      <th>656</th>\n",
              "      <td>Devin</td>\n",
              "      <td>Shay</td>\n",
              "      <td>2018-03-25</td>\n",
              "      <td>2</td>\n",
              "      <td>3</td>\n",
              "      <td>25</td>\n",
              "    </tr>\n",
              "  </tbody>\n",
              "</table>\n",
              "</div>"
            ],
            "text/plain": [
              "    3.1 FirstName 3.1 LastName 3.3 Birthdate  turning  month  day\n",
              "502          Alan       Kroiss    1996-03-01       24      3    1\n",
              "593       Michael        Kelly    1991-03-19       29      3   19\n",
              "637       Kharina      Madison    2018-04-09        2      4    9\n",
              "655         Amber         Shay    1988-03-04       32      3    4\n",
              "656         Devin         Shay    2018-03-25        2      3   25"
            ]
          },
          "metadata": {
            "tags": []
          },
          "execution_count": 17
        }
      ]
    },
    {
      "cell_type": "code",
      "metadata": {
        "id": "7Oge-_F28Bgv",
        "colab_type": "code",
        "colab": {}
      },
      "source": [
        "# create new list of those currently enrolled who haven't stayed with us for\n",
        "# two weeks or more\n",
        "\n",
        "\n",
        "\n",
        "current_date = date.today().isoformat()   \n",
        "days_before = (date.today()-timedelta(days=30)).isoformat()\n",
        "\n",
        "need_to_exit = currently_enrolled[currently_enrolled['Date of Last ES Stay (Beta)'] < days_before ]"
      ],
      "execution_count": 0,
      "outputs": []
    },
    {
      "cell_type": "code",
      "metadata": {
        "id": "1-Hv8nAx8BmM",
        "colab_type": "code",
        "colab": {}
      },
      "source": [
        "exit_df = need_to_exit[['3.1 FirstName', '3.1 LastName', '5.8 Personal ID', '5.9 Household ID', '3.15 Relationship to HoH', 'CaseMembers', '3.10 Enroll Date', 'Date of Last ES Stay (Beta)']].copy()"
      ],
      "execution_count": 0,
      "outputs": []
    },
    {
      "cell_type": "code",
      "metadata": {
        "id": "rI3-Dz-k8Bq8",
        "colab_type": "code",
        "colab": {}
      },
      "source": [
        "#exit_df.head()"
      ],
      "execution_count": 0,
      "outputs": []
    },
    {
      "cell_type": "code",
      "metadata": {
        "id": "dQpA_ZiF8BvS",
        "colab_type": "code",
        "colab": {}
      },
      "source": [
        "exit_df.to_excel('/content/drive/My Drive/FPData/YTD Data/YTDexit_df.xlsx')"
      ],
      "execution_count": 0,
      "outputs": []
    },
    {
      "cell_type": "code",
      "metadata": {
        "id": "8VOFBGzR8CVj",
        "colab_type": "code",
        "outputId": "54939b16-e265-4e23-f4e6-4a4199efb7ef",
        "colab": {
          "base_uri": "https://localhost:8080/",
          "height": 34
        }
      },
      "source": [
        "households = df['5.9 Household ID'].unique()\n",
        "len(households)"
      ],
      "execution_count": 0,
      "outputs": [
        {
          "output_type": "execute_result",
          "data": {
            "text/plain": [
              "223"
            ]
          },
          "metadata": {
            "tags": []
          },
          "execution_count": 22
        }
      ]
    },
    {
      "cell_type": "code",
      "metadata": {
        "id": "EOcPI0kS8CYt",
        "colab_type": "code",
        "outputId": "386cf532-3866-4728-885a-197eea73b69f",
        "colab": {
          "base_uri": "https://localhost:8080/",
          "height": 34
        }
      },
      "source": [
        "# print total number of families served (unduplicated)\n",
        "unique_households = df['5.9 Household ID'].nunique()\n",
        "unique_households"
      ],
      "execution_count": 0,
      "outputs": [
        {
          "output_type": "execute_result",
          "data": {
            "text/plain": [
              "223"
            ]
          },
          "metadata": {
            "tags": []
          },
          "execution_count": 23
        }
      ]
    },
    {
      "cell_type": "code",
      "metadata": {
        "id": "Ww2Wyr8u8Cdr",
        "colab_type": "code",
        "colab": {}
      },
      "source": [
        "#@title\n",
        "# replace zeros in data with \"Nan\" to calculate more accurate average bednights \n",
        "df['Count of Bed Nights (Housing Check-ins)'] = df['Count of Bed Nights (Housing Check-ins)'].replace(0, np.NaN)"
      ],
      "execution_count": 0,
      "outputs": []
    },
    {
      "cell_type": "code",
      "metadata": {
        "id": "gCT761zT8Clg",
        "colab_type": "code",
        "outputId": "c5c80c15-067e-4138-d36f-b4cab9d48206",
        "colab": {
          "base_uri": "https://localhost:8080/",
          "height": 34
        }
      },
      "source": [
        "avg_bn = df['Count of Bed Nights (Housing Check-ins)'].mean()\n",
        "avg_bn = round(avg_bn, 2)\n",
        "avg_bn"
      ],
      "execution_count": 0,
      "outputs": [
        {
          "output_type": "execute_result",
          "data": {
            "text/plain": [
              "36.14"
            ]
          },
          "metadata": {
            "tags": []
          },
          "execution_count": 25
        }
      ]
    },
    {
      "cell_type": "code",
      "metadata": {
        "id": "NJJ1W9hn8CoV",
        "colab_type": "code",
        "colab": {}
      },
      "source": [
        "#@title\n",
        "\n",
        "exit_reasons = ['Rental by client with RRH or equivalent subsidy', \n",
        "                'Rental by client, no ongoing housing subsidy', \n",
        "                'Staying or living with family, permanent tenure', \n",
        "                'Rental by client, other ongoing housing subsidy',\n",
        "                'Permanent housing (other than RRH) for formerly homeless persons', \n",
        "                'Staying or living with friends, permanent tenure', \n",
        "                'Owned by client, with ongoing housing subsidy', \n",
        "                'Staying or living with friends, permanent tenure', \n",
        "                'Rental by client, VASH housing Subsidy'\n",
        "               ]\n",
        "\n",
        "temp_reasons = ['Staying or living with family, temporary tenure (e.g., room, apartment or house)', \n",
        "               'Staying or living with friends, temporary tenure (e.g., room, apartment or house)', \n",
        "                \n",
        "               ]"
      ],
      "execution_count": 0,
      "outputs": []
    },
    {
      "cell_type": "code",
      "metadata": {
        "id": "pIrEISw18CrA",
        "colab_type": "code",
        "colab": {}
      },
      "source": [
        "# drop rows with no exit destination (current guests at time of report)\n",
        "df = df.dropna(subset=['3.12 Exit Destination'])"
      ],
      "execution_count": 0,
      "outputs": []
    },
    {
      "cell_type": "code",
      "metadata": {
        "id": "Ci8sM4b_8Cv7",
        "colab_type": "code",
        "colab": {}
      },
      "source": [
        " # create target column (multiple types of exits to perm)\n",
        "df['perm_leaver'] = df['3.12 Exit Destination'].isin(exit_reasons)"
      ],
      "execution_count": 0,
      "outputs": []
    },
    {
      "cell_type": "code",
      "metadata": {
        "id": "HLC9DJEB8C7V",
        "colab_type": "code",
        "colab": {}
      },
      "source": [
        "#df.head()"
      ],
      "execution_count": 0,
      "outputs": []
    },
    {
      "cell_type": "code",
      "metadata": {
        "id": "3iRsv5N08C-j",
        "colab_type": "code",
        "colab": {}
      },
      "source": [
        "perm_leaver = df[df['perm_leaver'] == True]"
      ],
      "execution_count": 0,
      "outputs": []
    },
    {
      "cell_type": "code",
      "metadata": {
        "id": "lwBgD1zh8DBm",
        "colab_type": "code",
        "colab": {}
      },
      "source": [
        "total_perm = perm_leaver.perm_leaver.value_counts().sum()"
      ],
      "execution_count": 0,
      "outputs": []
    },
    {
      "cell_type": "code",
      "metadata": {
        "id": "_zII61cfc5t8",
        "colab_type": "code",
        "outputId": "899d9d8c-632c-44ee-f930-311c0faf0762",
        "colab": {
          "base_uri": "https://localhost:8080/",
          "height": 34
        }
      },
      "source": [
        "total_perm"
      ],
      "execution_count": 0,
      "outputs": [
        {
          "output_type": "execute_result",
          "data": {
            "text/plain": [
              "188"
            ]
          },
          "metadata": {
            "tags": []
          },
          "execution_count": 32
        }
      ]
    },
    {
      "cell_type": "code",
      "metadata": {
        "id": "yK-iDD668DHl",
        "colab_type": "code",
        "colab": {}
      },
      "source": [
        "non_perm = df[df['perm_leaver'] == False]"
      ],
      "execution_count": 0,
      "outputs": []
    },
    {
      "cell_type": "code",
      "metadata": {
        "id": "9a0zHaiZ8C4v",
        "colab_type": "code",
        "colab": {}
      },
      "source": [
        "total_non_perm = non_perm.perm_leaver.value_counts().sum()"
      ],
      "execution_count": 0,
      "outputs": []
    },
    {
      "cell_type": "code",
      "metadata": {
        "id": "ga2WNYhi8C1o",
        "colab_type": "code",
        "outputId": "08d9b522-0d9a-4ebf-f71b-3749ffe22c1b",
        "colab": {
          "base_uri": "https://localhost:8080/",
          "height": 34
        }
      },
      "source": [
        "total_non_perm"
      ],
      "execution_count": 0,
      "outputs": [
        {
          "output_type": "execute_result",
          "data": {
            "text/plain": [
              "398"
            ]
          },
          "metadata": {
            "tags": []
          },
          "execution_count": 35
        }
      ]
    },
    {
      "cell_type": "code",
      "metadata": {
        "id": "AnSomhWI8Cy6",
        "colab_type": "code",
        "colab": {}
      },
      "source": [
        "perm_percent = total_perm / total_non_perm"
      ],
      "execution_count": 0,
      "outputs": []
    },
    {
      "cell_type": "code",
      "metadata": {
        "id": "-xDehGC98Ctr",
        "colab_type": "code",
        "outputId": "41701e67-6b84-4e37-e687-781f9d919a14",
        "colab": {
          "base_uri": "https://localhost:8080/",
          "height": 34
        }
      },
      "source": [
        "perm_percent = round(perm_percent, 2)*100\n",
        "perm_percent"
      ],
      "execution_count": 0,
      "outputs": [
        {
          "output_type": "execute_result",
          "data": {
            "text/plain": [
              "47.0"
            ]
          },
          "metadata": {
            "tags": []
          },
          "execution_count": 37
        }
      ]
    },
    {
      "cell_type": "code",
      "metadata": {
        "id": "dxfX8Ui0ktEN",
        "colab_type": "code",
        "outputId": "ba0439b1-9bf4-4689-fdfe-585834265ebe",
        "colab": {
          "base_uri": "https://localhost:8080/",
          "height": 319
        }
      },
      "source": [
        "df['3.12 Exit Destination'].value_counts()"
      ],
      "execution_count": 0,
      "outputs": [
        {
          "output_type": "execute_result",
          "data": {
            "text/plain": [
              "Client refused                                                                                                                   163\n",
              "Emergency shelter, including hotel or motel paid for with emergency shelter voucher, or RHY-funded Host Home shelter             123\n",
              "Rental by client with RRH or equivalent subsidy                                                                                   69\n",
              "Rental by client, no ongoing housing subsidy                                                                                      68\n",
              "Transitional Housing for homeless persons (including homeless youth)                                                              36\n",
              "Rental by client, other ongoing housing subsidy                                                                                   30\n",
              "No exit interview completed                                                                                                       23\n",
              "Staying or living with family, permanent tenure                                                                                   20\n",
              "Staying or living with friends, temporary tenure (e.g., room, apartment or house)                                                 19\n",
              "Staying or living with family, temporary tenure (e.g., room, apartment or house)                                                  16\n",
              "Place not meant for habitation (e.g., a vehicle, an abandoned building, bus/train/subway station/airport or anywhere outside)      6\n",
              "Hotel or Motel paid for without Emergency Shelter Voucher                                                                          4\n",
              "Other                                                                                                                              4\n",
              "Substance Abuse Treatment or Detox Center                                                                                          2\n",
              "Psychiatric Hospital or Other Psychiatric Facility                                                                                 1\n",
              "Permanent housing (other than RRH) for formerly homeless persons                                                                   1\n",
              "Foster Care Home or Foster Care Group Home                                                                                         1\n",
              "Name: 3.12 Exit Destination, dtype: int64"
            ]
          },
          "metadata": {
            "tags": []
          },
          "execution_count": 38
        }
      ]
    },
    {
      "cell_type": "code",
      "metadata": {
        "id": "ynmpE_p58CjO",
        "colab_type": "code",
        "colab": {}
      },
      "source": [
        "unknowns = ['Client refused', 'No exit interview completed']"
      ],
      "execution_count": 0,
      "outputs": []
    },
    {
      "cell_type": "code",
      "metadata": {
        "id": "tL8XKevd8Cgm",
        "colab_type": "code",
        "colab": {}
      },
      "source": [
        "unknown_df = df[df['3.12 Exit Destination'].isin(unknowns)]"
      ],
      "execution_count": 0,
      "outputs": []
    },
    {
      "cell_type": "code",
      "metadata": {
        "id": "NwJi6Y9A8Cbh",
        "colab_type": "code",
        "colab": {}
      },
      "source": [
        "unknown_exits = unknown_df['3.12 Exit Destination'].value_counts().sum()"
      ],
      "execution_count": 0,
      "outputs": []
    },
    {
      "cell_type": "code",
      "metadata": {
        "id": "nV8o-guZ8CS_",
        "colab_type": "code",
        "outputId": "fcd6aa49-e95d-4669-e2e7-d3527e4b719e",
        "colab": {
          "base_uri": "https://localhost:8080/",
          "height": 34
        }
      },
      "source": [
        "unknown_exits"
      ],
      "execution_count": 0,
      "outputs": [
        {
          "output_type": "execute_result",
          "data": {
            "text/plain": [
              "186"
            ]
          },
          "metadata": {
            "tags": []
          },
          "execution_count": 42
        }
      ]
    },
    {
      "cell_type": "code",
      "metadata": {
        "id": "AQwRPEhq8CQV",
        "colab_type": "code",
        "outputId": "88c14e24-864d-4c23-ffe0-7b5d67b6c93b",
        "colab": {
          "base_uri": "https://localhost:8080/",
          "height": 34
        }
      },
      "source": [
        "unknown_percent = unknown_exits / total_non_perm\n",
        "unknown_percent = round(unknown_percent, 2) *100\n",
        "unknown_percent"
      ],
      "execution_count": 0,
      "outputs": [
        {
          "output_type": "execute_result",
          "data": {
            "text/plain": [
              "47.0"
            ]
          },
          "metadata": {
            "tags": []
          },
          "execution_count": 43
        }
      ]
    },
    {
      "cell_type": "code",
      "metadata": {
        "id": "SYEDLNIGn8Fc",
        "colab_type": "code",
        "outputId": "9695406f-7408-4d66-ac52-fb242680c288",
        "colab": {
          "base_uri": "https://localhost:8080/",
          "height": 34
        }
      },
      "source": [
        "exits = df['3.12 Exit Destination'].value_counts().sum()\n",
        "exits"
      ],
      "execution_count": 0,
      "outputs": [
        {
          "output_type": "execute_result",
          "data": {
            "text/plain": [
              "586"
            ]
          },
          "metadata": {
            "tags": []
          },
          "execution_count": 44
        }
      ]
    },
    {
      "cell_type": "code",
      "metadata": {
        "id": "NZsYPUDtngYj",
        "colab_type": "code",
        "colab": {}
      },
      "source": [
        "exits = df['3.12 Exit Destination'].value_counts()"
      ],
      "execution_count": 0,
      "outputs": []
    },
    {
      "cell_type": "code",
      "metadata": {
        "id": "qDCEy_ktnghb",
        "colab_type": "code",
        "outputId": "80ea6519-f3d2-4ba1-ce84-f4514865217c",
        "colab": {
          "base_uri": "https://localhost:8080/",
          "height": 34
        }
      },
      "source": [
        "# take sum of ES and Trans exits and divide by total exits, then multiply by 100 to get percentage\n",
        "esExits = exits['Emergency shelter, including hotel or motel paid for with emergency shelter voucher, or RHY-funded Host Home shelter'] \n",
        "#transExits = ((exits['Transitional Housing for homeless persons (including homeless youth)'] / exits.sum()) * 100)\n",
        "# round the answer to nearest hundreth place\n",
        "esExits = (round(esExits, 2))\n",
        "#transExits = (round(transExits, 2))\n",
        "esExits\n",
        "#print('Exits to Transitional',transExits,'%')"
      ],
      "execution_count": 0,
      "outputs": [
        {
          "output_type": "execute_result",
          "data": {
            "text/plain": [
              "123"
            ]
          },
          "metadata": {
            "tags": []
          },
          "execution_count": 46
        }
      ]
    },
    {
      "cell_type": "code",
      "metadata": {
        "id": "Qn2DO8Ep_K4G",
        "colab_type": "code",
        "outputId": "e11c7f8a-24ba-4d0d-8367-6c60c8c3aaae",
        "colab": {
          "base_uri": "https://localhost:8080/",
          "height": 34
        }
      },
      "source": [
        "tempExits = df['3.12 Exit Destination'].isin(temp_reasons).sum()\n",
        "\n",
        "tempExits"
      ],
      "execution_count": 0,
      "outputs": [
        {
          "output_type": "execute_result",
          "data": {
            "text/plain": [
              "35"
            ]
          },
          "metadata": {
            "tags": []
          },
          "execution_count": 47
        }
      ]
    },
    {
      "cell_type": "code",
      "metadata": {
        "id": "kuUdutaLAgAN",
        "colab_type": "code",
        "outputId": "d2b24245-652b-4dc0-9c0a-cf2565badc77",
        "colab": {
          "base_uri": "https://localhost:8080/",
          "height": 34
        }
      },
      "source": [
        "transitional = df['3.12 Exit Destination'] == 'Transitional Housing for homeless persons (including homeless youth)'\n",
        "transitional = transitional.sum()\n",
        "transitional"
      ],
      "execution_count": 0,
      "outputs": [
        {
          "output_type": "execute_result",
          "data": {
            "text/plain": [
              "36"
            ]
          },
          "metadata": {
            "tags": []
          },
          "execution_count": 48
        }
      ]
    },
    {
      "cell_type": "code",
      "metadata": {
        "id": "Q6h_fTjKBUL3",
        "colab_type": "code",
        "outputId": "8e1ba633-b0e6-417c-b952-43aaed06bcca",
        "colab": {
          "base_uri": "https://localhost:8080/",
          "height": 34
        }
      },
      "source": [
        "exits.sum()"
      ],
      "execution_count": 0,
      "outputs": [
        {
          "output_type": "execute_result",
          "data": {
            "text/plain": [
              "586"
            ]
          },
          "metadata": {
            "tags": []
          },
          "execution_count": 49
        }
      ]
    },
    {
      "cell_type": "code",
      "metadata": {
        "id": "0um1qmlPG_Vn",
        "colab_type": "code",
        "colab": {}
      },
      "source": [
        "total_guests = total_non_perm + total_perm"
      ],
      "execution_count": 0,
      "outputs": []
    },
    {
      "cell_type": "code",
      "metadata": {
        "id": "BnJ28vV-BEMp",
        "colab_type": "code",
        "outputId": "45406f26-5f09-4cce-a2a0-51d3287255bc",
        "colab": {
          "base_uri": "https://localhost:8080/",
          "height": 34
        }
      },
      "source": [
        "trans_percent = (transitional / exits.sum())*100\n",
        "trans_percent = round(trans_percent, 2)\n",
        "trans_percent"
      ],
      "execution_count": 0,
      "outputs": [
        {
          "output_type": "execute_result",
          "data": {
            "text/plain": [
              "6.14"
            ]
          },
          "metadata": {
            "tags": []
          },
          "execution_count": 51
        }
      ]
    },
    {
      "cell_type": "code",
      "metadata": {
        "id": "QMAxXsZsfCz7",
        "colab_type": "code",
        "colab": {}
      },
      "source": [
        "#zips_master"
      ],
      "execution_count": 0,
      "outputs": []
    },
    {
      "cell_type": "code",
      "metadata": {
        "id": "rJSaf-Synglo",
        "colab_type": "code",
        "outputId": "c6591055-ef4b-497f-af5a-acc94f705a7f",
        "colab": {
          "base_uri": "https://localhost:8080/",
          "height": 857
        }
      },
      "source": [
        "# export zips into an excel sheet for Power BI visual\n",
        "zips_master = pd.read_excel('/content/drive/My Drive/FPData/uszips.xlsx')\n",
        "\n",
        "\n",
        "\n",
        "# Import pandas library \n",
        "import pandas as pd \n",
        "  \n",
        "# initialize list of lists \n",
        "zips_bi = df['V5 Zip'].value_counts().to_frame('Total').reset_index(level=0, inplace=False)\n",
        "zips_bi = zips_bi.rename(columns={\"index\": \"V5 Zip\"})\n",
        "zips_bi = zips_bi.merge(zips_master,on='V5 Zip')\n",
        "zips_bi['V5 City'].value_counts()"
      ],
      "execution_count": 0,
      "outputs": [
        {
          "output_type": "execute_result",
          "data": {
            "text/plain": [
              "Spokane           10\n",
              "Spokane Valley     5\n",
              "Mountain Home      2\n",
              "Great Falls        2\n",
              "Santa Rosa         1\n",
              "Greenacres         1\n",
              "Omak               1\n",
              "Kettle Falls       1\n",
              "Glendale           1\n",
              "Clarkston          1\n",
              "Everett            1\n",
              "Puyallup           1\n",
              "Deer Park          1\n",
              "Salt Lake City     1\n",
              "Medical Lake       1\n",
              "Dubuque            1\n",
              "Newport            1\n",
              "South Bend         1\n",
              "Colville           1\n",
              "Ligonier           1\n",
              "Tacoma             1\n",
              "Celina             1\n",
              "Bakersfield        1\n",
              "Marrero            1\n",
              "Wellpinit          1\n",
              "Ogden              1\n",
              "Olympia            1\n",
              "Ritzville          1\n",
              "Jensen Beach       1\n",
              "Browning           1\n",
              "Chewelah           1\n",
              "Hemet              1\n",
              "Hoodsport          1\n",
              "Pullman            1\n",
              "Windsor Mill       1\n",
              "Liberty Lake       1\n",
              "Moscow             1\n",
              "Alexandria         1\n",
              "Lolo               1\n",
              "Tillamook          1\n",
              "Sprague            1\n",
              "Milwaukee          1\n",
              "Cheney             1\n",
              "Anderson           1\n",
              "Airway Heights     1\n",
              "Nampa              1\n",
              "Vancouver          1\n",
              "Kennewick          1\n",
              "Williston          1\n",
              "Name: V5 City, dtype: int64"
            ]
          },
          "metadata": {
            "tags": []
          },
          "execution_count": 53
        }
      ]
    },
    {
      "cell_type": "code",
      "metadata": {
        "id": "0tqQPx8jkcFZ",
        "colab_type": "code",
        "outputId": "62d9b891-e83b-444b-b376-4eb2864a3266",
        "colab": {
          "base_uri": "https://localhost:8080/",
          "height": 34
        }
      },
      "source": [
        "type(zips_bi)"
      ],
      "execution_count": 0,
      "outputs": [
        {
          "output_type": "execute_result",
          "data": {
            "text/plain": [
              "pandas.core.frame.DataFrame"
            ]
          },
          "metadata": {
            "tags": []
          },
          "execution_count": 54
        }
      ]
    },
    {
      "cell_type": "code",
      "metadata": {
        "id": "vrFpUs9TBWkG",
        "colab_type": "code",
        "colab": {}
      },
      "source": [
        "zips_bi.to_excel('/content/drive/My Drive/FPData/YTD Data/weeklyYTDzips.xlsx', header=True, index=False)"
      ],
      "execution_count": 0,
      "outputs": []
    },
    {
      "cell_type": "code",
      "metadata": {
        "id": "_DNkcjdUBS3b",
        "colab_type": "code",
        "colab": {}
      },
      "source": [
        "other_reasons = ['Place not meant for habitation (e.g., a vehicle, an abandoned building, bus/train/subway station/airport or anywhere outside)',\n",
        "                 'Hotel or Motel paid for without Emergency Shelter Voucher', 'Other', 'Substance Abuse Treatment or Detox Center',\n",
        "                 'Foster Care Home or Foster Care Group Home', 'Psychiatric Hospital or Other Psychiatric Facility']"
      ],
      "execution_count": 0,
      "outputs": []
    },
    {
      "cell_type": "code",
      "metadata": {
        "id": "4gWB-8-5KoH6",
        "colab_type": "code",
        "colab": {}
      },
      "source": [
        "other = df['3.12 Exit Destination'].isin(other_reasons)"
      ],
      "execution_count": 0,
      "outputs": []
    },
    {
      "cell_type": "code",
      "metadata": {
        "id": "q-tuRBUAKvGk",
        "colab_type": "code",
        "outputId": "41ff6823-9242-43a5-aa1a-8510d0981ba0",
        "colab": {
          "base_uri": "https://localhost:8080/",
          "height": 34
        }
      },
      "source": [
        "other.sum()\n",
        "other = other.sum()\n",
        "other"
      ],
      "execution_count": 0,
      "outputs": [
        {
          "output_type": "execute_result",
          "data": {
            "text/plain": [
              "18"
            ]
          },
          "metadata": {
            "tags": []
          },
          "execution_count": 58
        }
      ]
    },
    {
      "cell_type": "code",
      "metadata": {
        "id": "X3E19k09pBGo",
        "colab_type": "code",
        "outputId": "d7b42f37-f57e-4c58-c284-5e0db180c63d",
        "colab": {
          "base_uri": "https://localhost:8080/",
          "height": 218
        }
      },
      "source": [
        "df['4.04.7 Private - Employer']"
      ],
      "execution_count": 0,
      "outputs": [
        {
          "output_type": "execute_result",
          "data": {
            "text/plain": [
              "0      No\n",
              "1      No\n",
              "2      No\n",
              "3      No\n",
              "4      No\n",
              "       ..\n",
              "673    No\n",
              "685    No\n",
              "686    No\n",
              "687    No\n",
              "688    No\n",
              "Name: 4.04.7 Private - Employer, Length: 586, dtype: object"
            ]
          },
          "metadata": {
            "tags": []
          },
          "execution_count": 59
        }
      ]
    },
    {
      "cell_type": "code",
      "metadata": {
        "id": "h2RsCB-BKIcH",
        "colab_type": "code",
        "outputId": "30f3bba9-04c1-4f59-acfb-358bf716f3a5",
        "colab": {
          "base_uri": "https://localhost:8080/",
          "height": 319
        }
      },
      "source": [
        "df['3.12 Exit Destination'].value_counts()"
      ],
      "execution_count": 0,
      "outputs": [
        {
          "output_type": "execute_result",
          "data": {
            "text/plain": [
              "Client refused                                                                                                                   163\n",
              "Emergency shelter, including hotel or motel paid for with emergency shelter voucher, or RHY-funded Host Home shelter             123\n",
              "Rental by client with RRH or equivalent subsidy                                                                                   69\n",
              "Rental by client, no ongoing housing subsidy                                                                                      68\n",
              "Transitional Housing for homeless persons (including homeless youth)                                                              36\n",
              "Rental by client, other ongoing housing subsidy                                                                                   30\n",
              "No exit interview completed                                                                                                       23\n",
              "Staying or living with family, permanent tenure                                                                                   20\n",
              "Staying or living with friends, temporary tenure (e.g., room, apartment or house)                                                 19\n",
              "Staying or living with family, temporary tenure (e.g., room, apartment or house)                                                  16\n",
              "Place not meant for habitation (e.g., a vehicle, an abandoned building, bus/train/subway station/airport or anywhere outside)      6\n",
              "Hotel or Motel paid for without Emergency Shelter Voucher                                                                          4\n",
              "Other                                                                                                                              4\n",
              "Substance Abuse Treatment or Detox Center                                                                                          2\n",
              "Psychiatric Hospital or Other Psychiatric Facility                                                                                 1\n",
              "Permanent housing (other than RRH) for formerly homeless persons                                                                   1\n",
              "Foster Care Home or Foster Care Group Home                                                                                         1\n",
              "Name: 3.12 Exit Destination, dtype: int64"
            ]
          },
          "metadata": {
            "tags": []
          },
          "execution_count": 60
        }
      ]
    },
    {
      "cell_type": "code",
      "metadata": {
        "id": "ZnbNsVKWCD1q",
        "colab_type": "code",
        "outputId": "11760463-acf9-4c53-a021-0a131da2486d",
        "colab": {
          "base_uri": "https://localhost:8080/",
          "height": 168
        }
      },
      "source": [
        "print(total_guests, 'total guests served YTD')\n",
        "print(total_non_perm, 'total non perm leavers')\n",
        "print(total_perm, 'total perm leavers')\n",
        "print(esExits, 'total ES leavers')\n",
        "print(tempExits, 'total temp leavers')\n",
        "print(transitional, 'total trans leavers')\n",
        "print(other, 'total leavers to \"other\"')\n",
        "print(unknown_exits, 'total unknown leavers')\n",
        "print('sum of all groups to make sure it matches total served:',total_perm+esExits+tempExits+transitional+other+unknown_exits)"
      ],
      "execution_count": 0,
      "outputs": [
        {
          "output_type": "stream",
          "text": [
            "586 total guests served YTD\n",
            "398 total non perm leavers\n",
            "188 total perm leavers\n",
            "123 total ES leavers\n",
            "35 total temp leavers\n",
            "36 total trans leavers\n",
            "18 total leavers to \"other\"\n",
            "186 total unknown leavers\n",
            "sum of all groups to make sure it matches total served: 586\n"
          ],
          "name": "stdout"
        }
      ]
    },
    {
      "cell_type": "code",
      "metadata": {
        "id": "-4mmzx3ONuM_",
        "colab_type": "code",
        "colab": {}
      },
      "source": [
        "assert((total_perm+esExits+tempExits+transitional+other+unknown_exits) == (total_non_perm+total_perm))"
      ],
      "execution_count": 0,
      "outputs": []
    },
    {
      "cell_type": "code",
      "metadata": {
        "id": "gTMhjHGZ9zO3",
        "colab_type": "code",
        "colab": {}
      },
      "source": [
        "'''perm_bi = '{} %'.format(perm_percent)\n",
        "es_bi = '{} %'.format(esExits)\n",
        "temp_bi = '{} %'.format(tempExits)\n",
        "trans_bi = '{} %'.format(trans_percent)\n",
        "unknown_bi = '{} %'.format(unknown_percent)'''"
      ],
      "execution_count": 0,
      "outputs": []
    },
    {
      "cell_type": "code",
      "metadata": {
        "id": "xpHfeQp89zHH",
        "colab_type": "code",
        "colab": {}
      },
      "source": [
        "'''power_bi = pd.DataFrame({'Permanent Leavers': total_perm, 'Emergency Shelter Leavers': esExits, \n",
        "                         'Temporary Leavers': tempExits, 'Transitional Leavers': transitional, \n",
        "                         'Unknown Leavers': unknown_exits, 'Other Leavers': other, 'Total': total_guests }, index=[0])'''\n"
      ],
      "execution_count": 0,
      "outputs": []
    },
    {
      "cell_type": "code",
      "metadata": {
        "id": "Ou9YSkX1TO_r",
        "colab_type": "code",
        "colab": {}
      },
      "source": [
        "# Import pandas library \n",
        "import pandas as pd \n",
        "  \n",
        "# initialize list of lists \n",
        "data = [['Permanent Leavers', total_perm], ['Emergency Shelter Leavers', esExits], \n",
        "        ['Temporary Leavers', tempExits], ['Transitional Leavers', transitional],\n",
        "        ['Unknown Leavers', unknown_exits], ['Other Leavers', other]] \n",
        "  \n",
        "\n",
        "\n",
        "# Create the pandas DataFrame \n",
        "power_bi = pd.DataFrame(data, columns = ['Exit Destination', 'Total']) \n",
        "  \n",
        "# print dataframe. "
      ],
      "execution_count": 0,
      "outputs": []
    },
    {
      "cell_type": "code",
      "metadata": {
        "id": "CwWzCqxbRwig",
        "colab_type": "code",
        "outputId": "0e01cdcc-6e31-42e1-b9d1-12dc0eda9325",
        "colab": {
          "base_uri": "https://localhost:8080/",
          "height": 225
        }
      },
      "source": [
        "power_bi"
      ],
      "execution_count": 0,
      "outputs": [
        {
          "output_type": "execute_result",
          "data": {
            "text/html": [
              "<div>\n",
              "<style scoped>\n",
              "    .dataframe tbody tr th:only-of-type {\n",
              "        vertical-align: middle;\n",
              "    }\n",
              "\n",
              "    .dataframe tbody tr th {\n",
              "        vertical-align: top;\n",
              "    }\n",
              "\n",
              "    .dataframe thead th {\n",
              "        text-align: right;\n",
              "    }\n",
              "</style>\n",
              "<table border=\"1\" class=\"dataframe\">\n",
              "  <thead>\n",
              "    <tr style=\"text-align: right;\">\n",
              "      <th></th>\n",
              "      <th>Exit Destination</th>\n",
              "      <th>Total</th>\n",
              "    </tr>\n",
              "  </thead>\n",
              "  <tbody>\n",
              "    <tr>\n",
              "      <th>0</th>\n",
              "      <td>Permanent Leavers</td>\n",
              "      <td>188</td>\n",
              "    </tr>\n",
              "    <tr>\n",
              "      <th>1</th>\n",
              "      <td>Emergency Shelter Leavers</td>\n",
              "      <td>123</td>\n",
              "    </tr>\n",
              "    <tr>\n",
              "      <th>2</th>\n",
              "      <td>Temporary Leavers</td>\n",
              "      <td>35</td>\n",
              "    </tr>\n",
              "    <tr>\n",
              "      <th>3</th>\n",
              "      <td>Transitional Leavers</td>\n",
              "      <td>36</td>\n",
              "    </tr>\n",
              "    <tr>\n",
              "      <th>4</th>\n",
              "      <td>Unknown Leavers</td>\n",
              "      <td>186</td>\n",
              "    </tr>\n",
              "    <tr>\n",
              "      <th>5</th>\n",
              "      <td>Other Leavers</td>\n",
              "      <td>18</td>\n",
              "    </tr>\n",
              "  </tbody>\n",
              "</table>\n",
              "</div>"
            ],
            "text/plain": [
              "            Exit Destination  Total\n",
              "0          Permanent Leavers    188\n",
              "1  Emergency Shelter Leavers    123\n",
              "2          Temporary Leavers     35\n",
              "3       Transitional Leavers     36\n",
              "4            Unknown Leavers    186\n",
              "5              Other Leavers     18"
            ]
          },
          "metadata": {
            "tags": []
          },
          "execution_count": 66
        }
      ]
    },
    {
      "cell_type": "code",
      "metadata": {
        "id": "HKQjkUoWOIaX",
        "colab_type": "code",
        "outputId": "0b4a049a-4a1e-4e52-9d01-c547bd24c46c",
        "colab": {
          "base_uri": "https://localhost:8080/",
          "height": 34
        }
      },
      "source": [
        "power_bi.Total.sum()"
      ],
      "execution_count": 0,
      "outputs": [
        {
          "output_type": "execute_result",
          "data": {
            "text/plain": [
              "586"
            ]
          },
          "metadata": {
            "tags": []
          },
          "execution_count": 67
        }
      ]
    },
    {
      "cell_type": "code",
      "metadata": {
        "id": "xvlIe_kHDcf_",
        "colab_type": "code",
        "colab": {}
      },
      "source": [
        "power_bi.to_excel('/content/drive/My Drive/FPData/YTD Data/YTDweeklyDataNew.xlsx')"
      ],
      "execution_count": 0,
      "outputs": []
    },
    {
      "cell_type": "code",
      "metadata": {
        "id": "4LzqAInqz7Qi",
        "colab_type": "code",
        "outputId": "f2e6cc53-6bf8-46c5-adcb-1c569e99cb93",
        "colab": {
          "base_uri": "https://localhost:8080/",
          "height": 34
        }
      },
      "source": [
        "df['3.12 Exit Destination'].value_counts().sum()"
      ],
      "execution_count": 139,
      "outputs": [
        {
          "output_type": "execute_result",
          "data": {
            "text/plain": [
              "586"
            ]
          },
          "metadata": {
            "tags": []
          },
          "execution_count": 139
        }
      ]
    },
    {
      "cell_type": "code",
      "metadata": {
        "id": "_vbHYZfez8X1",
        "colab_type": "code",
        "colab": {}
      },
      "source": [
        "assert(power_bi.Total.sum() == df['3.12 Exit Destination'].value_counts().sum())"
      ],
      "execution_count": 0,
      "outputs": []
    },
    {
      "cell_type": "code",
      "metadata": {
        "id": "mvU3y79Nz8jK",
        "colab_type": "code",
        "colab": {}
      },
      "source": [
        ""
      ],
      "execution_count": 0,
      "outputs": []
    }
  ]
}