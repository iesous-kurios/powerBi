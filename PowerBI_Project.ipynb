{
  "nbformat": 4,
  "nbformat_minor": 0,
  "metadata": {
    "colab": {
      "name": "PowerBI Project.ipynb",
      "provenance": [],
      "collapsed_sections": [],
      "include_colab_link": true
    },
    "kernelspec": {
      "display_name": "Python 3",
      "language": "python",
      "name": "python3"
    },
    "language_info": {
      "codemirror_mode": {
        "name": "ipython",
        "version": 3
      },
      "file_extension": ".py",
      "mimetype": "text/x-python",
      "name": "python",
      "nbconvert_exporter": "python",
      "pygments_lexer": "ipython3",
      "version": "3.7.1"
    }
  },
  "cells": [
    {
      "cell_type": "markdown",
      "metadata": {
        "id": "view-in-github",
        "colab_type": "text"
      },
      "source": [
        "<a href=\"https://colab.research.google.com/github/iesous-kurios/powerBi/blob/master/PowerBI_Project.ipynb\" target=\"_parent\"><img src=\"https://colab.research.google.com/assets/colab-badge.svg\" alt=\"Open In Colab\"/></a>"
      ]
    },
    {
      "cell_type": "code",
      "metadata": {
        "colab_type": "code",
        "id": "zjBsBizH7yB8",
        "outputId": "5f68d476-0c90-456c-abcc-66f375ca1b9b",
        "colab": {
          "base_uri": "https://localhost:8080/",
          "height": 34
        }
      },
      "source": [
        "#@title\n",
        "# import libraries which provide math functions to our data imports\n",
        "import statistics\n",
        "import numpy as np\n",
        "import pandas as pd\n",
        "import matplotlib.pyplot as plt\n",
        "import seaborn as sns\n",
        "import datetime\n",
        "from datetime import date, timedelta\n",
        "import matplotlib.pyplot as plt\n",
        "import matplotlib\n",
        "from matplotlib import style\n",
        "\n",
        "sns.__version__"
      ],
      "execution_count": 84,
      "outputs": [
        {
          "output_type": "execute_result",
          "data": {
            "text/plain": [
              "'0.10.1'"
            ]
          },
          "metadata": {
            "tags": []
          },
          "execution_count": 84
        }
      ]
    },
    {
      "cell_type": "code",
      "metadata": {
        "id": "jzI6IJSWfMxF",
        "colab_type": "code",
        "colab": {
          "base_uri": "https://localhost:8080/",
          "height": 34
        },
        "outputId": "b8cac30c-3ea0-484d-8aac-72c0f265f458"
      },
      "source": [
        "from google.colab import drive\n",
        "drive.mount('/gdrive')"
      ],
      "execution_count": 85,
      "outputs": [
        {
          "output_type": "stream",
          "text": [
            "Drive already mounted at /gdrive; to attempt to forcibly remount, call drive.mount(\"/gdrive\", force_remount=True).\n"
          ],
          "name": "stdout"
        }
      ]
    },
    {
      "cell_type": "code",
      "metadata": {
        "colab_type": "code",
        "id": "nousgp7Q8BWd",
        "colab": {}
      },
      "source": [
        "#@title\n",
        "# import weekly data from yearly FPS folder\n",
        "\n",
        "df = pd.read_excel('/gdrive/My Drive/FPData/YTD Data/FP_May19.xlsx', sheet_name=0)\n",
        "#df = pd.read_excel ('~/environments/fp_env/family_promise_data/data/ClientTrackExport (5).xlsx')"
      ],
      "execution_count": 0,
      "outputs": []
    },
    {
      "cell_type": "code",
      "metadata": {
        "colab_type": "code",
        "id": "mIeJ5QM88BbL",
        "colab": {}
      },
      "source": [
        "# get list of currently enrolled guests (guests that don't have an exit date)\n",
        "currently_enrolled = df[df['3.11 Exit Date'].isnull()]"
      ],
      "execution_count": 0,
      "outputs": []
    },
    {
      "cell_type": "code",
      "metadata": {
        "colab_type": "code",
        "id": "OELBYoSOTjdN",
        "outputId": "8082c47a-94a9-483f-c810-2a748209619a",
        "colab": {
          "base_uri": "https://localhost:8080/",
          "height": 221
        }
      },
      "source": [
        "currently_enrolled['3.3 Birthdate'].value_counts()"
      ],
      "execution_count": 88,
      "outputs": [
        {
          "output_type": "execute_result",
          "data": {
            "text/plain": [
              "1978-01-01    2\n",
              "1973-06-17    1\n",
              "2014-08-26    1\n",
              "1987-02-14    1\n",
              "2003-12-31    1\n",
              "             ..\n",
              "2010-11-19    1\n",
              "2009-10-20    1\n",
              "2013-09-11    1\n",
              "2014-03-22    1\n",
              "2018-12-21    1\n",
              "Name: 3.3 Birthdate, Length: 94, dtype: int64"
            ]
          },
          "metadata": {
            "tags": []
          },
          "execution_count": 88
        }
      ]
    },
    {
      "cell_type": "code",
      "metadata": {
        "colab_type": "code",
        "id": "XS_yCsAx03rK",
        "colab": {}
      },
      "source": [
        "bdays_date = (date.today()-timedelta(days=15)).isoformat()\n",
        "current_bdays = currently_enrolled[currently_enrolled['Date of Last ES Stay (Beta)'] >= bdays_date ]"
      ],
      "execution_count": 0,
      "outputs": []
    },
    {
      "cell_type": "code",
      "metadata": {
        "colab_type": "code",
        "id": "y93VOxwff-Zh",
        "colab": {}
      },
      "source": [
        "from datetime import date\n",
        "\n",
        "def calculate_age(born):\n",
        "    today = date.today()\n",
        "    return today.year - born.year - ((today.month, today.day) < (born.month, born.day))"
      ],
      "execution_count": 0,
      "outputs": []
    },
    {
      "cell_type": "code",
      "metadata": {
        "colab_type": "code",
        "id": "-FslFWlqnLMy",
        "outputId": "d9b0da43-61e4-460c-c204-fcb4f81f271c",
        "colab": {
          "base_uri": "https://localhost:8080/",
          "height": 34
        }
      },
      "source": [
        "# Python3 code to  calculate age in years \n",
        "from datetime import date \n",
        "  \n",
        "def turning(born): \n",
        "    today = date.today() \n",
        "    this_month = date.today().month\n",
        "    this_day = date.today()\n",
        "    try:  \n",
        "        birthday = born.replace(year = today.year) \n",
        "        birthmonth = born.replace(month = today.month)\n",
        "        birth_day = born.replace(day = today.day)\n",
        "  \n",
        "    # raised when birth date is February 29 \n",
        "    # and the current year is not a leap year \n",
        "    except ValueError:  \n",
        "        birthday = born.replace(year = today.year, \n",
        "                  month = this_month + 1, day = 1) \n",
        "  \n",
        "    if birthday > today:\n",
        "        birthmonth = born.month\n",
        "        if birthmonth == this_month:\n",
        "            if birth_day > this_day:\n",
        "                return today.year - born.year + 1\n",
        "            if birth_day <= this_day:\n",
        "                return today.year - born.year \n",
        "        else:\n",
        "            return today.year - born.year        \n",
        "\n",
        "    else: \n",
        "        return today.year - born.year \n",
        "          \n",
        "# Driver code \n",
        "print(turning(date(1997, 2, 3)), \"years\") "
      ],
      "execution_count": 91,
      "outputs": [
        {
          "output_type": "stream",
          "text": [
            "23 years\n"
          ],
          "name": "stdout"
        }
      ]
    },
    {
      "cell_type": "code",
      "metadata": {
        "id": "vreyOxHWfMxb",
        "colab_type": "code",
        "colab": {
          "base_uri": "https://localhost:8080/",
          "height": 200
        },
        "outputId": "6e3a9d22-ad07-42b7-b4d4-ee1ac328c20c"
      },
      "source": [
        "current_bdays.head()"
      ],
      "execution_count": 92,
      "outputs": [
        {
          "output_type": "execute_result",
          "data": {
            "text/html": [
              "<div>\n",
              "<style scoped>\n",
              "    .dataframe tbody tr th:only-of-type {\n",
              "        vertical-align: middle;\n",
              "    }\n",
              "\n",
              "    .dataframe tbody tr th {\n",
              "        vertical-align: top;\n",
              "    }\n",
              "\n",
              "    .dataframe thead th {\n",
              "        text-align: right;\n",
              "    }\n",
              "</style>\n",
              "<table border=\"1\" class=\"dataframe\">\n",
              "  <thead>\n",
              "    <tr style=\"text-align: right;\">\n",
              "      <th></th>\n",
              "      <th>2.1 Organization Name</th>\n",
              "      <th>2.2 Project Name</th>\n",
              "      <th>2.4 ProjectType</th>\n",
              "      <th>2.5 Utilization Tracking Method (Invalid)</th>\n",
              "      <th>2.6 Federal Grant Programs</th>\n",
              "      <th>Enrollment Created By</th>\n",
              "      <th>3.1 FirstName</th>\n",
              "      <th>3.1 LastName</th>\n",
              "      <th>5.8 Personal ID</th>\n",
              "      <th>5.9 Household ID</th>\n",
              "      <th>3.15 Relationship to HoH</th>\n",
              "      <th>3.16 Client Location</th>\n",
              "      <th>CaseMembers</th>\n",
              "      <th>3.10 Enroll Date</th>\n",
              "      <th>3.11 Exit Date</th>\n",
              "      <th>3.12 Exit Destination</th>\n",
              "      <th>3.2 SocSecNo</th>\n",
              "      <th>3.2 Social Security Quality</th>\n",
              "      <th>3.3 Birthdate</th>\n",
              "      <th>3.3 Birthdate Quality</th>\n",
              "      <th>Age at Enrollment</th>\n",
              "      <th>Current Age</th>\n",
              "      <th>3.4 Race</th>\n",
              "      <th>3.5 Ethnicity</th>\n",
              "      <th>3.6 Gender</th>\n",
              "      <th>3.7 Veteran Status</th>\n",
              "      <th>3.8 Disabling Condition at Entry</th>\n",
              "      <th>3.917 Living Situation</th>\n",
              "      <th>3.917b Stayed Less Than 7 Nights</th>\n",
              "      <th>3.917 Stayed Less Than 90 Days</th>\n",
              "      <th>3.917b Stayed in Streets, ES or SH Night Before</th>\n",
              "      <th>3.917 Length of Stay</th>\n",
              "      <th>3.917 Homeless Start Date</th>\n",
              "      <th>Length of Time Homeless (3.917 Approximate Start)</th>\n",
              "      <th>3.917 Times Homeless Last 3 Years</th>\n",
              "      <th>3.917 Total Months Homeless Last 3 Years</th>\n",
              "      <th>V5 Last Permanent Address</th>\n",
              "      <th>V5 Prior Address</th>\n",
              "      <th>V5 State</th>\n",
              "      <th>V5 Zip</th>\n",
              "      <th>...</th>\n",
              "      <th>CaseAdults</th>\n",
              "      <th>Bed Nights During Report Period</th>\n",
              "      <th>Count of Bed Nights - Entire Episode</th>\n",
              "      <th>HEN-HP Referral Most Recent</th>\n",
              "      <th>HEN-RRH Referral Most Recent</th>\n",
              "      <th>WorkSource Referral Most Recent</th>\n",
              "      <th>YAHP Referral Most Recent</th>\n",
              "      <th>4.04.10 Other Public</th>\n",
              "      <th>4.04.10 State Funded</th>\n",
              "      <th>4.04.11 Indian Health Services (IHS)</th>\n",
              "      <th>4.04.12 Other</th>\n",
              "      <th>4.04.3 Combined Childrens HealthInsurance/Medicaid</th>\n",
              "      <th>4.04.3 Medicaid</th>\n",
              "      <th>4.04.4 Medicare</th>\n",
              "      <th>4.04.5 State Children's health Insurance S-CHIP</th>\n",
              "      <th>4.04.6 Veteran's Administration Medical Services</th>\n",
              "      <th>4.04.8 Health Insurance obtained through COBRA</th>\n",
              "      <th>4.04.7 Private - Employer</th>\n",
              "      <th>4.04.9 Private</th>\n",
              "      <th>4.04.9 Private - Individual</th>\n",
              "      <th>4.2.3a Earned Income</th>\n",
              "      <th>4.2.4b Unemployment Insurance</th>\n",
              "      <th>4.2.5c Supplemental Security Income</th>\n",
              "      <th>4.2.6d Social Security Disability  Income</th>\n",
              "      <th>4.2.7e VA Disability Compensation</th>\n",
              "      <th>4.2.8f VA Disability Pension</th>\n",
              "      <th>4.2.9g Private Disability Income</th>\n",
              "      <th>4.2.10h Workers Compensation</th>\n",
              "      <th>4.2.11i TANF</th>\n",
              "      <th>4.2.12j General Assistance</th>\n",
              "      <th>4.2.13k Retirement (Social Security)</th>\n",
              "      <th>4.2.14l Pension from a Former Job</th>\n",
              "      <th>4.2.15m Child Support</th>\n",
              "      <th>4.2.16n Alimony</th>\n",
              "      <th>4.2.17o Other Income</th>\n",
              "      <th>Chronic Homeless Status_vHMISDatAssessment</th>\n",
              "      <th>Chronic Homeless Status_EvaluatevHMIS&amp;HMISDA</th>\n",
              "      <th>Email</th>\n",
              "      <th>HomePhone</th>\n",
              "      <th>WorkPhone</th>\n",
              "    </tr>\n",
              "  </thead>\n",
              "  <tbody>\n",
              "  </tbody>\n",
              "</table>\n",
              "<p>0 rows × 152 columns</p>\n",
              "</div>"
            ],
            "text/plain": [
              "Empty DataFrame\n",
              "Columns: [2.1 Organization Name, 2.2 Project Name, 2.4 ProjectType, 2.5 Utilization Tracking Method (Invalid), 2.6 Federal Grant Programs, Enrollment Created By, 3.1 FirstName, 3.1 LastName, 5.8 Personal ID, 5.9 Household ID, 3.15 Relationship to HoH, 3.16 Client Location, CaseMembers, 3.10 Enroll Date, 3.11 Exit Date, 3.12 Exit Destination, 3.2 SocSecNo, 3.2 Social Security Quality, 3.3 Birthdate, 3.3 Birthdate Quality, Age at Enrollment, Current Age, 3.4 Race, 3.5 Ethnicity, 3.6 Gender, 3.7 Veteran Status, 3.8 Disabling Condition at Entry, 3.917 Living Situation, 3.917b Stayed Less Than 7 Nights, 3.917 Stayed Less Than 90 Days, 3.917b Stayed in Streets, ES or SH Night Before, 3.917 Length of Stay, 3.917 Homeless Start Date, Length of Time Homeless (3.917 Approximate Start), 3.917 Times Homeless Last 3 Years, 3.917 Total Months Homeless Last 3 Years, V5 Last Permanent Address, V5 Prior Address, V5 State, V5 Zip, Municipality (City or County), Days Enrolled in Project, RRH In Permanent Housing, RRH Date Of Move-In, Days Enrolled Until RRH Date of Move-in, 4.1 Housing Status, 4.4 Covered by Health Insurance, 4.11 Domestic Violence, 4.11 Domestic Violence - Currently Fleeing DV?, 4.11 Domestic Violence - When it Occurred, 4.13 Engagement Date, Days Enrolled Until Engagement Date, 4.24 Current Status (Retired Data Element), 4.24 In School (Retired Data Element), 4.24 Connected to McKinney Vento Liason (Retired), Household Type, Latitude, Longitude, R1 Referral Source, R2 Date Status Determined, R2 Enroll Status, R2 Runaway Youth, R2 Reason Why No Services Funded, R3 Sexual Orientation, R4 Last Grade Completed, R5 School Status, R6 Employed Status, R6 Why Not Employed, R6 Type of Employment, R6 Looking for Work, R7 General Health Status, R8 Dental Health Status, R9 Mental Health Status, R10 Pregnancy Status, R10 Pregnancy Due Date, Client Record Restricted, InfoReleaseNo, Information Release Status, 4.12 Contact Services, Date of Last Contact (Beta), Date of First Contact (Beta), Count of Bed Nights (Housing Check-ins), Date of Last ES Stay (Beta), Date of First ES Stay (Beta), 4.2 Income Total at Entry, 4.02 Total Income at Annual Update, 4.2 Income Total at Exit, 4.3 Non-Cash Benefit Count, 4.3 Non-Cash Benefit Count at Exit, CurrentDate, Barrier Count at Entry, Chronic Homeless Status, ProgramType, SOAR Eligibility Determination (Most Recent), SOAR Enrollment Determination (Most Recent), RRH | Most Recent Enrollment, Street Outreach | Most Recent Enrollment, Coordinated Entry | Most Recent Enrollment, Emergency Shelter | Most Recent Enrollment, Transitional Housing | Most Recent Enrollment, ...]\n",
              "Index: []\n",
              "\n",
              "[0 rows x 152 columns]"
            ]
          },
          "metadata": {
            "tags": []
          },
          "execution_count": 92
        }
      ]
    },
    {
      "cell_type": "code",
      "metadata": {
        "colab_type": "code",
        "id": "S1cLO9M9iCqZ",
        "colab": {}
      },
      "source": [
        "'''current_bdays['age'] = current_bdays['3.3 Birthdate'].apply(calculate_age)\n",
        "current_bdays['age2'] = current_bdays['3.3 Birthdate'].apply(calculate_age)'''\n",
        "current_bdays['turning'] = current_bdays['3.3 Birthdate'].apply(turning)\n"
      ],
      "execution_count": 0,
      "outputs": []
    },
    {
      "cell_type": "code",
      "metadata": {
        "colab_type": "code",
        "id": "lAZm-7mw17ih",
        "colab": {}
      },
      "source": [
        "bday_df = current_bdays[['3.1 FirstName', '3.1 LastName', '3.3 Birthdate','turning']].copy()"
      ],
      "execution_count": 0,
      "outputs": []
    },
    {
      "cell_type": "code",
      "metadata": {
        "colab_type": "code",
        "id": "NbHcOzWS33Vr",
        "colab": {}
      },
      "source": [
        "\n",
        "currentMonth = date.today().month\n",
        "currentMonth\n",
        "two_months = date.today().month + 2\n",
        "\n",
        "last_month = date.today().month - 1"
      ],
      "execution_count": 0,
      "outputs": []
    },
    {
      "cell_type": "code",
      "metadata": {
        "colab_type": "code",
        "id": "x5fU19SI26aq",
        "colab": {}
      },
      "source": [
        "bday_df['month'] = pd.DatetimeIndex(bday_df['3.3 Birthdate']).month\n",
        "bday_df['day'] = pd.DatetimeIndex(bday_df['3.3 Birthdate']).day"
      ],
      "execution_count": 0,
      "outputs": []
    },
    {
      "cell_type": "code",
      "metadata": {
        "colab_type": "code",
        "id": "VKS-kjRl7ob8",
        "colab": {}
      },
      "source": [
        "upcomming_bdays = bday_df[(bday_df['month'] > last_month) & (bday_df['month'] < two_months) ]"
      ],
      "execution_count": 0,
      "outputs": []
    },
    {
      "cell_type": "code",
      "metadata": {
        "colab_type": "code",
        "id": "26SyaaEJ85x0",
        "colab": {}
      },
      "source": [
        "upcomming_bdays.to_excel('/gdrive/My Drive/FPData.close_bdays.xlsx')"
      ],
      "execution_count": 0,
      "outputs": []
    },
    {
      "cell_type": "code",
      "metadata": {
        "colab_type": "code",
        "id": "1TbvLkQx-afZ",
        "outputId": "dd307475-f8c2-4b0f-c973-e30fd13447d2",
        "colab": {
          "base_uri": "https://localhost:8080/",
          "height": 49
        }
      },
      "source": [
        "upcomming_bdays"
      ],
      "execution_count": 99,
      "outputs": [
        {
          "output_type": "execute_result",
          "data": {
            "text/html": [
              "<div>\n",
              "<style scoped>\n",
              "    .dataframe tbody tr th:only-of-type {\n",
              "        vertical-align: middle;\n",
              "    }\n",
              "\n",
              "    .dataframe tbody tr th {\n",
              "        vertical-align: top;\n",
              "    }\n",
              "\n",
              "    .dataframe thead th {\n",
              "        text-align: right;\n",
              "    }\n",
              "</style>\n",
              "<table border=\"1\" class=\"dataframe\">\n",
              "  <thead>\n",
              "    <tr style=\"text-align: right;\">\n",
              "      <th></th>\n",
              "      <th>3.1 FirstName</th>\n",
              "      <th>3.1 LastName</th>\n",
              "      <th>3.3 Birthdate</th>\n",
              "      <th>turning</th>\n",
              "      <th>month</th>\n",
              "      <th>day</th>\n",
              "    </tr>\n",
              "  </thead>\n",
              "  <tbody>\n",
              "  </tbody>\n",
              "</table>\n",
              "</div>"
            ],
            "text/plain": [
              "Empty DataFrame\n",
              "Columns: [3.1 FirstName, 3.1 LastName, 3.3 Birthdate, turning, month, day]\n",
              "Index: []"
            ]
          },
          "metadata": {
            "tags": []
          },
          "execution_count": 99
        }
      ]
    },
    {
      "cell_type": "code",
      "metadata": {
        "colab_type": "code",
        "id": "7Oge-_F28Bgv",
        "colab": {}
      },
      "source": [
        "# create new list of those currently enrolled who haven't stayed with us for\n",
        "# two weeks or more\n",
        "\n",
        "\n",
        "\n",
        "current_date = date.today().isoformat()   \n",
        "days_before = (date.today()-timedelta(days=30)).isoformat()\n",
        "\n",
        "need_to_exit = currently_enrolled[currently_enrolled['Date of Last ES Stay (Beta)'] < days_before ]"
      ],
      "execution_count": 0,
      "outputs": []
    },
    {
      "cell_type": "code",
      "metadata": {
        "colab_type": "code",
        "id": "1-Hv8nAx8BmM",
        "colab": {}
      },
      "source": [
        "exit_df = need_to_exit[['3.1 FirstName', '3.1 LastName', '5.8 Personal ID', '5.9 Household ID', '3.15 Relationship to HoH', 'CaseMembers', '3.10 Enroll Date', 'Date of Last ES Stay (Beta)']].copy()"
      ],
      "execution_count": 0,
      "outputs": []
    },
    {
      "cell_type": "code",
      "metadata": {
        "colab_type": "code",
        "id": "rI3-Dz-k8Bq8",
        "colab": {}
      },
      "source": [
        "#exit_df.head()"
      ],
      "execution_count": 0,
      "outputs": []
    },
    {
      "cell_type": "code",
      "metadata": {
        "colab_type": "code",
        "id": "dQpA_ZiF8BvS",
        "colab": {}
      },
      "source": [
        "exit_df.to_excel('/gdrive/My Drive/FPData/YTD Data/YTDexit_df.xlsx')"
      ],
      "execution_count": 0,
      "outputs": []
    },
    {
      "cell_type": "code",
      "metadata": {
        "id": "YhCRq2wafMx7",
        "colab_type": "code",
        "colab": {
          "base_uri": "https://localhost:8080/",
          "height": 34
        },
        "outputId": "abf52e02-b25c-4c1f-a67c-44efe017492c"
      },
      "source": [
        "total_served = df['5.8 Personal ID']\n",
        "len(total_served)"
      ],
      "execution_count": 104,
      "outputs": [
        {
          "output_type": "execute_result",
          "data": {
            "text/plain": [
              "617"
            ]
          },
          "metadata": {
            "tags": []
          },
          "execution_count": 104
        }
      ]
    },
    {
      "cell_type": "code",
      "metadata": {
        "colab_type": "code",
        "id": "8VOFBGzR8CVj",
        "outputId": "9cf9cbfe-223f-4cbb-d77d-9ae8c147ff7e",
        "colab": {
          "base_uri": "https://localhost:8080/",
          "height": 34
        }
      },
      "source": [
        "households = df['5.9 Household ID'].unique()\n",
        "len(households)"
      ],
      "execution_count": 105,
      "outputs": [
        {
          "output_type": "execute_result",
          "data": {
            "text/plain": [
              "197"
            ]
          },
          "metadata": {
            "tags": []
          },
          "execution_count": 105
        }
      ]
    },
    {
      "cell_type": "code",
      "metadata": {
        "colab_type": "code",
        "id": "EOcPI0kS8CYt",
        "outputId": "861627b1-1f18-4edb-a937-63e09e8c722b",
        "colab": {
          "base_uri": "https://localhost:8080/",
          "height": 34
        }
      },
      "source": [
        "# print total number of families served (unduplicated)\n",
        "unique_households = df['5.9 Household ID'].nunique()\n",
        "unique_households"
      ],
      "execution_count": 106,
      "outputs": [
        {
          "output_type": "execute_result",
          "data": {
            "text/plain": [
              "197"
            ]
          },
          "metadata": {
            "tags": []
          },
          "execution_count": 106
        }
      ]
    },
    {
      "cell_type": "code",
      "metadata": {
        "colab_type": "code",
        "id": "Ww2Wyr8u8Cdr",
        "colab": {}
      },
      "source": [
        "#@title\n",
        "# replace zeros in data with \"Nan\" to calculate more accurate average bednights \n",
        "df['Count of Bed Nights (Housing Check-ins)'] = df['Count of Bed Nights (Housing Check-ins)'].replace(0, np.NaN)"
      ],
      "execution_count": 0,
      "outputs": []
    },
    {
      "cell_type": "code",
      "metadata": {
        "colab_type": "code",
        "id": "gCT761zT8Clg",
        "outputId": "d8115e06-f7a5-41de-83b5-1c08a0e9df74",
        "colab": {
          "base_uri": "https://localhost:8080/",
          "height": 34
        }
      },
      "source": [
        "avg_bn = df['Count of Bed Nights (Housing Check-ins)'].mean()\n",
        "avg_bn = round(avg_bn, 2)\n",
        "avg_bn"
      ],
      "execution_count": 108,
      "outputs": [
        {
          "output_type": "execute_result",
          "data": {
            "text/plain": [
              "40.44"
            ]
          },
          "metadata": {
            "tags": []
          },
          "execution_count": 108
        }
      ]
    },
    {
      "cell_type": "code",
      "metadata": {
        "id": "QZQ1rKG5fMyJ",
        "colab_type": "code",
        "colab": {
          "base_uri": "https://localhost:8080/",
          "height": 306
        },
        "outputId": "1432ba04-8971-48e1-a7ea-712eec6f9be6"
      },
      "source": [
        "df['3.12 Exit Destination'].value_counts()"
      ],
      "execution_count": 109,
      "outputs": [
        {
          "output_type": "execute_result",
          "data": {
            "text/plain": [
              "Emergency shelter, including hotel or motel paid for with emergency shelter voucher, or RHY-funded Host Home shelter             130\n",
              "Client refused                                                                                                                   111\n",
              "Rental by client, no ongoing housing subsidy                                                                                      68\n",
              "Rental by client, other ongoing housing subsidy                                                                                   41\n",
              "Rental by client with RRH or equivalent subsidy                                                                                   36\n",
              "Transitional Housing for homeless persons (including homeless youth)                                                              32\n",
              "No exit interview completed                                                                                                       23\n",
              "Place not meant for habitation (e.g., a vehicle, an abandoned building, bus/train/subway station/airport or anywhere outside)     22\n",
              "Staying or living with family, temporary tenure (e.g., room, apartment or house)                                                  19\n",
              "Staying or living with friends, temporary tenure (e.g., room, apartment or house)                                                 18\n",
              "Staying or living with family, permanent tenure                                                                                   13\n",
              "Hotel or Motel paid for without Emergency Shelter Voucher                                                                          4\n",
              "Substance Abuse Treatment or Detox Center                                                                                          2\n",
              "Foster Care Home or Foster Care Group Home                                                                                         1\n",
              "Permanent housing (other than RRH) for formerly homeless persons                                                                   1\n",
              "Owned by client, no ongoing housing subsidy                                                                                        1\n",
              "Name: 3.12 Exit Destination, dtype: int64"
            ]
          },
          "metadata": {
            "tags": []
          },
          "execution_count": 109
        }
      ]
    },
    {
      "cell_type": "code",
      "metadata": {
        "colab_type": "code",
        "id": "NJJ1W9hn8CoV",
        "colab": {}
      },
      "source": [
        "#@title\n",
        "\n",
        "exit_reasons = ['Rental by client with RRH or equivalent subsidy', \n",
        "                'Rental by client, no ongoing housing subsidy', \n",
        "                'Staying or living with family, permanent tenure', \n",
        "                'Rental by client, other ongoing housing subsidy',\n",
        "                'Permanent housing (other than RRH) for formerly homeless persons', \n",
        "                'Staying or living with friends, permanent tenure', \n",
        "                'Owned by client, with ongoing housing subsidy',\n",
        "                'Owned by client, no ongoing housing subsidy',\n",
        "                'Staying or living with friends, permanent tenure', \n",
        "                'Rental by client, VASH housing Subsidy'\n",
        "               ]\n",
        "\n",
        "temp_reasons = ['Staying or living with family, temporary tenure (e.g., room, apartment or house)', \n",
        "               'Staying or living with friends, temporary tenure (e.g., room, apartment or house)', \n",
        "                \n",
        "               ]"
      ],
      "execution_count": 0,
      "outputs": []
    },
    {
      "cell_type": "code",
      "metadata": {
        "colab_type": "code",
        "id": "pIrEISw18CrA",
        "colab": {}
      },
      "source": [
        "# drop rows with no exit destination (current guests at time of report)\n",
        "df = df.dropna(subset=['3.12 Exit Destination'])"
      ],
      "execution_count": 0,
      "outputs": []
    },
    {
      "cell_type": "code",
      "metadata": {
        "colab_type": "code",
        "id": "Ci8sM4b_8Cv7",
        "colab": {}
      },
      "source": [
        " # create target column (multiple types of exits to perm)\n",
        "df['perm_leaver'] = df['3.12 Exit Destination'].isin(exit_reasons)"
      ],
      "execution_count": 0,
      "outputs": []
    },
    {
      "cell_type": "code",
      "metadata": {
        "colab_type": "code",
        "id": "HLC9DJEB8C7V",
        "colab": {}
      },
      "source": [
        "#df.head()"
      ],
      "execution_count": 0,
      "outputs": []
    },
    {
      "cell_type": "code",
      "metadata": {
        "colab_type": "code",
        "id": "3iRsv5N08C-j",
        "colab": {}
      },
      "source": [
        "perm_leaver = df[df['perm_leaver'] == True]"
      ],
      "execution_count": 0,
      "outputs": []
    },
    {
      "cell_type": "code",
      "metadata": {
        "colab_type": "code",
        "id": "lwBgD1zh8DBm",
        "colab": {}
      },
      "source": [
        "total_perm = perm_leaver.perm_leaver.value_counts().sum()"
      ],
      "execution_count": 0,
      "outputs": []
    },
    {
      "cell_type": "code",
      "metadata": {
        "colab_type": "code",
        "id": "_zII61cfc5t8",
        "outputId": "a155c543-d56e-42c3-fae6-3a8c8fe580af",
        "colab": {
          "base_uri": "https://localhost:8080/",
          "height": 34
        }
      },
      "source": [
        "total_perm"
      ],
      "execution_count": 116,
      "outputs": [
        {
          "output_type": "execute_result",
          "data": {
            "text/plain": [
              "160"
            ]
          },
          "metadata": {
            "tags": []
          },
          "execution_count": 116
        }
      ]
    },
    {
      "cell_type": "code",
      "metadata": {
        "colab_type": "code",
        "id": "yK-iDD668DHl",
        "colab": {}
      },
      "source": [
        "non_perm = df[df['perm_leaver'] == False]"
      ],
      "execution_count": 0,
      "outputs": []
    },
    {
      "cell_type": "code",
      "metadata": {
        "colab_type": "code",
        "id": "9a0zHaiZ8C4v",
        "colab": {}
      },
      "source": [
        "total_non_perm = non_perm.perm_leaver.value_counts().sum()"
      ],
      "execution_count": 0,
      "outputs": []
    },
    {
      "cell_type": "code",
      "metadata": {
        "colab_type": "code",
        "id": "ga2WNYhi8C1o",
        "outputId": "540d94e7-f7b7-4186-f2e5-f93917dd27bd",
        "colab": {
          "base_uri": "https://localhost:8080/",
          "height": 34
        }
      },
      "source": [
        "total_non_perm"
      ],
      "execution_count": 119,
      "outputs": [
        {
          "output_type": "execute_result",
          "data": {
            "text/plain": [
              "362"
            ]
          },
          "metadata": {
            "tags": []
          },
          "execution_count": 119
        }
      ]
    },
    {
      "cell_type": "code",
      "metadata": {
        "colab_type": "code",
        "id": "AnSomhWI8Cy6",
        "colab": {}
      },
      "source": [
        "perm_percent = total_perm / (total_non_perm + total_perm)"
      ],
      "execution_count": 0,
      "outputs": []
    },
    {
      "cell_type": "code",
      "metadata": {
        "colab_type": "code",
        "id": "-xDehGC98Ctr",
        "outputId": "1e13a16d-c82c-4c1c-f179-d3d8e0d17be1",
        "colab": {
          "base_uri": "https://localhost:8080/",
          "height": 34
        }
      },
      "source": [
        "perm_percent = round(perm_percent, 2)*100\n",
        "perm_percent"
      ],
      "execution_count": 121,
      "outputs": [
        {
          "output_type": "execute_result",
          "data": {
            "text/plain": [
              "31.0"
            ]
          },
          "metadata": {
            "tags": []
          },
          "execution_count": 121
        }
      ]
    },
    {
      "cell_type": "code",
      "metadata": {
        "colab_type": "code",
        "id": "dxfX8Ui0ktEN",
        "outputId": "099c78e3-b3bd-4ac1-fa65-1a6fbec9fc33",
        "colab": {
          "base_uri": "https://localhost:8080/",
          "height": 306
        }
      },
      "source": [
        "df['3.12 Exit Destination'].value_counts()"
      ],
      "execution_count": 122,
      "outputs": [
        {
          "output_type": "execute_result",
          "data": {
            "text/plain": [
              "Emergency shelter, including hotel or motel paid for with emergency shelter voucher, or RHY-funded Host Home shelter             130\n",
              "Client refused                                                                                                                   111\n",
              "Rental by client, no ongoing housing subsidy                                                                                      68\n",
              "Rental by client, other ongoing housing subsidy                                                                                   41\n",
              "Rental by client with RRH or equivalent subsidy                                                                                   36\n",
              "Transitional Housing for homeless persons (including homeless youth)                                                              32\n",
              "No exit interview completed                                                                                                       23\n",
              "Place not meant for habitation (e.g., a vehicle, an abandoned building, bus/train/subway station/airport or anywhere outside)     22\n",
              "Staying or living with family, temporary tenure (e.g., room, apartment or house)                                                  19\n",
              "Staying or living with friends, temporary tenure (e.g., room, apartment or house)                                                 18\n",
              "Staying or living with family, permanent tenure                                                                                   13\n",
              "Hotel or Motel paid for without Emergency Shelter Voucher                                                                          4\n",
              "Substance Abuse Treatment or Detox Center                                                                                          2\n",
              "Foster Care Home or Foster Care Group Home                                                                                         1\n",
              "Permanent housing (other than RRH) for formerly homeless persons                                                                   1\n",
              "Owned by client, no ongoing housing subsidy                                                                                        1\n",
              "Name: 3.12 Exit Destination, dtype: int64"
            ]
          },
          "metadata": {
            "tags": []
          },
          "execution_count": 122
        }
      ]
    },
    {
      "cell_type": "code",
      "metadata": {
        "colab_type": "code",
        "id": "ynmpE_p58CjO",
        "colab": {}
      },
      "source": [
        "unknowns = ['Client refused', 'No exit interview completed']"
      ],
      "execution_count": 0,
      "outputs": []
    },
    {
      "cell_type": "code",
      "metadata": {
        "colab_type": "code",
        "id": "tL8XKevd8Cgm",
        "colab": {}
      },
      "source": [
        "unknown_df = df[df['3.12 Exit Destination'].isin(unknowns)]"
      ],
      "execution_count": 0,
      "outputs": []
    },
    {
      "cell_type": "code",
      "metadata": {
        "colab_type": "code",
        "id": "NwJi6Y9A8Cbh",
        "colab": {}
      },
      "source": [
        "unknown_exits = unknown_df['3.12 Exit Destination'].value_counts().sum()"
      ],
      "execution_count": 0,
      "outputs": []
    },
    {
      "cell_type": "code",
      "metadata": {
        "colab_type": "code",
        "id": "nV8o-guZ8CS_",
        "outputId": "3a547774-d78f-4fc0-a398-3d924f740951",
        "colab": {
          "base_uri": "https://localhost:8080/",
          "height": 34
        }
      },
      "source": [
        "unknown_exits"
      ],
      "execution_count": 126,
      "outputs": [
        {
          "output_type": "execute_result",
          "data": {
            "text/plain": [
              "134"
            ]
          },
          "metadata": {
            "tags": []
          },
          "execution_count": 126
        }
      ]
    },
    {
      "cell_type": "code",
      "metadata": {
        "colab_type": "code",
        "id": "AQwRPEhq8CQV",
        "outputId": "9e1bdbaa-a5c6-4104-d95c-eb5dad2b8276",
        "colab": {
          "base_uri": "https://localhost:8080/",
          "height": 34
        }
      },
      "source": [
        "unknown_percent = unknown_exits / total_non_perm\n",
        "unknown_percent = round(unknown_percent, 2) *100\n",
        "unknown_percent"
      ],
      "execution_count": 127,
      "outputs": [
        {
          "output_type": "execute_result",
          "data": {
            "text/plain": [
              "37.0"
            ]
          },
          "metadata": {
            "tags": []
          },
          "execution_count": 127
        }
      ]
    },
    {
      "cell_type": "code",
      "metadata": {
        "colab_type": "code",
        "id": "SYEDLNIGn8Fc",
        "outputId": "a7bf7f72-7e9e-4f74-e0e1-a2b7c9fe83cb",
        "colab": {
          "base_uri": "https://localhost:8080/",
          "height": 34
        }
      },
      "source": [
        "exits = df['3.12 Exit Destination'].value_counts().sum()\n",
        "exits"
      ],
      "execution_count": 128,
      "outputs": [
        {
          "output_type": "execute_result",
          "data": {
            "text/plain": [
              "522"
            ]
          },
          "metadata": {
            "tags": []
          },
          "execution_count": 128
        }
      ]
    },
    {
      "cell_type": "code",
      "metadata": {
        "colab_type": "code",
        "id": "NZsYPUDtngYj",
        "colab": {}
      },
      "source": [
        "exits = df['3.12 Exit Destination'].value_counts()"
      ],
      "execution_count": 0,
      "outputs": []
    },
    {
      "cell_type": "code",
      "metadata": {
        "colab_type": "code",
        "id": "qDCEy_ktnghb",
        "outputId": "cebd8173-6d05-4185-9765-0b633ff79609",
        "colab": {
          "base_uri": "https://localhost:8080/",
          "height": 34
        }
      },
      "source": [
        "# take sum of ES and Trans exits and divide by total exits, then multiply by 100 to get percentage\n",
        "esExits = exits['Emergency shelter, including hotel or motel paid for with emergency shelter voucher, or RHY-funded Host Home shelter'] \n",
        "#transExits = ((exits['Transitional Housing for homeless persons (including homeless youth)'] / exits.sum()) * 100)\n",
        "# round the answer to nearest hundreth place\n",
        "esExits = (round(esExits, 2))\n",
        "#transExits = (round(transExits, 2))\n",
        "esExits\n",
        "#print('Exits to Transitional',transExits,'%')"
      ],
      "execution_count": 130,
      "outputs": [
        {
          "output_type": "execute_result",
          "data": {
            "text/plain": [
              "130"
            ]
          },
          "metadata": {
            "tags": []
          },
          "execution_count": 130
        }
      ]
    },
    {
      "cell_type": "code",
      "metadata": {
        "colab_type": "code",
        "id": "Qn2DO8Ep_K4G",
        "outputId": "1979fa42-3ef0-43af-8c33-24374ccfb16b",
        "colab": {
          "base_uri": "https://localhost:8080/",
          "height": 34
        }
      },
      "source": [
        "tempExits = df['3.12 Exit Destination'].isin(temp_reasons).sum()\n",
        "\n",
        "tempExits"
      ],
      "execution_count": 131,
      "outputs": [
        {
          "output_type": "execute_result",
          "data": {
            "text/plain": [
              "37"
            ]
          },
          "metadata": {
            "tags": []
          },
          "execution_count": 131
        }
      ]
    },
    {
      "cell_type": "code",
      "metadata": {
        "colab_type": "code",
        "id": "kuUdutaLAgAN",
        "outputId": "f31534ec-aa8d-4535-876a-a7c4efdfc194",
        "colab": {
          "base_uri": "https://localhost:8080/",
          "height": 34
        }
      },
      "source": [
        "transitional = df['3.12 Exit Destination'] == 'Transitional Housing for homeless persons (including homeless youth)'\n",
        "transitional = transitional.sum()\n",
        "transitional"
      ],
      "execution_count": 132,
      "outputs": [
        {
          "output_type": "execute_result",
          "data": {
            "text/plain": [
              "32"
            ]
          },
          "metadata": {
            "tags": []
          },
          "execution_count": 132
        }
      ]
    },
    {
      "cell_type": "code",
      "metadata": {
        "colab_type": "code",
        "id": "Q6h_fTjKBUL3",
        "outputId": "94d4e9c7-91ae-48f6-ca46-8c4e017b90c4",
        "colab": {
          "base_uri": "https://localhost:8080/",
          "height": 34
        }
      },
      "source": [
        "exits.sum()"
      ],
      "execution_count": 133,
      "outputs": [
        {
          "output_type": "execute_result",
          "data": {
            "text/plain": [
              "522"
            ]
          },
          "metadata": {
            "tags": []
          },
          "execution_count": 133
        }
      ]
    },
    {
      "cell_type": "code",
      "metadata": {
        "colab_type": "code",
        "id": "0um1qmlPG_Vn",
        "colab": {}
      },
      "source": [
        "total_guests = total_non_perm + total_perm"
      ],
      "execution_count": 0,
      "outputs": []
    },
    {
      "cell_type": "code",
      "metadata": {
        "colab_type": "code",
        "id": "BnJ28vV-BEMp",
        "outputId": "65a62787-9c2b-4e28-f950-7c8f4ab672fe",
        "colab": {
          "base_uri": "https://localhost:8080/",
          "height": 34
        }
      },
      "source": [
        "trans_percent = (transitional / exits.sum())*100\n",
        "trans_percent = round(trans_percent, 2)\n",
        "trans_percent"
      ],
      "execution_count": 135,
      "outputs": [
        {
          "output_type": "execute_result",
          "data": {
            "text/plain": [
              "6.13"
            ]
          },
          "metadata": {
            "tags": []
          },
          "execution_count": 135
        }
      ]
    },
    {
      "cell_type": "code",
      "metadata": {
        "colab_type": "code",
        "id": "QMAxXsZsfCz7",
        "colab": {}
      },
      "source": [
        "#zips_master"
      ],
      "execution_count": 0,
      "outputs": []
    },
    {
      "cell_type": "code",
      "metadata": {
        "colab_type": "code",
        "id": "rJSaf-Synglo",
        "outputId": "586b09ff-cba7-4a7d-882a-e73a814f996a",
        "colab": {
          "base_uri": "https://localhost:8080/",
          "height": 731
        }
      },
      "source": [
        "# export zips into an excel sheet for Power BI visual\n",
        "zips_master = pd.read_excel('/gdrive/My Drive/FPData/uszips.xlsx')\n",
        "\n",
        "\n",
        "\n",
        "# Import pandas library \n",
        "import pandas as pd \n",
        "  \n",
        "# initialize list of lists \n",
        "zips_bi = df['V5 Zip'].value_counts().to_frame('Total').reset_index(level=0, inplace=False)\n",
        "zips_bi = zips_bi.rename(columns={\"index\": \"V5 Zip\"})\n",
        "zips_bi = zips_bi.merge(zips_master,on='V5 Zip')\n",
        "zips_bi['V5 City'].value_counts()"
      ],
      "execution_count": 137,
      "outputs": [
        {
          "output_type": "execute_result",
          "data": {
            "text/plain": [
              "Spokane           10\n",
              "Spokane Valley     5\n",
              "Mountain Home      2\n",
              "Puyallup           1\n",
              "Tacoma             1\n",
              "Cheney             1\n",
              "Windsor Mill       1\n",
              "South Bend         1\n",
              "Greenacres         1\n",
              "Salt Lake City     1\n",
              "Hoodsport          1\n",
              "Newport            1\n",
              "Vancouver          1\n",
              "Celina             1\n",
              "Bakersfield        1\n",
              "Colville           1\n",
              "Chewelah           1\n",
              "Kettle Falls       1\n",
              "Jensen Beach       1\n",
              "Browning           1\n",
              "Pullman            1\n",
              "Everett            1\n",
              "Santa Rosa         1\n",
              "Anderson           1\n",
              "Glendale           1\n",
              "Tillamook          1\n",
              "Williston          1\n",
              "Great Falls        1\n",
              "Nampa              1\n",
              "Wellpinit          1\n",
              "Omak               1\n",
              "Milwaukee          1\n",
              "Medical Lake       1\n",
              "Kennewick          1\n",
              "Lolo               1\n",
              "Ogden              1\n",
              "Deer Park          1\n",
              "Sprague            1\n",
              "Airway Heights     1\n",
              "Marrero            1\n",
              "Hemet              1\n",
              "Name: V5 City, dtype: int64"
            ]
          },
          "metadata": {
            "tags": []
          },
          "execution_count": 137
        }
      ]
    },
    {
      "cell_type": "code",
      "metadata": {
        "colab_type": "code",
        "id": "0tqQPx8jkcFZ",
        "outputId": "35db8e3c-83c5-4b90-eae0-4c5f66694761",
        "colab": {
          "base_uri": "https://localhost:8080/",
          "height": 34
        }
      },
      "source": [
        "type(zips_bi)"
      ],
      "execution_count": 138,
      "outputs": [
        {
          "output_type": "execute_result",
          "data": {
            "text/plain": [
              "pandas.core.frame.DataFrame"
            ]
          },
          "metadata": {
            "tags": []
          },
          "execution_count": 138
        }
      ]
    },
    {
      "cell_type": "code",
      "metadata": {
        "colab_type": "code",
        "id": "vrFpUs9TBWkG",
        "colab": {}
      },
      "source": [
        "zips_bi.to_excel('/gdrive/My Drive/FPData/YTD Data/weeklyYTDzips.xlsx', header=True, index=False)"
      ],
      "execution_count": 0,
      "outputs": []
    },
    {
      "cell_type": "code",
      "metadata": {
        "colab_type": "code",
        "id": "_DNkcjdUBS3b",
        "colab": {}
      },
      "source": [
        "other_reasons = ['Place not meant for habitation (e.g., a vehicle, an abandoned building, bus/train/subway station/airport or anywhere outside)',\n",
        "                 'Hotel or Motel paid for without Emergency Shelter Voucher', 'Other', 'Substance Abuse Treatment or Detox Center',\n",
        "                 'Foster Care Home or Foster Care Group Home', 'Psychiatric Hospital or Other Psychiatric Facility']"
      ],
      "execution_count": 0,
      "outputs": []
    },
    {
      "cell_type": "code",
      "metadata": {
        "id": "_M-chFx4fMzi",
        "colab_type": "code",
        "colab": {
          "base_uri": "https://localhost:8080/",
          "height": 306
        },
        "outputId": "166cfbfc-f119-4e08-952c-ec559f59e349"
      },
      "source": [
        "df['3.12 Exit Destination'].value_counts()"
      ],
      "execution_count": 141,
      "outputs": [
        {
          "output_type": "execute_result",
          "data": {
            "text/plain": [
              "Emergency shelter, including hotel or motel paid for with emergency shelter voucher, or RHY-funded Host Home shelter             130\n",
              "Client refused                                                                                                                   111\n",
              "Rental by client, no ongoing housing subsidy                                                                                      68\n",
              "Rental by client, other ongoing housing subsidy                                                                                   41\n",
              "Rental by client with RRH or equivalent subsidy                                                                                   36\n",
              "Transitional Housing for homeless persons (including homeless youth)                                                              32\n",
              "No exit interview completed                                                                                                       23\n",
              "Place not meant for habitation (e.g., a vehicle, an abandoned building, bus/train/subway station/airport or anywhere outside)     22\n",
              "Staying or living with family, temporary tenure (e.g., room, apartment or house)                                                  19\n",
              "Staying or living with friends, temporary tenure (e.g., room, apartment or house)                                                 18\n",
              "Staying or living with family, permanent tenure                                                                                   13\n",
              "Hotel or Motel paid for without Emergency Shelter Voucher                                                                          4\n",
              "Substance Abuse Treatment or Detox Center                                                                                          2\n",
              "Foster Care Home or Foster Care Group Home                                                                                         1\n",
              "Permanent housing (other than RRH) for formerly homeless persons                                                                   1\n",
              "Owned by client, no ongoing housing subsidy                                                                                        1\n",
              "Name: 3.12 Exit Destination, dtype: int64"
            ]
          },
          "metadata": {
            "tags": []
          },
          "execution_count": 141
        }
      ]
    },
    {
      "cell_type": "code",
      "metadata": {
        "colab_type": "code",
        "id": "4gWB-8-5KoH6",
        "colab": {}
      },
      "source": [
        "other = df['3.12 Exit Destination'].isin(other_reasons)"
      ],
      "execution_count": 0,
      "outputs": []
    },
    {
      "cell_type": "code",
      "metadata": {
        "colab_type": "code",
        "id": "q-tuRBUAKvGk",
        "outputId": "44265984-5405-4d2c-dd9b-b5fe9236b4bc",
        "colab": {
          "base_uri": "https://localhost:8080/",
          "height": 34
        }
      },
      "source": [
        "other.sum()\n",
        "other = other.sum()\n",
        "other"
      ],
      "execution_count": 143,
      "outputs": [
        {
          "output_type": "execute_result",
          "data": {
            "text/plain": [
              "29"
            ]
          },
          "metadata": {
            "tags": []
          },
          "execution_count": 143
        }
      ]
    },
    {
      "cell_type": "code",
      "metadata": {
        "colab_type": "code",
        "id": "X3E19k09pBGo",
        "outputId": "01d76264-90c9-4eb4-af60-9890245ca3e8",
        "colab": {
          "base_uri": "https://localhost:8080/",
          "height": 221
        }
      },
      "source": [
        "df['4.04.7 Private - Employer']"
      ],
      "execution_count": 144,
      "outputs": [
        {
          "output_type": "execute_result",
          "data": {
            "text/plain": [
              "0      No\n",
              "1      No\n",
              "2      No\n",
              "3      No\n",
              "4      No\n",
              "       ..\n",
              "569    No\n",
              "589    No\n",
              "590    No\n",
              "592    No\n",
              "593    No\n",
              "Name: 4.04.7 Private - Employer, Length: 522, dtype: object"
            ]
          },
          "metadata": {
            "tags": []
          },
          "execution_count": 144
        }
      ]
    },
    {
      "cell_type": "code",
      "metadata": {
        "colab_type": "code",
        "id": "h2RsCB-BKIcH",
        "outputId": "d17ce387-1dc3-4711-fa5c-205bd0b84464",
        "colab": {
          "base_uri": "https://localhost:8080/",
          "height": 306
        }
      },
      "source": [
        "df['3.12 Exit Destination'].value_counts()"
      ],
      "execution_count": 145,
      "outputs": [
        {
          "output_type": "execute_result",
          "data": {
            "text/plain": [
              "Emergency shelter, including hotel or motel paid for with emergency shelter voucher, or RHY-funded Host Home shelter             130\n",
              "Client refused                                                                                                                   111\n",
              "Rental by client, no ongoing housing subsidy                                                                                      68\n",
              "Rental by client, other ongoing housing subsidy                                                                                   41\n",
              "Rental by client with RRH or equivalent subsidy                                                                                   36\n",
              "Transitional Housing for homeless persons (including homeless youth)                                                              32\n",
              "No exit interview completed                                                                                                       23\n",
              "Place not meant for habitation (e.g., a vehicle, an abandoned building, bus/train/subway station/airport or anywhere outside)     22\n",
              "Staying or living with family, temporary tenure (e.g., room, apartment or house)                                                  19\n",
              "Staying or living with friends, temporary tenure (e.g., room, apartment or house)                                                 18\n",
              "Staying or living with family, permanent tenure                                                                                   13\n",
              "Hotel or Motel paid for without Emergency Shelter Voucher                                                                          4\n",
              "Substance Abuse Treatment or Detox Center                                                                                          2\n",
              "Foster Care Home or Foster Care Group Home                                                                                         1\n",
              "Permanent housing (other than RRH) for formerly homeless persons                                                                   1\n",
              "Owned by client, no ongoing housing subsidy                                                                                        1\n",
              "Name: 3.12 Exit Destination, dtype: int64"
            ]
          },
          "metadata": {
            "tags": []
          },
          "execution_count": 145
        }
      ]
    },
    {
      "cell_type": "code",
      "metadata": {
        "colab_type": "code",
        "id": "ZnbNsVKWCD1q",
        "outputId": "d580bebf-9ad6-4ec6-eeae-ac3fc6429cfb",
        "colab": {
          "base_uri": "https://localhost:8080/",
          "height": 170
        }
      },
      "source": [
        "print(total_guests, 'total guests served YTD')\n",
        "print(total_non_perm, 'total non perm leavers')\n",
        "print(total_perm, 'total perm leavers')\n",
        "print(esExits, 'total ES leavers')\n",
        "print(tempExits, 'total temp leavers')\n",
        "print(transitional, 'total trans leavers')\n",
        "print(other, 'total leavers to \"other\"')\n",
        "print(unknown_exits, 'total unknown leavers')\n",
        "print('sum of all groups to make sure it matches total served:',total_perm+esExits+tempExits+transitional+other+unknown_exits)"
      ],
      "execution_count": 146,
      "outputs": [
        {
          "output_type": "stream",
          "text": [
            "522 total guests served YTD\n",
            "362 total non perm leavers\n",
            "160 total perm leavers\n",
            "130 total ES leavers\n",
            "37 total temp leavers\n",
            "32 total trans leavers\n",
            "29 total leavers to \"other\"\n",
            "134 total unknown leavers\n",
            "sum of all groups to make sure it matches total served: 522\n"
          ],
          "name": "stdout"
        }
      ]
    },
    {
      "cell_type": "code",
      "metadata": {
        "colab_type": "code",
        "id": "PDZz_r2m9D7N",
        "outputId": "250f3a86-335d-45ec-d696-7c6ca91d89e1",
        "colab": {
          "base_uri": "https://localhost:8080/",
          "height": 34
        }
      },
      "source": [
        "total_perm+esExits+tempExits+transitional+other+unknown_exits"
      ],
      "execution_count": 147,
      "outputs": [
        {
          "output_type": "execute_result",
          "data": {
            "text/plain": [
              "522"
            ]
          },
          "metadata": {
            "tags": []
          },
          "execution_count": 147
        }
      ]
    },
    {
      "cell_type": "code",
      "metadata": {
        "id": "wmtchDiAfMzz",
        "colab_type": "code",
        "colab": {
          "base_uri": "https://localhost:8080/",
          "height": 34
        },
        "outputId": "4da33329-fb3d-4702-feb4-dd20e09f044c"
      },
      "source": [
        "total_perm+total_non_perm"
      ],
      "execution_count": 148,
      "outputs": [
        {
          "output_type": "execute_result",
          "data": {
            "text/plain": [
              "522"
            ]
          },
          "metadata": {
            "tags": []
          },
          "execution_count": 148
        }
      ]
    },
    {
      "cell_type": "code",
      "metadata": {
        "colab_type": "code",
        "id": "-4mmzx3ONuM_",
        "colab": {}
      },
      "source": [
        "assert((total_guests) == (total_perm+esExits+tempExits+transitional+other+unknown_exits))"
      ],
      "execution_count": 0,
      "outputs": []
    },
    {
      "cell_type": "code",
      "metadata": {
        "colab_type": "code",
        "id": "gTMhjHGZ9zO3",
        "outputId": "3f2f9dd7-2686-4b02-8f71-5db00636301a",
        "colab": {
          "base_uri": "https://localhost:8080/",
          "height": 34
        }
      },
      "source": [
        "'''perm_bi = '{} %'.format(perm_percent)\n",
        "es_bi = '{} %'.format(esExits)\n",
        "temp_bi = '{} %'.format(tempExits)\n",
        "trans_bi = '{} %'.format(trans_percent)\n",
        "unknown_bi = '{} %'.format(unknown_percent)'''"
      ],
      "execution_count": 150,
      "outputs": [
        {
          "output_type": "execute_result",
          "data": {
            "text/plain": [
              "\"perm_bi = '{} %'.format(perm_percent)\\nes_bi = '{} %'.format(esExits)\\ntemp_bi = '{} %'.format(tempExits)\\ntrans_bi = '{} %'.format(trans_percent)\\nunknown_bi = '{} %'.format(unknown_percent)\""
            ]
          },
          "metadata": {
            "tags": []
          },
          "execution_count": 150
        }
      ]
    },
    {
      "cell_type": "code",
      "metadata": {
        "colab_type": "code",
        "id": "xpHfeQp89zHH",
        "outputId": "a0e8124c-5cb6-49fa-f319-018a0ffeceaf",
        "colab": {
          "base_uri": "https://localhost:8080/",
          "height": 54
        }
      },
      "source": [
        "'''power_bi = pd.DataFrame({'Permanent Leavers': total_perm, 'Emergency Shelter Leavers': esExits, \n",
        "                         'Temporary Leavers': tempExits, 'Transitional Leavers': transitional, \n",
        "                         'Unknown Leavers': unknown_exits, 'Other Leavers': other, 'Total': total_guests }, index=[0])'''\n"
      ],
      "execution_count": 151,
      "outputs": [
        {
          "output_type": "execute_result",
          "data": {
            "text/plain": [
              "\"power_bi = pd.DataFrame({'Permanent Leavers': total_perm, 'Emergency Shelter Leavers': esExits, \\n                         'Temporary Leavers': tempExits, 'Transitional Leavers': transitional, \\n                         'Unknown Leavers': unknown_exits, 'Other Leavers': other, 'Total': total_guests }, index=[0])\""
            ]
          },
          "metadata": {
            "tags": []
          },
          "execution_count": 151
        }
      ]
    },
    {
      "cell_type": "code",
      "metadata": {
        "colab_type": "code",
        "id": "Ou9YSkX1TO_r",
        "colab": {}
      },
      "source": [
        "# Import pandas library \n",
        "import pandas as pd \n",
        "  \n",
        "# initialize list of lists \n",
        "data = [['Permanent Leavers', total_perm], ['Emergency Shelter Leavers', esExits], \n",
        "        ['Temporary Leavers', tempExits], ['Transitional Leavers', transitional],\n",
        "        ['Unknown Leavers', unknown_exits], ['Other Leavers', other]] \n",
        "  \n",
        "\n",
        "\n",
        "# Create the pandas DataFrame \n",
        "power_bi = pd.DataFrame(data, columns = ['Exit Destination', 'Total']) \n",
        "  \n",
        "# print dataframe. "
      ],
      "execution_count": 0,
      "outputs": []
    },
    {
      "cell_type": "code",
      "metadata": {
        "colab_type": "code",
        "id": "CwWzCqxbRwig",
        "outputId": "9cc7d119-13f5-4988-e63c-875b467555c5",
        "colab": {
          "base_uri": "https://localhost:8080/",
          "height": 235
        }
      },
      "source": [
        "power_bi"
      ],
      "execution_count": 153,
      "outputs": [
        {
          "output_type": "execute_result",
          "data": {
            "text/html": [
              "<div>\n",
              "<style scoped>\n",
              "    .dataframe tbody tr th:only-of-type {\n",
              "        vertical-align: middle;\n",
              "    }\n",
              "\n",
              "    .dataframe tbody tr th {\n",
              "        vertical-align: top;\n",
              "    }\n",
              "\n",
              "    .dataframe thead th {\n",
              "        text-align: right;\n",
              "    }\n",
              "</style>\n",
              "<table border=\"1\" class=\"dataframe\">\n",
              "  <thead>\n",
              "    <tr style=\"text-align: right;\">\n",
              "      <th></th>\n",
              "      <th>Exit Destination</th>\n",
              "      <th>Total</th>\n",
              "    </tr>\n",
              "  </thead>\n",
              "  <tbody>\n",
              "    <tr>\n",
              "      <th>0</th>\n",
              "      <td>Permanent Leavers</td>\n",
              "      <td>160</td>\n",
              "    </tr>\n",
              "    <tr>\n",
              "      <th>1</th>\n",
              "      <td>Emergency Shelter Leavers</td>\n",
              "      <td>130</td>\n",
              "    </tr>\n",
              "    <tr>\n",
              "      <th>2</th>\n",
              "      <td>Temporary Leavers</td>\n",
              "      <td>37</td>\n",
              "    </tr>\n",
              "    <tr>\n",
              "      <th>3</th>\n",
              "      <td>Transitional Leavers</td>\n",
              "      <td>32</td>\n",
              "    </tr>\n",
              "    <tr>\n",
              "      <th>4</th>\n",
              "      <td>Unknown Leavers</td>\n",
              "      <td>134</td>\n",
              "    </tr>\n",
              "    <tr>\n",
              "      <th>5</th>\n",
              "      <td>Other Leavers</td>\n",
              "      <td>29</td>\n",
              "    </tr>\n",
              "  </tbody>\n",
              "</table>\n",
              "</div>"
            ],
            "text/plain": [
              "            Exit Destination  Total\n",
              "0          Permanent Leavers    160\n",
              "1  Emergency Shelter Leavers    130\n",
              "2          Temporary Leavers     37\n",
              "3       Transitional Leavers     32\n",
              "4            Unknown Leavers    134\n",
              "5              Other Leavers     29"
            ]
          },
          "metadata": {
            "tags": []
          },
          "execution_count": 153
        }
      ]
    },
    {
      "cell_type": "code",
      "metadata": {
        "colab_type": "code",
        "id": "HKQjkUoWOIaX",
        "outputId": "cabee0ab-917a-4cae-db8f-d81e00f2e577",
        "colab": {
          "base_uri": "https://localhost:8080/",
          "height": 34
        }
      },
      "source": [
        "power_bi.Total.sum()"
      ],
      "execution_count": 154,
      "outputs": [
        {
          "output_type": "execute_result",
          "data": {
            "text/plain": [
              "522"
            ]
          },
          "metadata": {
            "tags": []
          },
          "execution_count": 154
        }
      ]
    },
    {
      "cell_type": "code",
      "metadata": {
        "colab_type": "code",
        "id": "xvlIe_kHDcf_",
        "colab": {}
      },
      "source": [
        "power_bi.to_excel('/gdrive/My Drive/FPData/YTD Data/YTDweeklyDataNew.xlsx')"
      ],
      "execution_count": 0,
      "outputs": []
    },
    {
      "cell_type": "code",
      "metadata": {
        "colab_type": "code",
        "id": "4LzqAInqz7Qi",
        "outputId": "d818133d-07e1-48e2-d14d-d0795418083a",
        "colab": {
          "base_uri": "https://localhost:8080/",
          "height": 34
        }
      },
      "source": [
        "df['3.12 Exit Destination'].value_counts().sum()"
      ],
      "execution_count": 156,
      "outputs": [
        {
          "output_type": "execute_result",
          "data": {
            "text/plain": [
              "522"
            ]
          },
          "metadata": {
            "tags": []
          },
          "execution_count": 156
        }
      ]
    },
    {
      "cell_type": "code",
      "metadata": {
        "colab_type": "code",
        "id": "_vbHYZfez8X1",
        "colab": {}
      },
      "source": [
        "assert(power_bi.Total.sum() == df['3.12 Exit Destination'].value_counts().sum())"
      ],
      "execution_count": 0,
      "outputs": []
    },
    {
      "cell_type": "code",
      "metadata": {
        "colab_type": "code",
        "id": "mvU3y79Nz8jK",
        "colab": {}
      },
      "source": [
        ""
      ],
      "execution_count": 0,
      "outputs": []
    }
  ]
}