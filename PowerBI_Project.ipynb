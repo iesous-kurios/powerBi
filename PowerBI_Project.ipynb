{
  "nbformat": 4,
  "nbformat_minor": 0,
  "metadata": {
    "colab": {
      "name": "PowerBI Project.ipynb",
      "provenance": [],
      "collapsed_sections": [],
      "include_colab_link": true
    },
    "kernelspec": {
      "display_name": "Python 3",
      "language": "python",
      "name": "python3"
    },
    "language_info": {
      "codemirror_mode": {
        "name": "ipython",
        "version": 3
      },
      "file_extension": ".py",
      "mimetype": "text/x-python",
      "name": "python",
      "nbconvert_exporter": "python",
      "pygments_lexer": "ipython3",
      "version": "3.7.1"
    }
  },
  "cells": [
    {
      "cell_type": "markdown",
      "metadata": {
        "id": "view-in-github",
        "colab_type": "text"
      },
      "source": [
        "<a href=\"https://colab.research.google.com/github/iesous-kurios/powerBi/blob/master/PowerBI_Project.ipynb\" target=\"_parent\"><img src=\"https://colab.research.google.com/assets/colab-badge.svg\" alt=\"Open In Colab\"/></a>"
      ]
    },
    {
      "cell_type": "code",
      "metadata": {
        "colab_type": "code",
        "id": "zjBsBizH7yB8",
        "colab": {
          "base_uri": "https://localhost:8080/",
          "height": 68
        },
        "outputId": "26e9ff49-8100-4b05-d94b-6117a099b550"
      },
      "source": [
        "#@title\n",
        "# import libraries which provide math functions to our data imports\n",
        "import statistics\n",
        "import numpy as np\n",
        "import pandas as pd\n",
        "import matplotlib.pyplot as plt\n",
        "import seaborn as sns\n",
        "import datetime\n",
        "from datetime import date, timedelta\n",
        "import matplotlib.pyplot as plt\n",
        "import matplotlib\n",
        "from matplotlib import style\n",
        "\n",
        "sns.__version__"
      ],
      "execution_count": 1,
      "outputs": [
        {
          "output_type": "stream",
          "text": [
            "/usr/local/lib/python3.6/dist-packages/statsmodels/tools/_testing.py:19: FutureWarning: pandas.util.testing is deprecated. Use the functions in the public API at pandas.testing instead.\n",
            "  import pandas.util.testing as tm\n"
          ],
          "name": "stderr"
        },
        {
          "output_type": "execute_result",
          "data": {
            "text/plain": [
              "'0.10.1'"
            ]
          },
          "metadata": {
            "tags": []
          },
          "execution_count": 1
        }
      ]
    },
    {
      "cell_type": "code",
      "metadata": {
        "id": "jzI6IJSWfMxF",
        "colab_type": "code",
        "colab": {
          "base_uri": "https://localhost:8080/",
          "height": 122
        },
        "outputId": "c2a07fee-d6cf-4391-9a8b-2aa45dd6fae3"
      },
      "source": [
        "from google.colab import drive\n",
        "drive.mount('/gdrive')"
      ],
      "execution_count": 2,
      "outputs": [
        {
          "output_type": "stream",
          "text": [
            "Go to this URL in a browser: https://accounts.google.com/o/oauth2/auth?client_id=947318989803-6bn6qk8qdgf4n4g3pfee6491hc0brc4i.apps.googleusercontent.com&redirect_uri=urn%3aietf%3awg%3aoauth%3a2.0%3aoob&response_type=code&scope=email%20https%3a%2f%2fwww.googleapis.com%2fauth%2fdocs.test%20https%3a%2f%2fwww.googleapis.com%2fauth%2fdrive%20https%3a%2f%2fwww.googleapis.com%2fauth%2fdrive.photos.readonly%20https%3a%2f%2fwww.googleapis.com%2fauth%2fpeopleapi.readonly\n",
            "\n",
            "Enter your authorization code:\n",
            "··········\n",
            "Mounted at /gdrive\n"
          ],
          "name": "stdout"
        }
      ]
    },
    {
      "cell_type": "code",
      "metadata": {
        "colab_type": "code",
        "id": "nousgp7Q8BWd",
        "colab": {}
      },
      "source": [
        "#@title\n",
        "# import weekly data from yearly FPS folder\n",
        "\n",
        "df = pd.read_excel('/gdrive/My Drive/FPData/YTD Data/updated_June18.xlsx', sheet_name=0)\n",
        "#df = pd.read_excel ('~/environments/fp_env/family_promise_data/data/ClientTrackExport (5).xlsx')"
      ],
      "execution_count": 3,
      "outputs": []
    },
    {
      "cell_type": "code",
      "metadata": {
        "colab_type": "code",
        "id": "mIeJ5QM88BbL",
        "colab": {}
      },
      "source": [
        "# get list of currently enrolled guests (guests that don't have an exit date)\n",
        "currently_enrolled = df[df['3.11 Exit Date'].isnull()]"
      ],
      "execution_count": 4,
      "outputs": []
    },
    {
      "cell_type": "code",
      "metadata": {
        "colab_type": "code",
        "id": "OELBYoSOTjdN",
        "colab": {
          "base_uri": "https://localhost:8080/",
          "height": 221
        },
        "outputId": "af79de0f-afdd-4104-ac46-4a655aff29c2"
      },
      "source": [
        "currently_enrolled['3.3 Birthdate'].value_counts()"
      ],
      "execution_count": 5,
      "outputs": [
        {
          "output_type": "execute_result",
          "data": {
            "text/plain": [
              "2009-01-01    2\n",
              "1978-01-01    2\n",
              "1980-01-01    2\n",
              "1987-06-06    1\n",
              "2018-03-25    1\n",
              "             ..\n",
              "2009-10-20    1\n",
              "2013-09-11    1\n",
              "2004-01-01    1\n",
              "1962-09-19    1\n",
              "2018-12-21    1\n",
              "Name: 3.3 Birthdate, Length: 93, dtype: int64"
            ]
          },
          "metadata": {
            "tags": []
          },
          "execution_count": 5
        }
      ]
    },
    {
      "cell_type": "code",
      "metadata": {
        "colab_type": "code",
        "id": "XS_yCsAx03rK",
        "colab": {}
      },
      "source": [
        "bdays_date = (date.today()-timedelta(days=15)).isoformat()\n",
        "current_bdays = currently_enrolled[currently_enrolled['Date of Last ES Stay (Beta)'] >= bdays_date ]"
      ],
      "execution_count": 6,
      "outputs": []
    },
    {
      "cell_type": "code",
      "metadata": {
        "colab_type": "code",
        "id": "y93VOxwff-Zh",
        "colab": {}
      },
      "source": [
        "from datetime import date\n",
        "\n",
        "def calculate_age(born):\n",
        "    today = date.today()\n",
        "    return today.year - born.year - ((today.month, today.day) < (born.month, born.day))"
      ],
      "execution_count": 7,
      "outputs": []
    },
    {
      "cell_type": "code",
      "metadata": {
        "colab_type": "code",
        "id": "-FslFWlqnLMy",
        "colab": {
          "base_uri": "https://localhost:8080/",
          "height": 34
        },
        "outputId": "e9cbd74f-ee5d-4b20-8bdf-aab8b5a8badc"
      },
      "source": [
        "# Python3 code to  calculate age in years \n",
        "from datetime import date \n",
        "  \n",
        "def turning(born): \n",
        "    today = date.today() \n",
        "    this_month = date.today().month\n",
        "    this_day = date.today()\n",
        "    try:  \n",
        "        birthday = born.replace(year = today.year) \n",
        "        birthmonth = born.replace(month = today.month)\n",
        "        birth_day = born.replace(day = today.day)\n",
        "  \n",
        "    # raised when birth date is February 29 \n",
        "    # and the current year is not a leap year \n",
        "    except ValueError:  \n",
        "        birthday = born.replace(year = today.year, \n",
        "                  month = this_month + 1, day = 1) \n",
        "  \n",
        "    if birthday > today:\n",
        "        birthmonth = born.month\n",
        "        if birthmonth == this_month:\n",
        "            if birth_day > this_day:\n",
        "                return today.year - born.year + 1\n",
        "            if birth_day <= this_day:\n",
        "                return today.year - born.year \n",
        "        else:\n",
        "            return today.year - born.year        \n",
        "\n",
        "    else: \n",
        "        return today.year - born.year \n",
        "          \n",
        "# Driver code \n",
        "print(turning(date(1997, 2, 3)), \"years\") "
      ],
      "execution_count": 8,
      "outputs": [
        {
          "output_type": "stream",
          "text": [
            "23 years\n"
          ],
          "name": "stdout"
        }
      ]
    },
    {
      "cell_type": "code",
      "metadata": {
        "id": "vreyOxHWfMxb",
        "colab_type": "code",
        "colab": {
          "base_uri": "https://localhost:8080/",
          "height": 678
        },
        "outputId": "d6a43e92-8877-4782-e65b-da9926200425"
      },
      "source": [
        "current_bdays.head()"
      ],
      "execution_count": 9,
      "outputs": [
        {
          "output_type": "execute_result",
          "data": {
            "text/html": [
              "<div>\n",
              "<style scoped>\n",
              "    .dataframe tbody tr th:only-of-type {\n",
              "        vertical-align: middle;\n",
              "    }\n",
              "\n",
              "    .dataframe tbody tr th {\n",
              "        vertical-align: top;\n",
              "    }\n",
              "\n",
              "    .dataframe thead th {\n",
              "        text-align: right;\n",
              "    }\n",
              "</style>\n",
              "<table border=\"1\" class=\"dataframe\">\n",
              "  <thead>\n",
              "    <tr style=\"text-align: right;\">\n",
              "      <th></th>\n",
              "      <th>2.1 Organization Name</th>\n",
              "      <th>2.2 Project Name</th>\n",
              "      <th>2.4 ProjectType</th>\n",
              "      <th>2.5 Utilization Tracking Method (Invalid)</th>\n",
              "      <th>2.6 Federal Grant Programs</th>\n",
              "      <th>Enrollment Created By</th>\n",
              "      <th>3.1 FirstName</th>\n",
              "      <th>3.1 LastName</th>\n",
              "      <th>5.8 Personal ID</th>\n",
              "      <th>5.9 Household ID</th>\n",
              "      <th>3.15 Relationship to HoH</th>\n",
              "      <th>3.16 Client Location</th>\n",
              "      <th>CaseMembers</th>\n",
              "      <th>3.10 Enroll Date</th>\n",
              "      <th>3.11 Exit Date</th>\n",
              "      <th>3.12 Exit Destination</th>\n",
              "      <th>3.2 SocSecNo</th>\n",
              "      <th>3.2 Social Security Quality</th>\n",
              "      <th>3.3 Birthdate</th>\n",
              "      <th>3.3 Birthdate Quality</th>\n",
              "      <th>Age at Enrollment</th>\n",
              "      <th>Current Age</th>\n",
              "      <th>3.4 Race</th>\n",
              "      <th>3.5 Ethnicity</th>\n",
              "      <th>3.6 Gender</th>\n",
              "      <th>3.7 Veteran Status</th>\n",
              "      <th>3.8 Disabling Condition at Entry</th>\n",
              "      <th>3.917 Living Situation</th>\n",
              "      <th>3.917b Stayed Less Than 7 Nights</th>\n",
              "      <th>3.917 Stayed Less Than 90 Days</th>\n",
              "      <th>3.917b Stayed in Streets, ES or SH Night Before</th>\n",
              "      <th>3.917 Length of Stay</th>\n",
              "      <th>3.917 Homeless Start Date</th>\n",
              "      <th>Length of Time Homeless (3.917 Approximate Start)</th>\n",
              "      <th>3.917 Times Homeless Last 3 Years</th>\n",
              "      <th>3.917 Total Months Homeless Last 3 Years</th>\n",
              "      <th>V5 Last Permanent Address</th>\n",
              "      <th>V5 Prior Address</th>\n",
              "      <th>V5 State</th>\n",
              "      <th>V5 Zip</th>\n",
              "      <th>...</th>\n",
              "      <th>CaseAdults</th>\n",
              "      <th>Bed Nights During Report Period</th>\n",
              "      <th>Count of Bed Nights - Entire Episode</th>\n",
              "      <th>HEN-HP Referral Most Recent</th>\n",
              "      <th>HEN-RRH Referral Most Recent</th>\n",
              "      <th>WorkSource Referral Most Recent</th>\n",
              "      <th>YAHP Referral Most Recent</th>\n",
              "      <th>4.04.10 Other Public</th>\n",
              "      <th>4.04.10 State Funded</th>\n",
              "      <th>4.04.11 Indian Health Services (IHS)</th>\n",
              "      <th>4.04.12 Other</th>\n",
              "      <th>4.04.3 Combined Childrens HealthInsurance/Medicaid</th>\n",
              "      <th>4.04.3 Medicaid</th>\n",
              "      <th>4.04.4 Medicare</th>\n",
              "      <th>4.04.5 State Children's health Insurance S-CHIP</th>\n",
              "      <th>4.04.6 Veteran's Administration Medical Services</th>\n",
              "      <th>4.04.8 Health Insurance obtained through COBRA</th>\n",
              "      <th>4.04.7 Private - Employer</th>\n",
              "      <th>4.04.9 Private</th>\n",
              "      <th>4.04.9 Private - Individual</th>\n",
              "      <th>4.2.3a Earned Income</th>\n",
              "      <th>4.2.4b Unemployment Insurance</th>\n",
              "      <th>4.2.5c Supplemental Security Income</th>\n",
              "      <th>4.2.6d Social Security Disability  Income</th>\n",
              "      <th>4.2.7e VA Disability Compensation</th>\n",
              "      <th>4.2.8f VA Disability Pension</th>\n",
              "      <th>4.2.9g Private Disability Income</th>\n",
              "      <th>4.2.10h Workers Compensation</th>\n",
              "      <th>4.2.11i TANF</th>\n",
              "      <th>4.2.12j General Assistance</th>\n",
              "      <th>4.2.13k Retirement (Social Security)</th>\n",
              "      <th>4.2.14l Pension from a Former Job</th>\n",
              "      <th>4.2.15m Child Support</th>\n",
              "      <th>4.2.16n Alimony</th>\n",
              "      <th>4.2.17o Other Income</th>\n",
              "      <th>Chronic Homeless Status_vHMISDatAssessment</th>\n",
              "      <th>Chronic Homeless Status_EvaluatevHMIS&amp;HMISDA</th>\n",
              "      <th>Email</th>\n",
              "      <th>HomePhone</th>\n",
              "      <th>WorkPhone</th>\n",
              "    </tr>\n",
              "  </thead>\n",
              "  <tbody>\n",
              "    <tr>\n",
              "      <th>254</th>\n",
              "      <td>Family Promise of Spokane</td>\n",
              "      <td>FPS--ES--Open Doors</td>\n",
              "      <td>Emergency shelter</td>\n",
              "      <td>Night-by-Night (nbn)</td>\n",
              "      <td>NaN</td>\n",
              "      <td>Kermit Nelson</td>\n",
              "      <td>Anonymous</td>\n",
              "      <td>Anonymous76618</td>\n",
              "      <td>76618</td>\n",
              "      <td>122926</td>\n",
              "      <td>Self</td>\n",
              "      <td>Spokane City &amp; County CoC</td>\n",
              "      <td>3</td>\n",
              "      <td>2019-10-26</td>\n",
              "      <td>NaT</td>\n",
              "      <td>NaN</td>\n",
              "      <td>NaN</td>\n",
              "      <td>Data not collected</td>\n",
              "      <td>1978-01-01</td>\n",
              "      <td>Approximate or Partial DOB Reported</td>\n",
              "      <td>41</td>\n",
              "      <td>42</td>\n",
              "      <td>White</td>\n",
              "      <td>Non-Hispanic/Latino</td>\n",
              "      <td>Male</td>\n",
              "      <td>No</td>\n",
              "      <td>Yes</td>\n",
              "      <td>Hotel or motel paid for without emergency shel...</td>\n",
              "      <td>NaN</td>\n",
              "      <td>NaN</td>\n",
              "      <td>NaN</td>\n",
              "      <td>One year or longer</td>\n",
              "      <td>2018-10-12</td>\n",
              "      <td>615.0</td>\n",
              "      <td>Two times</td>\n",
              "      <td>More than 12 months</td>\n",
              "      <td>Full address reported</td>\n",
              "      <td>3143 E 28th Ave</td>\n",
              "      <td>WA</td>\n",
              "      <td>99223.0</td>\n",
              "      <td>...</td>\n",
              "      <td>2</td>\n",
              "      <td>151.0</td>\n",
              "      <td>151.0</td>\n",
              "      <td>NaN</td>\n",
              "      <td>NaN</td>\n",
              "      <td>NaN</td>\n",
              "      <td>NaN</td>\n",
              "      <td>No</td>\n",
              "      <td>No</td>\n",
              "      <td>No</td>\n",
              "      <td>No</td>\n",
              "      <td>No</td>\n",
              "      <td>No</td>\n",
              "      <td>No</td>\n",
              "      <td>No</td>\n",
              "      <td>No</td>\n",
              "      <td>No</td>\n",
              "      <td>Yes</td>\n",
              "      <td>Yes</td>\n",
              "      <td>No</td>\n",
              "      <td>1800.0</td>\n",
              "      <td>0</td>\n",
              "      <td>0.0</td>\n",
              "      <td>0</td>\n",
              "      <td>0</td>\n",
              "      <td>0</td>\n",
              "      <td>0</td>\n",
              "      <td>0</td>\n",
              "      <td>0</td>\n",
              "      <td>0</td>\n",
              "      <td>0</td>\n",
              "      <td>0</td>\n",
              "      <td>0.0</td>\n",
              "      <td>0</td>\n",
              "      <td>0</td>\n",
              "      <td>1</td>\n",
              "      <td>1</td>\n",
              "      <td>NaN</td>\n",
              "      <td>NaN</td>\n",
              "      <td>NaN</td>\n",
              "    </tr>\n",
              "    <tr>\n",
              "      <th>255</th>\n",
              "      <td>Family Promise of Spokane</td>\n",
              "      <td>FPS--ES--Open Doors</td>\n",
              "      <td>Emergency shelter</td>\n",
              "      <td>Night-by-Night (nbn)</td>\n",
              "      <td>NaN</td>\n",
              "      <td>Kermit Nelson</td>\n",
              "      <td>Anonymous</td>\n",
              "      <td>Anonymous76619</td>\n",
              "      <td>76619</td>\n",
              "      <td>122926</td>\n",
              "      <td>Spouse</td>\n",
              "      <td>NaN</td>\n",
              "      <td>3</td>\n",
              "      <td>2019-10-26</td>\n",
              "      <td>NaT</td>\n",
              "      <td>NaN</td>\n",
              "      <td>NaN</td>\n",
              "      <td>Data not collected</td>\n",
              "      <td>1978-01-01</td>\n",
              "      <td>Approximate or Partial DOB Reported</td>\n",
              "      <td>41</td>\n",
              "      <td>42</td>\n",
              "      <td>White</td>\n",
              "      <td>Non-Hispanic/Latino</td>\n",
              "      <td>Female</td>\n",
              "      <td>No</td>\n",
              "      <td>Yes</td>\n",
              "      <td>Hotel or motel paid for without emergency shel...</td>\n",
              "      <td>NaN</td>\n",
              "      <td>NaN</td>\n",
              "      <td>NaN</td>\n",
              "      <td>One year or longer</td>\n",
              "      <td>2018-10-12</td>\n",
              "      <td>615.0</td>\n",
              "      <td>Two times</td>\n",
              "      <td>More than 12 months</td>\n",
              "      <td>NaN</td>\n",
              "      <td>NaN</td>\n",
              "      <td>NaN</td>\n",
              "      <td>NaN</td>\n",
              "      <td>...</td>\n",
              "      <td>2</td>\n",
              "      <td>151.0</td>\n",
              "      <td>151.0</td>\n",
              "      <td>NaN</td>\n",
              "      <td>NaN</td>\n",
              "      <td>NaN</td>\n",
              "      <td>NaN</td>\n",
              "      <td>No</td>\n",
              "      <td>Yes</td>\n",
              "      <td>No</td>\n",
              "      <td>No</td>\n",
              "      <td>No</td>\n",
              "      <td>No</td>\n",
              "      <td>No</td>\n",
              "      <td>No</td>\n",
              "      <td>No</td>\n",
              "      <td>No</td>\n",
              "      <td>No</td>\n",
              "      <td>No</td>\n",
              "      <td>No</td>\n",
              "      <td>0.0</td>\n",
              "      <td>0</td>\n",
              "      <td>0.0</td>\n",
              "      <td>0</td>\n",
              "      <td>0</td>\n",
              "      <td>0</td>\n",
              "      <td>0</td>\n",
              "      <td>0</td>\n",
              "      <td>0</td>\n",
              "      <td>0</td>\n",
              "      <td>0</td>\n",
              "      <td>0</td>\n",
              "      <td>200.0</td>\n",
              "      <td>0</td>\n",
              "      <td>0</td>\n",
              "      <td>1</td>\n",
              "      <td>1</td>\n",
              "      <td>NaN</td>\n",
              "      <td>NaN</td>\n",
              "      <td>NaN</td>\n",
              "    </tr>\n",
              "    <tr>\n",
              "      <th>256</th>\n",
              "      <td>Family Promise of Spokane</td>\n",
              "      <td>FPS--ES--Open Doors</td>\n",
              "      <td>Emergency shelter</td>\n",
              "      <td>Night-by-Night (nbn)</td>\n",
              "      <td>NaN</td>\n",
              "      <td>Kermit Nelson</td>\n",
              "      <td>Anonymous</td>\n",
              "      <td>Anonymous76620</td>\n",
              "      <td>76620</td>\n",
              "      <td>122926</td>\n",
              "      <td>Daughter</td>\n",
              "      <td>NaN</td>\n",
              "      <td>3</td>\n",
              "      <td>2019-10-26</td>\n",
              "      <td>NaT</td>\n",
              "      <td>NaN</td>\n",
              "      <td>NaN</td>\n",
              "      <td>Data not collected</td>\n",
              "      <td>2016-01-01</td>\n",
              "      <td>Approximate or Partial DOB Reported</td>\n",
              "      <td>3</td>\n",
              "      <td>4</td>\n",
              "      <td>White</td>\n",
              "      <td>Non-Hispanic/Latino</td>\n",
              "      <td>Female</td>\n",
              "      <td>NaN</td>\n",
              "      <td>No</td>\n",
              "      <td>NaN</td>\n",
              "      <td>NaN</td>\n",
              "      <td>NaN</td>\n",
              "      <td>NaN</td>\n",
              "      <td>NaN</td>\n",
              "      <td>NaT</td>\n",
              "      <td>NaN</td>\n",
              "      <td>NaN</td>\n",
              "      <td>NaN</td>\n",
              "      <td>NaN</td>\n",
              "      <td>NaN</td>\n",
              "      <td>NaN</td>\n",
              "      <td>NaN</td>\n",
              "      <td>...</td>\n",
              "      <td>2</td>\n",
              "      <td>151.0</td>\n",
              "      <td>151.0</td>\n",
              "      <td>NaN</td>\n",
              "      <td>NaN</td>\n",
              "      <td>NaN</td>\n",
              "      <td>NaN</td>\n",
              "      <td>No</td>\n",
              "      <td>No</td>\n",
              "      <td>No</td>\n",
              "      <td>No</td>\n",
              "      <td>No</td>\n",
              "      <td>No</td>\n",
              "      <td>No</td>\n",
              "      <td>No</td>\n",
              "      <td>No</td>\n",
              "      <td>No</td>\n",
              "      <td>Yes</td>\n",
              "      <td>Yes</td>\n",
              "      <td>No</td>\n",
              "      <td>0.0</td>\n",
              "      <td>0</td>\n",
              "      <td>0.0</td>\n",
              "      <td>0</td>\n",
              "      <td>0</td>\n",
              "      <td>0</td>\n",
              "      <td>0</td>\n",
              "      <td>0</td>\n",
              "      <td>0</td>\n",
              "      <td>0</td>\n",
              "      <td>0</td>\n",
              "      <td>0</td>\n",
              "      <td>0.0</td>\n",
              "      <td>0</td>\n",
              "      <td>0</td>\n",
              "      <td>0</td>\n",
              "      <td>0</td>\n",
              "      <td>NaN</td>\n",
              "      <td>NaN</td>\n",
              "      <td>NaN</td>\n",
              "    </tr>\n",
              "    <tr>\n",
              "      <th>299</th>\n",
              "      <td>Family Promise of Spokane</td>\n",
              "      <td>FPS--ES--Open Doors</td>\n",
              "      <td>Emergency shelter</td>\n",
              "      <td>Night-by-Night (nbn)</td>\n",
              "      <td>NaN</td>\n",
              "      <td>Kermit Nelson</td>\n",
              "      <td>Anden</td>\n",
              "      <td>Isak</td>\n",
              "      <td>97731</td>\n",
              "      <td>124767</td>\n",
              "      <td>Spouse</td>\n",
              "      <td>NaN</td>\n",
              "      <td>3</td>\n",
              "      <td>2019-11-23</td>\n",
              "      <td>NaT</td>\n",
              "      <td>NaN</td>\n",
              "      <td>586-13-0886</td>\n",
              "      <td>Full SSN</td>\n",
              "      <td>1977-02-11</td>\n",
              "      <td>Full DOB Reported</td>\n",
              "      <td>42</td>\n",
              "      <td>43</td>\n",
              "      <td>Native Hawaiian or Other Pacific Islander</td>\n",
              "      <td>Non-Hispanic/Latino</td>\n",
              "      <td>Male</td>\n",
              "      <td>No</td>\n",
              "      <td>No</td>\n",
              "      <td>Place not meant for habitation</td>\n",
              "      <td>NaN</td>\n",
              "      <td>NaN</td>\n",
              "      <td>NaN</td>\n",
              "      <td>One night or less</td>\n",
              "      <td>2019-11-21</td>\n",
              "      <td>210.0</td>\n",
              "      <td>Two times</td>\n",
              "      <td>2</td>\n",
              "      <td>NaN</td>\n",
              "      <td>NaN</td>\n",
              "      <td>NaN</td>\n",
              "      <td>NaN</td>\n",
              "      <td>...</td>\n",
              "      <td>2</td>\n",
              "      <td>205.0</td>\n",
              "      <td>205.0</td>\n",
              "      <td>NaN</td>\n",
              "      <td>NaN</td>\n",
              "      <td>NaN</td>\n",
              "      <td>NaN</td>\n",
              "      <td>No</td>\n",
              "      <td>Yes</td>\n",
              "      <td>No</td>\n",
              "      <td>No</td>\n",
              "      <td>No</td>\n",
              "      <td>No</td>\n",
              "      <td>No</td>\n",
              "      <td>No</td>\n",
              "      <td>No</td>\n",
              "      <td>No</td>\n",
              "      <td>No</td>\n",
              "      <td>No</td>\n",
              "      <td>No</td>\n",
              "      <td>0.0</td>\n",
              "      <td>0</td>\n",
              "      <td>0.0</td>\n",
              "      <td>0</td>\n",
              "      <td>0</td>\n",
              "      <td>0</td>\n",
              "      <td>0</td>\n",
              "      <td>0</td>\n",
              "      <td>0</td>\n",
              "      <td>0</td>\n",
              "      <td>0</td>\n",
              "      <td>0</td>\n",
              "      <td>0.0</td>\n",
              "      <td>0</td>\n",
              "      <td>0</td>\n",
              "      <td>0</td>\n",
              "      <td>0</td>\n",
              "      <td>NaN</td>\n",
              "      <td>NaN</td>\n",
              "      <td>NaN</td>\n",
              "    </tr>\n",
              "    <tr>\n",
              "      <th>300</th>\n",
              "      <td>Family Promise of Spokane</td>\n",
              "      <td>FPS--ES--Open Doors</td>\n",
              "      <td>Emergency shelter</td>\n",
              "      <td>Night-by-Night (nbn)</td>\n",
              "      <td>NaN</td>\n",
              "      <td>Kermit Nelson</td>\n",
              "      <td>Merlin</td>\n",
              "      <td>Poch</td>\n",
              "      <td>87438</td>\n",
              "      <td>124767</td>\n",
              "      <td>Self</td>\n",
              "      <td>Spokane City &amp; County CoC</td>\n",
              "      <td>3</td>\n",
              "      <td>2019-11-23</td>\n",
              "      <td>NaT</td>\n",
              "      <td>NaN</td>\n",
              "      <td>359-85-2382</td>\n",
              "      <td>Full SSN</td>\n",
              "      <td>1977-05-20</td>\n",
              "      <td>Full DOB Reported</td>\n",
              "      <td>42</td>\n",
              "      <td>43</td>\n",
              "      <td>Native Hawaiian or Other Pacific Islander</td>\n",
              "      <td>Non-Hispanic/Latino</td>\n",
              "      <td>Female</td>\n",
              "      <td>No</td>\n",
              "      <td>No</td>\n",
              "      <td>Place not meant for habitation</td>\n",
              "      <td>NaN</td>\n",
              "      <td>NaN</td>\n",
              "      <td>NaN</td>\n",
              "      <td>One night or less</td>\n",
              "      <td>2019-11-21</td>\n",
              "      <td>210.0</td>\n",
              "      <td>Two times</td>\n",
              "      <td>2</td>\n",
              "      <td>Full address reported</td>\n",
              "      <td>1111 W Shannon</td>\n",
              "      <td>WA</td>\n",
              "      <td>99205.0</td>\n",
              "      <td>...</td>\n",
              "      <td>2</td>\n",
              "      <td>207.0</td>\n",
              "      <td>207.0</td>\n",
              "      <td>NaN</td>\n",
              "      <td>NaN</td>\n",
              "      <td>NaN</td>\n",
              "      <td>NaN</td>\n",
              "      <td>No</td>\n",
              "      <td>Yes</td>\n",
              "      <td>No</td>\n",
              "      <td>No</td>\n",
              "      <td>No</td>\n",
              "      <td>No</td>\n",
              "      <td>No</td>\n",
              "      <td>No</td>\n",
              "      <td>No</td>\n",
              "      <td>No</td>\n",
              "      <td>No</td>\n",
              "      <td>No</td>\n",
              "      <td>No</td>\n",
              "      <td>1700.0</td>\n",
              "      <td>0</td>\n",
              "      <td>0.0</td>\n",
              "      <td>0</td>\n",
              "      <td>0</td>\n",
              "      <td>0</td>\n",
              "      <td>0</td>\n",
              "      <td>0</td>\n",
              "      <td>0</td>\n",
              "      <td>0</td>\n",
              "      <td>0</td>\n",
              "      <td>0</td>\n",
              "      <td>0.0</td>\n",
              "      <td>0</td>\n",
              "      <td>0</td>\n",
              "      <td>0</td>\n",
              "      <td>0</td>\n",
              "      <td>NaN</td>\n",
              "      <td>NaN</td>\n",
              "      <td>NaN</td>\n",
              "    </tr>\n",
              "  </tbody>\n",
              "</table>\n",
              "<p>5 rows × 152 columns</p>\n",
              "</div>"
            ],
            "text/plain": [
              "         2.1 Organization Name     2.2 Project Name  ... HomePhone WorkPhone\n",
              "254  Family Promise of Spokane  FPS--ES--Open Doors  ...       NaN       NaN\n",
              "255  Family Promise of Spokane  FPS--ES--Open Doors  ...       NaN       NaN\n",
              "256  Family Promise of Spokane  FPS--ES--Open Doors  ...       NaN       NaN\n",
              "299  Family Promise of Spokane  FPS--ES--Open Doors  ...       NaN       NaN\n",
              "300  Family Promise of Spokane  FPS--ES--Open Doors  ...       NaN       NaN\n",
              "\n",
              "[5 rows x 152 columns]"
            ]
          },
          "metadata": {
            "tags": []
          },
          "execution_count": 9
        }
      ]
    },
    {
      "cell_type": "code",
      "metadata": {
        "colab_type": "code",
        "id": "S1cLO9M9iCqZ",
        "colab": {
          "base_uri": "https://localhost:8080/",
          "height": 119
        },
        "outputId": "98457168-f8ee-4d26-cc62-e1dbcb2cf220"
      },
      "source": [
        "'''current_bdays['age'] = current_bdays['3.3 Birthdate'].apply(calculate_age)\n",
        "current_bdays['age2'] = current_bdays['3.3 Birthdate'].apply(calculate_age)'''\n",
        "current_bdays['turning'] = current_bdays['3.3 Birthdate'].apply(turning)\n"
      ],
      "execution_count": 75,
      "outputs": [
        {
          "output_type": "stream",
          "text": [
            "/usr/local/lib/python3.6/dist-packages/ipykernel_launcher.py:3: SettingWithCopyWarning: \n",
            "A value is trying to be set on a copy of a slice from a DataFrame.\n",
            "Try using .loc[row_indexer,col_indexer] = value instead\n",
            "\n",
            "See the caveats in the documentation: https://pandas.pydata.org/pandas-docs/stable/user_guide/indexing.html#returning-a-view-versus-a-copy\n",
            "  This is separate from the ipykernel package so we can avoid doing imports until\n"
          ],
          "name": "stderr"
        }
      ]
    },
    {
      "cell_type": "code",
      "metadata": {
        "colab_type": "code",
        "id": "lAZm-7mw17ih",
        "colab": {}
      },
      "source": [
        "bday_df = current_bdays[['3.1 FirstName', '3.1 LastName', '3.3 Birthdate','turning']].copy()"
      ],
      "execution_count": 11,
      "outputs": []
    },
    {
      "cell_type": "code",
      "metadata": {
        "colab_type": "code",
        "id": "NbHcOzWS33Vr",
        "colab": {}
      },
      "source": [
        "\n",
        "currentMonth = date.today().month\n",
        "currentMonth\n",
        "two_months = date.today().month + 2\n",
        "\n",
        "last_month = date.today().month - 1"
      ],
      "execution_count": 12,
      "outputs": []
    },
    {
      "cell_type": "code",
      "metadata": {
        "colab_type": "code",
        "id": "x5fU19SI26aq",
        "colab": {}
      },
      "source": [
        "bday_df['month'] = pd.DatetimeIndex(bday_df['3.3 Birthdate']).month\n",
        "bday_df['day'] = pd.DatetimeIndex(bday_df['3.3 Birthdate']).day"
      ],
      "execution_count": 13,
      "outputs": []
    },
    {
      "cell_type": "code",
      "metadata": {
        "colab_type": "code",
        "id": "VKS-kjRl7ob8",
        "colab": {}
      },
      "source": [
        "upcomming_bdays = bday_df[(bday_df['month'] > last_month) & (bday_df['month'] < two_months) ]"
      ],
      "execution_count": 14,
      "outputs": []
    },
    {
      "cell_type": "code",
      "metadata": {
        "colab_type": "code",
        "id": "26SyaaEJ85x0",
        "colab": {}
      },
      "source": [
        "upcomming_bdays.to_excel('/gdrive/My Drive/FPData.close_bdays.xlsx')"
      ],
      "execution_count": 15,
      "outputs": []
    },
    {
      "cell_type": "code",
      "metadata": {
        "colab_type": "code",
        "id": "1TbvLkQx-afZ",
        "colab": {
          "base_uri": "https://localhost:8080/",
          "height": 204
        },
        "outputId": "1aa4f302-a627-4983-da6b-f59f6683856c"
      },
      "source": [
        "upcomming_bdays"
      ],
      "execution_count": 16,
      "outputs": [
        {
          "output_type": "execute_result",
          "data": {
            "text/html": [
              "<div>\n",
              "<style scoped>\n",
              "    .dataframe tbody tr th:only-of-type {\n",
              "        vertical-align: middle;\n",
              "    }\n",
              "\n",
              "    .dataframe tbody tr th {\n",
              "        vertical-align: top;\n",
              "    }\n",
              "\n",
              "    .dataframe thead th {\n",
              "        text-align: right;\n",
              "    }\n",
              "</style>\n",
              "<table border=\"1\" class=\"dataframe\">\n",
              "  <thead>\n",
              "    <tr style=\"text-align: right;\">\n",
              "      <th></th>\n",
              "      <th>3.1 FirstName</th>\n",
              "      <th>3.1 LastName</th>\n",
              "      <th>3.3 Birthdate</th>\n",
              "      <th>turning</th>\n",
              "      <th>month</th>\n",
              "      <th>day</th>\n",
              "    </tr>\n",
              "  </thead>\n",
              "  <tbody>\n",
              "    <tr>\n",
              "      <th>301</th>\n",
              "      <td>T Merson</td>\n",
              "      <td>Doun</td>\n",
              "      <td>2014-06-06</td>\n",
              "      <td>6</td>\n",
              "      <td>6</td>\n",
              "      <td>6</td>\n",
              "    </tr>\n",
              "    <tr>\n",
              "      <th>404</th>\n",
              "      <td>Eric</td>\n",
              "      <td>Rideout</td>\n",
              "      <td>2003-06-01</td>\n",
              "      <td>17</td>\n",
              "      <td>6</td>\n",
              "      <td>1</td>\n",
              "    </tr>\n",
              "    <tr>\n",
              "      <th>503</th>\n",
              "      <td>Abigail Lea Fe</td>\n",
              "      <td>Striped Wolf</td>\n",
              "      <td>2015-06-01</td>\n",
              "      <td>5</td>\n",
              "      <td>6</td>\n",
              "      <td>1</td>\n",
              "    </tr>\n",
              "    <tr>\n",
              "      <th>505</th>\n",
              "      <td>Elizabeth</td>\n",
              "      <td>Green</td>\n",
              "      <td>1987-06-06</td>\n",
              "      <td>33</td>\n",
              "      <td>6</td>\n",
              "      <td>6</td>\n",
              "    </tr>\n",
              "    <tr>\n",
              "      <th>537</th>\n",
              "      <td>Deniko</td>\n",
              "      <td>Quintana</td>\n",
              "      <td>1997-06-04</td>\n",
              "      <td>23</td>\n",
              "      <td>6</td>\n",
              "      <td>4</td>\n",
              "    </tr>\n",
              "  </tbody>\n",
              "</table>\n",
              "</div>"
            ],
            "text/plain": [
              "      3.1 FirstName  3.1 LastName 3.3 Birthdate  turning  month  day\n",
              "301        T Merson          Doun    2014-06-06        6      6    6\n",
              "404            Eric       Rideout    2003-06-01       17      6    1\n",
              "503  Abigail Lea Fe  Striped Wolf    2015-06-01        5      6    1\n",
              "505       Elizabeth         Green    1987-06-06       33      6    6\n",
              "537          Deniko      Quintana    1997-06-04       23      6    4"
            ]
          },
          "metadata": {
            "tags": []
          },
          "execution_count": 16
        }
      ]
    },
    {
      "cell_type": "code",
      "metadata": {
        "colab_type": "code",
        "id": "7Oge-_F28Bgv",
        "colab": {}
      },
      "source": [
        "# create new list of those currently enrolled who haven't stayed with us for\n",
        "# two weeks or more\n",
        "\n",
        "\n",
        "\n",
        "current_date = date.today().isoformat()   \n",
        "days_before = (date.today()-timedelta(days=30)).isoformat()\n",
        "\n",
        "need_to_exit = currently_enrolled[currently_enrolled['Date of Last ES Stay (Beta)'] < days_before ]"
      ],
      "execution_count": 17,
      "outputs": []
    },
    {
      "cell_type": "code",
      "metadata": {
        "colab_type": "code",
        "id": "1-Hv8nAx8BmM",
        "colab": {}
      },
      "source": [
        "exit_df = need_to_exit[['3.1 FirstName', '3.1 LastName', '5.8 Personal ID', '5.9 Household ID', '3.15 Relationship to HoH', 'CaseMembers', '3.10 Enroll Date', 'Date of Last ES Stay (Beta)']].copy()"
      ],
      "execution_count": 18,
      "outputs": []
    },
    {
      "cell_type": "code",
      "metadata": {
        "colab_type": "code",
        "id": "rI3-Dz-k8Bq8",
        "colab": {}
      },
      "source": [
        "#exit_df.head()"
      ],
      "execution_count": 19,
      "outputs": []
    },
    {
      "cell_type": "code",
      "metadata": {
        "colab_type": "code",
        "id": "dQpA_ZiF8BvS",
        "colab": {}
      },
      "source": [
        "exit_df.to_excel('/gdrive/My Drive/FPData/YTD Data/YTDexit_df.xlsx')"
      ],
      "execution_count": 20,
      "outputs": []
    },
    {
      "cell_type": "code",
      "metadata": {
        "id": "YhCRq2wafMx7",
        "colab_type": "code",
        "colab": {
          "base_uri": "https://localhost:8080/",
          "height": 34
        },
        "outputId": "d61ea4fe-7423-41fc-d64e-548dd617293e"
      },
      "source": [
        "total_served = df['5.8 Personal ID']\n",
        "len(total_served)"
      ],
      "execution_count": 21,
      "outputs": [
        {
          "output_type": "execute_result",
          "data": {
            "text/plain": [
              "544"
            ]
          },
          "metadata": {
            "tags": []
          },
          "execution_count": 21
        }
      ]
    },
    {
      "cell_type": "code",
      "metadata": {
        "colab_type": "code",
        "id": "8VOFBGzR8CVj",
        "colab": {
          "base_uri": "https://localhost:8080/",
          "height": 34
        },
        "outputId": "06de7cc7-cbd7-4662-c78c-827c95d6cb65"
      },
      "source": [
        "households = df['5.9 Household ID'].unique()\n",
        "len(households)"
      ],
      "execution_count": 22,
      "outputs": [
        {
          "output_type": "execute_result",
          "data": {
            "text/plain": [
              "176"
            ]
          },
          "metadata": {
            "tags": []
          },
          "execution_count": 22
        }
      ]
    },
    {
      "cell_type": "code",
      "metadata": {
        "colab_type": "code",
        "id": "EOcPI0kS8CYt",
        "colab": {
          "base_uri": "https://localhost:8080/",
          "height": 34
        },
        "outputId": "289290fc-a2b6-43eb-8ca4-af897397483a"
      },
      "source": [
        "# print total number of families served (unduplicated)\n",
        "unique_households = df['5.9 Household ID'].nunique()\n",
        "unique_households"
      ],
      "execution_count": 23,
      "outputs": [
        {
          "output_type": "execute_result",
          "data": {
            "text/plain": [
              "176"
            ]
          },
          "metadata": {
            "tags": []
          },
          "execution_count": 23
        }
      ]
    },
    {
      "cell_type": "code",
      "metadata": {
        "colab_type": "code",
        "id": "Ww2Wyr8u8Cdr",
        "colab": {}
      },
      "source": [
        "#@title\n",
        "# replace zeros in data with \"Nan\" to calculate more accurate average bednights \n",
        "df['Count of Bed Nights (Housing Check-ins)'] = df['Count of Bed Nights (Housing Check-ins)'].replace(0, np.NaN)"
      ],
      "execution_count": 24,
      "outputs": []
    },
    {
      "cell_type": "code",
      "metadata": {
        "colab_type": "code",
        "id": "gCT761zT8Clg",
        "colab": {
          "base_uri": "https://localhost:8080/",
          "height": 34
        },
        "outputId": "858fc5a5-0f6b-48ab-bbf6-6e5f323a0fad"
      },
      "source": [
        "avg_bn = df['Count of Bed Nights (Housing Check-ins)'].mean()\n",
        "avg_bn = round(avg_bn, 2)\n",
        "avg_bn"
      ],
      "execution_count": 25,
      "outputs": [
        {
          "output_type": "execute_result",
          "data": {
            "text/plain": [
              "43.11"
            ]
          },
          "metadata": {
            "tags": []
          },
          "execution_count": 25
        }
      ]
    },
    {
      "cell_type": "code",
      "metadata": {
        "id": "QZQ1rKG5fMyJ",
        "colab_type": "code",
        "colab": {
          "base_uri": "https://localhost:8080/",
          "height": 323
        },
        "outputId": "0790c2c2-92e9-4797-ad33-a44f50445cc2"
      },
      "source": [
        "df['3.12 Exit Destination'].value_counts()"
      ],
      "execution_count": 26,
      "outputs": [
        {
          "output_type": "execute_result",
          "data": {
            "text/plain": [
              "Emergency shelter, including hotel or motel paid for with emergency shelter voucher, or RHY-funded Host Home shelter             119\n",
              "Rental by client, no ongoing housing subsidy                                                                                      69\n",
              "Rental by client, other ongoing housing subsidy                                                                                   53\n",
              "Client refused                                                                                                                    37\n",
              "Rental by client with RRH or equivalent subsidy                                                                                   25\n",
              "Transitional Housing for homeless persons (including homeless youth)                                                              23\n",
              "Staying or living with family, permanent tenure                                                                                   21\n",
              "Place not meant for habitation (e.g., a vehicle, an abandoned building, bus/train/subway station/airport or anywhere outside)     21\n",
              "No exit interview completed                                                                                                       20\n",
              "Staying or living with friends, temporary tenure (e.g., room, apartment or house)                                                 15\n",
              "Staying or living with friends, permanent tenure                                                                                  15\n",
              "Staying or living with family, temporary tenure (e.g., room, apartment or house)                                                  14\n",
              "Hotel or Motel paid for without Emergency Shelter Voucher                                                                          7\n",
              "Permanent housing (other than RRH) for formerly homeless persons                                                                   5\n",
              "Substance Abuse Treatment or Detox Center                                                                                          2\n",
              "Foster Care Home or Foster Care Group Home                                                                                         1\n",
              "Owned by client, no ongoing housing subsidy                                                                                        1\n",
              "Name: 3.12 Exit Destination, dtype: int64"
            ]
          },
          "metadata": {
            "tags": []
          },
          "execution_count": 26
        }
      ]
    },
    {
      "cell_type": "code",
      "metadata": {
        "colab_type": "code",
        "id": "NJJ1W9hn8CoV",
        "colab": {}
      },
      "source": [
        "#@title\n",
        "\n",
        "exit_reasons = ['Rental by client with RRH or equivalent subsidy', \n",
        "                'Rental by client, no ongoing housing subsidy', \n",
        "                'Staying or living with family, permanent tenure', \n",
        "                'Rental by client, other ongoing housing subsidy',\n",
        "                'Permanent housing (other than RRH) for formerly homeless persons', \n",
        "                'Staying or living with friends, permanent tenure', \n",
        "                'Owned by client, with ongoing housing subsidy',\n",
        "                'Owned by client, no ongoing housing subsidy',\n",
        "                'Staying or living with friends, permanent tenure', \n",
        "                'Rental by client, VASH housing Subsidy'\n",
        "               ]\n",
        "\n",
        "temp_reasons = ['Staying or living with family, temporary tenure (e.g., room, apartment or house)', \n",
        "               'Staying or living with friends, temporary tenure (e.g., room, apartment or house)', \n",
        "                \n",
        "               ]"
      ],
      "execution_count": 27,
      "outputs": []
    },
    {
      "cell_type": "code",
      "metadata": {
        "colab_type": "code",
        "id": "pIrEISw18CrA",
        "colab": {}
      },
      "source": [
        "# drop rows with no exit destination (current guests at time of report)\n",
        "df = df.dropna(subset=['3.12 Exit Destination'])"
      ],
      "execution_count": 28,
      "outputs": []
    },
    {
      "cell_type": "code",
      "metadata": {
        "colab_type": "code",
        "id": "Ci8sM4b_8Cv7",
        "colab": {}
      },
      "source": [
        " # create target column (multiple types of exits to perm)\n",
        "df['perm_leaver'] = df['3.12 Exit Destination'].isin(exit_reasons)"
      ],
      "execution_count": 29,
      "outputs": []
    },
    {
      "cell_type": "code",
      "metadata": {
        "colab_type": "code",
        "id": "HLC9DJEB8C7V",
        "colab": {}
      },
      "source": [
        "#df.head()"
      ],
      "execution_count": 30,
      "outputs": []
    },
    {
      "cell_type": "code",
      "metadata": {
        "colab_type": "code",
        "id": "3iRsv5N08C-j",
        "colab": {}
      },
      "source": [
        "perm_leaver = df[df['perm_leaver'] == True]"
      ],
      "execution_count": 31,
      "outputs": []
    },
    {
      "cell_type": "code",
      "metadata": {
        "colab_type": "code",
        "id": "lwBgD1zh8DBm",
        "colab": {}
      },
      "source": [
        "total_perm = perm_leaver.perm_leaver.value_counts().sum()"
      ],
      "execution_count": 32,
      "outputs": []
    },
    {
      "cell_type": "code",
      "metadata": {
        "colab_type": "code",
        "id": "_zII61cfc5t8",
        "colab": {
          "base_uri": "https://localhost:8080/",
          "height": 34
        },
        "outputId": "5766d220-5cf8-4b8d-da90-3ca27d1c1552"
      },
      "source": [
        "total_perm"
      ],
      "execution_count": 33,
      "outputs": [
        {
          "output_type": "execute_result",
          "data": {
            "text/plain": [
              "189"
            ]
          },
          "metadata": {
            "tags": []
          },
          "execution_count": 33
        }
      ]
    },
    {
      "cell_type": "code",
      "metadata": {
        "colab_type": "code",
        "id": "yK-iDD668DHl",
        "colab": {}
      },
      "source": [
        "non_perm = df[df['perm_leaver'] == False]"
      ],
      "execution_count": 34,
      "outputs": []
    },
    {
      "cell_type": "code",
      "metadata": {
        "colab_type": "code",
        "id": "9a0zHaiZ8C4v",
        "colab": {}
      },
      "source": [
        "total_non_perm = non_perm.perm_leaver.value_counts().sum()"
      ],
      "execution_count": 35,
      "outputs": []
    },
    {
      "cell_type": "code",
      "metadata": {
        "colab_type": "code",
        "id": "ga2WNYhi8C1o",
        "colab": {
          "base_uri": "https://localhost:8080/",
          "height": 34
        },
        "outputId": "86c759fa-658c-441c-b4ce-7409d53a5ded"
      },
      "source": [
        "total_non_perm"
      ],
      "execution_count": 36,
      "outputs": [
        {
          "output_type": "execute_result",
          "data": {
            "text/plain": [
              "259"
            ]
          },
          "metadata": {
            "tags": []
          },
          "execution_count": 36
        }
      ]
    },
    {
      "cell_type": "code",
      "metadata": {
        "colab_type": "code",
        "id": "AnSomhWI8Cy6",
        "colab": {}
      },
      "source": [
        "perm_percent = total_perm / (total_non_perm + total_perm)"
      ],
      "execution_count": 37,
      "outputs": []
    },
    {
      "cell_type": "code",
      "metadata": {
        "colab_type": "code",
        "id": "-xDehGC98Ctr",
        "colab": {
          "base_uri": "https://localhost:8080/",
          "height": 34
        },
        "outputId": "4eeff2bd-e9cf-40fb-994f-9cd3f0d6491b"
      },
      "source": [
        "perm_percent = round(perm_percent, 2)*100\n",
        "perm_percent"
      ],
      "execution_count": 38,
      "outputs": [
        {
          "output_type": "execute_result",
          "data": {
            "text/plain": [
              "42.0"
            ]
          },
          "metadata": {
            "tags": []
          },
          "execution_count": 38
        }
      ]
    },
    {
      "cell_type": "code",
      "metadata": {
        "colab_type": "code",
        "id": "dxfX8Ui0ktEN",
        "colab": {
          "base_uri": "https://localhost:8080/",
          "height": 323
        },
        "outputId": "c2193146-ef7c-4d4e-8df2-279ecf67caef"
      },
      "source": [
        "df['3.12 Exit Destination'].value_counts()"
      ],
      "execution_count": 39,
      "outputs": [
        {
          "output_type": "execute_result",
          "data": {
            "text/plain": [
              "Emergency shelter, including hotel or motel paid for with emergency shelter voucher, or RHY-funded Host Home shelter             119\n",
              "Rental by client, no ongoing housing subsidy                                                                                      69\n",
              "Rental by client, other ongoing housing subsidy                                                                                   53\n",
              "Client refused                                                                                                                    37\n",
              "Rental by client with RRH or equivalent subsidy                                                                                   25\n",
              "Transitional Housing for homeless persons (including homeless youth)                                                              23\n",
              "Staying or living with family, permanent tenure                                                                                   21\n",
              "Place not meant for habitation (e.g., a vehicle, an abandoned building, bus/train/subway station/airport or anywhere outside)     21\n",
              "No exit interview completed                                                                                                       20\n",
              "Staying or living with friends, temporary tenure (e.g., room, apartment or house)                                                 15\n",
              "Staying or living with friends, permanent tenure                                                                                  15\n",
              "Staying or living with family, temporary tenure (e.g., room, apartment or house)                                                  14\n",
              "Hotel or Motel paid for without Emergency Shelter Voucher                                                                          7\n",
              "Permanent housing (other than RRH) for formerly homeless persons                                                                   5\n",
              "Substance Abuse Treatment or Detox Center                                                                                          2\n",
              "Foster Care Home or Foster Care Group Home                                                                                         1\n",
              "Owned by client, no ongoing housing subsidy                                                                                        1\n",
              "Name: 3.12 Exit Destination, dtype: int64"
            ]
          },
          "metadata": {
            "tags": []
          },
          "execution_count": 39
        }
      ]
    },
    {
      "cell_type": "code",
      "metadata": {
        "colab_type": "code",
        "id": "ynmpE_p58CjO",
        "colab": {}
      },
      "source": [
        "unknowns = ['Client refused', 'No exit interview completed']"
      ],
      "execution_count": 40,
      "outputs": []
    },
    {
      "cell_type": "code",
      "metadata": {
        "colab_type": "code",
        "id": "tL8XKevd8Cgm",
        "colab": {}
      },
      "source": [
        "unknown_df = df[df['3.12 Exit Destination'].isin(unknowns)]"
      ],
      "execution_count": 41,
      "outputs": []
    },
    {
      "cell_type": "code",
      "metadata": {
        "colab_type": "code",
        "id": "NwJi6Y9A8Cbh",
        "colab": {}
      },
      "source": [
        "unknown_exits = unknown_df['3.12 Exit Destination'].value_counts().sum()"
      ],
      "execution_count": 42,
      "outputs": []
    },
    {
      "cell_type": "code",
      "metadata": {
        "colab_type": "code",
        "id": "nV8o-guZ8CS_",
        "colab": {
          "base_uri": "https://localhost:8080/",
          "height": 34
        },
        "outputId": "77883019-8c6e-4c52-ee28-68d22197204c"
      },
      "source": [
        "unknown_exits"
      ],
      "execution_count": 43,
      "outputs": [
        {
          "output_type": "execute_result",
          "data": {
            "text/plain": [
              "57"
            ]
          },
          "metadata": {
            "tags": []
          },
          "execution_count": 43
        }
      ]
    },
    {
      "cell_type": "code",
      "metadata": {
        "colab_type": "code",
        "id": "AQwRPEhq8CQV",
        "colab": {
          "base_uri": "https://localhost:8080/",
          "height": 34
        },
        "outputId": "06f94803-1479-437f-a823-0bfdbce47529"
      },
      "source": [
        "unknown_percent = unknown_exits / total_non_perm\n",
        "unknown_percent = round(unknown_percent, 2) *100\n",
        "unknown_percent"
      ],
      "execution_count": 44,
      "outputs": [
        {
          "output_type": "execute_result",
          "data": {
            "text/plain": [
              "22.0"
            ]
          },
          "metadata": {
            "tags": []
          },
          "execution_count": 44
        }
      ]
    },
    {
      "cell_type": "code",
      "metadata": {
        "colab_type": "code",
        "id": "SYEDLNIGn8Fc",
        "colab": {
          "base_uri": "https://localhost:8080/",
          "height": 34
        },
        "outputId": "429ecdc9-712f-4b06-d686-6891995497b3"
      },
      "source": [
        "exits = df['3.12 Exit Destination'].value_counts().sum()\n",
        "exits"
      ],
      "execution_count": 45,
      "outputs": [
        {
          "output_type": "execute_result",
          "data": {
            "text/plain": [
              "448"
            ]
          },
          "metadata": {
            "tags": []
          },
          "execution_count": 45
        }
      ]
    },
    {
      "cell_type": "code",
      "metadata": {
        "colab_type": "code",
        "id": "NZsYPUDtngYj",
        "colab": {}
      },
      "source": [
        "exits = df['3.12 Exit Destination'].value_counts()"
      ],
      "execution_count": 46,
      "outputs": []
    },
    {
      "cell_type": "code",
      "metadata": {
        "colab_type": "code",
        "id": "qDCEy_ktnghb",
        "colab": {
          "base_uri": "https://localhost:8080/",
          "height": 34
        },
        "outputId": "e06544a0-ac10-46e3-9121-d901d6b9b2e5"
      },
      "source": [
        "# take sum of ES and Trans exits and divide by total exits, then multiply by 100 to get percentage\n",
        "esExits = exits['Emergency shelter, including hotel or motel paid for with emergency shelter voucher, or RHY-funded Host Home shelter'] \n",
        "#transExits = ((exits['Transitional Housing for homeless persons (including homeless youth)'] / exits.sum()) * 100)\n",
        "# round the answer to nearest hundreth place\n",
        "esExits = (round(esExits, 2))\n",
        "#transExits = (round(transExits, 2))\n",
        "esExits\n",
        "#print('Exits to Transitional',transExits,'%')"
      ],
      "execution_count": 47,
      "outputs": [
        {
          "output_type": "execute_result",
          "data": {
            "text/plain": [
              "119"
            ]
          },
          "metadata": {
            "tags": []
          },
          "execution_count": 47
        }
      ]
    },
    {
      "cell_type": "code",
      "metadata": {
        "colab_type": "code",
        "id": "Qn2DO8Ep_K4G",
        "colab": {
          "base_uri": "https://localhost:8080/",
          "height": 34
        },
        "outputId": "fc345812-82b1-4c97-f411-04f1407ec527"
      },
      "source": [
        "tempExits = df['3.12 Exit Destination'].isin(temp_reasons).sum()\n",
        "\n",
        "tempExits"
      ],
      "execution_count": 48,
      "outputs": [
        {
          "output_type": "execute_result",
          "data": {
            "text/plain": [
              "29"
            ]
          },
          "metadata": {
            "tags": []
          },
          "execution_count": 48
        }
      ]
    },
    {
      "cell_type": "code",
      "metadata": {
        "colab_type": "code",
        "id": "kuUdutaLAgAN",
        "colab": {
          "base_uri": "https://localhost:8080/",
          "height": 34
        },
        "outputId": "44941f99-d9a9-4593-88fb-7808358f1918"
      },
      "source": [
        "transitional = df['3.12 Exit Destination'] == 'Transitional Housing for homeless persons (including homeless youth)'\n",
        "transitional = transitional.sum()\n",
        "transitional"
      ],
      "execution_count": 49,
      "outputs": [
        {
          "output_type": "execute_result",
          "data": {
            "text/plain": [
              "23"
            ]
          },
          "metadata": {
            "tags": []
          },
          "execution_count": 49
        }
      ]
    },
    {
      "cell_type": "code",
      "metadata": {
        "colab_type": "code",
        "id": "Q6h_fTjKBUL3",
        "colab": {
          "base_uri": "https://localhost:8080/",
          "height": 34
        },
        "outputId": "b55c36f0-457a-4ec7-cd56-efe5e2f1c52d"
      },
      "source": [
        "exits.sum()"
      ],
      "execution_count": 50,
      "outputs": [
        {
          "output_type": "execute_result",
          "data": {
            "text/plain": [
              "448"
            ]
          },
          "metadata": {
            "tags": []
          },
          "execution_count": 50
        }
      ]
    },
    {
      "cell_type": "code",
      "metadata": {
        "colab_type": "code",
        "id": "0um1qmlPG_Vn",
        "colab": {}
      },
      "source": [
        "total_guests = total_non_perm + total_perm"
      ],
      "execution_count": 51,
      "outputs": []
    },
    {
      "cell_type": "code",
      "metadata": {
        "colab_type": "code",
        "id": "BnJ28vV-BEMp",
        "colab": {
          "base_uri": "https://localhost:8080/",
          "height": 34
        },
        "outputId": "d7119151-48a6-4f9a-bb65-5fa977d57861"
      },
      "source": [
        "trans_percent = (transitional / exits.sum())*100\n",
        "trans_percent = round(trans_percent, 2)\n",
        "trans_percent"
      ],
      "execution_count": 52,
      "outputs": [
        {
          "output_type": "execute_result",
          "data": {
            "text/plain": [
              "5.13"
            ]
          },
          "metadata": {
            "tags": []
          },
          "execution_count": 52
        }
      ]
    },
    {
      "cell_type": "code",
      "metadata": {
        "colab_type": "code",
        "id": "QMAxXsZsfCz7",
        "colab": {}
      },
      "source": [
        "#zips_master"
      ],
      "execution_count": 53,
      "outputs": []
    },
    {
      "cell_type": "code",
      "metadata": {
        "colab_type": "code",
        "id": "rJSaf-Synglo",
        "colab": {
          "base_uri": "https://localhost:8080/",
          "height": 595
        },
        "outputId": "07bd5eb0-b934-4391-8ae5-07457bd84578"
      },
      "source": [
        "# export zips into an excel sheet for Power BI visual\n",
        "zips_master = pd.read_excel('/gdrive/My Drive/FPData/uszips.xlsx')\n",
        "\n",
        "\n",
        "\n",
        "# Import pandas library \n",
        "import pandas as pd \n",
        "  \n",
        "# initialize list of lists \n",
        "zips_bi = df['V5 Zip'].value_counts().to_frame('Total').reset_index(level=0, inplace=False)\n",
        "zips_bi = zips_bi.rename(columns={\"index\": \"V5 Zip\"})\n",
        "zips_bi = zips_bi.merge(zips_master,on='V5 Zip')\n",
        "zips_bi['V5 City'].value_counts()"
      ],
      "execution_count": 54,
      "outputs": [
        {
          "output_type": "execute_result",
          "data": {
            "text/plain": [
              "Spokane           10\n",
              "Spokane Valley     5\n",
              "Mountain Home      2\n",
              "Greenacres         1\n",
              "Colville           1\n",
              "Bakersfield        1\n",
              "Kennewick          1\n",
              "Phoenix            1\n",
              "Everett            1\n",
              "Pullman            1\n",
              "Cheney             1\n",
              "Tacoma             1\n",
              "Tillamook          1\n",
              "Salt Lake City     1\n",
              "Great Falls        1\n",
              "Hemet              1\n",
              "Wellpinit          1\n",
              "Browning           1\n",
              "Santa Rosa         1\n",
              "Deer Park          1\n",
              "Jensen Beach       1\n",
              "Airway Heights     1\n",
              "Hoodsport          1\n",
              "Chewelah           1\n",
              "Vancouver          1\n",
              "Medical Lake       1\n",
              "Lolo               1\n",
              "Sprague            1\n",
              "South Bend         1\n",
              "Omak               1\n",
              "Ogden              1\n",
              "Nampa              1\n",
              "Anderson           1\n",
              "Name: V5 City, dtype: int64"
            ]
          },
          "metadata": {
            "tags": []
          },
          "execution_count": 54
        }
      ]
    },
    {
      "cell_type": "code",
      "metadata": {
        "colab_type": "code",
        "id": "0tqQPx8jkcFZ",
        "colab": {
          "base_uri": "https://localhost:8080/",
          "height": 34
        },
        "outputId": "9eb6f39e-a04c-4b56-ef59-0d0fb974591e"
      },
      "source": [
        "type(zips_bi)"
      ],
      "execution_count": 55,
      "outputs": [
        {
          "output_type": "execute_result",
          "data": {
            "text/plain": [
              "pandas.core.frame.DataFrame"
            ]
          },
          "metadata": {
            "tags": []
          },
          "execution_count": 55
        }
      ]
    },
    {
      "cell_type": "code",
      "metadata": {
        "colab_type": "code",
        "id": "vrFpUs9TBWkG",
        "colab": {}
      },
      "source": [
        "zips_bi.to_excel('/gdrive/My Drive/FPData/YTD Data/weeklyYTDzips.xlsx', header=True, index=False)"
      ],
      "execution_count": 56,
      "outputs": []
    },
    {
      "cell_type": "code",
      "metadata": {
        "colab_type": "code",
        "id": "_DNkcjdUBS3b",
        "colab": {}
      },
      "source": [
        "other_reasons = ['Place not meant for habitation (e.g., a vehicle, an abandoned building, bus/train/subway station/airport or anywhere outside)',\n",
        "                 'Hotel or Motel paid for without Emergency Shelter Voucher', 'Other', 'Substance Abuse Treatment or Detox Center',\n",
        "                 'Foster Care Home or Foster Care Group Home', 'Psychiatric Hospital or Other Psychiatric Facility']"
      ],
      "execution_count": 57,
      "outputs": []
    },
    {
      "cell_type": "code",
      "metadata": {
        "id": "_M-chFx4fMzi",
        "colab_type": "code",
        "colab": {
          "base_uri": "https://localhost:8080/",
          "height": 323
        },
        "outputId": "eaeee482-e494-4d25-e3a2-9b43d6d9c50c"
      },
      "source": [
        "df['3.12 Exit Destination'].value_counts()"
      ],
      "execution_count": 58,
      "outputs": [
        {
          "output_type": "execute_result",
          "data": {
            "text/plain": [
              "Emergency shelter, including hotel or motel paid for with emergency shelter voucher, or RHY-funded Host Home shelter             119\n",
              "Rental by client, no ongoing housing subsidy                                                                                      69\n",
              "Rental by client, other ongoing housing subsidy                                                                                   53\n",
              "Client refused                                                                                                                    37\n",
              "Rental by client with RRH or equivalent subsidy                                                                                   25\n",
              "Transitional Housing for homeless persons (including homeless youth)                                                              23\n",
              "Staying or living with family, permanent tenure                                                                                   21\n",
              "Place not meant for habitation (e.g., a vehicle, an abandoned building, bus/train/subway station/airport or anywhere outside)     21\n",
              "No exit interview completed                                                                                                       20\n",
              "Staying or living with friends, temporary tenure (e.g., room, apartment or house)                                                 15\n",
              "Staying or living with friends, permanent tenure                                                                                  15\n",
              "Staying or living with family, temporary tenure (e.g., room, apartment or house)                                                  14\n",
              "Hotel or Motel paid for without Emergency Shelter Voucher                                                                          7\n",
              "Permanent housing (other than RRH) for formerly homeless persons                                                                   5\n",
              "Substance Abuse Treatment or Detox Center                                                                                          2\n",
              "Foster Care Home or Foster Care Group Home                                                                                         1\n",
              "Owned by client, no ongoing housing subsidy                                                                                        1\n",
              "Name: 3.12 Exit Destination, dtype: int64"
            ]
          },
          "metadata": {
            "tags": []
          },
          "execution_count": 58
        }
      ]
    },
    {
      "cell_type": "code",
      "metadata": {
        "colab_type": "code",
        "id": "4gWB-8-5KoH6",
        "colab": {}
      },
      "source": [
        "other = df['3.12 Exit Destination'].isin(other_reasons)"
      ],
      "execution_count": 59,
      "outputs": []
    },
    {
      "cell_type": "code",
      "metadata": {
        "colab_type": "code",
        "id": "q-tuRBUAKvGk",
        "colab": {
          "base_uri": "https://localhost:8080/",
          "height": 34
        },
        "outputId": "4d83a733-358c-4fab-f9b4-b76d583a2460"
      },
      "source": [
        "other.sum()\n",
        "other = other.sum()\n",
        "other"
      ],
      "execution_count": 60,
      "outputs": [
        {
          "output_type": "execute_result",
          "data": {
            "text/plain": [
              "31"
            ]
          },
          "metadata": {
            "tags": []
          },
          "execution_count": 60
        }
      ]
    },
    {
      "cell_type": "code",
      "metadata": {
        "colab_type": "code",
        "id": "X3E19k09pBGo",
        "colab": {
          "base_uri": "https://localhost:8080/",
          "height": 221
        },
        "outputId": "1704a692-1017-4025-f592-9b1f3def859e"
      },
      "source": [
        "df['4.04.7 Private - Employer']"
      ],
      "execution_count": 61,
      "outputs": [
        {
          "output_type": "execute_result",
          "data": {
            "text/plain": [
              "0      No\n",
              "1      No\n",
              "2      No\n",
              "3      No\n",
              "4      No\n",
              "       ..\n",
              "506    No\n",
              "521    No\n",
              "534    No\n",
              "535    No\n",
              "536    No\n",
              "Name: 4.04.7 Private - Employer, Length: 448, dtype: object"
            ]
          },
          "metadata": {
            "tags": []
          },
          "execution_count": 61
        }
      ]
    },
    {
      "cell_type": "code",
      "metadata": {
        "colab_type": "code",
        "id": "h2RsCB-BKIcH",
        "colab": {
          "base_uri": "https://localhost:8080/",
          "height": 323
        },
        "outputId": "cb75bb08-f0b1-46e8-c85d-14b131000cf4"
      },
      "source": [
        "df['3.12 Exit Destination'].value_counts()"
      ],
      "execution_count": 62,
      "outputs": [
        {
          "output_type": "execute_result",
          "data": {
            "text/plain": [
              "Emergency shelter, including hotel or motel paid for with emergency shelter voucher, or RHY-funded Host Home shelter             119\n",
              "Rental by client, no ongoing housing subsidy                                                                                      69\n",
              "Rental by client, other ongoing housing subsidy                                                                                   53\n",
              "Client refused                                                                                                                    37\n",
              "Rental by client with RRH or equivalent subsidy                                                                                   25\n",
              "Transitional Housing for homeless persons (including homeless youth)                                                              23\n",
              "Staying or living with family, permanent tenure                                                                                   21\n",
              "Place not meant for habitation (e.g., a vehicle, an abandoned building, bus/train/subway station/airport or anywhere outside)     21\n",
              "No exit interview completed                                                                                                       20\n",
              "Staying or living with friends, temporary tenure (e.g., room, apartment or house)                                                 15\n",
              "Staying or living with friends, permanent tenure                                                                                  15\n",
              "Staying or living with family, temporary tenure (e.g., room, apartment or house)                                                  14\n",
              "Hotel or Motel paid for without Emergency Shelter Voucher                                                                          7\n",
              "Permanent housing (other than RRH) for formerly homeless persons                                                                   5\n",
              "Substance Abuse Treatment or Detox Center                                                                                          2\n",
              "Foster Care Home or Foster Care Group Home                                                                                         1\n",
              "Owned by client, no ongoing housing subsidy                                                                                        1\n",
              "Name: 3.12 Exit Destination, dtype: int64"
            ]
          },
          "metadata": {
            "tags": []
          },
          "execution_count": 62
        }
      ]
    },
    {
      "cell_type": "code",
      "metadata": {
        "colab_type": "code",
        "id": "ZnbNsVKWCD1q",
        "colab": {
          "base_uri": "https://localhost:8080/",
          "height": 170
        },
        "outputId": "dfe32fd1-efa6-4946-f5d3-136e28af3f8b"
      },
      "source": [
        "print(total_guests, 'total guests served YTD')\n",
        "print(total_non_perm, 'total non perm leavers')\n",
        "print(total_perm, 'total perm leavers')\n",
        "print(esExits, 'total ES leavers')\n",
        "print(tempExits, 'total temp leavers')\n",
        "print(transitional, 'total trans leavers')\n",
        "print(other, 'total leavers to \"other\"')\n",
        "print(unknown_exits, 'total unknown leavers')\n",
        "print('sum of all groups to make sure it matches total served:',total_perm+esExits+tempExits+transitional+other+unknown_exits)"
      ],
      "execution_count": 63,
      "outputs": [
        {
          "output_type": "stream",
          "text": [
            "448 total guests served YTD\n",
            "259 total non perm leavers\n",
            "189 total perm leavers\n",
            "119 total ES leavers\n",
            "29 total temp leavers\n",
            "23 total trans leavers\n",
            "31 total leavers to \"other\"\n",
            "57 total unknown leavers\n",
            "sum of all groups to make sure it matches total served: 448\n"
          ],
          "name": "stdout"
        }
      ]
    },
    {
      "cell_type": "code",
      "metadata": {
        "colab_type": "code",
        "id": "PDZz_r2m9D7N",
        "colab": {
          "base_uri": "https://localhost:8080/",
          "height": 34
        },
        "outputId": "31e9168e-1d1b-4659-de89-d1601cfb43d0"
      },
      "source": [
        "total_perm+esExits+tempExits+transitional+other+unknown_exits"
      ],
      "execution_count": 64,
      "outputs": [
        {
          "output_type": "execute_result",
          "data": {
            "text/plain": [
              "448"
            ]
          },
          "metadata": {
            "tags": []
          },
          "execution_count": 64
        }
      ]
    },
    {
      "cell_type": "code",
      "metadata": {
        "id": "wmtchDiAfMzz",
        "colab_type": "code",
        "colab": {
          "base_uri": "https://localhost:8080/",
          "height": 34
        },
        "outputId": "ac04ce10-5157-4d27-83ee-d357cbbf0b9a"
      },
      "source": [
        "total_perm+total_non_perm"
      ],
      "execution_count": 65,
      "outputs": [
        {
          "output_type": "execute_result",
          "data": {
            "text/plain": [
              "448"
            ]
          },
          "metadata": {
            "tags": []
          },
          "execution_count": 65
        }
      ]
    },
    {
      "cell_type": "code",
      "metadata": {
        "id": "V8ZLKYhRMIPh",
        "colab_type": "code",
        "colab": {
          "base_uri": "https://localhost:8080/",
          "height": 34
        },
        "outputId": "b970f6d3-a06f-4c7d-e2c6-84012dc2ac33"
      },
      "source": [
        "total_perm / (total_perm + total_non_perm)"
      ],
      "execution_count": 76,
      "outputs": [
        {
          "output_type": "execute_result",
          "data": {
            "text/plain": [
              "0.421875"
            ]
          },
          "metadata": {
            "tags": []
          },
          "execution_count": 76
        }
      ]
    },
    {
      "cell_type": "code",
      "metadata": {
        "colab_type": "code",
        "id": "-4mmzx3ONuM_",
        "colab": {}
      },
      "source": [
        "assert((total_guests) == (total_perm+esExits+tempExits+transitional+other+unknown_exits))"
      ],
      "execution_count": 66,
      "outputs": []
    },
    {
      "cell_type": "code",
      "metadata": {
        "colab_type": "code",
        "id": "gTMhjHGZ9zO3",
        "colab": {
          "base_uri": "https://localhost:8080/",
          "height": 34
        },
        "outputId": "1c096a27-8f4b-45b3-a15f-4a5a694d7a74"
      },
      "source": [
        "'''perm_bi = '{} %'.format(perm_percent)\n",
        "es_bi = '{} %'.format(esExits)\n",
        "temp_bi = '{} %'.format(tempExits)\n",
        "trans_bi = '{} %'.format(trans_percent)\n",
        "unknown_bi = '{} %'.format(unknown_percent)'''"
      ],
      "execution_count": 67,
      "outputs": [
        {
          "output_type": "execute_result",
          "data": {
            "text/plain": [
              "\"perm_bi = '{} %'.format(perm_percent)\\nes_bi = '{} %'.format(esExits)\\ntemp_bi = '{} %'.format(tempExits)\\ntrans_bi = '{} %'.format(trans_percent)\\nunknown_bi = '{} %'.format(unknown_percent)\""
            ]
          },
          "metadata": {
            "tags": []
          },
          "execution_count": 67
        }
      ]
    },
    {
      "cell_type": "code",
      "metadata": {
        "colab_type": "code",
        "id": "xpHfeQp89zHH",
        "colab": {
          "base_uri": "https://localhost:8080/",
          "height": 54
        },
        "outputId": "e3df6cc0-b24e-41ef-8e87-67805168828b"
      },
      "source": [
        "'''power_bi = pd.DataFrame({'Permanent Leavers': total_perm, 'Emergency Shelter Leavers': esExits, \n",
        "                         'Temporary Leavers': tempExits, 'Transitional Leavers': transitional, \n",
        "                         'Unknown Leavers': unknown_exits, 'Other Leavers': other, 'Total': total_guests }, index=[0])'''\n"
      ],
      "execution_count": 68,
      "outputs": [
        {
          "output_type": "execute_result",
          "data": {
            "text/plain": [
              "\"power_bi = pd.DataFrame({'Permanent Leavers': total_perm, 'Emergency Shelter Leavers': esExits, \\n                         'Temporary Leavers': tempExits, 'Transitional Leavers': transitional, \\n                         'Unknown Leavers': unknown_exits, 'Other Leavers': other, 'Total': total_guests }, index=[0])\""
            ]
          },
          "metadata": {
            "tags": []
          },
          "execution_count": 68
        }
      ]
    },
    {
      "cell_type": "code",
      "metadata": {
        "colab_type": "code",
        "id": "Ou9YSkX1TO_r",
        "colab": {}
      },
      "source": [
        "# Import pandas library \n",
        "import pandas as pd \n",
        "  \n",
        "# initialize list of lists \n",
        "data = [['Permanent Leavers', total_perm], ['Emergency Shelter Leavers', esExits], \n",
        "        ['Temporary Leavers', tempExits], ['Transitional Leavers', transitional],\n",
        "        ['Unknown Leavers', unknown_exits], ['Other Leavers', other]] \n",
        "  \n",
        "\n",
        "\n",
        "# Create the pandas DataFrame \n",
        "power_bi = pd.DataFrame(data, columns = ['Exit Destination', 'Total']) \n",
        "  \n",
        "# print dataframe. "
      ],
      "execution_count": 69,
      "outputs": []
    },
    {
      "cell_type": "code",
      "metadata": {
        "colab_type": "code",
        "id": "CwWzCqxbRwig",
        "colab": {
          "base_uri": "https://localhost:8080/",
          "height": 235
        },
        "outputId": "7d73e195-e421-4722-9d9b-6fad1fbe50aa"
      },
      "source": [
        "power_bi"
      ],
      "execution_count": 70,
      "outputs": [
        {
          "output_type": "execute_result",
          "data": {
            "text/html": [
              "<div>\n",
              "<style scoped>\n",
              "    .dataframe tbody tr th:only-of-type {\n",
              "        vertical-align: middle;\n",
              "    }\n",
              "\n",
              "    .dataframe tbody tr th {\n",
              "        vertical-align: top;\n",
              "    }\n",
              "\n",
              "    .dataframe thead th {\n",
              "        text-align: right;\n",
              "    }\n",
              "</style>\n",
              "<table border=\"1\" class=\"dataframe\">\n",
              "  <thead>\n",
              "    <tr style=\"text-align: right;\">\n",
              "      <th></th>\n",
              "      <th>Exit Destination</th>\n",
              "      <th>Total</th>\n",
              "    </tr>\n",
              "  </thead>\n",
              "  <tbody>\n",
              "    <tr>\n",
              "      <th>0</th>\n",
              "      <td>Permanent Leavers</td>\n",
              "      <td>189</td>\n",
              "    </tr>\n",
              "    <tr>\n",
              "      <th>1</th>\n",
              "      <td>Emergency Shelter Leavers</td>\n",
              "      <td>119</td>\n",
              "    </tr>\n",
              "    <tr>\n",
              "      <th>2</th>\n",
              "      <td>Temporary Leavers</td>\n",
              "      <td>29</td>\n",
              "    </tr>\n",
              "    <tr>\n",
              "      <th>3</th>\n",
              "      <td>Transitional Leavers</td>\n",
              "      <td>23</td>\n",
              "    </tr>\n",
              "    <tr>\n",
              "      <th>4</th>\n",
              "      <td>Unknown Leavers</td>\n",
              "      <td>57</td>\n",
              "    </tr>\n",
              "    <tr>\n",
              "      <th>5</th>\n",
              "      <td>Other Leavers</td>\n",
              "      <td>31</td>\n",
              "    </tr>\n",
              "  </tbody>\n",
              "</table>\n",
              "</div>"
            ],
            "text/plain": [
              "            Exit Destination  Total\n",
              "0          Permanent Leavers    189\n",
              "1  Emergency Shelter Leavers    119\n",
              "2          Temporary Leavers     29\n",
              "3       Transitional Leavers     23\n",
              "4            Unknown Leavers     57\n",
              "5              Other Leavers     31"
            ]
          },
          "metadata": {
            "tags": []
          },
          "execution_count": 70
        }
      ]
    },
    {
      "cell_type": "code",
      "metadata": {
        "colab_type": "code",
        "id": "HKQjkUoWOIaX",
        "colab": {
          "base_uri": "https://localhost:8080/",
          "height": 34
        },
        "outputId": "735533ac-344a-471f-be38-d905fb5864ec"
      },
      "source": [
        "power_bi.Total.sum()"
      ],
      "execution_count": 71,
      "outputs": [
        {
          "output_type": "execute_result",
          "data": {
            "text/plain": [
              "448"
            ]
          },
          "metadata": {
            "tags": []
          },
          "execution_count": 71
        }
      ]
    },
    {
      "cell_type": "code",
      "metadata": {
        "colab_type": "code",
        "id": "xvlIe_kHDcf_",
        "colab": {}
      },
      "source": [
        "power_bi.to_excel('/gdrive/My Drive/FPData/YTD Data/YTDweeklyDataNew.xlsx')"
      ],
      "execution_count": 72,
      "outputs": []
    },
    {
      "cell_type": "code",
      "metadata": {
        "colab_type": "code",
        "id": "4LzqAInqz7Qi",
        "colab": {
          "base_uri": "https://localhost:8080/",
          "height": 34
        },
        "outputId": "d25b78c0-0cec-48da-cf36-d59779ed58c4"
      },
      "source": [
        "df['3.12 Exit Destination'].value_counts().sum()"
      ],
      "execution_count": 73,
      "outputs": [
        {
          "output_type": "execute_result",
          "data": {
            "text/plain": [
              "448"
            ]
          },
          "metadata": {
            "tags": []
          },
          "execution_count": 73
        }
      ]
    },
    {
      "cell_type": "code",
      "metadata": {
        "colab_type": "code",
        "id": "_vbHYZfez8X1",
        "colab": {}
      },
      "source": [
        "assert(power_bi.Total.sum() == df['3.12 Exit Destination'].value_counts().sum())"
      ],
      "execution_count": 74,
      "outputs": []
    },
    {
      "cell_type": "code",
      "metadata": {
        "colab_type": "code",
        "id": "mvU3y79Nz8jK",
        "colab": {}
      },
      "source": [
        ""
      ],
      "execution_count": 74,
      "outputs": []
    }
  ]
}