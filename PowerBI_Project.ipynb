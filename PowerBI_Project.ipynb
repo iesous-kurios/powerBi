{
  "nbformat": 4,
  "nbformat_minor": 0,
  "metadata": {
    "colab": {
      "name": "PowerBI Project.ipynb",
      "provenance": [],
      "collapsed_sections": [],
      "authorship_tag": "ABX9TyOihTFRBq8fiDIWIhgQKxF5",
      "include_colab_link": true
    },
    "kernelspec": {
      "name": "python3",
      "display_name": "Python 3"
    }
  },
  "cells": [
    {
      "cell_type": "markdown",
      "metadata": {
        "id": "view-in-github",
        "colab_type": "text"
      },
      "source": [
        "<a href=\"https://colab.research.google.com/github/iesous-kurios/powerBi/blob/master/PowerBI_Project.ipynb\" target=\"_parent\"><img src=\"https://colab.research.google.com/assets/colab-badge.svg\" alt=\"Open In Colab\"/></a>"
      ]
    },
    {
      "cell_type": "code",
      "metadata": {
        "id": "zjBsBizH7yB8",
        "colab_type": "code",
        "outputId": "5a84cf9a-51d6-4d50-885f-2b2806457752",
        "colab": {
          "base_uri": "https://localhost:8080/",
          "height": 34
        }
      },
      "source": [
        "#@title\n",
        "# import libraries which provide math functions to our data imports\n",
        "import statistics\n",
        "import numpy as np\n",
        "import pandas as pd\n",
        "import matplotlib.pyplot as plt\n",
        "import xlwt \n",
        "from xlwt import Workbook\n",
        "import seaborn as sns\n",
        "\n",
        "import matplotlib.pyplot as plt\n",
        "import matplotlib\n",
        "from matplotlib import style\n",
        "\n",
        "sns.__version__"
      ],
      "execution_count": 1,
      "outputs": [
        {
          "output_type": "execute_result",
          "data": {
            "text/plain": [
              "'0.10.0'"
            ]
          },
          "metadata": {
            "tags": []
          },
          "execution_count": 1
        }
      ]
    },
    {
      "cell_type": "code",
      "metadata": {
        "id": "Z6VNl226YorH",
        "colab_type": "code",
        "outputId": "b4728510-fa99-4035-d876-cb9d8b989a0f",
        "colab": {
          "base_uri": "https://localhost:8080/",
          "height": 121
        }
      },
      "source": [
        "from google.colab import drive\n",
        "drive.mount('/content/drive')"
      ],
      "execution_count": 2,
      "outputs": [
        {
          "output_type": "stream",
          "text": [
            "Go to this URL in a browser: https://accounts.google.com/o/oauth2/auth?client_id=947318989803-6bn6qk8qdgf4n4g3pfee6491hc0brc4i.apps.googleusercontent.com&redirect_uri=urn%3aietf%3awg%3aoauth%3a2.0%3aoob&response_type=code&scope=email%20https%3a%2f%2fwww.googleapis.com%2fauth%2fdocs.test%20https%3a%2f%2fwww.googleapis.com%2fauth%2fdrive%20https%3a%2f%2fwww.googleapis.com%2fauth%2fdrive.photos.readonly%20https%3a%2f%2fwww.googleapis.com%2fauth%2fpeopleapi.readonly\n",
            "\n",
            "Enter your authorization code:\n",
            "··········\n",
            "Mounted at /content/drive\n"
          ],
          "name": "stdout"
        }
      ]
    },
    {
      "cell_type": "code",
      "metadata": {
        "id": "nousgp7Q8BWd",
        "colab_type": "code",
        "colab": {}
      },
      "source": [
        "#@title\n",
        "# import weekly data from yearly FPS folder\n",
        "df = pd.read_excel('/content/drive/My Drive/FPData/YTD Data/FP_YTD_Mar_25.xlsx')\n",
        "#df = pd.read_excel ('~/environments/fp_env/family_promise_data/data/ClientTrackExport (5).xlsx')"
      ],
      "execution_count": 0,
      "outputs": []
    },
    {
      "cell_type": "code",
      "metadata": {
        "id": "mIeJ5QM88BbL",
        "colab_type": "code",
        "colab": {}
      },
      "source": [
        "# get list of currently enrolled guests (guests that don't have an exit date)\n",
        "currently_enrolled = df[df['3.11 Exit Date'].isnull()]"
      ],
      "execution_count": 0,
      "outputs": []
    },
    {
      "cell_type": "code",
      "metadata": {
        "id": "OELBYoSOTjdN",
        "colab_type": "code",
        "colab": {
          "base_uri": "https://localhost:8080/",
          "height": 218
        },
        "outputId": "0829744a-6b30-45cb-9416-a47a2f713f64"
      },
      "source": [
        "currently_enrolled['3.3 Birthdate'].value_counts()"
      ],
      "execution_count": 64,
      "outputs": [
        {
          "output_type": "execute_result",
          "data": {
            "text/plain": [
              "2018-01-01    2\n",
              "2008-10-12    1\n",
              "2008-04-03    1\n",
              "2007-06-22    1\n",
              "1981-07-04    1\n",
              "             ..\n",
              "1980-01-01    1\n",
              "1988-03-04    1\n",
              "2018-04-09    1\n",
              "1993-01-01    1\n",
              "2018-12-21    1\n",
              "Name: 3.3 Birthdate, Length: 130, dtype: int64"
            ]
          },
          "metadata": {
            "tags": []
          },
          "execution_count": 64
        }
      ]
    },
    {
      "cell_type": "code",
      "metadata": {
        "id": "XS_yCsAx03rK",
        "colab_type": "code",
        "colab": {}
      },
      "source": [
        "bdays_date = (date.today()-timedelta(days=15)).isoformat()\n",
        "current_bdays = currently_enrolled[currently_enrolled['Date of Last ES Stay (Beta)'] >= bdays_date ]"
      ],
      "execution_count": 0,
      "outputs": []
    },
    {
      "cell_type": "code",
      "metadata": {
        "id": "lAZm-7mw17ih",
        "colab_type": "code",
        "colab": {}
      },
      "source": [
        "bday_df = current_bdays[['3.1 FirstName', '3.1 LastName', '3.3 Birthdate','5.8 Personal ID']].copy()"
      ],
      "execution_count": 0,
      "outputs": []
    },
    {
      "cell_type": "code",
      "metadata": {
        "id": "NbHcOzWS33Vr",
        "colab_type": "code",
        "colab": {}
      },
      "source": [
        "import datetime\n",
        "currentMonth = date.today().month\n",
        "currentMonth\n",
        "two_months = date.today().month + 2\n",
        "next_month\n",
        "last_month = date.today().month - 1"
      ],
      "execution_count": 0,
      "outputs": []
    },
    {
      "cell_type": "code",
      "metadata": {
        "id": "x5fU19SI26aq",
        "colab_type": "code",
        "colab": {}
      },
      "source": [
        "bday_df['month'] = pd.DatetimeIndex(bday_df['3.3 Birthdate']).month\n",
        "bday_df['day'] = pd.DatetimeIndex(bday_df['3.3 Birthdate']).day"
      ],
      "execution_count": 0,
      "outputs": []
    },
    {
      "cell_type": "code",
      "metadata": {
        "id": "VKS-kjRl7ob8",
        "colab_type": "code",
        "colab": {}
      },
      "source": [
        "upcomming_bdays = bday_df[(bday_df['month'] > last_month) & (bday_df['month'] < two_months) ]"
      ],
      "execution_count": 0,
      "outputs": []
    },
    {
      "cell_type": "code",
      "metadata": {
        "id": "26SyaaEJ85x0",
        "colab_type": "code",
        "colab": {}
      },
      "source": [
        "upcomming_bdays.to_excel('/content/drive/My Drive/FPData.close_bdays.xlsx')"
      ],
      "execution_count": 0,
      "outputs": []
    },
    {
      "cell_type": "code",
      "metadata": {
        "id": "1TbvLkQx-afZ",
        "colab_type": "code",
        "colab": {
          "base_uri": "https://localhost:8080/",
          "height": 195
        },
        "outputId": "80671155-0b5c-4574-cd7c-bd11e9749e73"
      },
      "source": [
        "upcomming_bdays"
      ],
      "execution_count": 131,
      "outputs": [
        {
          "output_type": "execute_result",
          "data": {
            "text/html": [
              "<div>\n",
              "<style scoped>\n",
              "    .dataframe tbody tr th:only-of-type {\n",
              "        vertical-align: middle;\n",
              "    }\n",
              "\n",
              "    .dataframe tbody tr th {\n",
              "        vertical-align: top;\n",
              "    }\n",
              "\n",
              "    .dataframe thead th {\n",
              "        text-align: right;\n",
              "    }\n",
              "</style>\n",
              "<table border=\"1\" class=\"dataframe\">\n",
              "  <thead>\n",
              "    <tr style=\"text-align: right;\">\n",
              "      <th></th>\n",
              "      <th>3.1 FirstName</th>\n",
              "      <th>3.1 LastName</th>\n",
              "      <th>3.3 Birthdate</th>\n",
              "      <th>5.8 Personal ID</th>\n",
              "      <th>month</th>\n",
              "      <th>day</th>\n",
              "    </tr>\n",
              "  </thead>\n",
              "  <tbody>\n",
              "    <tr>\n",
              "      <th>509</th>\n",
              "      <td>Alan</td>\n",
              "      <td>Kroiss</td>\n",
              "      <td>1996-03-01</td>\n",
              "      <td>89515</td>\n",
              "      <td>3</td>\n",
              "      <td>1</td>\n",
              "    </tr>\n",
              "    <tr>\n",
              "      <th>600</th>\n",
              "      <td>Michael</td>\n",
              "      <td>Kelly</td>\n",
              "      <td>1991-03-19</td>\n",
              "      <td>98295</td>\n",
              "      <td>3</td>\n",
              "      <td>19</td>\n",
              "    </tr>\n",
              "    <tr>\n",
              "      <th>644</th>\n",
              "      <td>Kharina</td>\n",
              "      <td>Madison</td>\n",
              "      <td>2018-04-09</td>\n",
              "      <td>83939</td>\n",
              "      <td>4</td>\n",
              "      <td>9</td>\n",
              "    </tr>\n",
              "    <tr>\n",
              "      <th>662</th>\n",
              "      <td>Amber</td>\n",
              "      <td>Shay</td>\n",
              "      <td>1988-03-04</td>\n",
              "      <td>98767</td>\n",
              "      <td>3</td>\n",
              "      <td>4</td>\n",
              "    </tr>\n",
              "    <tr>\n",
              "      <th>663</th>\n",
              "      <td>Devin</td>\n",
              "      <td>Shay</td>\n",
              "      <td>2018-03-25</td>\n",
              "      <td>98768</td>\n",
              "      <td>3</td>\n",
              "      <td>25</td>\n",
              "    </tr>\n",
              "  </tbody>\n",
              "</table>\n",
              "</div>"
            ],
            "text/plain": [
              "    3.1 FirstName 3.1 LastName 3.3 Birthdate  5.8 Personal ID  month  day\n",
              "509          Alan       Kroiss    1996-03-01            89515      3    1\n",
              "600       Michael        Kelly    1991-03-19            98295      3   19\n",
              "644       Kharina      Madison    2018-04-09            83939      4    9\n",
              "662         Amber         Shay    1988-03-04            98767      3    4\n",
              "663         Devin         Shay    2018-03-25            98768      3   25"
            ]
          },
          "metadata": {
            "tags": []
          },
          "execution_count": 131
        }
      ]
    },
    {
      "cell_type": "code",
      "metadata": {
        "id": "7Oge-_F28Bgv",
        "colab_type": "code",
        "colab": {}
      },
      "source": [
        "# create new list of those currently enrolled who haven't stayed with us for\n",
        "# two weeks or more\n",
        "\n",
        "from datetime import date, timedelta\n",
        "\n",
        "current_date = date.today().isoformat()   \n",
        "days_before = (date.today()-timedelta(days=30)).isoformat()\n",
        "\n",
        "need_to_exit = currently_enrolled[currently_enrolled['Date of Last ES Stay (Beta)'] < days_before ]"
      ],
      "execution_count": 0,
      "outputs": []
    },
    {
      "cell_type": "code",
      "metadata": {
        "id": "1-Hv8nAx8BmM",
        "colab_type": "code",
        "colab": {}
      },
      "source": [
        "exit_df = need_to_exit[['3.1 FirstName', '3.1 LastName', '5.8 Personal ID', '5.9 Household ID', '3.15 Relationship to HoH', 'CaseMembers', '3.10 Enroll Date', 'Date of Last ES Stay (Beta)']].copy()"
      ],
      "execution_count": 0,
      "outputs": []
    },
    {
      "cell_type": "code",
      "metadata": {
        "id": "rI3-Dz-k8Bq8",
        "colab_type": "code",
        "colab": {}
      },
      "source": [
        "#exit_df.head()"
      ],
      "execution_count": 0,
      "outputs": []
    },
    {
      "cell_type": "code",
      "metadata": {
        "id": "dQpA_ZiF8BvS",
        "colab_type": "code",
        "colab": {}
      },
      "source": [
        "exit_df.to_excel('/content/drive/My Drive/FPData/YTD Data/YTDexit_df.xlsx')"
      ],
      "execution_count": 0,
      "outputs": []
    },
    {
      "cell_type": "code",
      "metadata": {
        "id": "8VOFBGzR8CVj",
        "colab_type": "code",
        "outputId": "587e1857-2a86-4baf-fb9d-bcbdd79a78f6",
        "colab": {
          "base_uri": "https://localhost:8080/",
          "height": 34
        }
      },
      "source": [
        "households = df['5.9 Household ID'].unique()\n",
        "len(households)"
      ],
      "execution_count": 10,
      "outputs": [
        {
          "output_type": "execute_result",
          "data": {
            "text/plain": [
              "225"
            ]
          },
          "metadata": {
            "tags": []
          },
          "execution_count": 10
        }
      ]
    },
    {
      "cell_type": "code",
      "metadata": {
        "id": "EOcPI0kS8CYt",
        "colab_type": "code",
        "outputId": "cff5aaf3-ba02-4be0-f2ff-bbdded18b17c",
        "colab": {
          "base_uri": "https://localhost:8080/",
          "height": 34
        }
      },
      "source": [
        "# print total number of families served (unduplicated)\n",
        "unique_households = df['5.9 Household ID'].nunique()\n",
        "unique_households"
      ],
      "execution_count": 11,
      "outputs": [
        {
          "output_type": "execute_result",
          "data": {
            "text/plain": [
              "225"
            ]
          },
          "metadata": {
            "tags": []
          },
          "execution_count": 11
        }
      ]
    },
    {
      "cell_type": "code",
      "metadata": {
        "id": "Ww2Wyr8u8Cdr",
        "colab_type": "code",
        "colab": {}
      },
      "source": [
        "#@title\n",
        "# replace zeros in data with \"Nan\" to calculate more accurate average bednights \n",
        "df['Count of Bed Nights (Housing Check-ins)'] = df['Count of Bed Nights (Housing Check-ins)'].replace(0, np.NaN)"
      ],
      "execution_count": 0,
      "outputs": []
    },
    {
      "cell_type": "code",
      "metadata": {
        "id": "gCT761zT8Clg",
        "colab_type": "code",
        "outputId": "0cc2fbd8-7c34-49cb-dd33-7109c62c7252",
        "colab": {
          "base_uri": "https://localhost:8080/",
          "height": 34
        }
      },
      "source": [
        "avg_bn = df['Count of Bed Nights (Housing Check-ins)'].mean()\n",
        "avg_bn = round(avg_bn, 2)\n",
        "avg_bn"
      ],
      "execution_count": 13,
      "outputs": [
        {
          "output_type": "execute_result",
          "data": {
            "text/plain": [
              "36.42"
            ]
          },
          "metadata": {
            "tags": []
          },
          "execution_count": 13
        }
      ]
    },
    {
      "cell_type": "code",
      "metadata": {
        "id": "NJJ1W9hn8CoV",
        "colab_type": "code",
        "colab": {}
      },
      "source": [
        "#@title\n",
        "\n",
        "exit_reasons = ['Rental by client with RRH or equivalent subsidy', \n",
        "                'Rental by client, no ongoing housing subsidy', \n",
        "                'Staying or living with family, permanent tenure', \n",
        "                'Rental by client, other ongoing housing subsidy',\n",
        "                'Permanent housing (other than RRH) for formerly homeless persons', \n",
        "                'Staying or living with friends, permanent tenure', \n",
        "                'Owned by client, with ongoing housing subsidy', \n",
        "                'Staying or living with friends, permanent tenure', \n",
        "                'Rental by client, VASH housing Subsidy'\n",
        "               ]\n",
        "\n",
        "temp_reasons = ['Staying or living with family, temporary tenure (e.g., room, apartment or house)', \n",
        "               'Staying or living with friends, temporary tenure (e.g., room, apartment or house)', \n",
        "                \n",
        "               ]"
      ],
      "execution_count": 0,
      "outputs": []
    },
    {
      "cell_type": "code",
      "metadata": {
        "id": "pIrEISw18CrA",
        "colab_type": "code",
        "colab": {}
      },
      "source": [
        "# drop rows with no exit destination (current guests at time of report)\n",
        "df = df.dropna(subset=['3.12 Exit Destination'])"
      ],
      "execution_count": 0,
      "outputs": []
    },
    {
      "cell_type": "code",
      "metadata": {
        "id": "Ci8sM4b_8Cv7",
        "colab_type": "code",
        "colab": {}
      },
      "source": [
        " # create target column (multiple types of exits to perm)\n",
        "df['perm_leaver'] = df['3.12 Exit Destination'].isin(exit_reasons)"
      ],
      "execution_count": 0,
      "outputs": []
    },
    {
      "cell_type": "code",
      "metadata": {
        "id": "HLC9DJEB8C7V",
        "colab_type": "code",
        "colab": {}
      },
      "source": [
        "#df.head()"
      ],
      "execution_count": 0,
      "outputs": []
    },
    {
      "cell_type": "code",
      "metadata": {
        "id": "3iRsv5N08C-j",
        "colab_type": "code",
        "colab": {}
      },
      "source": [
        "perm_leaver = df[df['perm_leaver'] == True]"
      ],
      "execution_count": 0,
      "outputs": []
    },
    {
      "cell_type": "code",
      "metadata": {
        "id": "lwBgD1zh8DBm",
        "colab_type": "code",
        "colab": {}
      },
      "source": [
        "total_perm = perm_leaver.perm_leaver.value_counts().sum()"
      ],
      "execution_count": 0,
      "outputs": []
    },
    {
      "cell_type": "code",
      "metadata": {
        "id": "_zII61cfc5t8",
        "colab_type": "code",
        "outputId": "5c5273c5-c4a5-406a-ee36-817065a36648",
        "colab": {
          "base_uri": "https://localhost:8080/",
          "height": 34
        }
      },
      "source": [
        "total_perm"
      ],
      "execution_count": 20,
      "outputs": [
        {
          "output_type": "execute_result",
          "data": {
            "text/plain": [
              "189"
            ]
          },
          "metadata": {
            "tags": []
          },
          "execution_count": 20
        }
      ]
    },
    {
      "cell_type": "code",
      "metadata": {
        "id": "yK-iDD668DHl",
        "colab_type": "code",
        "colab": {}
      },
      "source": [
        "non_perm = df[df['perm_leaver'] == False]"
      ],
      "execution_count": 0,
      "outputs": []
    },
    {
      "cell_type": "code",
      "metadata": {
        "id": "9a0zHaiZ8C4v",
        "colab_type": "code",
        "colab": {}
      },
      "source": [
        "total_non_perm = non_perm.perm_leaver.value_counts().sum()"
      ],
      "execution_count": 0,
      "outputs": []
    },
    {
      "cell_type": "code",
      "metadata": {
        "id": "ga2WNYhi8C1o",
        "colab_type": "code",
        "outputId": "c21920b7-e83f-41f5-fc86-31ffaa957685",
        "colab": {
          "base_uri": "https://localhost:8080/",
          "height": 34
        }
      },
      "source": [
        "total_non_perm"
      ],
      "execution_count": 23,
      "outputs": [
        {
          "output_type": "execute_result",
          "data": {
            "text/plain": [
              "400"
            ]
          },
          "metadata": {
            "tags": []
          },
          "execution_count": 23
        }
      ]
    },
    {
      "cell_type": "code",
      "metadata": {
        "id": "AnSomhWI8Cy6",
        "colab_type": "code",
        "colab": {}
      },
      "source": [
        "perm_percent = total_perm / total_non_perm"
      ],
      "execution_count": 0,
      "outputs": []
    },
    {
      "cell_type": "code",
      "metadata": {
        "id": "-xDehGC98Ctr",
        "colab_type": "code",
        "outputId": "907ed372-005c-4e7f-b47a-777224059807",
        "colab": {
          "base_uri": "https://localhost:8080/",
          "height": 34
        }
      },
      "source": [
        "perm_percent = round(perm_percent, 2)*100\n",
        "perm_percent"
      ],
      "execution_count": 25,
      "outputs": [
        {
          "output_type": "execute_result",
          "data": {
            "text/plain": [
              "47.0"
            ]
          },
          "metadata": {
            "tags": []
          },
          "execution_count": 25
        }
      ]
    },
    {
      "cell_type": "code",
      "metadata": {
        "id": "dxfX8Ui0ktEN",
        "colab_type": "code",
        "outputId": "07dc48b1-356e-4df2-e0fc-d807983515b9",
        "colab": {
          "base_uri": "https://localhost:8080/",
          "height": 319
        }
      },
      "source": [
        "df['3.12 Exit Destination'].value_counts()"
      ],
      "execution_count": 26,
      "outputs": [
        {
          "output_type": "execute_result",
          "data": {
            "text/plain": [
              "Client refused                                                                                                                   165\n",
              "Emergency shelter, including hotel or motel paid for with emergency shelter voucher, or RHY-funded Host Home shelter             123\n",
              "Rental by client, no ongoing housing subsidy                                                                                      71\n",
              "Rental by client with RRH or equivalent subsidy                                                                                   69\n",
              "Transitional Housing for homeless persons (including homeless youth)                                                              36\n",
              "Rental by client, other ongoing housing subsidy                                                                                   28\n",
              "No exit interview completed                                                                                                       23\n",
              "Staying or living with family, permanent tenure                                                                                   20\n",
              "Staying or living with friends, temporary tenure (e.g., room, apartment or house)                                                 19\n",
              "Staying or living with family, temporary tenure (e.g., room, apartment or house)                                                  16\n",
              "Place not meant for habitation (e.g., a vehicle, an abandoned building, bus/train/subway station/airport or anywhere outside)      6\n",
              "Other                                                                                                                              4\n",
              "Hotel or Motel paid for without Emergency Shelter Voucher                                                                          4\n",
              "Substance Abuse Treatment or Detox Center                                                                                          2\n",
              "Permanent housing (other than RRH) for formerly homeless persons                                                                   1\n",
              "Foster Care Home or Foster Care Group Home                                                                                         1\n",
              "Psychiatric Hospital or Other Psychiatric Facility                                                                                 1\n",
              "Name: 3.12 Exit Destination, dtype: int64"
            ]
          },
          "metadata": {
            "tags": []
          },
          "execution_count": 26
        }
      ]
    },
    {
      "cell_type": "code",
      "metadata": {
        "id": "ynmpE_p58CjO",
        "colab_type": "code",
        "colab": {}
      },
      "source": [
        "unknowns = ['Client refused', 'No exit interview completed']"
      ],
      "execution_count": 0,
      "outputs": []
    },
    {
      "cell_type": "code",
      "metadata": {
        "id": "tL8XKevd8Cgm",
        "colab_type": "code",
        "colab": {}
      },
      "source": [
        "unknown_df = df[df['3.12 Exit Destination'].isin(unknowns)]"
      ],
      "execution_count": 0,
      "outputs": []
    },
    {
      "cell_type": "code",
      "metadata": {
        "id": "NwJi6Y9A8Cbh",
        "colab_type": "code",
        "colab": {}
      },
      "source": [
        "unknown_exits = unknown_df['3.12 Exit Destination'].value_counts().sum()"
      ],
      "execution_count": 0,
      "outputs": []
    },
    {
      "cell_type": "code",
      "metadata": {
        "id": "nV8o-guZ8CS_",
        "colab_type": "code",
        "outputId": "7b134b64-18e0-4f27-8936-6d037dc63777",
        "colab": {
          "base_uri": "https://localhost:8080/",
          "height": 34
        }
      },
      "source": [
        "unknown_exits"
      ],
      "execution_count": 30,
      "outputs": [
        {
          "output_type": "execute_result",
          "data": {
            "text/plain": [
              "188"
            ]
          },
          "metadata": {
            "tags": []
          },
          "execution_count": 30
        }
      ]
    },
    {
      "cell_type": "code",
      "metadata": {
        "id": "AQwRPEhq8CQV",
        "colab_type": "code",
        "outputId": "f17327df-dace-4371-f065-751b915c54f4",
        "colab": {
          "base_uri": "https://localhost:8080/",
          "height": 34
        }
      },
      "source": [
        "unknown_percent = unknown_exits / total_non_perm\n",
        "unknown_percent = round(unknown_percent, 2) *100\n",
        "unknown_percent"
      ],
      "execution_count": 31,
      "outputs": [
        {
          "output_type": "execute_result",
          "data": {
            "text/plain": [
              "47.0"
            ]
          },
          "metadata": {
            "tags": []
          },
          "execution_count": 31
        }
      ]
    },
    {
      "cell_type": "code",
      "metadata": {
        "id": "SYEDLNIGn8Fc",
        "colab_type": "code",
        "outputId": "0d83230f-8b64-4641-e107-2a7d0bcbd0fd",
        "colab": {
          "base_uri": "https://localhost:8080/",
          "height": 34
        }
      },
      "source": [
        "exits = df['3.12 Exit Destination'].value_counts().sum()\n",
        "exits"
      ],
      "execution_count": 32,
      "outputs": [
        {
          "output_type": "execute_result",
          "data": {
            "text/plain": [
              "589"
            ]
          },
          "metadata": {
            "tags": []
          },
          "execution_count": 32
        }
      ]
    },
    {
      "cell_type": "code",
      "metadata": {
        "id": "NZsYPUDtngYj",
        "colab_type": "code",
        "colab": {}
      },
      "source": [
        "exits = df['3.12 Exit Destination'].value_counts()"
      ],
      "execution_count": 0,
      "outputs": []
    },
    {
      "cell_type": "code",
      "metadata": {
        "id": "qDCEy_ktnghb",
        "colab_type": "code",
        "outputId": "861a1473-2bcf-4715-8699-e082080a68a3",
        "colab": {
          "base_uri": "https://localhost:8080/",
          "height": 34
        }
      },
      "source": [
        "# take sum of ES and Trans exits and divide by total exits, then multiply by 100 to get percentage\n",
        "esExits = exits['Emergency shelter, including hotel or motel paid for with emergency shelter voucher, or RHY-funded Host Home shelter'] \n",
        "#transExits = ((exits['Transitional Housing for homeless persons (including homeless youth)'] / exits.sum()) * 100)\n",
        "# round the answer to nearest hundreth place\n",
        "esExits = (round(esExits, 2))\n",
        "#transExits = (round(transExits, 2))\n",
        "esExits\n",
        "#print('Exits to Transitional',transExits,'%')"
      ],
      "execution_count": 34,
      "outputs": [
        {
          "output_type": "execute_result",
          "data": {
            "text/plain": [
              "123"
            ]
          },
          "metadata": {
            "tags": []
          },
          "execution_count": 34
        }
      ]
    },
    {
      "cell_type": "code",
      "metadata": {
        "id": "Qn2DO8Ep_K4G",
        "colab_type": "code",
        "outputId": "f03374ba-b453-45c7-f18a-5ab6d9a94432",
        "colab": {
          "base_uri": "https://localhost:8080/",
          "height": 34
        }
      },
      "source": [
        "tempExits = df['3.12 Exit Destination'].isin(temp_reasons).sum()\n",
        "\n",
        "tempExits"
      ],
      "execution_count": 35,
      "outputs": [
        {
          "output_type": "execute_result",
          "data": {
            "text/plain": [
              "35"
            ]
          },
          "metadata": {
            "tags": []
          },
          "execution_count": 35
        }
      ]
    },
    {
      "cell_type": "code",
      "metadata": {
        "id": "kuUdutaLAgAN",
        "colab_type": "code",
        "outputId": "eeaad61c-8a9e-4233-e1f3-6225cc344aff",
        "colab": {
          "base_uri": "https://localhost:8080/",
          "height": 34
        }
      },
      "source": [
        "transitional = df['3.12 Exit Destination'] == 'Transitional Housing for homeless persons (including homeless youth)'\n",
        "transitional = transitional.sum()\n",
        "transitional"
      ],
      "execution_count": 36,
      "outputs": [
        {
          "output_type": "execute_result",
          "data": {
            "text/plain": [
              "36"
            ]
          },
          "metadata": {
            "tags": []
          },
          "execution_count": 36
        }
      ]
    },
    {
      "cell_type": "code",
      "metadata": {
        "id": "Q6h_fTjKBUL3",
        "colab_type": "code",
        "outputId": "fc865615-5a8f-473c-a43b-4cde137086cb",
        "colab": {
          "base_uri": "https://localhost:8080/",
          "height": 34
        }
      },
      "source": [
        "exits.sum()"
      ],
      "execution_count": 37,
      "outputs": [
        {
          "output_type": "execute_result",
          "data": {
            "text/plain": [
              "589"
            ]
          },
          "metadata": {
            "tags": []
          },
          "execution_count": 37
        }
      ]
    },
    {
      "cell_type": "code",
      "metadata": {
        "id": "0um1qmlPG_Vn",
        "colab_type": "code",
        "colab": {}
      },
      "source": [
        "total_guests = total_non_perm + total_perm"
      ],
      "execution_count": 0,
      "outputs": []
    },
    {
      "cell_type": "code",
      "metadata": {
        "id": "BnJ28vV-BEMp",
        "colab_type": "code",
        "outputId": "e972e0dc-aeca-43d8-f8ce-c7bdd03e9119",
        "colab": {
          "base_uri": "https://localhost:8080/",
          "height": 34
        }
      },
      "source": [
        "trans_percent = (transitional / exits.sum())*100\n",
        "trans_percent = round(trans_percent, 2)\n",
        "trans_percent"
      ],
      "execution_count": 39,
      "outputs": [
        {
          "output_type": "execute_result",
          "data": {
            "text/plain": [
              "6.11"
            ]
          },
          "metadata": {
            "tags": []
          },
          "execution_count": 39
        }
      ]
    },
    {
      "cell_type": "code",
      "metadata": {
        "id": "QMAxXsZsfCz7",
        "colab_type": "code",
        "colab": {}
      },
      "source": [
        "#zips_master"
      ],
      "execution_count": 0,
      "outputs": []
    },
    {
      "cell_type": "code",
      "metadata": {
        "id": "rJSaf-Synglo",
        "colab_type": "code",
        "outputId": "5dbc3fac-2885-4bae-8a49-b5a652329da0",
        "colab": {
          "base_uri": "https://localhost:8080/",
          "height": 857
        }
      },
      "source": [
        "# export zips into an excel sheet for Power BI visual\n",
        "zips_master = pd.read_excel('/content/drive/My Drive/FPData/uszips.xlsx')\n",
        "\n",
        "\n",
        "\n",
        "# Import pandas library \n",
        "import pandas as pd \n",
        "  \n",
        "# initialize list of lists \n",
        "zips_bi = df['V5 Zip'].value_counts().to_frame('Total').reset_index(level=0, inplace=False)\n",
        "zips_bi = zips_bi.rename(columns={\"index\": \"V5 Zip\"})\n",
        "zips_bi = zips_bi.merge(zips_master,on='V5 Zip')\n",
        "zips_bi['V5 City'].value_counts()"
      ],
      "execution_count": 41,
      "outputs": [
        {
          "output_type": "execute_result",
          "data": {
            "text/plain": [
              "Spokane           10\n",
              "Spokane Valley     5\n",
              "Great Falls        2\n",
              "Mountain Home      2\n",
              "Williston          1\n",
              "Jensen Beach       1\n",
              "Deer Park          1\n",
              "Kennewick          1\n",
              "Dubuque            1\n",
              "Pullman            1\n",
              "Salt Lake City     1\n",
              "Hoodsport          1\n",
              "Glendale           1\n",
              "Bakersfield        1\n",
              "Ligonier           1\n",
              "Puyallup           1\n",
              "Tacoma             1\n",
              "Anderson           1\n",
              "Alexandria         1\n",
              "Airway Heights     1\n",
              "Colville           1\n",
              "Moscow             1\n",
              "Wellpinit          1\n",
              "Lolo               1\n",
              "Tillamook          1\n",
              "Ritzville          1\n",
              "Omak               1\n",
              "Celina             1\n",
              "Clarkston          1\n",
              "Hemet              1\n",
              "Ogden              1\n",
              "Vancouver          1\n",
              "Marrero            1\n",
              "Milwaukee          1\n",
              "Browning           1\n",
              "Chewelah           1\n",
              "Newport            1\n",
              "Nampa              1\n",
              "South Bend         1\n",
              "Santa Rosa         1\n",
              "Kettle Falls       1\n",
              "Everett            1\n",
              "Liberty Lake       1\n",
              "Greenacres         1\n",
              "Sprague            1\n",
              "Olympia            1\n",
              "Medical Lake       1\n",
              "Cheney             1\n",
              "Windsor Mill       1\n",
              "Name: V5 City, dtype: int64"
            ]
          },
          "metadata": {
            "tags": []
          },
          "execution_count": 41
        }
      ]
    },
    {
      "cell_type": "code",
      "metadata": {
        "id": "0tqQPx8jkcFZ",
        "colab_type": "code",
        "outputId": "ee8a498a-723c-4a4b-f109-f245cdfb5b6a",
        "colab": {
          "base_uri": "https://localhost:8080/",
          "height": 34
        }
      },
      "source": [
        "type(zips_bi)"
      ],
      "execution_count": 42,
      "outputs": [
        {
          "output_type": "execute_result",
          "data": {
            "text/plain": [
              "pandas.core.frame.DataFrame"
            ]
          },
          "metadata": {
            "tags": []
          },
          "execution_count": 42
        }
      ]
    },
    {
      "cell_type": "code",
      "metadata": {
        "id": "vrFpUs9TBWkG",
        "colab_type": "code",
        "colab": {}
      },
      "source": [
        "zips_bi.to_excel('/content/drive/My Drive/FPData/YTD Data/weeklyYTDzips.xlsx', header=True, index=False)"
      ],
      "execution_count": 0,
      "outputs": []
    },
    {
      "cell_type": "code",
      "metadata": {
        "id": "_DNkcjdUBS3b",
        "colab_type": "code",
        "colab": {}
      },
      "source": [
        "other_reasons = ['Place not meant for habitation (e.g., a vehicle, an abandoned building, bus/train/subway station/airport or anywhere outside)',\n",
        "                 'Hotel or Motel paid for without Emergency Shelter Voucher', 'Other', 'Substance Abuse Treatment or Detox Center',\n",
        "                 'Foster Care Home or Foster Care Group Home', 'Psychiatric Hospital or Other Psychiatric Facility']"
      ],
      "execution_count": 0,
      "outputs": []
    },
    {
      "cell_type": "code",
      "metadata": {
        "id": "4gWB-8-5KoH6",
        "colab_type": "code",
        "colab": {}
      },
      "source": [
        "other = df['3.12 Exit Destination'].isin(other_reasons)"
      ],
      "execution_count": 0,
      "outputs": []
    },
    {
      "cell_type": "code",
      "metadata": {
        "id": "q-tuRBUAKvGk",
        "colab_type": "code",
        "outputId": "01a6b427-a56a-42b6-da2f-40d104711ce8",
        "colab": {
          "base_uri": "https://localhost:8080/",
          "height": 34
        }
      },
      "source": [
        "other.sum()\n",
        "other = other.sum()\n",
        "other"
      ],
      "execution_count": 46,
      "outputs": [
        {
          "output_type": "execute_result",
          "data": {
            "text/plain": [
              "18"
            ]
          },
          "metadata": {
            "tags": []
          },
          "execution_count": 46
        }
      ]
    },
    {
      "cell_type": "code",
      "metadata": {
        "id": "X3E19k09pBGo",
        "colab_type": "code",
        "outputId": "a0361378-7596-4184-9431-4a15c8b76beb",
        "colab": {
          "base_uri": "https://localhost:8080/",
          "height": 218
        }
      },
      "source": [
        "df['4.04.7 Private - Employer']"
      ],
      "execution_count": 47,
      "outputs": [
        {
          "output_type": "execute_result",
          "data": {
            "text/plain": [
              "0       No\n",
              "1       No\n",
              "2       No\n",
              "3       No\n",
              "4       No\n",
              "      ... \n",
              "661    NaN\n",
              "677     No\n",
              "678     No\n",
              "679     No\n",
              "680     No\n",
              "Name: 4.04.7 Private - Employer, Length: 589, dtype: object"
            ]
          },
          "metadata": {
            "tags": []
          },
          "execution_count": 47
        }
      ]
    },
    {
      "cell_type": "code",
      "metadata": {
        "id": "h2RsCB-BKIcH",
        "colab_type": "code",
        "outputId": "cd54aceb-570a-4e75-8453-41f4fd336ee0",
        "colab": {
          "base_uri": "https://localhost:8080/",
          "height": 319
        }
      },
      "source": [
        "df['3.12 Exit Destination'].value_counts()"
      ],
      "execution_count": 48,
      "outputs": [
        {
          "output_type": "execute_result",
          "data": {
            "text/plain": [
              "Client refused                                                                                                                   165\n",
              "Emergency shelter, including hotel or motel paid for with emergency shelter voucher, or RHY-funded Host Home shelter             123\n",
              "Rental by client, no ongoing housing subsidy                                                                                      71\n",
              "Rental by client with RRH or equivalent subsidy                                                                                   69\n",
              "Transitional Housing for homeless persons (including homeless youth)                                                              36\n",
              "Rental by client, other ongoing housing subsidy                                                                                   28\n",
              "No exit interview completed                                                                                                       23\n",
              "Staying or living with family, permanent tenure                                                                                   20\n",
              "Staying or living with friends, temporary tenure (e.g., room, apartment or house)                                                 19\n",
              "Staying or living with family, temporary tenure (e.g., room, apartment or house)                                                  16\n",
              "Place not meant for habitation (e.g., a vehicle, an abandoned building, bus/train/subway station/airport or anywhere outside)      6\n",
              "Other                                                                                                                              4\n",
              "Hotel or Motel paid for without Emergency Shelter Voucher                                                                          4\n",
              "Substance Abuse Treatment or Detox Center                                                                                          2\n",
              "Permanent housing (other than RRH) for formerly homeless persons                                                                   1\n",
              "Foster Care Home or Foster Care Group Home                                                                                         1\n",
              "Psychiatric Hospital or Other Psychiatric Facility                                                                                 1\n",
              "Name: 3.12 Exit Destination, dtype: int64"
            ]
          },
          "metadata": {
            "tags": []
          },
          "execution_count": 48
        }
      ]
    },
    {
      "cell_type": "code",
      "metadata": {
        "id": "ZnbNsVKWCD1q",
        "colab_type": "code",
        "outputId": "167dddb9-d49c-45ca-de5d-a17c322c3581",
        "colab": {
          "base_uri": "https://localhost:8080/",
          "height": 168
        }
      },
      "source": [
        "print(total_guests, 'total guests served YTD')\n",
        "print(total_non_perm, 'total non perm leavers')\n",
        "print(total_perm, 'total perm leavers')\n",
        "print(esExits, 'total ES leavers')\n",
        "print(tempExits, 'total temp leavers')\n",
        "print(transitional, 'total trans leavers')\n",
        "print(other, 'total leavers to \"other\"')\n",
        "print(unknown_exits, 'total unknown leavers')\n",
        "print('sum of all groups to make sure it matches total served:',total_perm+esExits+tempExits+transitional+other+unknown_exits)"
      ],
      "execution_count": 49,
      "outputs": [
        {
          "output_type": "stream",
          "text": [
            "589 total guests served YTD\n",
            "400 total non perm leavers\n",
            "189 total perm leavers\n",
            "123 total ES leavers\n",
            "35 total temp leavers\n",
            "36 total trans leavers\n",
            "18 total leavers to \"other\"\n",
            "188 total unknown leavers\n",
            "sum of all groups to make sure it matches total served: 589\n"
          ],
          "name": "stdout"
        }
      ]
    },
    {
      "cell_type": "code",
      "metadata": {
        "id": "-4mmzx3ONuM_",
        "colab_type": "code",
        "colab": {}
      },
      "source": [
        "assert((total_perm+esExits+tempExits+transitional+other+unknown_exits) == (total_non_perm+total_perm))"
      ],
      "execution_count": 0,
      "outputs": []
    },
    {
      "cell_type": "code",
      "metadata": {
        "id": "gTMhjHGZ9zO3",
        "colab_type": "code",
        "colab": {}
      },
      "source": [
        "perm_bi = '{} %'.format(perm_percent)\n",
        "es_bi = '{} %'.format(esExits)\n",
        "temp_bi = '{} %'.format(tempExits)\n",
        "trans_bi = '{} %'.format(trans_percent)\n",
        "unknown_bi = '{} %'.format(unknown_percent)"
      ],
      "execution_count": 0,
      "outputs": []
    },
    {
      "cell_type": "code",
      "metadata": {
        "id": "xpHfeQp89zHH",
        "colab_type": "code",
        "colab": {}
      },
      "source": [
        "power_bi = pd.DataFrame({'Permanent Leavers': total_perm, 'Emergency Shelter Leavers': esExits, \n",
        "                         'Temporary Leavers': tempExits, 'Transitional Leavers': transitional, \n",
        "                         'Unknown Leavers': unknown_exits, 'Other Leavers': other, 'Total': total_guests }, index=[0])\n"
      ],
      "execution_count": 0,
      "outputs": []
    },
    {
      "cell_type": "code",
      "metadata": {
        "id": "Ou9YSkX1TO_r",
        "colab_type": "code",
        "colab": {}
      },
      "source": [
        "# Import pandas library \n",
        "import pandas as pd \n",
        "  \n",
        "# initialize list of lists \n",
        "data = [['Permanent Leavers', total_perm], ['Emergency Shelter Leavers', esExits], \n",
        "        ['Temporary Leavers', tempExits], ['Transitional Leavers', transitional],\n",
        "        ['Unknown Leavers', unknown_exits], ['Other Leavers', other]] \n",
        "  \n",
        "\n",
        "\n",
        "# Create the pandas DataFrame \n",
        "power_bi = pd.DataFrame(data, columns = ['Exit Destination', 'Total']) \n",
        "  \n",
        "# print dataframe. "
      ],
      "execution_count": 0,
      "outputs": []
    },
    {
      "cell_type": "code",
      "metadata": {
        "id": "CwWzCqxbRwig",
        "colab_type": "code",
        "outputId": "7b43c1b9-1d49-461e-bdc5-8e62808255c4",
        "colab": {
          "base_uri": "https://localhost:8080/",
          "height": 225
        }
      },
      "source": [
        "power_bi"
      ],
      "execution_count": 54,
      "outputs": [
        {
          "output_type": "execute_result",
          "data": {
            "text/html": [
              "<div>\n",
              "<style scoped>\n",
              "    .dataframe tbody tr th:only-of-type {\n",
              "        vertical-align: middle;\n",
              "    }\n",
              "\n",
              "    .dataframe tbody tr th {\n",
              "        vertical-align: top;\n",
              "    }\n",
              "\n",
              "    .dataframe thead th {\n",
              "        text-align: right;\n",
              "    }\n",
              "</style>\n",
              "<table border=\"1\" class=\"dataframe\">\n",
              "  <thead>\n",
              "    <tr style=\"text-align: right;\">\n",
              "      <th></th>\n",
              "      <th>Exit Destination</th>\n",
              "      <th>Total</th>\n",
              "    </tr>\n",
              "  </thead>\n",
              "  <tbody>\n",
              "    <tr>\n",
              "      <th>0</th>\n",
              "      <td>Permanent Leavers</td>\n",
              "      <td>189</td>\n",
              "    </tr>\n",
              "    <tr>\n",
              "      <th>1</th>\n",
              "      <td>Emergency Shelter Leavers</td>\n",
              "      <td>123</td>\n",
              "    </tr>\n",
              "    <tr>\n",
              "      <th>2</th>\n",
              "      <td>Temporary Leavers</td>\n",
              "      <td>35</td>\n",
              "    </tr>\n",
              "    <tr>\n",
              "      <th>3</th>\n",
              "      <td>Transitional Leavers</td>\n",
              "      <td>36</td>\n",
              "    </tr>\n",
              "    <tr>\n",
              "      <th>4</th>\n",
              "      <td>Unknown Leavers</td>\n",
              "      <td>188</td>\n",
              "    </tr>\n",
              "    <tr>\n",
              "      <th>5</th>\n",
              "      <td>Other Leavers</td>\n",
              "      <td>18</td>\n",
              "    </tr>\n",
              "  </tbody>\n",
              "</table>\n",
              "</div>"
            ],
            "text/plain": [
              "            Exit Destination  Total\n",
              "0          Permanent Leavers    189\n",
              "1  Emergency Shelter Leavers    123\n",
              "2          Temporary Leavers     35\n",
              "3       Transitional Leavers     36\n",
              "4            Unknown Leavers    188\n",
              "5              Other Leavers     18"
            ]
          },
          "metadata": {
            "tags": []
          },
          "execution_count": 54
        }
      ]
    },
    {
      "cell_type": "code",
      "metadata": {
        "id": "HKQjkUoWOIaX",
        "colab_type": "code",
        "outputId": "f269c562-9aeb-489a-bae8-1fd2eab57645",
        "colab": {
          "base_uri": "https://localhost:8080/",
          "height": 34
        }
      },
      "source": [
        "power_bi.Total.sum()"
      ],
      "execution_count": 55,
      "outputs": [
        {
          "output_type": "execute_result",
          "data": {
            "text/plain": [
              "589"
            ]
          },
          "metadata": {
            "tags": []
          },
          "execution_count": 55
        }
      ]
    },
    {
      "cell_type": "code",
      "metadata": {
        "id": "xvlIe_kHDcf_",
        "colab_type": "code",
        "colab": {}
      },
      "source": [
        "power_bi.to_excel('/content/drive/My Drive/FPData/YTD Data/YTDweeklyDataNew.xlsx')"
      ],
      "execution_count": 0,
      "outputs": []
    },
    {
      "cell_type": "code",
      "metadata": {
        "id": "zUt9-EM_zmnj",
        "colab_type": "code",
        "colab": {
          "base_uri": "https://localhost:8080/",
          "height": 1000
        },
        "outputId": "3eef476c-905e-434b-9e4f-75399511c1f8"
      },
      "source": [
        "for col in df:\n",
        "    print(col)"
      ],
      "execution_count": 58,
      "outputs": [
        {
          "output_type": "stream",
          "text": [
            "4.04.8 Health Insurance obtained through COBRA\n",
            "4.04.7 Private - Employer\n",
            "4.04.9 Private\n",
            "4.04.9 Private - Individual\n",
            "4.2.3a Earned Income\n",
            "4.2.4b Unemployment Insurance\n",
            "4.2.5c Supplemental Security Income\n",
            "4.2.6d Social Security Disability  Income\n",
            "4.2.7e VA Disability Compensation\n",
            "4.2.8f VA Disability Pension\n",
            "4.2.9g Private Disability Income\n",
            "4.2.10h Workers Compensation\n",
            "4.2.11i TANF\n",
            "4.2.12j General Assistance\n",
            "4.2.13k Retirement (Social Security)\n",
            "4.2.14l Pension from a Former Job\n",
            "4.2.15m Child Support\n",
            "4.2.16n Alimony\n",
            "4.2.17o Other Income\n",
            "Chronic Homeless Status_vHMISDatAssessment\n",
            "Chronic Homeless Status_EvaluatevHMIS&HMISDA\n",
            "Email\n",
            "HomePhone\n",
            "WorkPhone\n",
            "2.1 Organization Name\n",
            "2.2 Project Name\n",
            "2.4 ProjectType\n",
            "2.5 Utilization Tracking Method (Invalid)\n",
            "2.6 Federal Grant Programs\n",
            "Enrollment Created By\n",
            "3.1 FirstName\n",
            "3.1 LastName\n",
            "5.8 Personal ID\n",
            "5.9 Household ID\n",
            "3.15 Relationship to HoH\n",
            "3.16 Client Location\n",
            "CaseMembers\n",
            "3.10 Enroll Date\n",
            "3.11 Exit Date\n",
            "3.12 Exit Destination\n",
            "3.2 SocSecNo\n",
            "3.2 Social Security Quality\n",
            "3.3 Birthdate\n",
            "3.3 Birthdate Quality\n",
            "Age at Enrollment\n",
            "Current Age\n",
            "3.4 Race\n",
            "3.5 Ethnicity\n",
            "3.6 Gender\n",
            "3.7 Veteran Status\n",
            "3.8 Disabling Condition at Entry\n",
            "3.917 Living Situation\n",
            "3.917b Stayed Less Than 7 Nights\n",
            "3.917 Stayed Less Than 90 Days\n",
            "3.917b Stayed in Streets, ES or SH Night Before\n",
            "3.917 Length of Stay\n",
            "3.917 Homeless Start Date\n",
            "Length of Time Homeless (3.917 Approximate Start)\n",
            "3.917 Times Homeless Last 3 Years\n",
            "3.917 Total Months Homeless Last 3 Years\n",
            "V5 Last Permanent Address\n",
            "V5 Prior Address\n",
            "V5 State\n",
            "V5 Zip\n",
            "Municipality (City or County)\n",
            "Days Enrolled in Project\n",
            "RRH In Permanent Housing\n",
            "RRH Date Of Move-In\n",
            "Days Enrolled Until RRH Date of Move-in\n",
            "4.1 Housing Status\n",
            "4.4 Covered by Health Insurance\n",
            "4.11 Domestic Violence\n",
            "4.11 Domestic Violence - Currently Fleeing DV?\n",
            "4.11 Domestic Violence - When it Occurred\n",
            "4.13 Engagement Date\n",
            "Days Enrolled Until Engagement Date\n",
            "4.24 Current Status (Retired Data Element)\n",
            "4.24 In School (Retired Data Element)\n",
            "4.24 Connected to McKinney Vento Liason (Retired)\n",
            "Household Type\n",
            "Latitude\n",
            "Longitude\n",
            "R1 Referral Source\n",
            "R2 Date Status Determined\n",
            "R2 Enroll Status\n",
            "R2 Runaway Youth\n",
            "R2 Reason Why No Services Funded\n",
            "R3 Sexual Orientation\n",
            "R4 Last Grade Completed\n",
            "R5 School Status\n",
            "R6 Employed Status\n",
            "R6 Why Not Employed\n",
            "R6 Type of Employment\n",
            "R6 Looking for Work\n",
            "R7 General Health Status\n",
            "R8 Dental Health Status\n",
            "R9 Mental Health Status\n",
            "R10 Pregnancy Status\n",
            "R10 Pregnancy Due Date\n",
            "Client Record Restricted\n",
            "InfoReleaseNo\n",
            "Information Release Status\n",
            "4.12 Contact Services\n",
            "Date of Last Contact (Beta)\n",
            "Date of First Contact (Beta)\n",
            "Count of Bed Nights (Housing Check-ins)\n",
            "Date of Last ES Stay (Beta)\n",
            "Date of First ES Stay (Beta)\n",
            "4.2 Income Total at Entry\n",
            "4.02 Total Income at Annual Update\n",
            "4.2 Income Total at Exit\n",
            "4.3 Non-Cash Benefit Count\n",
            "4.3 Non-Cash Benefit Count at Exit\n",
            "CurrentDate\n",
            "Barrier Count at Entry\n",
            "Chronic Homeless Status\n",
            "ProgramType\n",
            "SOAR Eligibility Determination (Most Recent)\n",
            "SOAR Enrollment Determination (Most Recent)\n",
            "RRH | Most Recent Enrollment\n",
            "Street Outreach | Most Recent Enrollment\n",
            "Coordinated Entry | Most Recent Enrollment\n",
            "Emergency Shelter | Most Recent Enrollment\n",
            "Transitional Housing | Most Recent Enrollment\n",
            "PSH | Most Recent Enrollment\n",
            "Prevention | Most Recent Enrollment\n",
            "Under 25 Years Old\n",
            "ClientID\n",
            "4.10 Alcohol Abuse (Substance Abuse)\n",
            "4.07 Chronic Health Condition\n",
            "4.06 Developmental Disability\n",
            "4.10 Drug Abuse (Substance Abuse)\n",
            "4.08 HIV/AIDS\n",
            "4.09 Mental Health Problem\n",
            "4.05 Physical Disability\n",
            "CaseChildren\n",
            "CaseAdults\n",
            "Bed Nights During Report Period\n",
            "Count of Bed Nights - Entire Episode\n",
            "HEN-HP Referral Most Recent\n",
            "HEN-RRH Referral Most Recent\n",
            "WorkSource Referral Most Recent\n",
            "YAHP Referral Most Recent\n",
            "4.04.10 Other Public\n",
            "4.04.10 State Funded\n",
            "4.04.11 Indian Health Services (IHS)\n",
            "4.04.12 Other\n",
            "4.04.3 Combined Childrens HealthInsurance/Medicaid\n",
            "4.04.3 Medicaid\n",
            "4.04.4 Medicare\n",
            "4.04.5 State Children's health Insurance S-CHIP\n",
            "4.04.6 Veteran's Administration Medical Services\n",
            "perm_leaver\n"
          ],
          "name": "stdout"
        }
      ]
    },
    {
      "cell_type": "code",
      "metadata": {
        "id": "4LzqAInqz7Qi",
        "colab_type": "code",
        "colab": {
          "base_uri": "https://localhost:8080/",
          "height": 319
        },
        "outputId": "4fd117cf-2019-4a17-f32a-8198316da5eb"
      },
      "source": [
        "df['3.12 Exit Destination'].value_counts()"
      ],
      "execution_count": 59,
      "outputs": [
        {
          "output_type": "execute_result",
          "data": {
            "text/plain": [
              "Client refused                                                                                                                   165\n",
              "Emergency shelter, including hotel or motel paid for with emergency shelter voucher, or RHY-funded Host Home shelter             123\n",
              "Rental by client, no ongoing housing subsidy                                                                                      71\n",
              "Rental by client with RRH or equivalent subsidy                                                                                   69\n",
              "Transitional Housing for homeless persons (including homeless youth)                                                              36\n",
              "Rental by client, other ongoing housing subsidy                                                                                   28\n",
              "No exit interview completed                                                                                                       23\n",
              "Staying or living with family, permanent tenure                                                                                   20\n",
              "Staying or living with friends, temporary tenure (e.g., room, apartment or house)                                                 19\n",
              "Staying or living with family, temporary tenure (e.g., room, apartment or house)                                                  16\n",
              "Place not meant for habitation (e.g., a vehicle, an abandoned building, bus/train/subway station/airport or anywhere outside)      6\n",
              "Other                                                                                                                              4\n",
              "Hotel or Motel paid for without Emergency Shelter Voucher                                                                          4\n",
              "Substance Abuse Treatment or Detox Center                                                                                          2\n",
              "Permanent housing (other than RRH) for formerly homeless persons                                                                   1\n",
              "Foster Care Home or Foster Care Group Home                                                                                         1\n",
              "Psychiatric Hospital or Other Psychiatric Facility                                                                                 1\n",
              "Name: 3.12 Exit Destination, dtype: int64"
            ]
          },
          "metadata": {
            "tags": []
          },
          "execution_count": 59
        }
      ]
    },
    {
      "cell_type": "code",
      "metadata": {
        "id": "_vbHYZfez8X1",
        "colab_type": "code",
        "colab": {}
      },
      "source": [
        ""
      ],
      "execution_count": 0,
      "outputs": []
    },
    {
      "cell_type": "code",
      "metadata": {
        "id": "mvU3y79Nz8jK",
        "colab_type": "code",
        "colab": {}
      },
      "source": [
        ""
      ],
      "execution_count": 0,
      "outputs": []
    }
  ]
}