{
 "cells": [
  {
   "cell_type": "markdown",
   "metadata": {
    "colab_type": "text",
    "id": "view-in-github"
   },
   "source": [
    "<a href=\"https://colab.research.google.com/github/iesous-kurios/powerBi/blob/master/PowerBI_Project.ipynb\" target=\"_parent\"><img src=\"https://colab.research.google.com/assets/colab-badge.svg\" alt=\"Open In Colab\"/></a>"
   ]
  },
  {
   "cell_type": "code",
   "execution_count": 33,
   "metadata": {
    "colab": {
     "base_uri": "https://localhost:8080/",
     "height": 34
    },
    "colab_type": "code",
    "id": "zjBsBizH7yB8",
    "outputId": "78cdeabc-9bf6-418a-a7bd-a103ab5a9a84"
   },
   "outputs": [
    {
     "data": {
      "text/plain": [
       "'0.10.1'"
      ]
     },
     "execution_count": 33,
     "metadata": {},
     "output_type": "execute_result"
    }
   ],
   "source": [
    "#@title\n",
    "# import libraries which provide math functions to our data imports\n",
    "import statistics\n",
    "import numpy as np\n",
    "import pandas as pd\n",
    "import matplotlib.pyplot as plt\n",
    "import seaborn as sns\n",
    "import datetime\n",
    "from datetime import date, timedelta\n",
    "import matplotlib.pyplot as plt\n",
    "import matplotlib\n",
    "from matplotlib import style\n",
    "\n",
    "sns.__version__"
   ]
  },
  {
   "cell_type": "code",
   "execution_count": 34,
   "metadata": {},
   "outputs": [
    {
     "name": "stdout",
     "output_type": "stream",
     "text": [
      "Requirement already satisfied: openpyxl in c:\\users\\jwyli\\anaconda3\\envs\\lambda2\\lib\\site-packages (3.0.3)\n",
      "Requirement already satisfied: jdcal in c:\\users\\jwyli\\anaconda3\\envs\\lambda2\\lib\\site-packages (from openpyxl) (1.4.1)\n",
      "Requirement already satisfied: et-xmlfile in c:\\users\\jwyli\\anaconda3\\envs\\lambda2\\lib\\site-packages (from openpyxl) (1.0.1)\n",
      "Note: you may need to restart the kernel to use updated packages.\n"
     ]
    }
   ],
   "source": [
    "pip install openpyxl"
   ]
  },
  {
   "cell_type": "code",
   "execution_count": 108,
   "metadata": {
    "colab": {},
    "colab_type": "code",
    "id": "nousgp7Q8BWd"
   },
   "outputs": [],
   "source": [
    "#@title\n",
    "# import weekly data from yearly FPS folder\n",
    "\n",
    "df = pd.read_excel('G:\\My Drive\\FPData\\old2019\\old_2019 OD Data.xlsx', sheet_name=1)\n",
    "#df = pd.read_excel ('~/environments/fp_env/family_promise_data/data/ClientTrackExport (5).xlsx')"
   ]
  },
  {
   "cell_type": "code",
   "execution_count": 109,
   "metadata": {},
   "outputs": [
    {
     "data": {
      "text/html": [
       "<div>\n",
       "<style scoped>\n",
       "    .dataframe tbody tr th:only-of-type {\n",
       "        vertical-align: middle;\n",
       "    }\n",
       "\n",
       "    .dataframe tbody tr th {\n",
       "        vertical-align: top;\n",
       "    }\n",
       "\n",
       "    .dataframe thead th {\n",
       "        text-align: right;\n",
       "    }\n",
       "</style>\n",
       "<table border=\"1\" class=\"dataframe\">\n",
       "  <thead>\n",
       "    <tr style=\"text-align: right;\">\n",
       "      <th></th>\n",
       "      <th>2.1 Organization Name</th>\n",
       "      <th>2.2 Project Name</th>\n",
       "      <th>2.4 ProjectType</th>\n",
       "      <th>2.5 Utilization Tracking Method (Invalid)</th>\n",
       "      <th>2.6 Federal Grant Programs</th>\n",
       "      <th>Enrollment Created By</th>\n",
       "      <th>3.1 FirstName</th>\n",
       "      <th>3.1 LastName</th>\n",
       "      <th>5.8 Personal ID</th>\n",
       "      <th>5.9 Household ID</th>\n",
       "      <th>...</th>\n",
       "      <th>4.2.13k Retirement (Social Security)</th>\n",
       "      <th>4.2.14l Pension from a Former Job</th>\n",
       "      <th>4.2.15m Child Support</th>\n",
       "      <th>4.2.16n Alimony</th>\n",
       "      <th>4.2.17o Other Income</th>\n",
       "      <th>Chronic Homeless Status_vHMISDatAssessment</th>\n",
       "      <th>Chronic Homeless Status_EvaluatevHMIS&amp;HMISDA</th>\n",
       "      <th>Email</th>\n",
       "      <th>HomePhone</th>\n",
       "      <th>WorkPhone</th>\n",
       "    </tr>\n",
       "  </thead>\n",
       "  <tbody>\n",
       "    <tr>\n",
       "      <th>0</th>\n",
       "      <td>Family Promise of Spokane</td>\n",
       "      <td>FPS--ES--Open Doors</td>\n",
       "      <td>Emergency shelter</td>\n",
       "      <td>Night-by-Night (nbn)</td>\n",
       "      <td>NaN</td>\n",
       "      <td>Serena Graves</td>\n",
       "      <td>Anonymous</td>\n",
       "      <td>Anonymous71333</td>\n",
       "      <td>71333</td>\n",
       "      <td>101912</td>\n",
       "      <td>...</td>\n",
       "      <td>0</td>\n",
       "      <td>0</td>\n",
       "      <td>0.0</td>\n",
       "      <td>0</td>\n",
       "      <td>0</td>\n",
       "      <td>0</td>\n",
       "      <td>0</td>\n",
       "      <td>NaN</td>\n",
       "      <td>NaN</td>\n",
       "      <td>NaN</td>\n",
       "    </tr>\n",
       "    <tr>\n",
       "      <th>1</th>\n",
       "      <td>Family Promise of Spokane</td>\n",
       "      <td>FPS--ES--Open Doors</td>\n",
       "      <td>Emergency shelter</td>\n",
       "      <td>Night-by-Night (nbn)</td>\n",
       "      <td>NaN</td>\n",
       "      <td>Serena Graves</td>\n",
       "      <td>Anonymous</td>\n",
       "      <td>Anonymous71336</td>\n",
       "      <td>71336</td>\n",
       "      <td>101912</td>\n",
       "      <td>...</td>\n",
       "      <td>0</td>\n",
       "      <td>0</td>\n",
       "      <td>0.0</td>\n",
       "      <td>0</td>\n",
       "      <td>0</td>\n",
       "      <td>0</td>\n",
       "      <td>0</td>\n",
       "      <td>NaN</td>\n",
       "      <td>NaN</td>\n",
       "      <td>NaN</td>\n",
       "    </tr>\n",
       "    <tr>\n",
       "      <th>2</th>\n",
       "      <td>Family Promise of Spokane</td>\n",
       "      <td>FPS--ES--Open Doors</td>\n",
       "      <td>Emergency shelter</td>\n",
       "      <td>Night-by-Night (nbn)</td>\n",
       "      <td>NaN</td>\n",
       "      <td>Serena Graves</td>\n",
       "      <td>Anonymous</td>\n",
       "      <td>Anonymous71337</td>\n",
       "      <td>71337</td>\n",
       "      <td>101912</td>\n",
       "      <td>...</td>\n",
       "      <td>0</td>\n",
       "      <td>0</td>\n",
       "      <td>0.0</td>\n",
       "      <td>0</td>\n",
       "      <td>0</td>\n",
       "      <td>0</td>\n",
       "      <td>0</td>\n",
       "      <td>NaN</td>\n",
       "      <td>NaN</td>\n",
       "      <td>NaN</td>\n",
       "    </tr>\n",
       "    <tr>\n",
       "      <th>3</th>\n",
       "      <td>Family Promise of Spokane</td>\n",
       "      <td>FPS--ES--Open Doors</td>\n",
       "      <td>Emergency shelter</td>\n",
       "      <td>Night-by-Night (nbn)</td>\n",
       "      <td>NaN</td>\n",
       "      <td>Serena Graves</td>\n",
       "      <td>Anonymous</td>\n",
       "      <td>Anonymous71338</td>\n",
       "      <td>71338</td>\n",
       "      <td>101912</td>\n",
       "      <td>...</td>\n",
       "      <td>0</td>\n",
       "      <td>0</td>\n",
       "      <td>0.0</td>\n",
       "      <td>0</td>\n",
       "      <td>0</td>\n",
       "      <td>0</td>\n",
       "      <td>0</td>\n",
       "      <td>NaN</td>\n",
       "      <td>NaN</td>\n",
       "      <td>NaN</td>\n",
       "    </tr>\n",
       "    <tr>\n",
       "      <th>4</th>\n",
       "      <td>Family Promise of Spokane</td>\n",
       "      <td>FPS--ES--Open Doors</td>\n",
       "      <td>Emergency shelter</td>\n",
       "      <td>Night-by-Night (nbn)</td>\n",
       "      <td>NaN</td>\n",
       "      <td>Serena Graves</td>\n",
       "      <td>Anonymous</td>\n",
       "      <td>Anonymous84602</td>\n",
       "      <td>84602</td>\n",
       "      <td>101912</td>\n",
       "      <td>...</td>\n",
       "      <td>0</td>\n",
       "      <td>0</td>\n",
       "      <td>0.0</td>\n",
       "      <td>0</td>\n",
       "      <td>0</td>\n",
       "      <td>0</td>\n",
       "      <td>0</td>\n",
       "      <td>NaN</td>\n",
       "      <td>NaN</td>\n",
       "      <td>NaN</td>\n",
       "    </tr>\n",
       "  </tbody>\n",
       "</table>\n",
       "<p>5 rows × 152 columns</p>\n",
       "</div>"
      ],
      "text/plain": [
       "       2.1 Organization Name     2.2 Project Name    2.4 ProjectType  \\\n",
       "0  Family Promise of Spokane  FPS--ES--Open Doors  Emergency shelter   \n",
       "1  Family Promise of Spokane  FPS--ES--Open Doors  Emergency shelter   \n",
       "2  Family Promise of Spokane  FPS--ES--Open Doors  Emergency shelter   \n",
       "3  Family Promise of Spokane  FPS--ES--Open Doors  Emergency shelter   \n",
       "4  Family Promise of Spokane  FPS--ES--Open Doors  Emergency shelter   \n",
       "\n",
       "  2.5 Utilization Tracking Method (Invalid)  2.6 Federal Grant Programs  \\\n",
       "0                      Night-by-Night (nbn)                         NaN   \n",
       "1                      Night-by-Night (nbn)                         NaN   \n",
       "2                      Night-by-Night (nbn)                         NaN   \n",
       "3                      Night-by-Night (nbn)                         NaN   \n",
       "4                      Night-by-Night (nbn)                         NaN   \n",
       "\n",
       "  Enrollment Created By 3.1 FirstName    3.1 LastName  5.8 Personal ID  \\\n",
       "0         Serena Graves     Anonymous  Anonymous71333            71333   \n",
       "1         Serena Graves     Anonymous  Anonymous71336            71336   \n",
       "2         Serena Graves     Anonymous  Anonymous71337            71337   \n",
       "3         Serena Graves     Anonymous  Anonymous71338            71338   \n",
       "4         Serena Graves     Anonymous  Anonymous84602            84602   \n",
       "\n",
       "   5.9 Household ID  ... 4.2.13k Retirement (Social Security)  \\\n",
       "0            101912  ...                                    0   \n",
       "1            101912  ...                                    0   \n",
       "2            101912  ...                                    0   \n",
       "3            101912  ...                                    0   \n",
       "4            101912  ...                                    0   \n",
       "\n",
       "  4.2.14l Pension from a Former Job  4.2.15m Child Support 4.2.16n Alimony  \\\n",
       "0                                 0                    0.0               0   \n",
       "1                                 0                    0.0               0   \n",
       "2                                 0                    0.0               0   \n",
       "3                                 0                    0.0               0   \n",
       "4                                 0                    0.0               0   \n",
       "\n",
       "  4.2.17o Other Income Chronic Homeless Status_vHMISDatAssessment  \\\n",
       "0                    0                                          0   \n",
       "1                    0                                          0   \n",
       "2                    0                                          0   \n",
       "3                    0                                          0   \n",
       "4                    0                                          0   \n",
       "\n",
       "  Chronic Homeless Status_EvaluatevHMIS&HMISDA Email HomePhone WorkPhone  \n",
       "0                                            0   NaN       NaN       NaN  \n",
       "1                                            0   NaN       NaN       NaN  \n",
       "2                                            0   NaN       NaN       NaN  \n",
       "3                                            0   NaN       NaN       NaN  \n",
       "4                                            0   NaN       NaN       NaN  \n",
       "\n",
       "[5 rows x 152 columns]"
      ]
     },
     "execution_count": 109,
     "metadata": {},
     "output_type": "execute_result"
    }
   ],
   "source": [
    "df.head()"
   ]
  },
  {
   "cell_type": "code",
   "execution_count": 110,
   "metadata": {},
   "outputs": [
    {
     "name": "stdout",
     "output_type": "stream",
     "text": [
      "2.1 Organization Name\n",
      "2.2 Project Name\n",
      "2.4 ProjectType\n",
      "2.5 Utilization Tracking Method (Invalid)\n",
      "2.6 Federal Grant Programs\n",
      "Enrollment Created By\n",
      "3.1 FirstName\n",
      "3.1 LastName\n",
      "5.8 Personal ID\n",
      "5.9 Household ID\n",
      "3.15 Relationship to HoH\n",
      "3.16 Client Location\n",
      "CaseMembers\n",
      "3.10 Enroll Date\n",
      "3.11 Exit Date\n",
      "3.12 Exit Destination\n",
      "3.2 SocSecNo\n",
      "3.2 Social Security Quality\n",
      "3.3 Birthdate\n",
      "3.3 Birthdate Quality\n",
      "Age at Enrollment\n",
      "Current Age\n",
      "3.4 Race\n",
      "3.5 Ethnicity\n",
      "3.6 Gender\n",
      "3.7 Veteran Status\n",
      "3.8 Disabling Condition at Entry\n",
      "3.917 Living Situation\n",
      "3.917b Stayed Less Than 7 Nights\n",
      "3.917 Stayed Less Than 90 Days\n",
      "3.917b Stayed in Streets, ES or SH Night Before\n",
      "3.917 Length of Stay\n",
      "3.917 Homeless Start Date\n",
      "Length of Time Homeless (3.917 Approximate Start)\n",
      "3.917 Times Homeless Last 3 Years\n",
      "3.917 Total Months Homeless Last 3 Years\n",
      "V5 Last Permanent Address\n",
      "V5 Prior Address\n",
      "V5 State\n",
      "V5 Zip\n",
      "Municipality (City or County)\n",
      "Days Enrolled in Project\n",
      "RRH In Permanent Housing\n",
      "RRH Date Of Move-In\n",
      "Days Enrolled Until RRH Date of Move-in\n",
      "4.1 Housing Status\n",
      "4.4 Covered by Health Insurance\n",
      "4.11 Domestic Violence\n",
      "4.11 Domestic Violence - Currently Fleeing DV?\n",
      "4.11 Domestic Violence - When it Occurred\n",
      "4.13 Engagement Date\n",
      "Days Enrolled Until Engagement Date\n",
      "4.24 Current Status (Retired Data Element)\n",
      "4.24 In School (Retired Data Element)\n",
      "4.24 Connected to McKinney Vento Liason (Retired)\n",
      "Household Type\n",
      "Latitude\n",
      "Longitude\n",
      "R1 Referral Source\n",
      "R2 Date Status Determined\n",
      "R2 Enroll Status\n",
      "R2 Runaway Youth\n",
      "R2 Reason Why No Services Funded\n",
      "R3 Sexual Orientation\n",
      "R4 Last Grade Completed\n",
      "R5 School Status\n",
      "R6 Employed Status\n",
      "R6 Why Not Employed\n",
      "R6 Type of Employment\n",
      "R6 Looking for Work\n",
      "R7 General Health Status\n",
      "R8 Dental Health Status\n",
      "R9 Mental Health Status\n",
      "R10 Pregnancy Status\n",
      "R10 Pregnancy Due Date\n",
      "Client Record Restricted\n",
      "InfoReleaseNo\n",
      "Information Release Status\n",
      "4.12 Contact Services\n",
      "Date of Last Contact (Beta)\n",
      "Date of First Contact (Beta)\n",
      "Count of Bed Nights (Housing Check-ins)\n",
      "Date of Last ES Stay (Beta)\n",
      "Date of First ES Stay (Beta)\n",
      "4.2 Income Total at Entry\n",
      "4.02 Total Income at Annual Update\n",
      "4.2 Income Total at Exit\n",
      "4.3 Non-Cash Benefit Count\n",
      "4.3 Non-Cash Benefit Count at Exit\n",
      "CurrentDate\n",
      "Barrier Count at Entry\n",
      "Chronic Homeless Status\n",
      "ProgramType\n",
      "SOAR Eligibility Determination (Most Recent)\n",
      "SOAR Enrollment Determination (Most Recent)\n",
      "RRH | Most Recent Enrollment\n",
      "Street Outreach | Most Recent Enrollment\n",
      "Coordinated Entry | Most Recent Enrollment\n",
      "Emergency Shelter | Most Recent Enrollment\n",
      "Transitional Housing | Most Recent Enrollment\n",
      "PSH | Most Recent Enrollment\n",
      "Prevention | Most Recent Enrollment\n",
      "Under 25 Years Old\n",
      "ClientID\n",
      "4.10 Alcohol Abuse (Substance Abuse)\n",
      "4.07 Chronic Health Condition\n",
      "4.06 Developmental Disability\n",
      "4.10 Drug Abuse (Substance Abuse)\n",
      "4.08 HIV/AIDS\n",
      "4.09 Mental Health Problem\n",
      "4.05 Physical Disability\n",
      "CaseChildren\n",
      "CaseAdults\n",
      "Bed Nights During Report Period\n",
      "Count of Bed Nights - Entire Episode\n",
      "HEN-HP Referral Most Recent\n",
      "HEN-RRH Referral Most Recent\n",
      "WorkSource Referral Most Recent\n",
      "YAHP Referral Most Recent\n",
      "4.04.10 Other Public\n",
      "4.04.10 State Funded\n",
      "4.04.11 Indian Health Services (IHS)\n",
      "4.04.12 Other\n",
      "4.04.3 Combined Childrens HealthInsurance/Medicaid\n",
      "4.04.3 Medicaid\n",
      "4.04.4 Medicare\n",
      "4.04.5 State Children's health Insurance S-CHIP\n",
      "4.04.6 Veteran's Administration Medical Services\n",
      "4.04.8 Health Insurance obtained through COBRA\n",
      "4.04.7 Private - Employer\n",
      "4.04.9 Private\n",
      "4.04.9 Private - Individual\n",
      "4.2.3a Earned Income\n",
      "4.2.4b Unemployment Insurance\n",
      "4.2.5c Supplemental Security Income\n",
      "4.2.6d Social Security Disability  Income\n",
      "4.2.7e VA Disability Compensation\n",
      "4.2.8f VA Disability Pension\n",
      "4.2.9g Private Disability Income\n",
      "4.2.10h Workers Compensation\n",
      "4.2.11i TANF\n",
      "4.2.12j General Assistance\n",
      "4.2.13k Retirement (Social Security)\n",
      "4.2.14l Pension from a Former Job\n",
      "4.2.15m Child Support\n",
      "4.2.16n Alimony\n",
      "4.2.17o Other Income\n",
      "Chronic Homeless Status_vHMISDatAssessment\n",
      "Chronic Homeless Status_EvaluatevHMIS&HMISDA\n",
      "Email\n",
      "HomePhone\n",
      "WorkPhone\n"
     ]
    }
   ],
   "source": [
    "for col in df:\n",
    "    print(col)"
   ]
  },
  {
   "cell_type": "code",
   "execution_count": 123,
   "metadata": {},
   "outputs": [
    {
     "data": {
      "text/plain": [
       "True     403\n",
       "False    381\n",
       "Name: minor, dtype: int64"
      ]
     },
     "execution_count": 123,
     "metadata": {},
     "output_type": "execute_result"
    }
   ],
   "source": [
    "df['minor'] = df['Age at Enrollment'] < 18\n",
    "df['minor'].value_counts()"
   ]
  },
  {
   "cell_type": "code",
   "execution_count": 116,
   "metadata": {},
   "outputs": [],
   "source": [
    "minors = df['minor'] == True\n",
    "adults = df['minor'] == False"
   ]
  },
  {
   "cell_type": "code",
   "execution_count": 126,
   "metadata": {},
   "outputs": [],
   "source": [
    "minors = df['minor'].value_counts().index.tolist()"
   ]
  },
  {
   "cell_type": "code",
   "execution_count": 129,
   "metadata": {},
   "outputs": [],
   "source": [
    "# What you're looking for\n",
    "values = df['minor'].value_counts().keys().tolist()\n",
    "counts = df['minor'].value_counts().tolist()"
   ]
  },
  {
   "cell_type": "code",
   "execution_count": 130,
   "metadata": {},
   "outputs": [
    {
     "data": {
      "text/plain": [
       "[True, False]"
      ]
     },
     "execution_count": 130,
     "metadata": {},
     "output_type": "execute_result"
    }
   ],
   "source": [
    "values"
   ]
  },
  {
   "cell_type": "code",
   "execution_count": 131,
   "metadata": {},
   "outputs": [
    {
     "data": {
      "text/plain": [
       "[403, 381]"
      ]
     },
     "execution_count": 131,
     "metadata": {},
     "output_type": "execute_result"
    }
   ],
   "source": [
    "counts"
   ]
  },
  {
   "cell_type": "code",
   "execution_count": 135,
   "metadata": {},
   "outputs": [],
   "source": [
    "# Import pandas library \n",
    "import pandas as pd \n",
    "  \n",
    "# initialize list of lists \n",
    "data = [['Adults', adults], ['Minors', minors]] \n",
    "  \n",
    "\n",
    "\n",
    "# Create the pandas DataFrame \n",
    "ages_df = pd.DataFrame(counts, columns = ['minor']) "
   ]
  },
  {
   "cell_type": "code",
   "execution_count": 136,
   "metadata": {},
   "outputs": [
    {
     "data": {
      "text/html": [
       "<div>\n",
       "<style scoped>\n",
       "    .dataframe tbody tr th:only-of-type {\n",
       "        vertical-align: middle;\n",
       "    }\n",
       "\n",
       "    .dataframe tbody tr th {\n",
       "        vertical-align: top;\n",
       "    }\n",
       "\n",
       "    .dataframe thead th {\n",
       "        text-align: right;\n",
       "    }\n",
       "</style>\n",
       "<table border=\"1\" class=\"dataframe\">\n",
       "  <thead>\n",
       "    <tr style=\"text-align: right;\">\n",
       "      <th></th>\n",
       "      <th>minor</th>\n",
       "    </tr>\n",
       "  </thead>\n",
       "  <tbody>\n",
       "    <tr>\n",
       "      <th>0</th>\n",
       "      <td>403</td>\n",
       "    </tr>\n",
       "    <tr>\n",
       "      <th>1</th>\n",
       "      <td>381</td>\n",
       "    </tr>\n",
       "  </tbody>\n",
       "</table>\n",
       "</div>"
      ],
      "text/plain": [
       "   minor\n",
       "0    403\n",
       "1    381"
      ]
     },
     "execution_count": 136,
     "metadata": {},
     "output_type": "execute_result"
    }
   ],
   "source": [
    "ages_df"
   ]
  },
  {
   "cell_type": "code",
   "execution_count": 137,
   "metadata": {},
   "outputs": [],
   "source": [
    "ages_df.to_excel('G:\\My Drive\\FPData\\old2019\\minors.xlsx')"
   ]
  },
  {
   "cell_type": "code",
   "execution_count": 36,
   "metadata": {
    "colab": {},
    "colab_type": "code",
    "id": "mIeJ5QM88BbL"
   },
   "outputs": [],
   "source": [
    "# get list of currently enrolled guests (guests that don't have an exit date)\n",
    "currently_enrolled = df[df['3.11 Exit Date'].isnull()]"
   ]
  },
  {
   "cell_type": "code",
   "execution_count": 37,
   "metadata": {
    "colab": {
     "base_uri": "https://localhost:8080/",
     "height": 218
    },
    "colab_type": "code",
    "id": "OELBYoSOTjdN",
    "outputId": "c5938ad0-f1d5-4d21-e025-9b0b9f11400f"
   },
   "outputs": [
    {
     "data": {
      "text/plain": [
       "1978-01-01    2\n",
       "1986-06-24    1\n",
       "1977-02-11    1\n",
       "1994-11-20    1\n",
       "2002-11-05    1\n",
       "2017-05-25    1\n",
       "1992-09-16    1\n",
       "2015-05-25    1\n",
       "2016-01-01    1\n",
       "1983-12-01    1\n",
       "1980-04-15    1\n",
       "1977-05-20    1\n",
       "1969-01-16    1\n",
       "2007-02-07    1\n",
       "1980-08-03    1\n",
       "2002-04-12    1\n",
       "2016-11-30    1\n",
       "2013-01-05    1\n",
       "2013-09-11    1\n",
       "2017-09-14    1\n",
       "2014-06-06    1\n",
       "2018-12-21    1\n",
       "Name: 3.3 Birthdate, dtype: int64"
      ]
     },
     "execution_count": 37,
     "metadata": {},
     "output_type": "execute_result"
    }
   ],
   "source": [
    "currently_enrolled['3.3 Birthdate'].value_counts()"
   ]
  },
  {
   "cell_type": "code",
   "execution_count": 38,
   "metadata": {
    "colab": {},
    "colab_type": "code",
    "id": "XS_yCsAx03rK"
   },
   "outputs": [],
   "source": [
    "bdays_date = (date.today()-timedelta(days=15)).isoformat()\n",
    "current_bdays = currently_enrolled[currently_enrolled['Date of Last ES Stay (Beta)'] >= bdays_date ]"
   ]
  },
  {
   "cell_type": "code",
   "execution_count": 39,
   "metadata": {
    "colab": {},
    "colab_type": "code",
    "id": "y93VOxwff-Zh"
   },
   "outputs": [],
   "source": [
    "from datetime import date\n",
    "\n",
    "def calculate_age(born):\n",
    "    today = date.today()\n",
    "    return today.year - born.year - ((today.month, today.day) < (born.month, born.day))"
   ]
  },
  {
   "cell_type": "code",
   "execution_count": 40,
   "metadata": {
    "colab": {
     "base_uri": "https://localhost:8080/",
     "height": 34
    },
    "colab_type": "code",
    "id": "-FslFWlqnLMy",
    "outputId": "539a2c0d-e771-4451-d5b1-622b0b7a6a57"
   },
   "outputs": [
    {
     "name": "stdout",
     "output_type": "stream",
     "text": [
      "23 years\n"
     ]
    }
   ],
   "source": [
    "# Python3 code to  calculate age in years \n",
    "from datetime import date \n",
    "  \n",
    "def turning(born): \n",
    "    today = date.today() \n",
    "    this_month = date.today().month\n",
    "    this_day = date.today()\n",
    "    try:  \n",
    "        birthday = born.replace(year = today.year) \n",
    "        birthmonth = born.replace(month = today.month)\n",
    "        birth_day = born.replace(day = today.day)\n",
    "  \n",
    "    # raised when birth date is February 29 \n",
    "    # and the current year is not a leap year \n",
    "    except ValueError:  \n",
    "        birthday = born.replace(year = today.year, \n",
    "                  month = this_month + 1, day = 1) \n",
    "  \n",
    "    if birthday > today:\n",
    "        birthmonth = born.month\n",
    "        if birthmonth == this_month:\n",
    "            if birth_day > this_day:\n",
    "                return today.year - born.year + 1\n",
    "            if birth_day <= this_day:\n",
    "                return today.year - born.year \n",
    "        else:\n",
    "            return today.year - born.year        \n",
    "\n",
    "    else: \n",
    "        return today.year - born.year \n",
    "          \n",
    "# Driver code \n",
    "print(turning(date(1997, 2, 3)), \"years\") "
   ]
  },
  {
   "cell_type": "code",
   "execution_count": 41,
   "metadata": {},
   "outputs": [
    {
     "data": {
      "text/html": [
       "<div>\n",
       "<style scoped>\n",
       "    .dataframe tbody tr th:only-of-type {\n",
       "        vertical-align: middle;\n",
       "    }\n",
       "\n",
       "    .dataframe tbody tr th {\n",
       "        vertical-align: top;\n",
       "    }\n",
       "\n",
       "    .dataframe thead th {\n",
       "        text-align: right;\n",
       "    }\n",
       "</style>\n",
       "<table border=\"1\" class=\"dataframe\">\n",
       "  <thead>\n",
       "    <tr style=\"text-align: right;\">\n",
       "      <th></th>\n",
       "      <th>2.1 Organization Name</th>\n",
       "      <th>2.2 Project Name</th>\n",
       "      <th>2.4 ProjectType</th>\n",
       "      <th>2.5 Utilization Tracking Method (Invalid)</th>\n",
       "      <th>2.6 Federal Grant Programs</th>\n",
       "      <th>Enrollment Created By</th>\n",
       "      <th>3.1 FirstName</th>\n",
       "      <th>3.1 LastName</th>\n",
       "      <th>5.8 Personal ID</th>\n",
       "      <th>5.9 Household ID</th>\n",
       "      <th>...</th>\n",
       "      <th>4.2.13k Retirement (Social Security)</th>\n",
       "      <th>4.2.14l Pension from a Former Job</th>\n",
       "      <th>4.2.15m Child Support</th>\n",
       "      <th>4.2.16n Alimony</th>\n",
       "      <th>4.2.17o Other Income</th>\n",
       "      <th>Chronic Homeless Status_vHMISDatAssessment</th>\n",
       "      <th>Chronic Homeless Status_EvaluatevHMIS&amp;HMISDA</th>\n",
       "      <th>Email</th>\n",
       "      <th>HomePhone</th>\n",
       "      <th>WorkPhone</th>\n",
       "    </tr>\n",
       "  </thead>\n",
       "  <tbody>\n",
       "    <tr>\n",
       "      <th>681</th>\n",
       "      <td>Family Promise of Spokane</td>\n",
       "      <td>FPS--ES--Open Doors</td>\n",
       "      <td>Emergency shelter</td>\n",
       "      <td>Night-by-Night (nbn)</td>\n",
       "      <td>NaN</td>\n",
       "      <td>Kermit Nelson</td>\n",
       "      <td>Anonymous</td>\n",
       "      <td>Anonymous76618</td>\n",
       "      <td>76618</td>\n",
       "      <td>122926</td>\n",
       "      <td>...</td>\n",
       "      <td>0</td>\n",
       "      <td>0</td>\n",
       "      <td>0.0</td>\n",
       "      <td>0</td>\n",
       "      <td>0</td>\n",
       "      <td>1</td>\n",
       "      <td>1</td>\n",
       "      <td>NaN</td>\n",
       "      <td>NaN</td>\n",
       "      <td>NaN</td>\n",
       "    </tr>\n",
       "    <tr>\n",
       "      <th>682</th>\n",
       "      <td>Family Promise of Spokane</td>\n",
       "      <td>FPS--ES--Open Doors</td>\n",
       "      <td>Emergency shelter</td>\n",
       "      <td>Night-by-Night (nbn)</td>\n",
       "      <td>NaN</td>\n",
       "      <td>Kermit Nelson</td>\n",
       "      <td>Anonymous</td>\n",
       "      <td>Anonymous76620</td>\n",
       "      <td>76620</td>\n",
       "      <td>122926</td>\n",
       "      <td>...</td>\n",
       "      <td>0</td>\n",
       "      <td>0</td>\n",
       "      <td>0.0</td>\n",
       "      <td>0</td>\n",
       "      <td>0</td>\n",
       "      <td>0</td>\n",
       "      <td>0</td>\n",
       "      <td>NaN</td>\n",
       "      <td>NaN</td>\n",
       "      <td>NaN</td>\n",
       "    </tr>\n",
       "    <tr>\n",
       "      <th>683</th>\n",
       "      <td>Family Promise of Spokane</td>\n",
       "      <td>FPS--ES--Open Doors</td>\n",
       "      <td>Emergency shelter</td>\n",
       "      <td>Night-by-Night (nbn)</td>\n",
       "      <td>NaN</td>\n",
       "      <td>Kermit Nelson</td>\n",
       "      <td>Anonymous</td>\n",
       "      <td>Anonymous76619</td>\n",
       "      <td>76619</td>\n",
       "      <td>122926</td>\n",
       "      <td>...</td>\n",
       "      <td>0</td>\n",
       "      <td>0</td>\n",
       "      <td>200.0</td>\n",
       "      <td>0</td>\n",
       "      <td>0</td>\n",
       "      <td>1</td>\n",
       "      <td>1</td>\n",
       "      <td>NaN</td>\n",
       "      <td>NaN</td>\n",
       "      <td>NaN</td>\n",
       "    </tr>\n",
       "    <tr>\n",
       "      <th>726</th>\n",
       "      <td>Family Promise of Spokane</td>\n",
       "      <td>FPS--ES--Open Doors</td>\n",
       "      <td>Emergency shelter</td>\n",
       "      <td>Night-by-Night (nbn)</td>\n",
       "      <td>NaN</td>\n",
       "      <td>Kermit Nelson</td>\n",
       "      <td>Anden</td>\n",
       "      <td>Isak</td>\n",
       "      <td>97731</td>\n",
       "      <td>124767</td>\n",
       "      <td>...</td>\n",
       "      <td>0</td>\n",
       "      <td>0</td>\n",
       "      <td>0.0</td>\n",
       "      <td>0</td>\n",
       "      <td>0</td>\n",
       "      <td>0</td>\n",
       "      <td>0</td>\n",
       "      <td>NaN</td>\n",
       "      <td>NaN</td>\n",
       "      <td>NaN</td>\n",
       "    </tr>\n",
       "    <tr>\n",
       "      <th>727</th>\n",
       "      <td>Family Promise of Spokane</td>\n",
       "      <td>FPS--ES--Open Doors</td>\n",
       "      <td>Emergency shelter</td>\n",
       "      <td>Night-by-Night (nbn)</td>\n",
       "      <td>NaN</td>\n",
       "      <td>Kermit Nelson</td>\n",
       "      <td>T Merson</td>\n",
       "      <td>Doun</td>\n",
       "      <td>95697</td>\n",
       "      <td>124767</td>\n",
       "      <td>...</td>\n",
       "      <td>0</td>\n",
       "      <td>0</td>\n",
       "      <td>0.0</td>\n",
       "      <td>0</td>\n",
       "      <td>0</td>\n",
       "      <td>0</td>\n",
       "      <td>0</td>\n",
       "      <td>NaN</td>\n",
       "      <td>NaN</td>\n",
       "      <td>NaN</td>\n",
       "    </tr>\n",
       "  </tbody>\n",
       "</table>\n",
       "<p>5 rows × 152 columns</p>\n",
       "</div>"
      ],
      "text/plain": [
       "         2.1 Organization Name     2.2 Project Name    2.4 ProjectType  \\\n",
       "681  Family Promise of Spokane  FPS--ES--Open Doors  Emergency shelter   \n",
       "682  Family Promise of Spokane  FPS--ES--Open Doors  Emergency shelter   \n",
       "683  Family Promise of Spokane  FPS--ES--Open Doors  Emergency shelter   \n",
       "726  Family Promise of Spokane  FPS--ES--Open Doors  Emergency shelter   \n",
       "727  Family Promise of Spokane  FPS--ES--Open Doors  Emergency shelter   \n",
       "\n",
       "    2.5 Utilization Tracking Method (Invalid)  2.6 Federal Grant Programs  \\\n",
       "681                      Night-by-Night (nbn)                         NaN   \n",
       "682                      Night-by-Night (nbn)                         NaN   \n",
       "683                      Night-by-Night (nbn)                         NaN   \n",
       "726                      Night-by-Night (nbn)                         NaN   \n",
       "727                      Night-by-Night (nbn)                         NaN   \n",
       "\n",
       "    Enrollment Created By 3.1 FirstName    3.1 LastName  5.8 Personal ID  \\\n",
       "681         Kermit Nelson     Anonymous  Anonymous76618            76618   \n",
       "682         Kermit Nelson     Anonymous  Anonymous76620            76620   \n",
       "683         Kermit Nelson     Anonymous  Anonymous76619            76619   \n",
       "726         Kermit Nelson         Anden            Isak            97731   \n",
       "727         Kermit Nelson      T Merson            Doun            95697   \n",
       "\n",
       "     5.9 Household ID  ... 4.2.13k Retirement (Social Security)  \\\n",
       "681            122926  ...                                    0   \n",
       "682            122926  ...                                    0   \n",
       "683            122926  ...                                    0   \n",
       "726            124767  ...                                    0   \n",
       "727            124767  ...                                    0   \n",
       "\n",
       "    4.2.14l Pension from a Former Job  4.2.15m Child Support 4.2.16n Alimony  \\\n",
       "681                                 0                    0.0               0   \n",
       "682                                 0                    0.0               0   \n",
       "683                                 0                  200.0               0   \n",
       "726                                 0                    0.0               0   \n",
       "727                                 0                    0.0               0   \n",
       "\n",
       "    4.2.17o Other Income Chronic Homeless Status_vHMISDatAssessment  \\\n",
       "681                    0                                          1   \n",
       "682                    0                                          0   \n",
       "683                    0                                          1   \n",
       "726                    0                                          0   \n",
       "727                    0                                          0   \n",
       "\n",
       "    Chronic Homeless Status_EvaluatevHMIS&HMISDA Email HomePhone WorkPhone  \n",
       "681                                            1   NaN       NaN       NaN  \n",
       "682                                            0   NaN       NaN       NaN  \n",
       "683                                            1   NaN       NaN       NaN  \n",
       "726                                            0   NaN       NaN       NaN  \n",
       "727                                            0   NaN       NaN       NaN  \n",
       "\n",
       "[5 rows x 152 columns]"
      ]
     },
     "execution_count": 41,
     "metadata": {},
     "output_type": "execute_result"
    }
   ],
   "source": [
    "current_bdays.head()"
   ]
  },
  {
   "cell_type": "code",
   "execution_count": 42,
   "metadata": {
    "colab": {
     "base_uri": "https://localhost:8080/",
     "height": 319
    },
    "colab_type": "code",
    "id": "S1cLO9M9iCqZ",
    "outputId": "68bac0d2-5ece-4119-fc6b-86e2ff015a46"
   },
   "outputs": [
    {
     "name": "stderr",
     "output_type": "stream",
     "text": [
      "c:\\users\\jwyli\\anaconda3\\envs\\lambda2\\lib\\site-packages\\ipykernel_launcher.py:3: SettingWithCopyWarning: \n",
      "A value is trying to be set on a copy of a slice from a DataFrame.\n",
      "Try using .loc[row_indexer,col_indexer] = value instead\n",
      "\n",
      "See the caveats in the documentation: https://pandas.pydata.org/pandas-docs/stable/user_guide/indexing.html#returning-a-view-versus-a-copy\n",
      "  This is separate from the ipykernel package so we can avoid doing imports until\n"
     ]
    }
   ],
   "source": [
    "'''current_bdays['age'] = current_bdays['3.3 Birthdate'].apply(calculate_age)\n",
    "current_bdays['age2'] = current_bdays['3.3 Birthdate'].apply(calculate_age)'''\n",
    "current_bdays['turning'] = current_bdays['3.3 Birthdate'].apply(turning)\n"
   ]
  },
  {
   "cell_type": "code",
   "execution_count": 43,
   "metadata": {
    "colab": {},
    "colab_type": "code",
    "id": "lAZm-7mw17ih"
   },
   "outputs": [],
   "source": [
    "bday_df = current_bdays[['3.1 FirstName', '3.1 LastName', '3.3 Birthdate','turning']].copy()"
   ]
  },
  {
   "cell_type": "code",
   "execution_count": 44,
   "metadata": {
    "colab": {},
    "colab_type": "code",
    "id": "NbHcOzWS33Vr"
   },
   "outputs": [],
   "source": [
    "\n",
    "currentMonth = date.today().month\n",
    "currentMonth\n",
    "two_months = date.today().month + 2\n",
    "\n",
    "last_month = date.today().month - 1"
   ]
  },
  {
   "cell_type": "code",
   "execution_count": 45,
   "metadata": {
    "colab": {},
    "colab_type": "code",
    "id": "x5fU19SI26aq"
   },
   "outputs": [],
   "source": [
    "bday_df['month'] = pd.DatetimeIndex(bday_df['3.3 Birthdate']).month\n",
    "bday_df['day'] = pd.DatetimeIndex(bday_df['3.3 Birthdate']).day"
   ]
  },
  {
   "cell_type": "code",
   "execution_count": 46,
   "metadata": {
    "colab": {},
    "colab_type": "code",
    "id": "VKS-kjRl7ob8"
   },
   "outputs": [],
   "source": [
    "upcomming_bdays = bday_df[(bday_df['month'] > last_month) & (bday_df['month'] < two_months) ]"
   ]
  },
  {
   "cell_type": "code",
   "execution_count": 47,
   "metadata": {
    "colab": {},
    "colab_type": "code",
    "id": "26SyaaEJ85x0"
   },
   "outputs": [],
   "source": [
    "upcomming_bdays.to_excel('G:\\My Drive\\FPData\\old2019\\close_bdays.xlsx')"
   ]
  },
  {
   "cell_type": "code",
   "execution_count": 48,
   "metadata": {
    "colab": {
     "base_uri": "https://localhost:8080/",
     "height": 314
    },
    "colab_type": "code",
    "id": "1TbvLkQx-afZ",
    "outputId": "eeeb00cf-43e1-43d9-fe7d-76e9a344cb17"
   },
   "outputs": [
    {
     "data": {
      "text/html": [
       "<div>\n",
       "<style scoped>\n",
       "    .dataframe tbody tr th:only-of-type {\n",
       "        vertical-align: middle;\n",
       "    }\n",
       "\n",
       "    .dataframe tbody tr th {\n",
       "        vertical-align: top;\n",
       "    }\n",
       "\n",
       "    .dataframe thead th {\n",
       "        text-align: right;\n",
       "    }\n",
       "</style>\n",
       "<table border=\"1\" class=\"dataframe\">\n",
       "  <thead>\n",
       "    <tr style=\"text-align: right;\">\n",
       "      <th></th>\n",
       "      <th>3.1 FirstName</th>\n",
       "      <th>3.1 LastName</th>\n",
       "      <th>3.3 Birthdate</th>\n",
       "      <th>turning</th>\n",
       "      <th>month</th>\n",
       "      <th>day</th>\n",
       "    </tr>\n",
       "  </thead>\n",
       "  <tbody>\n",
       "    <tr>\n",
       "      <th>727</th>\n",
       "      <td>T Merson</td>\n",
       "      <td>Doun</td>\n",
       "      <td>2014-06-06</td>\n",
       "      <td>6</td>\n",
       "      <td>6</td>\n",
       "      <td>6</td>\n",
       "    </tr>\n",
       "    <tr>\n",
       "      <th>728</th>\n",
       "      <td>Merlin</td>\n",
       "      <td>Poch</td>\n",
       "      <td>1977-05-20</td>\n",
       "      <td>43</td>\n",
       "      <td>5</td>\n",
       "      <td>20</td>\n",
       "    </tr>\n",
       "    <tr>\n",
       "      <th>768</th>\n",
       "      <td>Issaiah</td>\n",
       "      <td>Stroble</td>\n",
       "      <td>2017-05-25</td>\n",
       "      <td>3</td>\n",
       "      <td>5</td>\n",
       "      <td>25</td>\n",
       "    </tr>\n",
       "    <tr>\n",
       "      <th>769</th>\n",
       "      <td>Mathias</td>\n",
       "      <td>Stroble</td>\n",
       "      <td>2015-05-25</td>\n",
       "      <td>5</td>\n",
       "      <td>5</td>\n",
       "      <td>25</td>\n",
       "    </tr>\n",
       "  </tbody>\n",
       "</table>\n",
       "</div>"
      ],
      "text/plain": [
       "    3.1 FirstName 3.1 LastName 3.3 Birthdate  turning  month  day\n",
       "727      T Merson         Doun    2014-06-06        6      6    6\n",
       "728        Merlin         Poch    1977-05-20       43      5   20\n",
       "768       Issaiah      Stroble    2017-05-25        3      5   25\n",
       "769       Mathias      Stroble    2015-05-25        5      5   25"
      ]
     },
     "execution_count": 48,
     "metadata": {},
     "output_type": "execute_result"
    }
   ],
   "source": [
    "upcomming_bdays"
   ]
  },
  {
   "cell_type": "code",
   "execution_count": 49,
   "metadata": {
    "colab": {},
    "colab_type": "code",
    "id": "7Oge-_F28Bgv"
   },
   "outputs": [],
   "source": [
    "# create new list of those currently enrolled who haven't stayed with us for\n",
    "# two weeks or more\n",
    "\n",
    "\n",
    "\n",
    "current_date = date.today().isoformat()   \n",
    "days_before = (date.today()-timedelta(days=30)).isoformat()\n",
    "\n",
    "need_to_exit = currently_enrolled[currently_enrolled['Date of Last ES Stay (Beta)'] < days_before ]"
   ]
  },
  {
   "cell_type": "code",
   "execution_count": 50,
   "metadata": {
    "colab": {},
    "colab_type": "code",
    "id": "1-Hv8nAx8BmM"
   },
   "outputs": [],
   "source": [
    "exit_df = need_to_exit[['3.1 FirstName', '3.1 LastName', '5.8 Personal ID', '5.9 Household ID', '3.15 Relationship to HoH', 'CaseMembers', '3.10 Enroll Date', 'Date of Last ES Stay (Beta)']].copy()"
   ]
  },
  {
   "cell_type": "code",
   "execution_count": 51,
   "metadata": {
    "colab": {},
    "colab_type": "code",
    "id": "rI3-Dz-k8Bq8"
   },
   "outputs": [],
   "source": [
    "#exit_df.head()"
   ]
  },
  {
   "cell_type": "code",
   "execution_count": 52,
   "metadata": {
    "colab": {},
    "colab_type": "code",
    "id": "dQpA_ZiF8BvS"
   },
   "outputs": [],
   "source": [
    "exit_df.to_excel('G:\\My Drive\\FPData\\old2019\\YTDexit_df.xlsx')"
   ]
  },
  {
   "cell_type": "code",
   "execution_count": 53,
   "metadata": {},
   "outputs": [
    {
     "data": {
      "text/plain": [
       "807"
      ]
     },
     "execution_count": 53,
     "metadata": {},
     "output_type": "execute_result"
    }
   ],
   "source": [
    "total_served = df['5.8 Personal ID']\n",
    "len(total_served)"
   ]
  },
  {
   "cell_type": "code",
   "execution_count": 54,
   "metadata": {
    "colab": {
     "base_uri": "https://localhost:8080/",
     "height": 34
    },
    "colab_type": "code",
    "id": "8VOFBGzR8CVj",
    "outputId": "b566afd4-1b2e-46c2-f3f3-191f59d107d4"
   },
   "outputs": [
    {
     "data": {
      "text/plain": [
       "251"
      ]
     },
     "execution_count": 54,
     "metadata": {},
     "output_type": "execute_result"
    }
   ],
   "source": [
    "households = df['5.9 Household ID'].unique()\n",
    "len(households)"
   ]
  },
  {
   "cell_type": "code",
   "execution_count": 55,
   "metadata": {
    "colab": {
     "base_uri": "https://localhost:8080/",
     "height": 34
    },
    "colab_type": "code",
    "id": "EOcPI0kS8CYt",
    "outputId": "4dbf0f1d-28c4-464e-8426-6e6bd435ca6f"
   },
   "outputs": [
    {
     "data": {
      "text/plain": [
       "251"
      ]
     },
     "execution_count": 55,
     "metadata": {},
     "output_type": "execute_result"
    }
   ],
   "source": [
    "# print total number of families served (unduplicated)\n",
    "unique_households = df['5.9 Household ID'].nunique()\n",
    "unique_households"
   ]
  },
  {
   "cell_type": "code",
   "execution_count": 56,
   "metadata": {
    "colab": {},
    "colab_type": "code",
    "id": "Ww2Wyr8u8Cdr"
   },
   "outputs": [],
   "source": [
    "#@title\n",
    "# replace zeros in data with \"Nan\" to calculate more accurate average bednights \n",
    "df['Count of Bed Nights (Housing Check-ins)'] = df['Count of Bed Nights (Housing Check-ins)'].replace(0, np.NaN)"
   ]
  },
  {
   "cell_type": "code",
   "execution_count": 57,
   "metadata": {
    "colab": {
     "base_uri": "https://localhost:8080/",
     "height": 34
    },
    "colab_type": "code",
    "id": "gCT761zT8Clg",
    "outputId": "dcab12a4-5f18-4d09-e053-3e6372979b8b"
   },
   "outputs": [
    {
     "data": {
      "text/plain": [
       "33.89"
      ]
     },
     "execution_count": 57,
     "metadata": {},
     "output_type": "execute_result"
    }
   ],
   "source": [
    "avg_bn = df['Count of Bed Nights (Housing Check-ins)'].mean()\n",
    "avg_bn = round(avg_bn, 2)\n",
    "avg_bn"
   ]
  },
  {
   "cell_type": "code",
   "execution_count": 58,
   "metadata": {},
   "outputs": [
    {
     "data": {
      "text/plain": [
       "Client refused                                                                                                                   276\n",
       "Emergency shelter, including hotel or motel paid for with emergency shelter voucher, or RHY-funded Host Home shelter             147\n",
       "Rental by client with RRH or equivalent subsidy                                                                                   79\n",
       "Rental by client, no ongoing housing subsidy                                                                                      53\n",
       "No exit interview completed                                                                                                       51\n",
       "Transitional Housing for homeless persons (including homeless youth)                                                              45\n",
       "Rental by client, other ongoing housing subsidy                                                                                   31\n",
       "Staying or living with family, permanent tenure                                                                                   29\n",
       "Staying or living with family, temporary tenure (e.g., room, apartment or house)                                                  25\n",
       "Staying or living with friends, temporary tenure (e.g., room, apartment or house)                                                 19\n",
       "Place not meant for habitation (e.g., a vehicle, an abandoned building, bus/train/subway station/airport or anywhere outside)     17\n",
       "Hotel or Motel paid for without Emergency Shelter Voucher                                                                          4\n",
       "Substance Abuse Treatment or Detox Center                                                                                          2\n",
       "Staying or living with friends, permanent tenure                                                                                   2\n",
       "Foster Care Home or Foster Care Group Home                                                                                         1\n",
       "Psychiatric Hospital or Other Psychiatric Facility                                                                                 1\n",
       "Permanent housing (other than RRH) for formerly homeless persons                                                                   1\n",
       "Owned by client, no ongoing housing subsidy                                                                                        1\n",
       "Name: 3.12 Exit Destination, dtype: int64"
      ]
     },
     "execution_count": 58,
     "metadata": {},
     "output_type": "execute_result"
    }
   ],
   "source": [
    "df['3.12 Exit Destination'].value_counts()"
   ]
  },
  {
   "cell_type": "code",
   "execution_count": 59,
   "metadata": {
    "colab": {},
    "colab_type": "code",
    "id": "NJJ1W9hn8CoV"
   },
   "outputs": [],
   "source": [
    "#@title\n",
    "\n",
    "exit_reasons = ['Rental by client with RRH or equivalent subsidy', \n",
    "                'Rental by client, no ongoing housing subsidy', \n",
    "                'Staying or living with family, permanent tenure', \n",
    "                'Rental by client, other ongoing housing subsidy',\n",
    "                'Permanent housing (other than RRH) for formerly homeless persons', \n",
    "                'Staying or living with friends, permanent tenure', \n",
    "                'Owned by client, with ongoing housing subsidy',\n",
    "                'Owned by client, no ongoing housing subsidy',\n",
    "                'Staying or living with friends, permanent tenure', \n",
    "                'Rental by client, VASH housing Subsidy'\n",
    "               ]\n",
    "\n",
    "temp_reasons = ['Staying or living with family, temporary tenure (e.g., room, apartment or house)', \n",
    "               'Staying or living with friends, temporary tenure (e.g., room, apartment or house)', \n",
    "                \n",
    "               ]"
   ]
  },
  {
   "cell_type": "code",
   "execution_count": 113,
   "metadata": {
    "colab": {},
    "colab_type": "code",
    "id": "pIrEISw18CrA"
   },
   "outputs": [],
   "source": [
    "# drop rows with no exit destination (current guests at time of report)\n",
    "df = df.dropna(subset=['3.12 Exit Destination'])"
   ]
  },
  {
   "cell_type": "code",
   "execution_count": 114,
   "metadata": {},
   "outputs": [
    {
     "data": {
      "text/plain": [
       "True     403\n",
       "False    381\n",
       "Name: minor, dtype: int64"
      ]
     },
     "execution_count": 114,
     "metadata": {},
     "output_type": "execute_result"
    }
   ],
   "source": [
    "df['minor'].value_counts()"
   ]
  },
  {
   "cell_type": "code",
   "execution_count": 61,
   "metadata": {
    "colab": {},
    "colab_type": "code",
    "id": "Ci8sM4b_8Cv7"
   },
   "outputs": [],
   "source": [
    " # create target column (multiple types of exits to perm)\n",
    "df['perm_leaver'] = df['3.12 Exit Destination'].isin(exit_reasons)"
   ]
  },
  {
   "cell_type": "code",
   "execution_count": 62,
   "metadata": {
    "colab": {},
    "colab_type": "code",
    "id": "HLC9DJEB8C7V"
   },
   "outputs": [],
   "source": [
    "#df.head()"
   ]
  },
  {
   "cell_type": "code",
   "execution_count": 63,
   "metadata": {
    "colab": {},
    "colab_type": "code",
    "id": "3iRsv5N08C-j"
   },
   "outputs": [],
   "source": [
    "perm_leaver = df[df['perm_leaver'] == True]"
   ]
  },
  {
   "cell_type": "code",
   "execution_count": 64,
   "metadata": {
    "colab": {},
    "colab_type": "code",
    "id": "lwBgD1zh8DBm"
   },
   "outputs": [],
   "source": [
    "total_perm = perm_leaver.perm_leaver.value_counts().sum()"
   ]
  },
  {
   "cell_type": "code",
   "execution_count": 65,
   "metadata": {
    "colab": {
     "base_uri": "https://localhost:8080/",
     "height": 34
    },
    "colab_type": "code",
    "id": "_zII61cfc5t8",
    "outputId": "4788f149-b613-4f98-f8f8-0a390f126470"
   },
   "outputs": [
    {
     "data": {
      "text/plain": [
       "196"
      ]
     },
     "execution_count": 65,
     "metadata": {},
     "output_type": "execute_result"
    }
   ],
   "source": [
    "total_perm"
   ]
  },
  {
   "cell_type": "code",
   "execution_count": 66,
   "metadata": {
    "colab": {},
    "colab_type": "code",
    "id": "yK-iDD668DHl"
   },
   "outputs": [],
   "source": [
    "non_perm = df[df['perm_leaver'] == False]"
   ]
  },
  {
   "cell_type": "code",
   "execution_count": 67,
   "metadata": {
    "colab": {},
    "colab_type": "code",
    "id": "9a0zHaiZ8C4v"
   },
   "outputs": [],
   "source": [
    "total_non_perm = non_perm.perm_leaver.value_counts().sum()"
   ]
  },
  {
   "cell_type": "code",
   "execution_count": 68,
   "metadata": {
    "colab": {
     "base_uri": "https://localhost:8080/",
     "height": 34
    },
    "colab_type": "code",
    "id": "ga2WNYhi8C1o",
    "outputId": "7b6587d9-aa35-4297-b278-3340becfce73"
   },
   "outputs": [
    {
     "data": {
      "text/plain": [
       "588"
      ]
     },
     "execution_count": 68,
     "metadata": {},
     "output_type": "execute_result"
    }
   ],
   "source": [
    "total_non_perm"
   ]
  },
  {
   "cell_type": "code",
   "execution_count": 69,
   "metadata": {
    "colab": {},
    "colab_type": "code",
    "id": "AnSomhWI8Cy6"
   },
   "outputs": [],
   "source": [
    "perm_percent = total_perm / total_non_perm"
   ]
  },
  {
   "cell_type": "code",
   "execution_count": 70,
   "metadata": {
    "colab": {
     "base_uri": "https://localhost:8080/",
     "height": 34
    },
    "colab_type": "code",
    "id": "-xDehGC98Ctr",
    "outputId": "c6e50a42-f350-42d4-e213-9953e210450b"
   },
   "outputs": [
    {
     "data": {
      "text/plain": [
       "33.0"
      ]
     },
     "execution_count": 70,
     "metadata": {},
     "output_type": "execute_result"
    }
   ],
   "source": [
    "perm_percent = round(perm_percent, 2)*100\n",
    "perm_percent"
   ]
  },
  {
   "cell_type": "code",
   "execution_count": 71,
   "metadata": {
    "colab": {
     "base_uri": "https://localhost:8080/",
     "height": 202
    },
    "colab_type": "code",
    "id": "dxfX8Ui0ktEN",
    "outputId": "b4d06426-b117-4cc3-ba18-a3c69544c072"
   },
   "outputs": [
    {
     "data": {
      "text/plain": [
       "Client refused                                                                                                                   276\n",
       "Emergency shelter, including hotel or motel paid for with emergency shelter voucher, or RHY-funded Host Home shelter             147\n",
       "Rental by client with RRH or equivalent subsidy                                                                                   79\n",
       "Rental by client, no ongoing housing subsidy                                                                                      53\n",
       "No exit interview completed                                                                                                       51\n",
       "Transitional Housing for homeless persons (including homeless youth)                                                              45\n",
       "Rental by client, other ongoing housing subsidy                                                                                   31\n",
       "Staying or living with family, permanent tenure                                                                                   29\n",
       "Staying or living with family, temporary tenure (e.g., room, apartment or house)                                                  25\n",
       "Staying or living with friends, temporary tenure (e.g., room, apartment or house)                                                 19\n",
       "Place not meant for habitation (e.g., a vehicle, an abandoned building, bus/train/subway station/airport or anywhere outside)     17\n",
       "Hotel or Motel paid for without Emergency Shelter Voucher                                                                          4\n",
       "Substance Abuse Treatment or Detox Center                                                                                          2\n",
       "Staying or living with friends, permanent tenure                                                                                   2\n",
       "Foster Care Home or Foster Care Group Home                                                                                         1\n",
       "Psychiatric Hospital or Other Psychiatric Facility                                                                                 1\n",
       "Permanent housing (other than RRH) for formerly homeless persons                                                                   1\n",
       "Owned by client, no ongoing housing subsidy                                                                                        1\n",
       "Name: 3.12 Exit Destination, dtype: int64"
      ]
     },
     "execution_count": 71,
     "metadata": {},
     "output_type": "execute_result"
    }
   ],
   "source": [
    "df['3.12 Exit Destination'].value_counts()"
   ]
  },
  {
   "cell_type": "code",
   "execution_count": 72,
   "metadata": {
    "colab": {},
    "colab_type": "code",
    "id": "ynmpE_p58CjO"
   },
   "outputs": [],
   "source": [
    "unknowns = ['Client refused', 'No exit interview completed']"
   ]
  },
  {
   "cell_type": "code",
   "execution_count": 73,
   "metadata": {
    "colab": {},
    "colab_type": "code",
    "id": "tL8XKevd8Cgm"
   },
   "outputs": [],
   "source": [
    "unknown_df = df[df['3.12 Exit Destination'].isin(unknowns)]"
   ]
  },
  {
   "cell_type": "code",
   "execution_count": 74,
   "metadata": {
    "colab": {},
    "colab_type": "code",
    "id": "NwJi6Y9A8Cbh"
   },
   "outputs": [],
   "source": [
    "unknown_exits = unknown_df['3.12 Exit Destination'].value_counts().sum()"
   ]
  },
  {
   "cell_type": "code",
   "execution_count": 75,
   "metadata": {
    "colab": {
     "base_uri": "https://localhost:8080/",
     "height": 34
    },
    "colab_type": "code",
    "id": "nV8o-guZ8CS_",
    "outputId": "5675fcd6-2f17-4c40-9710-2f90a977fa1f"
   },
   "outputs": [
    {
     "data": {
      "text/plain": [
       "327"
      ]
     },
     "execution_count": 75,
     "metadata": {},
     "output_type": "execute_result"
    }
   ],
   "source": [
    "unknown_exits"
   ]
  },
  {
   "cell_type": "code",
   "execution_count": 76,
   "metadata": {
    "colab": {
     "base_uri": "https://localhost:8080/",
     "height": 34
    },
    "colab_type": "code",
    "id": "AQwRPEhq8CQV",
    "outputId": "16406434-4a1f-4541-c4fc-805aff7b9ac7"
   },
   "outputs": [
    {
     "data": {
      "text/plain": [
       "56.00000000000001"
      ]
     },
     "execution_count": 76,
     "metadata": {},
     "output_type": "execute_result"
    }
   ],
   "source": [
    "unknown_percent = unknown_exits / total_non_perm\n",
    "unknown_percent = round(unknown_percent, 2) *100\n",
    "unknown_percent"
   ]
  },
  {
   "cell_type": "code",
   "execution_count": 77,
   "metadata": {
    "colab": {
     "base_uri": "https://localhost:8080/",
     "height": 34
    },
    "colab_type": "code",
    "id": "SYEDLNIGn8Fc",
    "outputId": "b46d19c4-31bd-436b-f612-1a2fe86cf031"
   },
   "outputs": [
    {
     "data": {
      "text/plain": [
       "784"
      ]
     },
     "execution_count": 77,
     "metadata": {},
     "output_type": "execute_result"
    }
   ],
   "source": [
    "exits = df['3.12 Exit Destination'].value_counts().sum()\n",
    "exits"
   ]
  },
  {
   "cell_type": "code",
   "execution_count": 78,
   "metadata": {
    "colab": {},
    "colab_type": "code",
    "id": "NZsYPUDtngYj"
   },
   "outputs": [],
   "source": [
    "exits = df['3.12 Exit Destination'].value_counts()"
   ]
  },
  {
   "cell_type": "code",
   "execution_count": 79,
   "metadata": {
    "colab": {
     "base_uri": "https://localhost:8080/",
     "height": 34
    },
    "colab_type": "code",
    "id": "qDCEy_ktnghb",
    "outputId": "7c833efa-07d3-427b-8ae3-03191a05ae20"
   },
   "outputs": [
    {
     "data": {
      "text/plain": [
       "147"
      ]
     },
     "execution_count": 79,
     "metadata": {},
     "output_type": "execute_result"
    }
   ],
   "source": [
    "# take sum of ES and Trans exits and divide by total exits, then multiply by 100 to get percentage\n",
    "esExits = exits['Emergency shelter, including hotel or motel paid for with emergency shelter voucher, or RHY-funded Host Home shelter'] \n",
    "#transExits = ((exits['Transitional Housing for homeless persons (including homeless youth)'] / exits.sum()) * 100)\n",
    "# round the answer to nearest hundreth place\n",
    "esExits = (round(esExits, 2))\n",
    "#transExits = (round(transExits, 2))\n",
    "esExits\n",
    "#print('Exits to Transitional',transExits,'%')"
   ]
  },
  {
   "cell_type": "code",
   "execution_count": 80,
   "metadata": {
    "colab": {
     "base_uri": "https://localhost:8080/",
     "height": 34
    },
    "colab_type": "code",
    "id": "Qn2DO8Ep_K4G",
    "outputId": "8cdfc8b7-e597-4d12-f514-4b3413897910"
   },
   "outputs": [
    {
     "data": {
      "text/plain": [
       "44"
      ]
     },
     "execution_count": 80,
     "metadata": {},
     "output_type": "execute_result"
    }
   ],
   "source": [
    "tempExits = df['3.12 Exit Destination'].isin(temp_reasons).sum()\n",
    "\n",
    "tempExits"
   ]
  },
  {
   "cell_type": "code",
   "execution_count": 81,
   "metadata": {
    "colab": {
     "base_uri": "https://localhost:8080/",
     "height": 34
    },
    "colab_type": "code",
    "id": "kuUdutaLAgAN",
    "outputId": "58f644d7-5689-4c0b-f2c3-5d719d628de6"
   },
   "outputs": [
    {
     "data": {
      "text/plain": [
       "45"
      ]
     },
     "execution_count": 81,
     "metadata": {},
     "output_type": "execute_result"
    }
   ],
   "source": [
    "transitional = df['3.12 Exit Destination'] == 'Transitional Housing for homeless persons (including homeless youth)'\n",
    "transitional = transitional.sum()\n",
    "transitional"
   ]
  },
  {
   "cell_type": "code",
   "execution_count": 82,
   "metadata": {
    "colab": {
     "base_uri": "https://localhost:8080/",
     "height": 34
    },
    "colab_type": "code",
    "id": "Q6h_fTjKBUL3",
    "outputId": "139e8d86-701a-4e42-d744-290b340397fd"
   },
   "outputs": [
    {
     "data": {
      "text/plain": [
       "784"
      ]
     },
     "execution_count": 82,
     "metadata": {},
     "output_type": "execute_result"
    }
   ],
   "source": [
    "exits.sum()"
   ]
  },
  {
   "cell_type": "code",
   "execution_count": 83,
   "metadata": {
    "colab": {},
    "colab_type": "code",
    "id": "0um1qmlPG_Vn"
   },
   "outputs": [],
   "source": [
    "total_guests = total_non_perm + total_perm"
   ]
  },
  {
   "cell_type": "code",
   "execution_count": 84,
   "metadata": {
    "colab": {
     "base_uri": "https://localhost:8080/",
     "height": 34
    },
    "colab_type": "code",
    "id": "BnJ28vV-BEMp",
    "outputId": "e5b0cc36-fffb-457b-b93c-68f0172381ac"
   },
   "outputs": [
    {
     "data": {
      "text/plain": [
       "5.74"
      ]
     },
     "execution_count": 84,
     "metadata": {},
     "output_type": "execute_result"
    }
   ],
   "source": [
    "trans_percent = (transitional / exits.sum())*100\n",
    "trans_percent = round(trans_percent, 2)\n",
    "trans_percent"
   ]
  },
  {
   "cell_type": "code",
   "execution_count": 85,
   "metadata": {
    "colab": {},
    "colab_type": "code",
    "id": "QMAxXsZsfCz7"
   },
   "outputs": [],
   "source": [
    "#zips_master"
   ]
  },
  {
   "cell_type": "code",
   "execution_count": 86,
   "metadata": {
    "colab": {
     "base_uri": "https://localhost:8080/",
     "height": 353
    },
    "colab_type": "code",
    "id": "rJSaf-Synglo",
    "outputId": "99a462f5-c77d-4724-bcf4-0451e44d3601"
   },
   "outputs": [
    {
     "data": {
      "text/plain": [
       "Spokane                    10\n",
       "Spokane Valley              4\n",
       "Mountain Home               2\n",
       "Great Falls                 2\n",
       "South Bend                  1\n",
       "Olympia                     1\n",
       "Chewelah                    1\n",
       "Alexandria                  1\n",
       "Bakersfield                 1\n",
       "Clarkston                   1\n",
       "Greenacres                  1\n",
       "Colville                    1\n",
       "Vancouver                   1\n",
       "Tucson                      1\n",
       "Milwaukee                   1\n",
       "Cheney                      1\n",
       "Marrero                     1\n",
       "Salt Lake City              1\n",
       "Omak                        1\n",
       "Wellpinit                   1\n",
       "Everett                     1\n",
       "Santa Rosa                  1\n",
       "Anderson                    1\n",
       "Grand Coulee                1\n",
       "Pullman                     1\n",
       "Ligonier                    1\n",
       "Windsor Mill                1\n",
       "Puyallup                    1\n",
       "Nampa                       1\n",
       "Cedar City                  1\n",
       "Medical Lake                1\n",
       "Walla Walla                 1\n",
       "Lolo                        1\n",
       "San Antonio                 1\n",
       "Moscow                      1\n",
       "Dubuque                     1\n",
       "Williston                   1\n",
       "Glendale                    1\n",
       "Hawthorne                   1\n",
       "Fort Myers                  1\n",
       "Hoodsport                   1\n",
       "Twin Falls                  1\n",
       "Alpena                      1\n",
       "Veradale/Spokane Valley     1\n",
       "Kettle Falls                1\n",
       "Deer Park                   1\n",
       "Liberty Lake                1\n",
       "Newport                     1\n",
       "Tillamook                   1\n",
       "Moses Lake                  1\n",
       "Jensen Beach                1\n",
       "Airway Heights              1\n",
       "Inglewood                   1\n",
       "Ritzville                   1\n",
       "Ogden                       1\n",
       "Celina                      1\n",
       "Name: V5 City, dtype: int64"
      ]
     },
     "execution_count": 86,
     "metadata": {},
     "output_type": "execute_result"
    }
   ],
   "source": [
    "# export zips into an excel sheet for Power BI visual\n",
    "zips_master = pd.read_excel(r'C:\\Users\\jwyli\\Downloads\\uszips.xlsx')\n",
    "\n",
    "\n",
    "\n",
    "# Import pandas library \n",
    "import pandas as pd \n",
    "  \n",
    "# initialize list of lists \n",
    "zips_bi = df['V5 Zip'].value_counts().to_frame('Total').reset_index(level=0, inplace=False)\n",
    "zips_bi = zips_bi.rename(columns={\"index\": \"V5 Zip\"})\n",
    "zips_bi = zips_bi.merge(zips_master,on='V5 Zip')\n",
    "zips_bi['V5 City'].value_counts()"
   ]
  },
  {
   "cell_type": "code",
   "execution_count": 87,
   "metadata": {
    "colab": {
     "base_uri": "https://localhost:8080/",
     "height": 34
    },
    "colab_type": "code",
    "id": "0tqQPx8jkcFZ",
    "outputId": "f61da453-4b00-4ed6-d361-c0e18789840c"
   },
   "outputs": [
    {
     "data": {
      "text/plain": [
       "pandas.core.frame.DataFrame"
      ]
     },
     "execution_count": 87,
     "metadata": {},
     "output_type": "execute_result"
    }
   ],
   "source": [
    "type(zips_bi)"
   ]
  },
  {
   "cell_type": "code",
   "execution_count": 88,
   "metadata": {
    "colab": {},
    "colab_type": "code",
    "id": "vrFpUs9TBWkG"
   },
   "outputs": [],
   "source": [
    "zips_bi.to_excel('G:\\My Drive\\FPData\\old2019\\weeklyYTDzips.xlsx', header=True, index=False)"
   ]
  },
  {
   "cell_type": "code",
   "execution_count": 89,
   "metadata": {
    "colab": {},
    "colab_type": "code",
    "id": "_DNkcjdUBS3b"
   },
   "outputs": [],
   "source": [
    "other_reasons = ['Place not meant for habitation (e.g., a vehicle, an abandoned building, bus/train/subway station/airport or anywhere outside)',\n",
    "                 'Hotel or Motel paid for without Emergency Shelter Voucher', 'Other', 'Substance Abuse Treatment or Detox Center',\n",
    "                 'Foster Care Home or Foster Care Group Home', 'Psychiatric Hospital or Other Psychiatric Facility']"
   ]
  },
  {
   "cell_type": "code",
   "execution_count": 90,
   "metadata": {},
   "outputs": [
    {
     "data": {
      "text/plain": [
       "Client refused                                                                                                                   276\n",
       "Emergency shelter, including hotel or motel paid for with emergency shelter voucher, or RHY-funded Host Home shelter             147\n",
       "Rental by client with RRH or equivalent subsidy                                                                                   79\n",
       "Rental by client, no ongoing housing subsidy                                                                                      53\n",
       "No exit interview completed                                                                                                       51\n",
       "Transitional Housing for homeless persons (including homeless youth)                                                              45\n",
       "Rental by client, other ongoing housing subsidy                                                                                   31\n",
       "Staying or living with family, permanent tenure                                                                                   29\n",
       "Staying or living with family, temporary tenure (e.g., room, apartment or house)                                                  25\n",
       "Staying or living with friends, temporary tenure (e.g., room, apartment or house)                                                 19\n",
       "Place not meant for habitation (e.g., a vehicle, an abandoned building, bus/train/subway station/airport or anywhere outside)     17\n",
       "Hotel or Motel paid for without Emergency Shelter Voucher                                                                          4\n",
       "Substance Abuse Treatment or Detox Center                                                                                          2\n",
       "Staying or living with friends, permanent tenure                                                                                   2\n",
       "Foster Care Home or Foster Care Group Home                                                                                         1\n",
       "Psychiatric Hospital or Other Psychiatric Facility                                                                                 1\n",
       "Permanent housing (other than RRH) for formerly homeless persons                                                                   1\n",
       "Owned by client, no ongoing housing subsidy                                                                                        1\n",
       "Name: 3.12 Exit Destination, dtype: int64"
      ]
     },
     "execution_count": 90,
     "metadata": {},
     "output_type": "execute_result"
    }
   ],
   "source": [
    "df['3.12 Exit Destination'].value_counts()"
   ]
  },
  {
   "cell_type": "code",
   "execution_count": 91,
   "metadata": {
    "colab": {},
    "colab_type": "code",
    "id": "4gWB-8-5KoH6"
   },
   "outputs": [],
   "source": [
    "other = df['3.12 Exit Destination'].isin(other_reasons)"
   ]
  },
  {
   "cell_type": "code",
   "execution_count": 92,
   "metadata": {
    "colab": {
     "base_uri": "https://localhost:8080/",
     "height": 34
    },
    "colab_type": "code",
    "id": "q-tuRBUAKvGk",
    "outputId": "cb9047de-5f49-4236-e348-3c5f10062aec"
   },
   "outputs": [
    {
     "data": {
      "text/plain": [
       "25"
      ]
     },
     "execution_count": 92,
     "metadata": {},
     "output_type": "execute_result"
    }
   ],
   "source": [
    "other.sum()\n",
    "other = other.sum()\n",
    "other"
   ]
  },
  {
   "cell_type": "code",
   "execution_count": 93,
   "metadata": {
    "colab": {
     "base_uri": "https://localhost:8080/",
     "height": 218
    },
    "colab_type": "code",
    "id": "X3E19k09pBGo",
    "outputId": "dc9d4654-6278-4fdd-f1d0-b6b902e375b6"
   },
   "outputs": [
    {
     "data": {
      "text/plain": [
       "0      No\n",
       "1      No\n",
       "2      No\n",
       "3      No\n",
       "4      No\n",
       "       ..\n",
       "802    No\n",
       "803    No\n",
       "804    No\n",
       "805    No\n",
       "806    No\n",
       "Name: 4.04.7 Private - Employer, Length: 784, dtype: object"
      ]
     },
     "execution_count": 93,
     "metadata": {},
     "output_type": "execute_result"
    }
   ],
   "source": [
    "df['4.04.7 Private - Employer']"
   ]
  },
  {
   "cell_type": "code",
   "execution_count": 94,
   "metadata": {
    "colab": {
     "base_uri": "https://localhost:8080/",
     "height": 202
    },
    "colab_type": "code",
    "id": "h2RsCB-BKIcH",
    "outputId": "33926f19-6ee0-46ce-afe8-a2aa16f203f7"
   },
   "outputs": [
    {
     "data": {
      "text/plain": [
       "Client refused                                                                                                                   276\n",
       "Emergency shelter, including hotel or motel paid for with emergency shelter voucher, or RHY-funded Host Home shelter             147\n",
       "Rental by client with RRH or equivalent subsidy                                                                                   79\n",
       "Rental by client, no ongoing housing subsidy                                                                                      53\n",
       "No exit interview completed                                                                                                       51\n",
       "Transitional Housing for homeless persons (including homeless youth)                                                              45\n",
       "Rental by client, other ongoing housing subsidy                                                                                   31\n",
       "Staying or living with family, permanent tenure                                                                                   29\n",
       "Staying or living with family, temporary tenure (e.g., room, apartment or house)                                                  25\n",
       "Staying or living with friends, temporary tenure (e.g., room, apartment or house)                                                 19\n",
       "Place not meant for habitation (e.g., a vehicle, an abandoned building, bus/train/subway station/airport or anywhere outside)     17\n",
       "Hotel or Motel paid for without Emergency Shelter Voucher                                                                          4\n",
       "Substance Abuse Treatment or Detox Center                                                                                          2\n",
       "Staying or living with friends, permanent tenure                                                                                   2\n",
       "Foster Care Home or Foster Care Group Home                                                                                         1\n",
       "Psychiatric Hospital or Other Psychiatric Facility                                                                                 1\n",
       "Permanent housing (other than RRH) for formerly homeless persons                                                                   1\n",
       "Owned by client, no ongoing housing subsidy                                                                                        1\n",
       "Name: 3.12 Exit Destination, dtype: int64"
      ]
     },
     "execution_count": 94,
     "metadata": {},
     "output_type": "execute_result"
    }
   ],
   "source": [
    "df['3.12 Exit Destination'].value_counts()"
   ]
  },
  {
   "cell_type": "code",
   "execution_count": 95,
   "metadata": {
    "colab": {
     "base_uri": "https://localhost:8080/",
     "height": 168
    },
    "colab_type": "code",
    "id": "ZnbNsVKWCD1q",
    "outputId": "b1efc922-d686-4ff6-be5e-c98ad3d57c65"
   },
   "outputs": [
    {
     "name": "stdout",
     "output_type": "stream",
     "text": [
      "784 total guests served YTD\n",
      "588 total non perm leavers\n",
      "196 total perm leavers\n",
      "147 total ES leavers\n",
      "44 total temp leavers\n",
      "45 total trans leavers\n",
      "25 total leavers to \"other\"\n",
      "327 total unknown leavers\n",
      "sum of all groups to make sure it matches total served: 784\n"
     ]
    }
   ],
   "source": [
    "print(total_guests, 'total guests served YTD')\n",
    "print(total_non_perm, 'total non perm leavers')\n",
    "print(total_perm, 'total perm leavers')\n",
    "print(esExits, 'total ES leavers')\n",
    "print(tempExits, 'total temp leavers')\n",
    "print(transitional, 'total trans leavers')\n",
    "print(other, 'total leavers to \"other\"')\n",
    "print(unknown_exits, 'total unknown leavers')\n",
    "print('sum of all groups to make sure it matches total served:',total_perm+esExits+tempExits+transitional+other+unknown_exits)"
   ]
  },
  {
   "cell_type": "code",
   "execution_count": 96,
   "metadata": {
    "colab": {
     "base_uri": "https://localhost:8080/",
     "height": 34
    },
    "colab_type": "code",
    "id": "PDZz_r2m9D7N",
    "outputId": "51a922dd-2ac5-4e10-e593-c0d9a92bf7da"
   },
   "outputs": [
    {
     "data": {
      "text/plain": [
       "784"
      ]
     },
     "execution_count": 96,
     "metadata": {},
     "output_type": "execute_result"
    }
   ],
   "source": [
    "total_perm+esExits+tempExits+transitional+other+unknown_exits"
   ]
  },
  {
   "cell_type": "code",
   "execution_count": 97,
   "metadata": {},
   "outputs": [
    {
     "data": {
      "text/plain": [
       "784"
      ]
     },
     "execution_count": 97,
     "metadata": {},
     "output_type": "execute_result"
    }
   ],
   "source": [
    "total_perm+total_non_perm"
   ]
  },
  {
   "cell_type": "code",
   "execution_count": 98,
   "metadata": {
    "colab": {},
    "colab_type": "code",
    "id": "-4mmzx3ONuM_"
   },
   "outputs": [],
   "source": [
    "assert((total_guests) == (total_perm+esExits+tempExits+transitional+other+unknown_exits))"
   ]
  },
  {
   "cell_type": "code",
   "execution_count": 99,
   "metadata": {
    "colab": {
     "base_uri": "https://localhost:8080/",
     "height": 54
    },
    "colab_type": "code",
    "id": "gTMhjHGZ9zO3",
    "outputId": "c2b325b7-98bf-40b8-f0ac-67f67418f173"
   },
   "outputs": [
    {
     "data": {
      "text/plain": [
       "\"perm_bi = '{} %'.format(perm_percent)\\nes_bi = '{} %'.format(esExits)\\ntemp_bi = '{} %'.format(tempExits)\\ntrans_bi = '{} %'.format(trans_percent)\\nunknown_bi = '{} %'.format(unknown_percent)\""
      ]
     },
     "execution_count": 99,
     "metadata": {},
     "output_type": "execute_result"
    }
   ],
   "source": [
    "'''perm_bi = '{} %'.format(perm_percent)\n",
    "es_bi = '{} %'.format(esExits)\n",
    "temp_bi = '{} %'.format(tempExits)\n",
    "trans_bi = '{} %'.format(trans_percent)\n",
    "unknown_bi = '{} %'.format(unknown_percent)'''"
   ]
  },
  {
   "cell_type": "code",
   "execution_count": 100,
   "metadata": {
    "colab": {
     "base_uri": "https://localhost:8080/",
     "height": 54
    },
    "colab_type": "code",
    "id": "xpHfeQp89zHH",
    "outputId": "adadee33-bc0e-4aca-c0fd-fed975ab7638"
   },
   "outputs": [
    {
     "data": {
      "text/plain": [
       "\"power_bi = pd.DataFrame({'Permanent Leavers': total_perm, 'Emergency Shelter Leavers': esExits, \\n                         'Temporary Leavers': tempExits, 'Transitional Leavers': transitional, \\n                         'Unknown Leavers': unknown_exits, 'Other Leavers': other, 'Total': total_guests }, index=[0])\""
      ]
     },
     "execution_count": 100,
     "metadata": {},
     "output_type": "execute_result"
    }
   ],
   "source": [
    "'''power_bi = pd.DataFrame({'Permanent Leavers': total_perm, 'Emergency Shelter Leavers': esExits, \n",
    "                         'Temporary Leavers': tempExits, 'Transitional Leavers': transitional, \n",
    "                         'Unknown Leavers': unknown_exits, 'Other Leavers': other, 'Total': total_guests }, index=[0])'''\n"
   ]
  },
  {
   "cell_type": "code",
   "execution_count": 101,
   "metadata": {
    "colab": {},
    "colab_type": "code",
    "id": "Ou9YSkX1TO_r"
   },
   "outputs": [],
   "source": [
    "# Import pandas library \n",
    "import pandas as pd \n",
    "  \n",
    "# initialize list of lists \n",
    "data = [['Permanent Leavers', total_perm], ['Emergency Shelter Leavers', esExits], \n",
    "        ['Temporary Leavers', tempExits], ['Transitional Leavers', transitional],\n",
    "        ['Unknown Leavers', unknown_exits], ['Other Leavers', other]] \n",
    "  \n",
    "\n",
    "\n",
    "# Create the pandas DataFrame \n",
    "power_bi = pd.DataFrame(data, columns = ['Exit Destination', 'Total']) \n",
    "  \n",
    "# print dataframe. "
   ]
  },
  {
   "cell_type": "code",
   "execution_count": 102,
   "metadata": {
    "colab": {
     "base_uri": "https://localhost:8080/",
     "height": 225
    },
    "colab_type": "code",
    "id": "CwWzCqxbRwig",
    "outputId": "d01ead3b-7bb7-4b90-e17a-7cc107dc9b87"
   },
   "outputs": [
    {
     "data": {
      "text/html": [
       "<div>\n",
       "<style scoped>\n",
       "    .dataframe tbody tr th:only-of-type {\n",
       "        vertical-align: middle;\n",
       "    }\n",
       "\n",
       "    .dataframe tbody tr th {\n",
       "        vertical-align: top;\n",
       "    }\n",
       "\n",
       "    .dataframe thead th {\n",
       "        text-align: right;\n",
       "    }\n",
       "</style>\n",
       "<table border=\"1\" class=\"dataframe\">\n",
       "  <thead>\n",
       "    <tr style=\"text-align: right;\">\n",
       "      <th></th>\n",
       "      <th>Exit Destination</th>\n",
       "      <th>Total</th>\n",
       "    </tr>\n",
       "  </thead>\n",
       "  <tbody>\n",
       "    <tr>\n",
       "      <th>0</th>\n",
       "      <td>Permanent Leavers</td>\n",
       "      <td>196</td>\n",
       "    </tr>\n",
       "    <tr>\n",
       "      <th>1</th>\n",
       "      <td>Emergency Shelter Leavers</td>\n",
       "      <td>147</td>\n",
       "    </tr>\n",
       "    <tr>\n",
       "      <th>2</th>\n",
       "      <td>Temporary Leavers</td>\n",
       "      <td>44</td>\n",
       "    </tr>\n",
       "    <tr>\n",
       "      <th>3</th>\n",
       "      <td>Transitional Leavers</td>\n",
       "      <td>45</td>\n",
       "    </tr>\n",
       "    <tr>\n",
       "      <th>4</th>\n",
       "      <td>Unknown Leavers</td>\n",
       "      <td>327</td>\n",
       "    </tr>\n",
       "    <tr>\n",
       "      <th>5</th>\n",
       "      <td>Other Leavers</td>\n",
       "      <td>25</td>\n",
       "    </tr>\n",
       "  </tbody>\n",
       "</table>\n",
       "</div>"
      ],
      "text/plain": [
       "            Exit Destination  Total\n",
       "0          Permanent Leavers    196\n",
       "1  Emergency Shelter Leavers    147\n",
       "2          Temporary Leavers     44\n",
       "3       Transitional Leavers     45\n",
       "4            Unknown Leavers    327\n",
       "5              Other Leavers     25"
      ]
     },
     "execution_count": 102,
     "metadata": {},
     "output_type": "execute_result"
    }
   ],
   "source": [
    "power_bi"
   ]
  },
  {
   "cell_type": "code",
   "execution_count": 103,
   "metadata": {
    "colab": {
     "base_uri": "https://localhost:8080/",
     "height": 34
    },
    "colab_type": "code",
    "id": "HKQjkUoWOIaX",
    "outputId": "af2cccbd-c399-4a79-d8d4-1eec83d0fe7b"
   },
   "outputs": [
    {
     "data": {
      "text/plain": [
       "784"
      ]
     },
     "execution_count": 103,
     "metadata": {},
     "output_type": "execute_result"
    }
   ],
   "source": [
    "power_bi.Total.sum()"
   ]
  },
  {
   "cell_type": "code",
   "execution_count": 104,
   "metadata": {
    "colab": {},
    "colab_type": "code",
    "id": "xvlIe_kHDcf_"
   },
   "outputs": [],
   "source": [
    "power_bi.to_excel('G:\\My Drive\\FPData\\old2019\\YTDweeklyDataNew.xlsx')"
   ]
  },
  {
   "cell_type": "code",
   "execution_count": 105,
   "metadata": {
    "colab": {
     "base_uri": "https://localhost:8080/",
     "height": 34
    },
    "colab_type": "code",
    "id": "4LzqAInqz7Qi",
    "outputId": "74c0894e-2622-499a-8e37-d63e6b20e2fb"
   },
   "outputs": [
    {
     "data": {
      "text/plain": [
       "784"
      ]
     },
     "execution_count": 105,
     "metadata": {},
     "output_type": "execute_result"
    }
   ],
   "source": [
    "df['3.12 Exit Destination'].value_counts().sum()"
   ]
  },
  {
   "cell_type": "code",
   "execution_count": 106,
   "metadata": {
    "colab": {},
    "colab_type": "code",
    "id": "_vbHYZfez8X1"
   },
   "outputs": [],
   "source": [
    "assert(power_bi.Total.sum() == df['3.12 Exit Destination'].value_counts().sum())"
   ]
  },
  {
   "cell_type": "code",
   "execution_count": null,
   "metadata": {
    "colab": {},
    "colab_type": "code",
    "id": "mvU3y79Nz8jK"
   },
   "outputs": [],
   "source": []
  }
 ],
 "metadata": {
  "colab": {
   "authorship_tag": "ABX9TyNoW5Fobz0v57wT+ziToKN8",
   "collapsed_sections": [],
   "include_colab_link": true,
   "name": "PowerBI Project.ipynb",
   "provenance": []
  },
  "kernelspec": {
   "display_name": "Python 3",
   "language": "python",
   "name": "python3"
  },
  "language_info": {
   "codemirror_mode": {
    "name": "ipython",
    "version": 3
   },
   "file_extension": ".py",
   "mimetype": "text/x-python",
   "name": "python",
   "nbconvert_exporter": "python",
   "pygments_lexer": "ipython3",
   "version": "3.7.1"
  }
 },
 "nbformat": 4,
 "nbformat_minor": 4
}
