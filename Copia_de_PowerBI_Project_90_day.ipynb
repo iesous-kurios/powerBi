{
  "nbformat": 4,
  "nbformat_minor": 0,
  "metadata": {
    "colab": {
      "name": "Copia de PowerBI Project 90 day.ipynb",
      "provenance": [],
      "collapsed_sections": [],
      "authorship_tag": "ABX9TyMpVS+l7XCO8f+aH9HL3K03",
      "include_colab_link": true
    },
    "kernelspec": {
      "name": "python3",
      "display_name": "Python 3"
    }
  },
  "cells": [
    {
      "cell_type": "markdown",
      "metadata": {
        "id": "view-in-github",
        "colab_type": "text"
      },
      "source": [
        "<a href=\"https://colab.research.google.com/github/iesous-kurios/powerBi/blob/master/Copia_de_PowerBI_Project_90_day.ipynb\" target=\"_parent\"><img src=\"https://colab.research.google.com/assets/colab-badge.svg\" alt=\"Open In Colab\"/></a>"
      ]
    },
    {
      "cell_type": "code",
      "metadata": {
        "id": "zjBsBizH7yB8",
        "colab_type": "code",
        "outputId": "3a79e5a3-040f-4c6a-82a8-89428bc3a5aa",
        "colab": {
          "base_uri": "https://localhost:8080/",
          "height": 90
        }
      },
      "source": [
        "#@title\n",
        "# import libraries which provide math functions to our data imports\n",
        "import statistics\n",
        "import numpy as np\n",
        "import pandas as pd\n",
        "import matplotlib.pyplot as plt\n",
        "import xlwt \n",
        "from xlwt import Workbook\n",
        "import seaborn as sns\n",
        "\n",
        "import matplotlib.pyplot as plt\n",
        "import matplotlib\n",
        "from matplotlib import style\n",
        "\n",
        "sns.__version__"
      ],
      "execution_count": 1,
      "outputs": [
        {
          "output_type": "stream",
          "text": [
            "/usr/local/lib/python3.6/dist-packages/statsmodels/tools/_testing.py:19: FutureWarning: pandas.util.testing is deprecated. Use the functions in the public API at pandas.testing instead.\n",
            "  import pandas.util.testing as tm\n"
          ],
          "name": "stderr"
        },
        {
          "output_type": "execute_result",
          "data": {
            "text/plain": [
              "'0.10.1'"
            ]
          },
          "metadata": {
            "tags": []
          },
          "execution_count": 1
        }
      ]
    },
    {
      "cell_type": "code",
      "metadata": {
        "id": "Z6VNl226YorH",
        "colab_type": "code",
        "outputId": "3589f3a7-cb11-4c77-8515-115e1e489138",
        "colab": {
          "base_uri": "https://localhost:8080/",
          "height": 126
        }
      },
      "source": [
        "from google.colab import drive\n",
        "drive.mount('/content/drive')"
      ],
      "execution_count": 2,
      "outputs": [
        {
          "output_type": "stream",
          "text": [
            "Go to this URL in a browser: https://accounts.google.com/o/oauth2/auth?client_id=947318989803-6bn6qk8qdgf4n4g3pfee6491hc0brc4i.apps.googleusercontent.com&redirect_uri=urn%3aietf%3awg%3aoauth%3a2.0%3aoob&response_type=code&scope=email%20https%3a%2f%2fwww.googleapis.com%2fauth%2fdocs.test%20https%3a%2f%2fwww.googleapis.com%2fauth%2fdrive%20https%3a%2f%2fwww.googleapis.com%2fauth%2fdrive.photos.readonly%20https%3a%2f%2fwww.googleapis.com%2fauth%2fpeopleapi.readonly\n",
            "\n",
            "Enter your authorization code:\n",
            "··········\n",
            "Mounted at /content/drive\n"
          ],
          "name": "stdout"
        }
      ]
    },
    {
      "cell_type": "code",
      "metadata": {
        "id": "nousgp7Q8BWd",
        "colab_type": "code",
        "colab": {}
      },
      "source": [
        "#@title\n",
        "# import weekly data from yearly FPS folder\n",
        "df = pd.read_excel('/content/FP_90day_April30.xlsx')\n",
        "#df = pd.read_excel ('~/environments/fp_env/family_promise_data/data/ClientTrackExport (5).xlsx')"
      ],
      "execution_count": 0,
      "outputs": []
    },
    {
      "cell_type": "code",
      "metadata": {
        "id": "mIeJ5QM88BbL",
        "colab_type": "code",
        "colab": {}
      },
      "source": [
        "# get list of currently enrolled guests (guests that don't have an exit date)\n",
        "currently_enrolled = df[df['3.11 Exit Date'].isnull()]"
      ],
      "execution_count": 0,
      "outputs": []
    },
    {
      "cell_type": "code",
      "metadata": {
        "id": "OELBYoSOTjdN",
        "colab_type": "code",
        "colab": {}
      },
      "source": [
        "#currently_enrolled.head()"
      ],
      "execution_count": 0,
      "outputs": []
    },
    {
      "cell_type": "code",
      "metadata": {
        "id": "7Oge-_F28Bgv",
        "colab_type": "code",
        "colab": {}
      },
      "source": [
        "# create new list of those currently enrolled who haven't stayed with us for\n",
        "# two weeks or more\n",
        "\n",
        "from datetime import date, timedelta\n",
        "\n",
        "current_date = date.today().isoformat()   \n",
        "days_before = (date.today()-timedelta(days=30)).isoformat()\n",
        "\n",
        "need_to_exit = currently_enrolled[currently_enrolled['Date of Last ES Stay (Beta)'] < days_before ]"
      ],
      "execution_count": 0,
      "outputs": []
    },
    {
      "cell_type": "code",
      "metadata": {
        "id": "1-Hv8nAx8BmM",
        "colab_type": "code",
        "colab": {}
      },
      "source": [
        "exit_df = need_to_exit[['3.1 FirstName', '3.1 LastName', '5.8 Personal ID', '5.9 Household ID', '3.15 Relationship to HoH', 'CaseMembers', '3.10 Enroll Date', 'Date of Last ES Stay (Beta)']].copy()"
      ],
      "execution_count": 0,
      "outputs": []
    },
    {
      "cell_type": "code",
      "metadata": {
        "id": "rI3-Dz-k8Bq8",
        "colab_type": "code",
        "colab": {}
      },
      "source": [
        "#exit_df.head()"
      ],
      "execution_count": 0,
      "outputs": []
    },
    {
      "cell_type": "code",
      "metadata": {
        "id": "dQpA_ZiF8BvS",
        "colab_type": "code",
        "colab": {}
      },
      "source": [
        "exit_df.to_excel('/content/drive/My Drive/FPData/90 Day Data/90Dayexit_df.xlsx')\n",
        "\n"
      ],
      "execution_count": 0,
      "outputs": []
    },
    {
      "cell_type": "code",
      "metadata": {
        "id": "8VOFBGzR8CVj",
        "colab_type": "code",
        "outputId": "692830b9-6169-4675-afad-2fb8a22d79f0",
        "colab": {
          "base_uri": "https://localhost:8080/",
          "height": 35
        }
      },
      "source": [
        "households = df['5.9 Household ID'].unique()\n",
        "len(households)"
      ],
      "execution_count": 10,
      "outputs": [
        {
          "output_type": "execute_result",
          "data": {
            "text/plain": [
              "65"
            ]
          },
          "metadata": {
            "tags": []
          },
          "execution_count": 10
        }
      ]
    },
    {
      "cell_type": "code",
      "metadata": {
        "id": "EOcPI0kS8CYt",
        "colab_type": "code",
        "outputId": "7791da5c-0b30-4a62-8aab-dbf47a5c8c23",
        "colab": {
          "base_uri": "https://localhost:8080/",
          "height": 35
        }
      },
      "source": [
        "# print total number of families served (unduplicated)\n",
        "unique_households = df['5.9 Household ID'].nunique()\n",
        "unique_households"
      ],
      "execution_count": 11,
      "outputs": [
        {
          "output_type": "execute_result",
          "data": {
            "text/plain": [
              "65"
            ]
          },
          "metadata": {
            "tags": []
          },
          "execution_count": 11
        }
      ]
    },
    {
      "cell_type": "code",
      "metadata": {
        "id": "Ww2Wyr8u8Cdr",
        "colab_type": "code",
        "colab": {}
      },
      "source": [
        "#@title\n",
        "# replace zeros in data with \"Nan\" to calculate more accurate average bednights \n",
        "df['Count of Bed Nights (Housing Check-ins)'] = df['Count of Bed Nights (Housing Check-ins)'].replace(0, np.NaN)"
      ],
      "execution_count": 0,
      "outputs": []
    },
    {
      "cell_type": "code",
      "metadata": {
        "id": "gCT761zT8Clg",
        "colab_type": "code",
        "outputId": "1bb7f176-369c-4920-9433-c6e2a31853c4",
        "colab": {
          "base_uri": "https://localhost:8080/",
          "height": 35
        }
      },
      "source": [
        "avg_bn = df['Count of Bed Nights (Housing Check-ins)'].mean()\n",
        "avg_bn = round(avg_bn, 2)\n",
        "avg_bn"
      ],
      "execution_count": 13,
      "outputs": [
        {
          "output_type": "execute_result",
          "data": {
            "text/plain": [
              "55.71"
            ]
          },
          "metadata": {
            "tags": []
          },
          "execution_count": 13
        }
      ]
    },
    {
      "cell_type": "code",
      "metadata": {
        "id": "NJJ1W9hn8CoV",
        "colab_type": "code",
        "colab": {}
      },
      "source": [
        "#@title\n",
        "\n",
        "exit_reasons = ['Rental by client with RRH or equivalent subsidy', \n",
        "                'Rental by client, no ongoing housing subsidy', \n",
        "                'Staying or living with family, permanent tenure', \n",
        "                'Rental by client, other ongoing housing subsidy',\n",
        "                'Permanent housing (other than RRH) for formerly homeless persons', \n",
        "                'Staying or living with friends, permanent tenure', \n",
        "                'Owned by client, with ongoing housing subsidy', \n",
        "                'Staying or living with friends, permanent tenure', \n",
        "                'Rental by client, VASH housing Subsidy'\n",
        "               ]\n",
        "\n",
        "temp_reasons = ['Staying or living with family, temporary tenure (e.g., room, apartment or house)', \n",
        "               'Staying or living with friends, temporary tenure (e.g., room, apartment or house)', \n",
        "                \n",
        "               ]"
      ],
      "execution_count": 0,
      "outputs": []
    },
    {
      "cell_type": "code",
      "metadata": {
        "id": "pIrEISw18CrA",
        "colab_type": "code",
        "colab": {}
      },
      "source": [
        "# drop rows with no exit destination (current guests at time of report)\n",
        "df = df.dropna(subset=['3.12 Exit Destination'])"
      ],
      "execution_count": 0,
      "outputs": []
    },
    {
      "cell_type": "code",
      "metadata": {
        "id": "Ci8sM4b_8Cv7",
        "colab_type": "code",
        "colab": {}
      },
      "source": [
        " # create target column (multiple types of exits to perm)\n",
        "df['perm_leaver'] = df['3.12 Exit Destination'].isin(exit_reasons)"
      ],
      "execution_count": 0,
      "outputs": []
    },
    {
      "cell_type": "code",
      "metadata": {
        "id": "HLC9DJEB8C7V",
        "colab_type": "code",
        "colab": {}
      },
      "source": [
        "#df.head()"
      ],
      "execution_count": 0,
      "outputs": []
    },
    {
      "cell_type": "code",
      "metadata": {
        "id": "3iRsv5N08C-j",
        "colab_type": "code",
        "colab": {}
      },
      "source": [
        "perm_leaver = df[df['perm_leaver'] == True]"
      ],
      "execution_count": 0,
      "outputs": []
    },
    {
      "cell_type": "code",
      "metadata": {
        "id": "lwBgD1zh8DBm",
        "colab_type": "code",
        "colab": {}
      },
      "source": [
        "total_perm = perm_leaver.perm_leaver.value_counts().sum()"
      ],
      "execution_count": 0,
      "outputs": []
    },
    {
      "cell_type": "code",
      "metadata": {
        "id": "_zII61cfc5t8",
        "colab_type": "code",
        "outputId": "766212b6-1078-4263-e9e8-be5532011f68",
        "colab": {
          "base_uri": "https://localhost:8080/",
          "height": 35
        }
      },
      "source": [
        "total_perm"
      ],
      "execution_count": 20,
      "outputs": [
        {
          "output_type": "execute_result",
          "data": {
            "text/plain": [
              "62"
            ]
          },
          "metadata": {
            "tags": []
          },
          "execution_count": 20
        }
      ]
    },
    {
      "cell_type": "code",
      "metadata": {
        "id": "yK-iDD668DHl",
        "colab_type": "code",
        "colab": {}
      },
      "source": [
        "non_perm = df[df['perm_leaver'] == False]"
      ],
      "execution_count": 0,
      "outputs": []
    },
    {
      "cell_type": "code",
      "metadata": {
        "id": "9a0zHaiZ8C4v",
        "colab_type": "code",
        "colab": {}
      },
      "source": [
        "total_non_perm = non_perm.perm_leaver.value_counts().sum()"
      ],
      "execution_count": 0,
      "outputs": []
    },
    {
      "cell_type": "code",
      "metadata": {
        "id": "ga2WNYhi8C1o",
        "colab_type": "code",
        "outputId": "6d990cca-d446-470c-aabe-9cc32f040470",
        "colab": {
          "base_uri": "https://localhost:8080/",
          "height": 35
        }
      },
      "source": [
        "total_non_perm"
      ],
      "execution_count": 23,
      "outputs": [
        {
          "output_type": "execute_result",
          "data": {
            "text/plain": [
              "56"
            ]
          },
          "metadata": {
            "tags": []
          },
          "execution_count": 23
        }
      ]
    },
    {
      "cell_type": "code",
      "metadata": {
        "id": "AnSomhWI8Cy6",
        "colab_type": "code",
        "colab": {}
      },
      "source": [
        "perm_percent = total_perm / (total_perm + total_non_perm)"
      ],
      "execution_count": 0,
      "outputs": []
    },
    {
      "cell_type": "code",
      "metadata": {
        "id": "-xDehGC98Ctr",
        "colab_type": "code",
        "outputId": "cbf2b96f-6cc0-4be8-b209-ac2c2e0145d3",
        "colab": {
          "base_uri": "https://localhost:8080/",
          "height": 35
        }
      },
      "source": [
        "perm_percent = round(perm_percent, 2)*100\n",
        "perm_percent"
      ],
      "execution_count": 25,
      "outputs": [
        {
          "output_type": "execute_result",
          "data": {
            "text/plain": [
              "53.0"
            ]
          },
          "metadata": {
            "tags": []
          },
          "execution_count": 25
        }
      ]
    },
    {
      "cell_type": "code",
      "metadata": {
        "id": "dxfX8Ui0ktEN",
        "colab_type": "code",
        "outputId": "76f37a46-5e9d-4216-c109-361d4f0f9729",
        "colab": {
          "base_uri": "https://localhost:8080/",
          "height": 177
        }
      },
      "source": [
        "df['3.12 Exit Destination'].value_counts()"
      ],
      "execution_count": 26,
      "outputs": [
        {
          "output_type": "execute_result",
          "data": {
            "text/plain": [
              "Rental by client, other ongoing housing subsidy                                                                                  39\n",
              "Emergency shelter, including hotel or motel paid for with emergency shelter voucher, or RHY-funded Host Home shelter             37\n",
              "Rental by client, no ongoing housing subsidy                                                                                     19\n",
              "Place not meant for habitation (e.g., a vehicle, an abandoned building, bus/train/subway station/airport or anywhere outside)     9\n",
              "Transitional Housing for homeless persons (including homeless youth)                                                              6\n",
              "Staying or living with family, temporary tenure (e.g., room, apartment or house)                                                  4\n",
              "Rental by client with RRH or equivalent subsidy                                                                                   3\n",
              "Staying or living with family, permanent tenure                                                                                   1\n",
              "Name: 3.12 Exit Destination, dtype: int64"
            ]
          },
          "metadata": {
            "tags": []
          },
          "execution_count": 26
        }
      ]
    },
    {
      "cell_type": "code",
      "metadata": {
        "id": "ynmpE_p58CjO",
        "colab_type": "code",
        "colab": {}
      },
      "source": [
        "unknowns = ['Client refused', 'No exit interview completed', 'Other']"
      ],
      "execution_count": 0,
      "outputs": []
    },
    {
      "cell_type": "code",
      "metadata": {
        "id": "tL8XKevd8Cgm",
        "colab_type": "code",
        "colab": {}
      },
      "source": [
        "unknown_df = df[df['3.12 Exit Destination'].isin(unknowns)]"
      ],
      "execution_count": 0,
      "outputs": []
    },
    {
      "cell_type": "code",
      "metadata": {
        "id": "NwJi6Y9A8Cbh",
        "colab_type": "code",
        "colab": {}
      },
      "source": [
        "unknown_exits = unknown_df['3.12 Exit Destination'].value_counts().sum()"
      ],
      "execution_count": 0,
      "outputs": []
    },
    {
      "cell_type": "code",
      "metadata": {
        "id": "nV8o-guZ8CS_",
        "colab_type": "code",
        "outputId": "194e1670-9c0a-45c4-8ac4-c29bd9f703ae",
        "colab": {
          "base_uri": "https://localhost:8080/",
          "height": 35
        }
      },
      "source": [
        "unknown_exits"
      ],
      "execution_count": 30,
      "outputs": [
        {
          "output_type": "execute_result",
          "data": {
            "text/plain": [
              "0"
            ]
          },
          "metadata": {
            "tags": []
          },
          "execution_count": 30
        }
      ]
    },
    {
      "cell_type": "code",
      "metadata": {
        "id": "AQwRPEhq8CQV",
        "colab_type": "code",
        "outputId": "4ec66186-0779-41df-9183-1d0f4b0717c9",
        "colab": {
          "base_uri": "https://localhost:8080/",
          "height": 35
        }
      },
      "source": [
        "unknown_percent = unknown_exits / total_non_perm\n",
        "unknown_percent = round(unknown_percent, 2) *100\n",
        "unknown_percent"
      ],
      "execution_count": 31,
      "outputs": [
        {
          "output_type": "execute_result",
          "data": {
            "text/plain": [
              "0.0"
            ]
          },
          "metadata": {
            "tags": []
          },
          "execution_count": 31
        }
      ]
    },
    {
      "cell_type": "code",
      "metadata": {
        "id": "SYEDLNIGn8Fc",
        "colab_type": "code",
        "outputId": "4fd05bcc-86ce-4ffd-e176-bb1a6fced521",
        "colab": {
          "base_uri": "https://localhost:8080/",
          "height": 35
        }
      },
      "source": [
        "exits = df['3.12 Exit Destination'].value_counts().sum()\n",
        "exits"
      ],
      "execution_count": 32,
      "outputs": [
        {
          "output_type": "execute_result",
          "data": {
            "text/plain": [
              "118"
            ]
          },
          "metadata": {
            "tags": []
          },
          "execution_count": 32
        }
      ]
    },
    {
      "cell_type": "code",
      "metadata": {
        "id": "NZsYPUDtngYj",
        "colab_type": "code",
        "colab": {}
      },
      "source": [
        "exits = df['3.12 Exit Destination'].value_counts()"
      ],
      "execution_count": 0,
      "outputs": []
    },
    {
      "cell_type": "code",
      "metadata": {
        "id": "qDCEy_ktnghb",
        "colab_type": "code",
        "outputId": "fc61bc7c-dba3-4427-c219-e5ddb8aacd01",
        "colab": {
          "base_uri": "https://localhost:8080/",
          "height": 35
        }
      },
      "source": [
        "# take sum of ES and Trans exits and divide by total exits, then multiply by 100 to get percentage\n",
        "esExits = exits['Emergency shelter, including hotel or motel paid for with emergency shelter voucher, or RHY-funded Host Home shelter'].sum()\n",
        "#transExits = ((exits['Transitional Housing for homeless persons (including homeless youth)'] / exits.sum()) * 100)\n",
        "# round the answer to nearest hundreth place\n",
        "#esExits = (round(esExits, 2))\n",
        "#transExits = (round(transExits, 2))\n",
        "\n",
        "#print('Exits to ES percent:',esExits,'%')\n",
        "esExits\n",
        "#print('Exits to Transitional',transExits,'%')"
      ],
      "execution_count": 34,
      "outputs": [
        {
          "output_type": "execute_result",
          "data": {
            "text/plain": [
              "37"
            ]
          },
          "metadata": {
            "tags": []
          },
          "execution_count": 34
        }
      ]
    },
    {
      "cell_type": "code",
      "metadata": {
        "id": "Qn2DO8Ep_K4G",
        "colab_type": "code",
        "outputId": "480a072d-479d-4ed9-9436-3fd29892d7d2",
        "colab": {
          "base_uri": "https://localhost:8080/",
          "height": 35
        }
      },
      "source": [
        "tempExits = df['3.12 Exit Destination'].isin(temp_reasons).sum()\n",
        "temp_exit_percent = tempExits.sum() / exits.sum()\n",
        "#exits.sum()) * 100)\n",
        "# round tempExits to two decimals\n",
        "#tempExits = round(temp_exit_percent*100, 2)\n",
        "tempExits"
      ],
      "execution_count": 35,
      "outputs": [
        {
          "output_type": "execute_result",
          "data": {
            "text/plain": [
              "4"
            ]
          },
          "metadata": {
            "tags": []
          },
          "execution_count": 35
        }
      ]
    },
    {
      "cell_type": "code",
      "metadata": {
        "id": "kuUdutaLAgAN",
        "colab_type": "code",
        "colab": {}
      },
      "source": [
        "transitional = df[df['3.12 Exit Destination'] == 'Transitional Housing for homeless persons (including homeless youth)']"
      ],
      "execution_count": 0,
      "outputs": []
    },
    {
      "cell_type": "code",
      "metadata": {
        "id": "8Zu-fiU3A5Eo",
        "colab_type": "code",
        "colab": {}
      },
      "source": [
        "trans_leavers = transitional['3.12 Exit Destination'].value_counts().sum()"
      ],
      "execution_count": 0,
      "outputs": []
    },
    {
      "cell_type": "code",
      "metadata": {
        "id": "eskxTZi_BoVR",
        "colab_type": "code",
        "outputId": "8ae2c887-5be1-413e-be10-868fd2e6043c",
        "colab": {
          "base_uri": "https://localhost:8080/",
          "height": 35
        }
      },
      "source": [
        "trans_leavers"
      ],
      "execution_count": 38,
      "outputs": [
        {
          "output_type": "execute_result",
          "data": {
            "text/plain": [
              "6"
            ]
          },
          "metadata": {
            "tags": []
          },
          "execution_count": 38
        }
      ]
    },
    {
      "cell_type": "code",
      "metadata": {
        "id": "Q6h_fTjKBUL3",
        "colab_type": "code",
        "outputId": "354a2aaa-b3dc-4028-f73b-3ebeedb93e7a",
        "colab": {
          "base_uri": "https://localhost:8080/",
          "height": 35
        }
      },
      "source": [
        "exits.sum()"
      ],
      "execution_count": 39,
      "outputs": [
        {
          "output_type": "execute_result",
          "data": {
            "text/plain": [
              "118"
            ]
          },
          "metadata": {
            "tags": []
          },
          "execution_count": 39
        }
      ]
    },
    {
      "cell_type": "code",
      "metadata": {
        "id": "BnJ28vV-BEMp",
        "colab_type": "code",
        "outputId": "b55f84b1-3f6b-4f76-da07-004a9f79f8b8",
        "colab": {
          "base_uri": "https://localhost:8080/",
          "height": 35
        }
      },
      "source": [
        "trans_percent = (trans_leavers / exits.sum())*100\n",
        "trans_percent = round(trans_percent, 2)\n",
        "trans_percent"
      ],
      "execution_count": 40,
      "outputs": [
        {
          "output_type": "execute_result",
          "data": {
            "text/plain": [
              "5.08"
            ]
          },
          "metadata": {
            "tags": []
          },
          "execution_count": 40
        }
      ]
    },
    {
      "cell_type": "code",
      "metadata": {
        "id": "rJSaf-Synglo",
        "colab_type": "code",
        "colab": {}
      },
      "source": [
        "# export zips into an excel sheet for Power BI visual\n",
        "df['V5 Zip'].value_counts().to_excel('/content/drive/My Drive/FPData/90 Day Data/90DayweeklyYTDzips.xlsx', header=True, index=True)\n",
        "\n"
      ],
      "execution_count": 0,
      "outputs": []
    },
    {
      "cell_type": "code",
      "metadata": {
        "id": "xpHfeQp89zHH",
        "colab_type": "code",
        "colab": {}
      },
      "source": [
        "# Import pandas library \n",
        "import pandas as pd \n",
        "  \n",
        "# initialize list of lists \n",
        "data = [['Permanent Leavers', total_perm], ['Emergency Shelter Leavers', esExits], \n",
        "        ['Temporary Leavers', tempExits], ['Transitional Leavers', trans_leavers],\n",
        "        ['Unknown Leavers', unknown_exits]] \n",
        "  \n",
        "\n",
        "\n",
        "# Create the pandas DataFrame \n",
        "power_bi = pd.DataFrame(data, columns = ['Exit Destination', 'Total']) \n",
        "  \n",
        "# print dataframe. "
      ],
      "execution_count": 0,
      "outputs": []
    },
    {
      "cell_type": "code",
      "metadata": {
        "id": "gTMhjHGZ9zO3",
        "colab_type": "code",
        "outputId": "694dc96a-294c-4367-b433-418768de5f8f",
        "colab": {
          "base_uri": "https://localhost:8080/",
          "height": 194
        }
      },
      "source": [
        "power_bi"
      ],
      "execution_count": 43,
      "outputs": [
        {
          "output_type": "execute_result",
          "data": {
            "text/html": [
              "<div>\n",
              "<style scoped>\n",
              "    .dataframe tbody tr th:only-of-type {\n",
              "        vertical-align: middle;\n",
              "    }\n",
              "\n",
              "    .dataframe tbody tr th {\n",
              "        vertical-align: top;\n",
              "    }\n",
              "\n",
              "    .dataframe thead th {\n",
              "        text-align: right;\n",
              "    }\n",
              "</style>\n",
              "<table border=\"1\" class=\"dataframe\">\n",
              "  <thead>\n",
              "    <tr style=\"text-align: right;\">\n",
              "      <th></th>\n",
              "      <th>Exit Destination</th>\n",
              "      <th>Total</th>\n",
              "    </tr>\n",
              "  </thead>\n",
              "  <tbody>\n",
              "    <tr>\n",
              "      <th>0</th>\n",
              "      <td>Permanent Leavers</td>\n",
              "      <td>62</td>\n",
              "    </tr>\n",
              "    <tr>\n",
              "      <th>1</th>\n",
              "      <td>Emergency Shelter Leavers</td>\n",
              "      <td>37</td>\n",
              "    </tr>\n",
              "    <tr>\n",
              "      <th>2</th>\n",
              "      <td>Temporary Leavers</td>\n",
              "      <td>4</td>\n",
              "    </tr>\n",
              "    <tr>\n",
              "      <th>3</th>\n",
              "      <td>Transitional Leavers</td>\n",
              "      <td>6</td>\n",
              "    </tr>\n",
              "    <tr>\n",
              "      <th>4</th>\n",
              "      <td>Unknown Leavers</td>\n",
              "      <td>0</td>\n",
              "    </tr>\n",
              "  </tbody>\n",
              "</table>\n",
              "</div>"
            ],
            "text/plain": [
              "            Exit Destination  Total\n",
              "0          Permanent Leavers     62\n",
              "1  Emergency Shelter Leavers     37\n",
              "2          Temporary Leavers      4\n",
              "3       Transitional Leavers      6\n",
              "4            Unknown Leavers      0"
            ]
          },
          "metadata": {
            "tags": []
          },
          "execution_count": 43
        }
      ]
    },
    {
      "cell_type": "code",
      "metadata": {
        "id": "xvlIe_kHDcf_",
        "colab_type": "code",
        "colab": {}
      },
      "source": [
        "power_bi.to_excel('/content/drive/My Drive/FPData/90 Day Data/90DayweeklyDataNew.xlsx')"
      ],
      "execution_count": 0,
      "outputs": []
    }
  ]
}