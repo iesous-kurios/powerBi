{
 "cells": [
  {
   "cell_type": "markdown",
   "metadata": {
    "colab_type": "text",
    "id": "view-in-github"
   },
   "source": [
    "<a href=\"https://colab.research.google.com/github/iesous-kurios/powerBi/blob/master/PowerBI_Project.ipynb\" target=\"_parent\"><img src=\"https://colab.research.google.com/assets/colab-badge.svg\" alt=\"Open In Colab\"/></a>"
   ]
  },
  {
   "cell_type": "code",
   "execution_count": 260,
   "metadata": {
    "colab": {
     "base_uri": "https://localhost:8080/",
     "height": 34
    },
    "colab_type": "code",
    "id": "zjBsBizH7yB8",
    "outputId": "78cdeabc-9bf6-418a-a7bd-a103ab5a9a84"
   },
   "outputs": [
    {
     "data": {
      "text/plain": [
       "'0.10.1'"
      ]
     },
     "execution_count": 260,
     "metadata": {},
     "output_type": "execute_result"
    }
   ],
   "source": [
    "#@title\n",
    "# import libraries which provide math functions to our data imports\n",
    "import statistics\n",
    "import numpy as np\n",
    "import pandas as pd\n",
    "import matplotlib.pyplot as plt\n",
    "import seaborn as sns\n",
    "import datetime\n",
    "from datetime import date, timedelta\n",
    "import matplotlib.pyplot as plt\n",
    "import matplotlib\n",
    "from matplotlib import style\n",
    "\n",
    "sns.__version__"
   ]
  },
  {
   "cell_type": "code",
   "execution_count": 261,
   "metadata": {},
   "outputs": [
    {
     "name": "stdout",
     "output_type": "stream",
     "text": [
      "Requirement already satisfied: openpyxl in c:\\users\\jwyli\\anaconda3\\envs\\lambda2\\lib\\site-packages (3.0.3)\n",
      "Requirement already satisfied: et-xmlfile in c:\\users\\jwyli\\anaconda3\\envs\\lambda2\\lib\\site-packages (from openpyxl) (1.0.1)\n",
      "Requirement already satisfied: jdcal in c:\\users\\jwyli\\anaconda3\\envs\\lambda2\\lib\\site-packages (from openpyxl) (1.4.1)\n",
      "Note: you may need to restart the kernel to use updated packages.\n"
     ]
    }
   ],
   "source": [
    "pip install openpyxl"
   ]
  },
  {
   "cell_type": "code",
   "execution_count": 262,
   "metadata": {
    "colab": {},
    "colab_type": "code",
    "id": "nousgp7Q8BWd"
   },
   "outputs": [],
   "source": [
    "#@title\n",
    "# import weekly data from yearly FPS folder\n",
    "\n",
    "df = pd.read_excel('G:\\My Drive\\FPData\\YTD Data\\FP_May19.xlsx', sheet_name=0)\n",
    "#df = pd.read_excel ('~/environments/fp_env/family_promise_data/data/ClientTrackExport (5).xlsx')"
   ]
  },
  {
   "cell_type": "code",
   "execution_count": 263,
   "metadata": {
    "colab": {},
    "colab_type": "code",
    "id": "mIeJ5QM88BbL"
   },
   "outputs": [],
   "source": [
    "# get list of currently enrolled guests (guests that don't have an exit date)\n",
    "currently_enrolled = df[df['3.11 Exit Date'].isnull()]"
   ]
  },
  {
   "cell_type": "code",
   "execution_count": 264,
   "metadata": {
    "colab": {
     "base_uri": "https://localhost:8080/",
     "height": 218
    },
    "colab_type": "code",
    "id": "OELBYoSOTjdN",
    "outputId": "c5938ad0-f1d5-4d21-e025-9b0b9f11400f"
   },
   "outputs": [
    {
     "data": {
      "text/plain": [
       "1978-01-01    2\n",
       "1973-06-17    1\n",
       "2014-08-26    1\n",
       "1987-02-14    1\n",
       "2003-12-31    1\n",
       "             ..\n",
       "2010-11-19    1\n",
       "2009-10-20    1\n",
       "2013-09-11    1\n",
       "2014-03-22    1\n",
       "2018-12-21    1\n",
       "Name: 3.3 Birthdate, Length: 94, dtype: int64"
      ]
     },
     "execution_count": 264,
     "metadata": {},
     "output_type": "execute_result"
    }
   ],
   "source": [
    "currently_enrolled['3.3 Birthdate'].value_counts()"
   ]
  },
  {
   "cell_type": "code",
   "execution_count": 265,
   "metadata": {
    "colab": {},
    "colab_type": "code",
    "id": "XS_yCsAx03rK"
   },
   "outputs": [],
   "source": [
    "bdays_date = (date.today()-timedelta(days=15)).isoformat()\n",
    "current_bdays = currently_enrolled[currently_enrolled['Date of Last ES Stay (Beta)'] >= bdays_date ]"
   ]
  },
  {
   "cell_type": "code",
   "execution_count": 266,
   "metadata": {
    "colab": {},
    "colab_type": "code",
    "id": "y93VOxwff-Zh"
   },
   "outputs": [],
   "source": [
    "from datetime import date\n",
    "\n",
    "def calculate_age(born):\n",
    "    today = date.today()\n",
    "    return today.year - born.year - ((today.month, today.day) < (born.month, born.day))"
   ]
  },
  {
   "cell_type": "code",
   "execution_count": 267,
   "metadata": {
    "colab": {
     "base_uri": "https://localhost:8080/",
     "height": 34
    },
    "colab_type": "code",
    "id": "-FslFWlqnLMy",
    "outputId": "539a2c0d-e771-4451-d5b1-622b0b7a6a57"
   },
   "outputs": [
    {
     "name": "stdout",
     "output_type": "stream",
     "text": [
      "23 years\n"
     ]
    }
   ],
   "source": [
    "# Python3 code to  calculate age in years \n",
    "from datetime import date \n",
    "  \n",
    "def turning(born): \n",
    "    today = date.today() \n",
    "    this_month = date.today().month\n",
    "    this_day = date.today()\n",
    "    try:  \n",
    "        birthday = born.replace(year = today.year) \n",
    "        birthmonth = born.replace(month = today.month)\n",
    "        birth_day = born.replace(day = today.day)\n",
    "  \n",
    "    # raised when birth date is February 29 \n",
    "    # and the current year is not a leap year \n",
    "    except ValueError:  \n",
    "        birthday = born.replace(year = today.year, \n",
    "                  month = this_month + 1, day = 1) \n",
    "  \n",
    "    if birthday > today:\n",
    "        birthmonth = born.month\n",
    "        if birthmonth == this_month:\n",
    "            if birth_day > this_day:\n",
    "                return today.year - born.year + 1\n",
    "            if birth_day <= this_day:\n",
    "                return today.year - born.year \n",
    "        else:\n",
    "            return today.year - born.year        \n",
    "\n",
    "    else: \n",
    "        return today.year - born.year \n",
    "          \n",
    "# Driver code \n",
    "print(turning(date(1997, 2, 3)), \"years\") "
   ]
  },
  {
   "cell_type": "code",
   "execution_count": 268,
   "metadata": {},
   "outputs": [
    {
     "data": {
      "text/html": [
       "<div>\n",
       "<style scoped>\n",
       "    .dataframe tbody tr th:only-of-type {\n",
       "        vertical-align: middle;\n",
       "    }\n",
       "\n",
       "    .dataframe tbody tr th {\n",
       "        vertical-align: top;\n",
       "    }\n",
       "\n",
       "    .dataframe thead th {\n",
       "        text-align: right;\n",
       "    }\n",
       "</style>\n",
       "<table border=\"1\" class=\"dataframe\">\n",
       "  <thead>\n",
       "    <tr style=\"text-align: right;\">\n",
       "      <th></th>\n",
       "      <th>2.1 Organization Name</th>\n",
       "      <th>2.2 Project Name</th>\n",
       "      <th>2.4 ProjectType</th>\n",
       "      <th>2.5 Utilization Tracking Method (Invalid)</th>\n",
       "      <th>2.6 Federal Grant Programs</th>\n",
       "      <th>Enrollment Created By</th>\n",
       "      <th>3.1 FirstName</th>\n",
       "      <th>3.1 LastName</th>\n",
       "      <th>5.8 Personal ID</th>\n",
       "      <th>5.9 Household ID</th>\n",
       "      <th>...</th>\n",
       "      <th>4.2.13k Retirement (Social Security)</th>\n",
       "      <th>4.2.14l Pension from a Former Job</th>\n",
       "      <th>4.2.15m Child Support</th>\n",
       "      <th>4.2.16n Alimony</th>\n",
       "      <th>4.2.17o Other Income</th>\n",
       "      <th>Chronic Homeless Status_vHMISDatAssessment</th>\n",
       "      <th>Chronic Homeless Status_EvaluatevHMIS&amp;HMISDA</th>\n",
       "      <th>Email</th>\n",
       "      <th>HomePhone</th>\n",
       "      <th>WorkPhone</th>\n",
       "    </tr>\n",
       "  </thead>\n",
       "  <tbody>\n",
       "    <tr>\n",
       "      <th>345</th>\n",
       "      <td>Family Promise of Spokane</td>\n",
       "      <td>FPS--ES--Open Doors</td>\n",
       "      <td>Emergency shelter</td>\n",
       "      <td>Night-by-Night (nbn)</td>\n",
       "      <td>NaN</td>\n",
       "      <td>Kermit Nelson</td>\n",
       "      <td>Anonymous</td>\n",
       "      <td>Anonymous76618</td>\n",
       "      <td>76618</td>\n",
       "      <td>122926</td>\n",
       "      <td>...</td>\n",
       "      <td>0</td>\n",
       "      <td>0</td>\n",
       "      <td>0.0</td>\n",
       "      <td>0</td>\n",
       "      <td>0</td>\n",
       "      <td>1</td>\n",
       "      <td>1</td>\n",
       "      <td>NaN</td>\n",
       "      <td>NaN</td>\n",
       "      <td>NaN</td>\n",
       "    </tr>\n",
       "    <tr>\n",
       "      <th>346</th>\n",
       "      <td>Family Promise of Spokane</td>\n",
       "      <td>FPS--ES--Open Doors</td>\n",
       "      <td>Emergency shelter</td>\n",
       "      <td>Night-by-Night (nbn)</td>\n",
       "      <td>NaN</td>\n",
       "      <td>Kermit Nelson</td>\n",
       "      <td>Anonymous</td>\n",
       "      <td>Anonymous76619</td>\n",
       "      <td>76619</td>\n",
       "      <td>122926</td>\n",
       "      <td>...</td>\n",
       "      <td>0</td>\n",
       "      <td>0</td>\n",
       "      <td>200.0</td>\n",
       "      <td>0</td>\n",
       "      <td>0</td>\n",
       "      <td>1</td>\n",
       "      <td>1</td>\n",
       "      <td>NaN</td>\n",
       "      <td>NaN</td>\n",
       "      <td>NaN</td>\n",
       "    </tr>\n",
       "    <tr>\n",
       "      <th>347</th>\n",
       "      <td>Family Promise of Spokane</td>\n",
       "      <td>FPS--ES--Open Doors</td>\n",
       "      <td>Emergency shelter</td>\n",
       "      <td>Night-by-Night (nbn)</td>\n",
       "      <td>NaN</td>\n",
       "      <td>Kermit Nelson</td>\n",
       "      <td>Anonymous</td>\n",
       "      <td>Anonymous76620</td>\n",
       "      <td>76620</td>\n",
       "      <td>122926</td>\n",
       "      <td>...</td>\n",
       "      <td>0</td>\n",
       "      <td>0</td>\n",
       "      <td>0.0</td>\n",
       "      <td>0</td>\n",
       "      <td>0</td>\n",
       "      <td>0</td>\n",
       "      <td>0</td>\n",
       "      <td>NaN</td>\n",
       "      <td>NaN</td>\n",
       "      <td>NaN</td>\n",
       "    </tr>\n",
       "    <tr>\n",
       "      <th>390</th>\n",
       "      <td>Family Promise of Spokane</td>\n",
       "      <td>FPS--ES--Open Doors</td>\n",
       "      <td>Emergency shelter</td>\n",
       "      <td>Night-by-Night (nbn)</td>\n",
       "      <td>NaN</td>\n",
       "      <td>Kermit Nelson</td>\n",
       "      <td>Anden</td>\n",
       "      <td>Isak</td>\n",
       "      <td>97731</td>\n",
       "      <td>124767</td>\n",
       "      <td>...</td>\n",
       "      <td>0</td>\n",
       "      <td>0</td>\n",
       "      <td>0.0</td>\n",
       "      <td>0</td>\n",
       "      <td>0</td>\n",
       "      <td>0</td>\n",
       "      <td>0</td>\n",
       "      <td>NaN</td>\n",
       "      <td>NaN</td>\n",
       "      <td>NaN</td>\n",
       "    </tr>\n",
       "    <tr>\n",
       "      <th>391</th>\n",
       "      <td>Family Promise of Spokane</td>\n",
       "      <td>FPS--ES--Open Doors</td>\n",
       "      <td>Emergency shelter</td>\n",
       "      <td>Night-by-Night (nbn)</td>\n",
       "      <td>NaN</td>\n",
       "      <td>Kermit Nelson</td>\n",
       "      <td>T Merson</td>\n",
       "      <td>Doun</td>\n",
       "      <td>95697</td>\n",
       "      <td>124767</td>\n",
       "      <td>...</td>\n",
       "      <td>0</td>\n",
       "      <td>0</td>\n",
       "      <td>0.0</td>\n",
       "      <td>0</td>\n",
       "      <td>0</td>\n",
       "      <td>0</td>\n",
       "      <td>0</td>\n",
       "      <td>NaN</td>\n",
       "      <td>NaN</td>\n",
       "      <td>NaN</td>\n",
       "    </tr>\n",
       "  </tbody>\n",
       "</table>\n",
       "<p>5 rows × 152 columns</p>\n",
       "</div>"
      ],
      "text/plain": [
       "         2.1 Organization Name     2.2 Project Name    2.4 ProjectType  \\\n",
       "345  Family Promise of Spokane  FPS--ES--Open Doors  Emergency shelter   \n",
       "346  Family Promise of Spokane  FPS--ES--Open Doors  Emergency shelter   \n",
       "347  Family Promise of Spokane  FPS--ES--Open Doors  Emergency shelter   \n",
       "390  Family Promise of Spokane  FPS--ES--Open Doors  Emergency shelter   \n",
       "391  Family Promise of Spokane  FPS--ES--Open Doors  Emergency shelter   \n",
       "\n",
       "    2.5 Utilization Tracking Method (Invalid)  2.6 Federal Grant Programs  \\\n",
       "345                      Night-by-Night (nbn)                         NaN   \n",
       "346                      Night-by-Night (nbn)                         NaN   \n",
       "347                      Night-by-Night (nbn)                         NaN   \n",
       "390                      Night-by-Night (nbn)                         NaN   \n",
       "391                      Night-by-Night (nbn)                         NaN   \n",
       "\n",
       "    Enrollment Created By 3.1 FirstName    3.1 LastName  5.8 Personal ID  \\\n",
       "345         Kermit Nelson     Anonymous  Anonymous76618            76618   \n",
       "346         Kermit Nelson     Anonymous  Anonymous76619            76619   \n",
       "347         Kermit Nelson     Anonymous  Anonymous76620            76620   \n",
       "390         Kermit Nelson         Anden            Isak            97731   \n",
       "391         Kermit Nelson      T Merson            Doun            95697   \n",
       "\n",
       "     5.9 Household ID  ... 4.2.13k Retirement (Social Security)  \\\n",
       "345            122926  ...                                    0   \n",
       "346            122926  ...                                    0   \n",
       "347            122926  ...                                    0   \n",
       "390            124767  ...                                    0   \n",
       "391            124767  ...                                    0   \n",
       "\n",
       "    4.2.14l Pension from a Former Job  4.2.15m Child Support 4.2.16n Alimony  \\\n",
       "345                                 0                    0.0               0   \n",
       "346                                 0                  200.0               0   \n",
       "347                                 0                    0.0               0   \n",
       "390                                 0                    0.0               0   \n",
       "391                                 0                    0.0               0   \n",
       "\n",
       "    4.2.17o Other Income Chronic Homeless Status_vHMISDatAssessment  \\\n",
       "345                    0                                          1   \n",
       "346                    0                                          1   \n",
       "347                    0                                          0   \n",
       "390                    0                                          0   \n",
       "391                    0                                          0   \n",
       "\n",
       "    Chronic Homeless Status_EvaluatevHMIS&HMISDA Email HomePhone WorkPhone  \n",
       "345                                            1   NaN       NaN       NaN  \n",
       "346                                            1   NaN       NaN       NaN  \n",
       "347                                            0   NaN       NaN       NaN  \n",
       "390                                            0   NaN       NaN       NaN  \n",
       "391                                            0   NaN       NaN       NaN  \n",
       "\n",
       "[5 rows x 152 columns]"
      ]
     },
     "execution_count": 268,
     "metadata": {},
     "output_type": "execute_result"
    }
   ],
   "source": [
    "current_bdays.head()"
   ]
  },
  {
   "cell_type": "code",
   "execution_count": 269,
   "metadata": {
    "colab": {
     "base_uri": "https://localhost:8080/",
     "height": 319
    },
    "colab_type": "code",
    "id": "S1cLO9M9iCqZ",
    "outputId": "68bac0d2-5ece-4119-fc6b-86e2ff015a46"
   },
   "outputs": [
    {
     "name": "stderr",
     "output_type": "stream",
     "text": [
      "c:\\users\\jwyli\\anaconda3\\envs\\lambda2\\lib\\site-packages\\ipykernel_launcher.py:3: SettingWithCopyWarning: \n",
      "A value is trying to be set on a copy of a slice from a DataFrame.\n",
      "Try using .loc[row_indexer,col_indexer] = value instead\n",
      "\n",
      "See the caveats in the documentation: https://pandas.pydata.org/pandas-docs/stable/user_guide/indexing.html#returning-a-view-versus-a-copy\n",
      "  This is separate from the ipykernel package so we can avoid doing imports until\n"
     ]
    }
   ],
   "source": [
    "'''current_bdays['age'] = current_bdays['3.3 Birthdate'].apply(calculate_age)\n",
    "current_bdays['age2'] = current_bdays['3.3 Birthdate'].apply(calculate_age)'''\n",
    "current_bdays['turning'] = current_bdays['3.3 Birthdate'].apply(turning)\n"
   ]
  },
  {
   "cell_type": "code",
   "execution_count": 270,
   "metadata": {
    "colab": {},
    "colab_type": "code",
    "id": "lAZm-7mw17ih"
   },
   "outputs": [],
   "source": [
    "bday_df = current_bdays[['3.1 FirstName', '3.1 LastName', '3.3 Birthdate','turning']].copy()"
   ]
  },
  {
   "cell_type": "code",
   "execution_count": 271,
   "metadata": {
    "colab": {},
    "colab_type": "code",
    "id": "NbHcOzWS33Vr"
   },
   "outputs": [],
   "source": [
    "\n",
    "currentMonth = date.today().month\n",
    "currentMonth\n",
    "two_months = date.today().month + 2\n",
    "\n",
    "last_month = date.today().month - 1"
   ]
  },
  {
   "cell_type": "code",
   "execution_count": 272,
   "metadata": {
    "colab": {},
    "colab_type": "code",
    "id": "x5fU19SI26aq"
   },
   "outputs": [],
   "source": [
    "bday_df['month'] = pd.DatetimeIndex(bday_df['3.3 Birthdate']).month\n",
    "bday_df['day'] = pd.DatetimeIndex(bday_df['3.3 Birthdate']).day"
   ]
  },
  {
   "cell_type": "code",
   "execution_count": 273,
   "metadata": {
    "colab": {},
    "colab_type": "code",
    "id": "VKS-kjRl7ob8"
   },
   "outputs": [],
   "source": [
    "upcomming_bdays = bday_df[(bday_df['month'] > last_month) & (bday_df['month'] < two_months) ]"
   ]
  },
  {
   "cell_type": "code",
   "execution_count": 274,
   "metadata": {
    "colab": {},
    "colab_type": "code",
    "id": "26SyaaEJ85x0"
   },
   "outputs": [],
   "source": [
    "upcomming_bdays.to_excel('G:\\My Drive\\FPData.close_bdays.xlsx')"
   ]
  },
  {
   "cell_type": "code",
   "execution_count": 275,
   "metadata": {
    "colab": {
     "base_uri": "https://localhost:8080/",
     "height": 314
    },
    "colab_type": "code",
    "id": "1TbvLkQx-afZ",
    "outputId": "eeeb00cf-43e1-43d9-fe7d-76e9a344cb17"
   },
   "outputs": [
    {
     "data": {
      "text/html": [
       "<div>\n",
       "<style scoped>\n",
       "    .dataframe tbody tr th:only-of-type {\n",
       "        vertical-align: middle;\n",
       "    }\n",
       "\n",
       "    .dataframe tbody tr th {\n",
       "        vertical-align: top;\n",
       "    }\n",
       "\n",
       "    .dataframe thead th {\n",
       "        text-align: right;\n",
       "    }\n",
       "</style>\n",
       "<table border=\"1\" class=\"dataframe\">\n",
       "  <thead>\n",
       "    <tr style=\"text-align: right;\">\n",
       "      <th></th>\n",
       "      <th>3.1 FirstName</th>\n",
       "      <th>3.1 LastName</th>\n",
       "      <th>3.3 Birthdate</th>\n",
       "      <th>turning</th>\n",
       "      <th>month</th>\n",
       "      <th>day</th>\n",
       "    </tr>\n",
       "  </thead>\n",
       "  <tbody>\n",
       "    <tr>\n",
       "      <th>391</th>\n",
       "      <td>T Merson</td>\n",
       "      <td>Doun</td>\n",
       "      <td>2014-06-06</td>\n",
       "      <td>6</td>\n",
       "      <td>6</td>\n",
       "      <td>6</td>\n",
       "    </tr>\n",
       "    <tr>\n",
       "      <th>392</th>\n",
       "      <td>Merlin</td>\n",
       "      <td>Poch</td>\n",
       "      <td>1977-05-20</td>\n",
       "      <td>43</td>\n",
       "      <td>5</td>\n",
       "      <td>20</td>\n",
       "    </tr>\n",
       "    <tr>\n",
       "      <th>433</th>\n",
       "      <td>Issaiah</td>\n",
       "      <td>Stroble</td>\n",
       "      <td>2017-05-25</td>\n",
       "      <td>3</td>\n",
       "      <td>5</td>\n",
       "      <td>25</td>\n",
       "    </tr>\n",
       "    <tr>\n",
       "      <th>434</th>\n",
       "      <td>Mathias</td>\n",
       "      <td>Stroble</td>\n",
       "      <td>2015-05-25</td>\n",
       "      <td>5</td>\n",
       "      <td>5</td>\n",
       "      <td>25</td>\n",
       "    </tr>\n",
       "    <tr>\n",
       "      <th>495</th>\n",
       "      <td>Eric</td>\n",
       "      <td>Rideout</td>\n",
       "      <td>2003-06-01</td>\n",
       "      <td>17</td>\n",
       "      <td>6</td>\n",
       "      <td>1</td>\n",
       "    </tr>\n",
       "    <tr>\n",
       "      <th>577</th>\n",
       "      <td>Nickolaus</td>\n",
       "      <td>Osborn</td>\n",
       "      <td>2012-05-28</td>\n",
       "      <td>8</td>\n",
       "      <td>5</td>\n",
       "      <td>28</td>\n",
       "    </tr>\n",
       "    <tr>\n",
       "      <th>594</th>\n",
       "      <td>Abigail Lea Fe</td>\n",
       "      <td>Striped Wolf</td>\n",
       "      <td>2015-06-01</td>\n",
       "      <td>5</td>\n",
       "      <td>6</td>\n",
       "      <td>1</td>\n",
       "    </tr>\n",
       "    <tr>\n",
       "      <th>596</th>\n",
       "      <td>Elizabeth</td>\n",
       "      <td>Green</td>\n",
       "      <td>1987-06-06</td>\n",
       "      <td>33</td>\n",
       "      <td>6</td>\n",
       "      <td>6</td>\n",
       "    </tr>\n",
       "    <tr>\n",
       "      <th>599</th>\n",
       "      <td>Cheyenne</td>\n",
       "      <td>Martin</td>\n",
       "      <td>2011-05-18</td>\n",
       "      <td>9</td>\n",
       "      <td>5</td>\n",
       "      <td>18</td>\n",
       "    </tr>\n",
       "  </tbody>\n",
       "</table>\n",
       "</div>"
      ],
      "text/plain": [
       "      3.1 FirstName  3.1 LastName 3.3 Birthdate  turning  month  day\n",
       "391        T Merson          Doun    2014-06-06        6      6    6\n",
       "392          Merlin          Poch    1977-05-20       43      5   20\n",
       "433         Issaiah       Stroble    2017-05-25        3      5   25\n",
       "434         Mathias       Stroble    2015-05-25        5      5   25\n",
       "495            Eric       Rideout    2003-06-01       17      6    1\n",
       "577       Nickolaus        Osborn    2012-05-28        8      5   28\n",
       "594  Abigail Lea Fe  Striped Wolf    2015-06-01        5      6    1\n",
       "596       Elizabeth         Green    1987-06-06       33      6    6\n",
       "599        Cheyenne        Martin    2011-05-18        9      5   18"
      ]
     },
     "execution_count": 275,
     "metadata": {},
     "output_type": "execute_result"
    }
   ],
   "source": [
    "upcomming_bdays"
   ]
  },
  {
   "cell_type": "code",
   "execution_count": 276,
   "metadata": {
    "colab": {},
    "colab_type": "code",
    "id": "7Oge-_F28Bgv"
   },
   "outputs": [],
   "source": [
    "# create new list of those currently enrolled who haven't stayed with us for\n",
    "# two weeks or more\n",
    "\n",
    "\n",
    "\n",
    "current_date = date.today().isoformat()   \n",
    "days_before = (date.today()-timedelta(days=30)).isoformat()\n",
    "\n",
    "need_to_exit = currently_enrolled[currently_enrolled['Date of Last ES Stay (Beta)'] < days_before ]"
   ]
  },
  {
   "cell_type": "code",
   "execution_count": 277,
   "metadata": {
    "colab": {},
    "colab_type": "code",
    "id": "1-Hv8nAx8BmM"
   },
   "outputs": [],
   "source": [
    "exit_df = need_to_exit[['3.1 FirstName', '3.1 LastName', '5.8 Personal ID', '5.9 Household ID', '3.15 Relationship to HoH', 'CaseMembers', '3.10 Enroll Date', 'Date of Last ES Stay (Beta)']].copy()"
   ]
  },
  {
   "cell_type": "code",
   "execution_count": 278,
   "metadata": {
    "colab": {},
    "colab_type": "code",
    "id": "rI3-Dz-k8Bq8"
   },
   "outputs": [],
   "source": [
    "#exit_df.head()"
   ]
  },
  {
   "cell_type": "code",
   "execution_count": 279,
   "metadata": {
    "colab": {},
    "colab_type": "code",
    "id": "dQpA_ZiF8BvS"
   },
   "outputs": [],
   "source": [
    "exit_df.to_excel('G:\\My Drive\\FPData\\YTD Data\\YTDexit_df.xlsx')"
   ]
  },
  {
   "cell_type": "code",
   "execution_count": 280,
   "metadata": {},
   "outputs": [
    {
     "data": {
      "text/plain": [
       "617"
      ]
     },
     "execution_count": 280,
     "metadata": {},
     "output_type": "execute_result"
    }
   ],
   "source": [
    "total_served = df['5.8 Personal ID']\n",
    "len(total_served)"
   ]
  },
  {
   "cell_type": "code",
   "execution_count": 281,
   "metadata": {
    "colab": {
     "base_uri": "https://localhost:8080/",
     "height": 34
    },
    "colab_type": "code",
    "id": "8VOFBGzR8CVj",
    "outputId": "b566afd4-1b2e-46c2-f3f3-191f59d107d4"
   },
   "outputs": [
    {
     "data": {
      "text/plain": [
       "197"
      ]
     },
     "execution_count": 281,
     "metadata": {},
     "output_type": "execute_result"
    }
   ],
   "source": [
    "households = df['5.9 Household ID'].unique()\n",
    "len(households)"
   ]
  },
  {
   "cell_type": "code",
   "execution_count": 282,
   "metadata": {
    "colab": {
     "base_uri": "https://localhost:8080/",
     "height": 34
    },
    "colab_type": "code",
    "id": "EOcPI0kS8CYt",
    "outputId": "4dbf0f1d-28c4-464e-8426-6e6bd435ca6f"
   },
   "outputs": [
    {
     "data": {
      "text/plain": [
       "197"
      ]
     },
     "execution_count": 282,
     "metadata": {},
     "output_type": "execute_result"
    }
   ],
   "source": [
    "# print total number of families served (unduplicated)\n",
    "unique_households = df['5.9 Household ID'].nunique()\n",
    "unique_households"
   ]
  },
  {
   "cell_type": "code",
   "execution_count": 283,
   "metadata": {
    "colab": {},
    "colab_type": "code",
    "id": "Ww2Wyr8u8Cdr"
   },
   "outputs": [],
   "source": [
    "#@title\n",
    "# replace zeros in data with \"Nan\" to calculate more accurate average bednights \n",
    "df['Count of Bed Nights (Housing Check-ins)'] = df['Count of Bed Nights (Housing Check-ins)'].replace(0, np.NaN)"
   ]
  },
  {
   "cell_type": "code",
   "execution_count": 284,
   "metadata": {
    "colab": {
     "base_uri": "https://localhost:8080/",
     "height": 34
    },
    "colab_type": "code",
    "id": "gCT761zT8Clg",
    "outputId": "dcab12a4-5f18-4d09-e053-3e6372979b8b"
   },
   "outputs": [
    {
     "data": {
      "text/plain": [
       "40.44"
      ]
     },
     "execution_count": 284,
     "metadata": {},
     "output_type": "execute_result"
    }
   ],
   "source": [
    "avg_bn = df['Count of Bed Nights (Housing Check-ins)'].mean()\n",
    "avg_bn = round(avg_bn, 2)\n",
    "avg_bn"
   ]
  },
  {
   "cell_type": "code",
   "execution_count": 285,
   "metadata": {},
   "outputs": [
    {
     "data": {
      "text/plain": [
       "Emergency shelter, including hotel or motel paid for with emergency shelter voucher, or RHY-funded Host Home shelter             130\n",
       "Client refused                                                                                                                   111\n",
       "Rental by client, no ongoing housing subsidy                                                                                      68\n",
       "Rental by client, other ongoing housing subsidy                                                                                   41\n",
       "Rental by client with RRH or equivalent subsidy                                                                                   36\n",
       "Transitional Housing for homeless persons (including homeless youth)                                                              32\n",
       "No exit interview completed                                                                                                       23\n",
       "Place not meant for habitation (e.g., a vehicle, an abandoned building, bus/train/subway station/airport or anywhere outside)     22\n",
       "Staying or living with family, temporary tenure (e.g., room, apartment or house)                                                  19\n",
       "Staying or living with friends, temporary tenure (e.g., room, apartment or house)                                                 18\n",
       "Staying or living with family, permanent tenure                                                                                   13\n",
       "Hotel or Motel paid for without Emergency Shelter Voucher                                                                          4\n",
       "Substance Abuse Treatment or Detox Center                                                                                          2\n",
       "Foster Care Home or Foster Care Group Home                                                                                         1\n",
       "Permanent housing (other than RRH) for formerly homeless persons                                                                   1\n",
       "Owned by client, no ongoing housing subsidy                                                                                        1\n",
       "Name: 3.12 Exit Destination, dtype: int64"
      ]
     },
     "execution_count": 285,
     "metadata": {},
     "output_type": "execute_result"
    }
   ],
   "source": [
    "df['3.12 Exit Destination'].value_counts()"
   ]
  },
  {
   "cell_type": "code",
   "execution_count": 286,
   "metadata": {
    "colab": {},
    "colab_type": "code",
    "id": "NJJ1W9hn8CoV"
   },
   "outputs": [],
   "source": [
    "#@title\n",
    "\n",
    "exit_reasons = ['Rental by client with RRH or equivalent subsidy', \n",
    "                'Rental by client, no ongoing housing subsidy', \n",
    "                'Staying or living with family, permanent tenure', \n",
    "                'Rental by client, other ongoing housing subsidy',\n",
    "                'Permanent housing (other than RRH) for formerly homeless persons', \n",
    "                'Staying or living with friends, permanent tenure', \n",
    "                'Owned by client, with ongoing housing subsidy',\n",
    "                'Owned by client, no ongoing housing subsidy',\n",
    "                'Staying or living with friends, permanent tenure', \n",
    "                'Rental by client, VASH housing Subsidy'\n",
    "               ]\n",
    "\n",
    "temp_reasons = ['Staying or living with family, temporary tenure (e.g., room, apartment or house)', \n",
    "               'Staying or living with friends, temporary tenure (e.g., room, apartment or house)', \n",
    "                \n",
    "               ]"
   ]
  },
  {
   "cell_type": "code",
   "execution_count": 287,
   "metadata": {
    "colab": {},
    "colab_type": "code",
    "id": "pIrEISw18CrA"
   },
   "outputs": [],
   "source": [
    "# drop rows with no exit destination (current guests at time of report)\n",
    "df = df.dropna(subset=['3.12 Exit Destination'])"
   ]
  },
  {
   "cell_type": "code",
   "execution_count": 288,
   "metadata": {
    "colab": {},
    "colab_type": "code",
    "id": "Ci8sM4b_8Cv7"
   },
   "outputs": [],
   "source": [
    " # create target column (multiple types of exits to perm)\n",
    "df['perm_leaver'] = df['3.12 Exit Destination'].isin(exit_reasons)"
   ]
  },
  {
   "cell_type": "code",
   "execution_count": 289,
   "metadata": {
    "colab": {},
    "colab_type": "code",
    "id": "HLC9DJEB8C7V"
   },
   "outputs": [],
   "source": [
    "#df.head()"
   ]
  },
  {
   "cell_type": "code",
   "execution_count": 290,
   "metadata": {
    "colab": {},
    "colab_type": "code",
    "id": "3iRsv5N08C-j"
   },
   "outputs": [],
   "source": [
    "perm_leaver = df[df['perm_leaver'] == True]"
   ]
  },
  {
   "cell_type": "code",
   "execution_count": 291,
   "metadata": {
    "colab": {},
    "colab_type": "code",
    "id": "lwBgD1zh8DBm"
   },
   "outputs": [],
   "source": [
    "total_perm = perm_leaver.perm_leaver.value_counts().sum()"
   ]
  },
  {
   "cell_type": "code",
   "execution_count": 292,
   "metadata": {
    "colab": {
     "base_uri": "https://localhost:8080/",
     "height": 34
    },
    "colab_type": "code",
    "id": "_zII61cfc5t8",
    "outputId": "4788f149-b613-4f98-f8f8-0a390f126470"
   },
   "outputs": [
    {
     "data": {
      "text/plain": [
       "160"
      ]
     },
     "execution_count": 292,
     "metadata": {},
     "output_type": "execute_result"
    }
   ],
   "source": [
    "total_perm"
   ]
  },
  {
   "cell_type": "code",
   "execution_count": 293,
   "metadata": {
    "colab": {},
    "colab_type": "code",
    "id": "yK-iDD668DHl"
   },
   "outputs": [],
   "source": [
    "non_perm = df[df['perm_leaver'] == False]"
   ]
  },
  {
   "cell_type": "code",
   "execution_count": 294,
   "metadata": {
    "colab": {},
    "colab_type": "code",
    "id": "9a0zHaiZ8C4v"
   },
   "outputs": [],
   "source": [
    "total_non_perm = non_perm.perm_leaver.value_counts().sum()"
   ]
  },
  {
   "cell_type": "code",
   "execution_count": 295,
   "metadata": {
    "colab": {
     "base_uri": "https://localhost:8080/",
     "height": 34
    },
    "colab_type": "code",
    "id": "ga2WNYhi8C1o",
    "outputId": "7b6587d9-aa35-4297-b278-3340becfce73"
   },
   "outputs": [
    {
     "data": {
      "text/plain": [
       "362"
      ]
     },
     "execution_count": 295,
     "metadata": {},
     "output_type": "execute_result"
    }
   ],
   "source": [
    "total_non_perm"
   ]
  },
  {
   "cell_type": "code",
   "execution_count": 296,
   "metadata": {
    "colab": {},
    "colab_type": "code",
    "id": "AnSomhWI8Cy6"
   },
   "outputs": [],
   "source": [
    "perm_percent = total_perm / total_non_perm"
   ]
  },
  {
   "cell_type": "code",
   "execution_count": 297,
   "metadata": {
    "colab": {
     "base_uri": "https://localhost:8080/",
     "height": 34
    },
    "colab_type": "code",
    "id": "-xDehGC98Ctr",
    "outputId": "c6e50a42-f350-42d4-e213-9953e210450b"
   },
   "outputs": [
    {
     "data": {
      "text/plain": [
       "44.0"
      ]
     },
     "execution_count": 297,
     "metadata": {},
     "output_type": "execute_result"
    }
   ],
   "source": [
    "perm_percent = round(perm_percent, 2)*100\n",
    "perm_percent"
   ]
  },
  {
   "cell_type": "code",
   "execution_count": 298,
   "metadata": {
    "colab": {
     "base_uri": "https://localhost:8080/",
     "height": 202
    },
    "colab_type": "code",
    "id": "dxfX8Ui0ktEN",
    "outputId": "b4d06426-b117-4cc3-ba18-a3c69544c072"
   },
   "outputs": [
    {
     "data": {
      "text/plain": [
       "Emergency shelter, including hotel or motel paid for with emergency shelter voucher, or RHY-funded Host Home shelter             130\n",
       "Client refused                                                                                                                   111\n",
       "Rental by client, no ongoing housing subsidy                                                                                      68\n",
       "Rental by client, other ongoing housing subsidy                                                                                   41\n",
       "Rental by client with RRH or equivalent subsidy                                                                                   36\n",
       "Transitional Housing for homeless persons (including homeless youth)                                                              32\n",
       "No exit interview completed                                                                                                       23\n",
       "Place not meant for habitation (e.g., a vehicle, an abandoned building, bus/train/subway station/airport or anywhere outside)     22\n",
       "Staying or living with family, temporary tenure (e.g., room, apartment or house)                                                  19\n",
       "Staying or living with friends, temporary tenure (e.g., room, apartment or house)                                                 18\n",
       "Staying or living with family, permanent tenure                                                                                   13\n",
       "Hotel or Motel paid for without Emergency Shelter Voucher                                                                          4\n",
       "Substance Abuse Treatment or Detox Center                                                                                          2\n",
       "Foster Care Home or Foster Care Group Home                                                                                         1\n",
       "Permanent housing (other than RRH) for formerly homeless persons                                                                   1\n",
       "Owned by client, no ongoing housing subsidy                                                                                        1\n",
       "Name: 3.12 Exit Destination, dtype: int64"
      ]
     },
     "execution_count": 298,
     "metadata": {},
     "output_type": "execute_result"
    }
   ],
   "source": [
    "df['3.12 Exit Destination'].value_counts()"
   ]
  },
  {
   "cell_type": "code",
   "execution_count": 299,
   "metadata": {
    "colab": {},
    "colab_type": "code",
    "id": "ynmpE_p58CjO"
   },
   "outputs": [],
   "source": [
    "unknowns = ['Client refused', 'No exit interview completed']"
   ]
  },
  {
   "cell_type": "code",
   "execution_count": 300,
   "metadata": {
    "colab": {},
    "colab_type": "code",
    "id": "tL8XKevd8Cgm"
   },
   "outputs": [],
   "source": [
    "unknown_df = df[df['3.12 Exit Destination'].isin(unknowns)]"
   ]
  },
  {
   "cell_type": "code",
   "execution_count": 301,
   "metadata": {
    "colab": {},
    "colab_type": "code",
    "id": "NwJi6Y9A8Cbh"
   },
   "outputs": [],
   "source": [
    "unknown_exits = unknown_df['3.12 Exit Destination'].value_counts().sum()"
   ]
  },
  {
   "cell_type": "code",
   "execution_count": 302,
   "metadata": {
    "colab": {
     "base_uri": "https://localhost:8080/",
     "height": 34
    },
    "colab_type": "code",
    "id": "nV8o-guZ8CS_",
    "outputId": "5675fcd6-2f17-4c40-9710-2f90a977fa1f"
   },
   "outputs": [
    {
     "data": {
      "text/plain": [
       "134"
      ]
     },
     "execution_count": 302,
     "metadata": {},
     "output_type": "execute_result"
    }
   ],
   "source": [
    "unknown_exits"
   ]
  },
  {
   "cell_type": "code",
   "execution_count": 303,
   "metadata": {
    "colab": {
     "base_uri": "https://localhost:8080/",
     "height": 34
    },
    "colab_type": "code",
    "id": "AQwRPEhq8CQV",
    "outputId": "16406434-4a1f-4541-c4fc-805aff7b9ac7"
   },
   "outputs": [
    {
     "data": {
      "text/plain": [
       "37.0"
      ]
     },
     "execution_count": 303,
     "metadata": {},
     "output_type": "execute_result"
    }
   ],
   "source": [
    "unknown_percent = unknown_exits / total_non_perm\n",
    "unknown_percent = round(unknown_percent, 2) *100\n",
    "unknown_percent"
   ]
  },
  {
   "cell_type": "code",
   "execution_count": 304,
   "metadata": {
    "colab": {
     "base_uri": "https://localhost:8080/",
     "height": 34
    },
    "colab_type": "code",
    "id": "SYEDLNIGn8Fc",
    "outputId": "b46d19c4-31bd-436b-f612-1a2fe86cf031"
   },
   "outputs": [
    {
     "data": {
      "text/plain": [
       "522"
      ]
     },
     "execution_count": 304,
     "metadata": {},
     "output_type": "execute_result"
    }
   ],
   "source": [
    "exits = df['3.12 Exit Destination'].value_counts().sum()\n",
    "exits"
   ]
  },
  {
   "cell_type": "code",
   "execution_count": 305,
   "metadata": {
    "colab": {},
    "colab_type": "code",
    "id": "NZsYPUDtngYj"
   },
   "outputs": [],
   "source": [
    "exits = df['3.12 Exit Destination'].value_counts()"
   ]
  },
  {
   "cell_type": "code",
   "execution_count": 306,
   "metadata": {
    "colab": {
     "base_uri": "https://localhost:8080/",
     "height": 34
    },
    "colab_type": "code",
    "id": "qDCEy_ktnghb",
    "outputId": "7c833efa-07d3-427b-8ae3-03191a05ae20"
   },
   "outputs": [
    {
     "data": {
      "text/plain": [
       "130"
      ]
     },
     "execution_count": 306,
     "metadata": {},
     "output_type": "execute_result"
    }
   ],
   "source": [
    "# take sum of ES and Trans exits and divide by total exits, then multiply by 100 to get percentage\n",
    "esExits = exits['Emergency shelter, including hotel or motel paid for with emergency shelter voucher, or RHY-funded Host Home shelter'] \n",
    "#transExits = ((exits['Transitional Housing for homeless persons (including homeless youth)'] / exits.sum()) * 100)\n",
    "# round the answer to nearest hundreth place\n",
    "esExits = (round(esExits, 2))\n",
    "#transExits = (round(transExits, 2))\n",
    "esExits\n",
    "#print('Exits to Transitional',transExits,'%')"
   ]
  },
  {
   "cell_type": "code",
   "execution_count": 307,
   "metadata": {
    "colab": {
     "base_uri": "https://localhost:8080/",
     "height": 34
    },
    "colab_type": "code",
    "id": "Qn2DO8Ep_K4G",
    "outputId": "8cdfc8b7-e597-4d12-f514-4b3413897910"
   },
   "outputs": [
    {
     "data": {
      "text/plain": [
       "37"
      ]
     },
     "execution_count": 307,
     "metadata": {},
     "output_type": "execute_result"
    }
   ],
   "source": [
    "tempExits = df['3.12 Exit Destination'].isin(temp_reasons).sum()\n",
    "\n",
    "tempExits"
   ]
  },
  {
   "cell_type": "code",
   "execution_count": 308,
   "metadata": {
    "colab": {
     "base_uri": "https://localhost:8080/",
     "height": 34
    },
    "colab_type": "code",
    "id": "kuUdutaLAgAN",
    "outputId": "58f644d7-5689-4c0b-f2c3-5d719d628de6"
   },
   "outputs": [
    {
     "data": {
      "text/plain": [
       "32"
      ]
     },
     "execution_count": 308,
     "metadata": {},
     "output_type": "execute_result"
    }
   ],
   "source": [
    "transitional = df['3.12 Exit Destination'] == 'Transitional Housing for homeless persons (including homeless youth)'\n",
    "transitional = transitional.sum()\n",
    "transitional"
   ]
  },
  {
   "cell_type": "code",
   "execution_count": 309,
   "metadata": {
    "colab": {
     "base_uri": "https://localhost:8080/",
     "height": 34
    },
    "colab_type": "code",
    "id": "Q6h_fTjKBUL3",
    "outputId": "139e8d86-701a-4e42-d744-290b340397fd"
   },
   "outputs": [
    {
     "data": {
      "text/plain": [
       "522"
      ]
     },
     "execution_count": 309,
     "metadata": {},
     "output_type": "execute_result"
    }
   ],
   "source": [
    "exits.sum()"
   ]
  },
  {
   "cell_type": "code",
   "execution_count": 310,
   "metadata": {
    "colab": {},
    "colab_type": "code",
    "id": "0um1qmlPG_Vn"
   },
   "outputs": [],
   "source": [
    "total_guests = total_non_perm + total_perm"
   ]
  },
  {
   "cell_type": "code",
   "execution_count": 311,
   "metadata": {
    "colab": {
     "base_uri": "https://localhost:8080/",
     "height": 34
    },
    "colab_type": "code",
    "id": "BnJ28vV-BEMp",
    "outputId": "e5b0cc36-fffb-457b-b93c-68f0172381ac"
   },
   "outputs": [
    {
     "data": {
      "text/plain": [
       "6.13"
      ]
     },
     "execution_count": 311,
     "metadata": {},
     "output_type": "execute_result"
    }
   ],
   "source": [
    "trans_percent = (transitional / exits.sum())*100\n",
    "trans_percent = round(trans_percent, 2)\n",
    "trans_percent"
   ]
  },
  {
   "cell_type": "code",
   "execution_count": 312,
   "metadata": {
    "colab": {},
    "colab_type": "code",
    "id": "QMAxXsZsfCz7"
   },
   "outputs": [],
   "source": [
    "#zips_master"
   ]
  },
  {
   "cell_type": "code",
   "execution_count": 313,
   "metadata": {
    "colab": {
     "base_uri": "https://localhost:8080/",
     "height": 353
    },
    "colab_type": "code",
    "id": "rJSaf-Synglo",
    "outputId": "99a462f5-c77d-4724-bcf4-0451e44d3601"
   },
   "outputs": [
    {
     "data": {
      "text/plain": [
       "Spokane                    10\n",
       "Spokane Valley              4\n",
       "Mountain Home               2\n",
       "Ogden                       1\n",
       "Pullman                     1\n",
       "Hoodsport                   1\n",
       "Cheney                      1\n",
       "Hemet                       1\n",
       "Veradale/Spokane Valley     1\n",
       "Omak                        1\n",
       "Milwaukee                   1\n",
       "Sprague                     1\n",
       "Tillamook                   1\n",
       "Wellpinit                   1\n",
       "Santa Rosa                  1\n",
       "Browning                    1\n",
       "Nampa                       1\n",
       "Jensen Beach                1\n",
       "Marrero                     1\n",
       "South Bend                  1\n",
       "Great Falls                 1\n",
       "Medical Lake                1\n",
       "Williston                   1\n",
       "Chewelah                    1\n",
       "Vancouver                   1\n",
       "Colville                    1\n",
       "Tacoma                      1\n",
       "Salt Lake City              1\n",
       "Everett                     1\n",
       "Airway Heights              1\n",
       "Bakersfield                 1\n",
       "Greenacres                  1\n",
       "Puyallup                    1\n",
       "Kettle Falls                1\n",
       "Windsor Mill                1\n",
       "Lolo                        1\n",
       "Kennewick                   1\n",
       "Newport                     1\n",
       "Celina                      1\n",
       "Anderson                    1\n",
       "Glendale                    1\n",
       "Deer Park                   1\n",
       "Name: V5 City, dtype: int64"
      ]
     },
     "execution_count": 313,
     "metadata": {},
     "output_type": "execute_result"
    }
   ],
   "source": [
    "# export zips into an excel sheet for Power BI visual\n",
    "zips_master = pd.read_excel(r'C:\\Users\\jwyli\\Downloads\\uszips.xlsx')\n",
    "\n",
    "\n",
    "\n",
    "# Import pandas library \n",
    "import pandas as pd \n",
    "  \n",
    "# initialize list of lists \n",
    "zips_bi = df['V5 Zip'].value_counts().to_frame('Total').reset_index(level=0, inplace=False)\n",
    "zips_bi = zips_bi.rename(columns={\"index\": \"V5 Zip\"})\n",
    "zips_bi = zips_bi.merge(zips_master,on='V5 Zip')\n",
    "zips_bi['V5 City'].value_counts()"
   ]
  },
  {
   "cell_type": "code",
   "execution_count": 314,
   "metadata": {
    "colab": {
     "base_uri": "https://localhost:8080/",
     "height": 34
    },
    "colab_type": "code",
    "id": "0tqQPx8jkcFZ",
    "outputId": "f61da453-4b00-4ed6-d361-c0e18789840c"
   },
   "outputs": [
    {
     "data": {
      "text/plain": [
       "pandas.core.frame.DataFrame"
      ]
     },
     "execution_count": 314,
     "metadata": {},
     "output_type": "execute_result"
    }
   ],
   "source": [
    "type(zips_bi)"
   ]
  },
  {
   "cell_type": "code",
   "execution_count": 315,
   "metadata": {
    "colab": {},
    "colab_type": "code",
    "id": "vrFpUs9TBWkG"
   },
   "outputs": [],
   "source": [
    "zips_bi.to_excel('G:\\My Drive\\FPData\\YTD Data\\weeklyYTDzips.xlsx', header=True, index=False)"
   ]
  },
  {
   "cell_type": "code",
   "execution_count": 316,
   "metadata": {
    "colab": {},
    "colab_type": "code",
    "id": "_DNkcjdUBS3b"
   },
   "outputs": [],
   "source": [
    "other_reasons = ['Place not meant for habitation (e.g., a vehicle, an abandoned building, bus/train/subway station/airport or anywhere outside)',\n",
    "                 'Hotel or Motel paid for without Emergency Shelter Voucher', 'Other', 'Substance Abuse Treatment or Detox Center',\n",
    "                 'Foster Care Home or Foster Care Group Home', 'Psychiatric Hospital or Other Psychiatric Facility']"
   ]
  },
  {
   "cell_type": "code",
   "execution_count": 317,
   "metadata": {},
   "outputs": [
    {
     "data": {
      "text/plain": [
       "Emergency shelter, including hotel or motel paid for with emergency shelter voucher, or RHY-funded Host Home shelter             130\n",
       "Client refused                                                                                                                   111\n",
       "Rental by client, no ongoing housing subsidy                                                                                      68\n",
       "Rental by client, other ongoing housing subsidy                                                                                   41\n",
       "Rental by client with RRH or equivalent subsidy                                                                                   36\n",
       "Transitional Housing for homeless persons (including homeless youth)                                                              32\n",
       "No exit interview completed                                                                                                       23\n",
       "Place not meant for habitation (e.g., a vehicle, an abandoned building, bus/train/subway station/airport or anywhere outside)     22\n",
       "Staying or living with family, temporary tenure (e.g., room, apartment or house)                                                  19\n",
       "Staying or living with friends, temporary tenure (e.g., room, apartment or house)                                                 18\n",
       "Staying or living with family, permanent tenure                                                                                   13\n",
       "Hotel or Motel paid for without Emergency Shelter Voucher                                                                          4\n",
       "Substance Abuse Treatment or Detox Center                                                                                          2\n",
       "Foster Care Home or Foster Care Group Home                                                                                         1\n",
       "Permanent housing (other than RRH) for formerly homeless persons                                                                   1\n",
       "Owned by client, no ongoing housing subsidy                                                                                        1\n",
       "Name: 3.12 Exit Destination, dtype: int64"
      ]
     },
     "execution_count": 317,
     "metadata": {},
     "output_type": "execute_result"
    }
   ],
   "source": [
    "df['3.12 Exit Destination'].value_counts()"
   ]
  },
  {
   "cell_type": "code",
   "execution_count": 318,
   "metadata": {
    "colab": {},
    "colab_type": "code",
    "id": "4gWB-8-5KoH6"
   },
   "outputs": [],
   "source": [
    "other = df['3.12 Exit Destination'].isin(other_reasons)"
   ]
  },
  {
   "cell_type": "code",
   "execution_count": 319,
   "metadata": {
    "colab": {
     "base_uri": "https://localhost:8080/",
     "height": 34
    },
    "colab_type": "code",
    "id": "q-tuRBUAKvGk",
    "outputId": "cb9047de-5f49-4236-e348-3c5f10062aec"
   },
   "outputs": [
    {
     "data": {
      "text/plain": [
       "29"
      ]
     },
     "execution_count": 319,
     "metadata": {},
     "output_type": "execute_result"
    }
   ],
   "source": [
    "other.sum()\n",
    "other = other.sum()\n",
    "other"
   ]
  },
  {
   "cell_type": "code",
   "execution_count": 320,
   "metadata": {
    "colab": {
     "base_uri": "https://localhost:8080/",
     "height": 218
    },
    "colab_type": "code",
    "id": "X3E19k09pBGo",
    "outputId": "dc9d4654-6278-4fdd-f1d0-b6b902e375b6"
   },
   "outputs": [
    {
     "data": {
      "text/plain": [
       "0      No\n",
       "1      No\n",
       "2      No\n",
       "3      No\n",
       "4      No\n",
       "       ..\n",
       "569    No\n",
       "589    No\n",
       "590    No\n",
       "592    No\n",
       "593    No\n",
       "Name: 4.04.7 Private - Employer, Length: 522, dtype: object"
      ]
     },
     "execution_count": 320,
     "metadata": {},
     "output_type": "execute_result"
    }
   ],
   "source": [
    "df['4.04.7 Private - Employer']"
   ]
  },
  {
   "cell_type": "code",
   "execution_count": 321,
   "metadata": {
    "colab": {
     "base_uri": "https://localhost:8080/",
     "height": 202
    },
    "colab_type": "code",
    "id": "h2RsCB-BKIcH",
    "outputId": "33926f19-6ee0-46ce-afe8-a2aa16f203f7"
   },
   "outputs": [
    {
     "data": {
      "text/plain": [
       "Emergency shelter, including hotel or motel paid for with emergency shelter voucher, or RHY-funded Host Home shelter             130\n",
       "Client refused                                                                                                                   111\n",
       "Rental by client, no ongoing housing subsidy                                                                                      68\n",
       "Rental by client, other ongoing housing subsidy                                                                                   41\n",
       "Rental by client with RRH or equivalent subsidy                                                                                   36\n",
       "Transitional Housing for homeless persons (including homeless youth)                                                              32\n",
       "No exit interview completed                                                                                                       23\n",
       "Place not meant for habitation (e.g., a vehicle, an abandoned building, bus/train/subway station/airport or anywhere outside)     22\n",
       "Staying or living with family, temporary tenure (e.g., room, apartment or house)                                                  19\n",
       "Staying or living with friends, temporary tenure (e.g., room, apartment or house)                                                 18\n",
       "Staying or living with family, permanent tenure                                                                                   13\n",
       "Hotel or Motel paid for without Emergency Shelter Voucher                                                                          4\n",
       "Substance Abuse Treatment or Detox Center                                                                                          2\n",
       "Foster Care Home or Foster Care Group Home                                                                                         1\n",
       "Permanent housing (other than RRH) for formerly homeless persons                                                                   1\n",
       "Owned by client, no ongoing housing subsidy                                                                                        1\n",
       "Name: 3.12 Exit Destination, dtype: int64"
      ]
     },
     "execution_count": 321,
     "metadata": {},
     "output_type": "execute_result"
    }
   ],
   "source": [
    "df['3.12 Exit Destination'].value_counts()"
   ]
  },
  {
   "cell_type": "code",
   "execution_count": 322,
   "metadata": {
    "colab": {
     "base_uri": "https://localhost:8080/",
     "height": 168
    },
    "colab_type": "code",
    "id": "ZnbNsVKWCD1q",
    "outputId": "b1efc922-d686-4ff6-be5e-c98ad3d57c65"
   },
   "outputs": [
    {
     "name": "stdout",
     "output_type": "stream",
     "text": [
      "522 total guests served YTD\n",
      "362 total non perm leavers\n",
      "160 total perm leavers\n",
      "130 total ES leavers\n",
      "37 total temp leavers\n",
      "32 total trans leavers\n",
      "29 total leavers to \"other\"\n",
      "134 total unknown leavers\n",
      "sum of all groups to make sure it matches total served: 522\n"
     ]
    }
   ],
   "source": [
    "print(total_guests, 'total guests served YTD')\n",
    "print(total_non_perm, 'total non perm leavers')\n",
    "print(total_perm, 'total perm leavers')\n",
    "print(esExits, 'total ES leavers')\n",
    "print(tempExits, 'total temp leavers')\n",
    "print(transitional, 'total trans leavers')\n",
    "print(other, 'total leavers to \"other\"')\n",
    "print(unknown_exits, 'total unknown leavers')\n",
    "print('sum of all groups to make sure it matches total served:',total_perm+esExits+tempExits+transitional+other+unknown_exits)"
   ]
  },
  {
   "cell_type": "code",
   "execution_count": 323,
   "metadata": {
    "colab": {
     "base_uri": "https://localhost:8080/",
     "height": 34
    },
    "colab_type": "code",
    "id": "PDZz_r2m9D7N",
    "outputId": "51a922dd-2ac5-4e10-e593-c0d9a92bf7da"
   },
   "outputs": [
    {
     "data": {
      "text/plain": [
       "522"
      ]
     },
     "execution_count": 323,
     "metadata": {},
     "output_type": "execute_result"
    }
   ],
   "source": [
    "total_perm+esExits+tempExits+transitional+other+unknown_exits"
   ]
  },
  {
   "cell_type": "code",
   "execution_count": 324,
   "metadata": {},
   "outputs": [
    {
     "data": {
      "text/plain": [
       "522"
      ]
     },
     "execution_count": 324,
     "metadata": {},
     "output_type": "execute_result"
    }
   ],
   "source": [
    "total_perm+total_non_perm"
   ]
  },
  {
   "cell_type": "code",
   "execution_count": 325,
   "metadata": {
    "colab": {},
    "colab_type": "code",
    "id": "-4mmzx3ONuM_"
   },
   "outputs": [],
   "source": [
    "assert((total_guests) == (total_perm+esExits+tempExits+transitional+other+unknown_exits))"
   ]
  },
  {
   "cell_type": "code",
   "execution_count": 326,
   "metadata": {
    "colab": {
     "base_uri": "https://localhost:8080/",
     "height": 54
    },
    "colab_type": "code",
    "id": "gTMhjHGZ9zO3",
    "outputId": "c2b325b7-98bf-40b8-f0ac-67f67418f173"
   },
   "outputs": [
    {
     "data": {
      "text/plain": [
       "\"perm_bi = '{} %'.format(perm_percent)\\nes_bi = '{} %'.format(esExits)\\ntemp_bi = '{} %'.format(tempExits)\\ntrans_bi = '{} %'.format(trans_percent)\\nunknown_bi = '{} %'.format(unknown_percent)\""
      ]
     },
     "execution_count": 326,
     "metadata": {},
     "output_type": "execute_result"
    }
   ],
   "source": [
    "'''perm_bi = '{} %'.format(perm_percent)\n",
    "es_bi = '{} %'.format(esExits)\n",
    "temp_bi = '{} %'.format(tempExits)\n",
    "trans_bi = '{} %'.format(trans_percent)\n",
    "unknown_bi = '{} %'.format(unknown_percent)'''"
   ]
  },
  {
   "cell_type": "code",
   "execution_count": 327,
   "metadata": {
    "colab": {
     "base_uri": "https://localhost:8080/",
     "height": 54
    },
    "colab_type": "code",
    "id": "xpHfeQp89zHH",
    "outputId": "adadee33-bc0e-4aca-c0fd-fed975ab7638"
   },
   "outputs": [
    {
     "data": {
      "text/plain": [
       "\"power_bi = pd.DataFrame({'Permanent Leavers': total_perm, 'Emergency Shelter Leavers': esExits, \\n                         'Temporary Leavers': tempExits, 'Transitional Leavers': transitional, \\n                         'Unknown Leavers': unknown_exits, 'Other Leavers': other, 'Total': total_guests }, index=[0])\""
      ]
     },
     "execution_count": 327,
     "metadata": {},
     "output_type": "execute_result"
    }
   ],
   "source": [
    "'''power_bi = pd.DataFrame({'Permanent Leavers': total_perm, 'Emergency Shelter Leavers': esExits, \n",
    "                         'Temporary Leavers': tempExits, 'Transitional Leavers': transitional, \n",
    "                         'Unknown Leavers': unknown_exits, 'Other Leavers': other, 'Total': total_guests }, index=[0])'''\n"
   ]
  },
  {
   "cell_type": "code",
   "execution_count": 328,
   "metadata": {
    "colab": {},
    "colab_type": "code",
    "id": "Ou9YSkX1TO_r"
   },
   "outputs": [],
   "source": [
    "# Import pandas library \n",
    "import pandas as pd \n",
    "  \n",
    "# initialize list of lists \n",
    "data = [['Permanent Leavers', total_perm], ['Emergency Shelter Leavers', esExits], \n",
    "        ['Temporary Leavers', tempExits], ['Transitional Leavers', transitional],\n",
    "        ['Unknown Leavers', unknown_exits], ['Other Leavers', other]] \n",
    "  \n",
    "\n",
    "\n",
    "# Create the pandas DataFrame \n",
    "power_bi = pd.DataFrame(data, columns = ['Exit Destination', 'Total']) \n",
    "  \n",
    "# print dataframe. "
   ]
  },
  {
   "cell_type": "code",
   "execution_count": 329,
   "metadata": {
    "colab": {
     "base_uri": "https://localhost:8080/",
     "height": 225
    },
    "colab_type": "code",
    "id": "CwWzCqxbRwig",
    "outputId": "d01ead3b-7bb7-4b90-e17a-7cc107dc9b87"
   },
   "outputs": [
    {
     "data": {
      "text/html": [
       "<div>\n",
       "<style scoped>\n",
       "    .dataframe tbody tr th:only-of-type {\n",
       "        vertical-align: middle;\n",
       "    }\n",
       "\n",
       "    .dataframe tbody tr th {\n",
       "        vertical-align: top;\n",
       "    }\n",
       "\n",
       "    .dataframe thead th {\n",
       "        text-align: right;\n",
       "    }\n",
       "</style>\n",
       "<table border=\"1\" class=\"dataframe\">\n",
       "  <thead>\n",
       "    <tr style=\"text-align: right;\">\n",
       "      <th></th>\n",
       "      <th>Exit Destination</th>\n",
       "      <th>Total</th>\n",
       "    </tr>\n",
       "  </thead>\n",
       "  <tbody>\n",
       "    <tr>\n",
       "      <th>0</th>\n",
       "      <td>Permanent Leavers</td>\n",
       "      <td>160</td>\n",
       "    </tr>\n",
       "    <tr>\n",
       "      <th>1</th>\n",
       "      <td>Emergency Shelter Leavers</td>\n",
       "      <td>130</td>\n",
       "    </tr>\n",
       "    <tr>\n",
       "      <th>2</th>\n",
       "      <td>Temporary Leavers</td>\n",
       "      <td>37</td>\n",
       "    </tr>\n",
       "    <tr>\n",
       "      <th>3</th>\n",
       "      <td>Transitional Leavers</td>\n",
       "      <td>32</td>\n",
       "    </tr>\n",
       "    <tr>\n",
       "      <th>4</th>\n",
       "      <td>Unknown Leavers</td>\n",
       "      <td>134</td>\n",
       "    </tr>\n",
       "    <tr>\n",
       "      <th>5</th>\n",
       "      <td>Other Leavers</td>\n",
       "      <td>29</td>\n",
       "    </tr>\n",
       "  </tbody>\n",
       "</table>\n",
       "</div>"
      ],
      "text/plain": [
       "            Exit Destination  Total\n",
       "0          Permanent Leavers    160\n",
       "1  Emergency Shelter Leavers    130\n",
       "2          Temporary Leavers     37\n",
       "3       Transitional Leavers     32\n",
       "4            Unknown Leavers    134\n",
       "5              Other Leavers     29"
      ]
     },
     "execution_count": 329,
     "metadata": {},
     "output_type": "execute_result"
    }
   ],
   "source": [
    "power_bi"
   ]
  },
  {
   "cell_type": "code",
   "execution_count": 330,
   "metadata": {
    "colab": {
     "base_uri": "https://localhost:8080/",
     "height": 34
    },
    "colab_type": "code",
    "id": "HKQjkUoWOIaX",
    "outputId": "af2cccbd-c399-4a79-d8d4-1eec83d0fe7b"
   },
   "outputs": [
    {
     "data": {
      "text/plain": [
       "522"
      ]
     },
     "execution_count": 330,
     "metadata": {},
     "output_type": "execute_result"
    }
   ],
   "source": [
    "power_bi.Total.sum()"
   ]
  },
  {
   "cell_type": "code",
   "execution_count": 331,
   "metadata": {
    "colab": {},
    "colab_type": "code",
    "id": "xvlIe_kHDcf_"
   },
   "outputs": [],
   "source": [
    "power_bi.to_excel('G:\\My Drive\\FPData\\YTD Data\\YTDweeklyDataNew.xlsx')"
   ]
  },
  {
   "cell_type": "code",
   "execution_count": 332,
   "metadata": {
    "colab": {
     "base_uri": "https://localhost:8080/",
     "height": 34
    },
    "colab_type": "code",
    "id": "4LzqAInqz7Qi",
    "outputId": "74c0894e-2622-499a-8e37-d63e6b20e2fb"
   },
   "outputs": [
    {
     "data": {
      "text/plain": [
       "522"
      ]
     },
     "execution_count": 332,
     "metadata": {},
     "output_type": "execute_result"
    }
   ],
   "source": [
    "df['3.12 Exit Destination'].value_counts().sum()"
   ]
  },
  {
   "cell_type": "code",
   "execution_count": 333,
   "metadata": {
    "colab": {},
    "colab_type": "code",
    "id": "_vbHYZfez8X1"
   },
   "outputs": [],
   "source": [
    "assert(power_bi.Total.sum() == df['3.12 Exit Destination'].value_counts().sum())"
   ]
  },
  {
   "cell_type": "code",
   "execution_count": null,
   "metadata": {
    "colab": {},
    "colab_type": "code",
    "id": "mvU3y79Nz8jK"
   },
   "outputs": [],
   "source": []
  }
 ],
 "metadata": {
  "colab": {
   "authorship_tag": "ABX9TyNoW5Fobz0v57wT+ziToKN8",
   "collapsed_sections": [],
   "include_colab_link": true,
   "name": "PowerBI Project.ipynb",
   "provenance": []
  },
  "kernelspec": {
   "display_name": "Python 3",
   "language": "python",
   "name": "python3"
  },
  "language_info": {
   "codemirror_mode": {
    "name": "ipython",
    "version": 3
   },
   "file_extension": ".py",
   "mimetype": "text/x-python",
   "name": "python",
   "nbconvert_exporter": "python",
   "pygments_lexer": "ipython3",
   "version": "3.7.1"
  }
 },
 "nbformat": 4,
 "nbformat_minor": 4
}
